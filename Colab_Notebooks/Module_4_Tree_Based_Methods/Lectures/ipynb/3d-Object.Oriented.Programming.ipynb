{
 "cells": [
  {
   "cell_type": "markdown",
   "metadata": {
    "id": "0JylADipGCsa"
   },
   "source": [
    "# Basics of Object Oriented Programming\n"
   ]
  },
  {
   "cell_type": "markdown",
   "metadata": {
    "id": "wkP8AUhwGHBh"
   },
   "source": [
    "## Why we care\n"
   ]
  },
  {
   "cell_type": "markdown",
   "metadata": {
    "id": "iGj6ikWBF96E"
   },
   "source": [
    "Everything in python is an object:\n",
    "- strings\n",
    "- ints\n",
    "- lists\n",
    "- DataFrames\n",
    "- Numpy Arrays\n",
    "\n",
    "We want to cover just enough OOP that you understand certain things about Python syntax.  "
   ]
  },
  {
   "cell_type": "markdown",
   "metadata": {
    "id": "bvMKk_YkHKFB"
   },
   "source": [
    "## Classes and Objects\n",
    "\n",
    "**Classes** are like a blueprint.  They define a type of object and the methods that can be used on that object.  \n",
    "\n",
    "**Objects** are specific instances of a class.  For example, an actual house.  You could create as many houses as you wanted from one blueprint.  \n",
    "\n",
    "For example, DataFrame is a class in Pandas.  But when you create a DataFrame, that specific DataFrame is an obeject.  \n",
    "\n",
    "Classes allow us to create functionality that will be available to all objects that we make of that class.  \n",
    "\n",
    "For example,  you are able to use head() with any DataFrame to get the first few entries.  "
   ]
  },
  {
   "cell_type": "markdown",
   "metadata": {
    "id": "ks-ht1n8I2xT"
   },
   "source": [
    "##  Methods and Attributes\n",
    "**Methods** are like functions, but they run on an object.  \n",
    "- For example, when you call head() on a dataframe it's df.head() not head(df).  \n",
    "\n",
    "\n",
    "**Attributes** are values for variables associated with an object.  "
   ]
  },
  {
   "cell_type": "code",
   "execution_count": 66,
   "metadata": {
    "colab": {
     "base_uri": "https://localhost:8080/",
     "height": 143
    },
    "executionInfo": {
     "elapsed": 631,
     "status": "ok",
     "timestamp": 1720469740006,
     "user": {
      "displayName": "deepdive datascience",
      "userId": "06241824193725215643"
     },
     "user_tz": 360
    },
    "id": "6zSQ2ERgI56c",
    "outputId": "e8c099ba-bca9-449c-c8c1-a040d201881a"
   },
   "outputs": [
    {
     "data": {
      "text/html": [
       "<div>\n",
       "<style scoped>\n",
       "    .dataframe tbody tr th:only-of-type {\n",
       "        vertical-align: middle;\n",
       "    }\n",
       "\n",
       "    .dataframe tbody tr th {\n",
       "        vertical-align: top;\n",
       "    }\n",
       "\n",
       "    .dataframe thead th {\n",
       "        text-align: right;\n",
       "    }\n",
       "</style>\n",
       "<table border=\"1\" class=\"dataframe\">\n",
       "  <thead>\n",
       "    <tr style=\"text-align: right;\">\n",
       "      <th></th>\n",
       "      <th>0</th>\n",
       "      <th>1</th>\n",
       "    </tr>\n",
       "  </thead>\n",
       "  <tbody>\n",
       "    <tr>\n",
       "      <th>0</th>\n",
       "      <td>0</td>\n",
       "      <td>2</td>\n",
       "    </tr>\n",
       "    <tr>\n",
       "      <th>1</th>\n",
       "      <td>5</td>\n",
       "      <td>6</td>\n",
       "    </tr>\n",
       "    <tr>\n",
       "      <th>2</th>\n",
       "      <td>9</td>\n",
       "      <td>0</td>\n",
       "    </tr>\n",
       "  </tbody>\n",
       "</table>\n",
       "</div>"
      ],
      "text/plain": [
       "   0  1\n",
       "0  0  2\n",
       "1  5  6\n",
       "2  9  0"
      ]
     },
     "execution_count": 66,
     "metadata": {},
     "output_type": "execute_result"
    }
   ],
   "source": [
    "import pandas as pd\n",
    "df = pd.DataFrame([[0,2],[5,6],[9,0]])\n",
    "df"
   ]
  },
  {
   "cell_type": "code",
   "execution_count": 67,
   "metadata": {
    "colab": {
     "base_uri": "https://localhost:8080/",
     "height": 112
    },
    "executionInfo": {
     "elapsed": 149,
     "status": "ok",
     "timestamp": 1720469748418,
     "user": {
      "displayName": "deepdive datascience",
      "userId": "06241824193725215643"
     },
     "user_tz": 360
    },
    "id": "s00EAXDCq8nh",
    "outputId": "880c3e11-c3a5-4e8a-9ae0-f87bb7743632"
   },
   "outputs": [
    {
     "data": {
      "text/html": [
       "<div>\n",
       "<style scoped>\n",
       "    .dataframe tbody tr th:only-of-type {\n",
       "        vertical-align: middle;\n",
       "    }\n",
       "\n",
       "    .dataframe tbody tr th {\n",
       "        vertical-align: top;\n",
       "    }\n",
       "\n",
       "    .dataframe thead th {\n",
       "        text-align: right;\n",
       "    }\n",
       "</style>\n",
       "<table border=\"1\" class=\"dataframe\">\n",
       "  <thead>\n",
       "    <tr style=\"text-align: right;\">\n",
       "      <th></th>\n",
       "      <th>0</th>\n",
       "      <th>1</th>\n",
       "    </tr>\n",
       "  </thead>\n",
       "  <tbody>\n",
       "    <tr>\n",
       "      <th>0</th>\n",
       "      <td>0</td>\n",
       "      <td>2</td>\n",
       "    </tr>\n",
       "    <tr>\n",
       "      <th>1</th>\n",
       "      <td>5</td>\n",
       "      <td>6</td>\n",
       "    </tr>\n",
       "  </tbody>\n",
       "</table>\n",
       "</div>"
      ],
      "text/plain": [
       "   0  1\n",
       "0  0  2\n",
       "1  5  6"
      ]
     },
     "execution_count": 67,
     "metadata": {},
     "output_type": "execute_result"
    }
   ],
   "source": [
    "# head() is a method we can call on our dataframe object\n",
    "df.head(2)\n"
   ]
  },
  {
   "cell_type": "code",
   "execution_count": 68,
   "metadata": {
    "colab": {
     "base_uri": "https://localhost:8080/"
    },
    "executionInfo": {
     "elapsed": 176,
     "status": "ok",
     "timestamp": 1720469766235,
     "user": {
      "displayName": "deepdive datascience",
      "userId": "06241824193725215643"
     },
     "user_tz": 360
    },
    "id": "aSTZ9lGxq3mW",
    "outputId": "39671823-6ae7-4f9d-bc47-2bfcbb1fcfb4"
   },
   "outputs": [
    {
     "data": {
      "text/plain": [
       "(3, 2)"
      ]
     },
     "execution_count": 68,
     "metadata": {},
     "output_type": "execute_result"
    }
   ],
   "source": [
    "# shape is an attribute  - notice how it has no ()\n",
    "df.shape\n"
   ]
  },
  {
   "cell_type": "code",
   "execution_count": 69,
   "metadata": {
    "colab": {
     "base_uri": "https://localhost:8080/"
    },
    "executionInfo": {
     "elapsed": 140,
     "status": "ok",
     "timestamp": 1720469875204,
     "user": {
      "displayName": "deepdive datascience",
      "userId": "06241824193725215643"
     },
     "user_tz": 360
    },
    "id": "ofQ1H3CguwXo",
    "outputId": "c20b8026-c7fe-4877-ca15-d801ee88aad2"
   },
   "outputs": [
    {
     "name": "stdout",
     "output_type": "stream",
     "text": [
      "   0  1\n",
      "0  0  2\n",
      "1  5  6\n",
      "2  9  0\n",
      "<class 'pandas.core.frame.DataFrame'>\n",
      "DataFrame\n"
     ]
    }
   ],
   "source": [
    "print(df)\n",
    "print(df.__class__)\n",
    "print(df.__class__.__name__)\n"
   ]
  },
  {
   "cell_type": "markdown",
   "metadata": {
    "id": "33ERLhFmMVC1"
   },
   "source": [
    "##  Making your own class"
   ]
  },
  {
   "cell_type": "markdown",
   "metadata": {
    "id": "tnWvz1am8m6k"
   },
   "source": [
    "Animal\n",
    "**Class**\n",
    "Attributes:\n",
    "- Sound - What sound does it make?\n",
    "- Name\n",
    "- Color\n",
    "- Species\n",
    "-\\# of legs\n",
    "- eye color\n",
    "....\n",
    "\n",
    "Methods (What can an animal do?  Or what can I do to it?):\n",
    "- Talk\n",
    "- Walk\n",
    "- ...\n",
    "\n",
    "**Object - Specific instance of the class**\n",
    "\n",
    "Cat -\n",
    "\n",
    "Sound - mreeow\n",
    "\n",
    "Name - Head Cat\n",
    "\n",
    "Color - White & grey\n",
    "\n",
    "**Make an animal class & an object of type Animal**\n"
   ]
  },
  {
   "cell_type": "code",
   "execution_count": 70,
   "metadata": {
    "executionInfo": {
     "elapsed": 4,
     "status": "ok",
     "timestamp": 1720471045056,
     "user": {
      "displayName": "deepdive datascience",
      "userId": "06241824193725215643"
     },
     "user_tz": 360
    },
    "id": "biiiHt1AI146"
   },
   "outputs": [],
   "source": [
    "# Class names - first letter of words are capitalized - no spaces - i.e. pd.DataFrame\n",
    "class Animal:\n",
    "  \"\"\"This is the Animal Class\"\"\"\n",
    "\n",
    "  # This is the constructor.  It is called when we make a new Animal.\n",
    "  # For example, something like\n",
    "  # head_cat = Animal('Head Cat', 'cat', 'white and grey', 'meow') goes to\n",
    "  # head_cat = __init__('Head Cat', 'cat', 'white and grey', 'meow')\n",
    "  def __init__(self, name, species, color, sound):\n",
    "    # here we set the attributes based on the input from the constructor\n",
    "    self.name = name\n",
    "    self.species = species\n",
    "    self.color = color\n",
    "    self.sound = sound\n",
    "    self.steps = 0\n",
    "\n",
    "  # This is a dunder method - it returns a string as a representation of the object.\n",
    "  # Creating a string that will be returned when print is used on the Animal\n",
    "  # We'll make it something pretty and human-readable\n",
    "  def __repr__(self):\n",
    "    return(f\"{self.__class__.__name__}(name={self.name}, species={self.species}, color={self.color}, sound={self.sound})\")\n",
    "\n",
    "  # This is a method\n",
    "  def talk(self):  # head_cat.talk()  ->  talk(head_cat)\n",
    "    \"\"\"Print the animal's sound\"\"\"\n",
    "    print(self.sound)  # print(head_cat.sound)\n",
    "\n",
    "  def walk(self, num_steps):\n",
    "    self.steps = self.steps + num_steps\n",
    "    return num_steps"
   ]
  },
  {
   "cell_type": "code",
   "execution_count": 71,
   "metadata": {
    "colab": {
     "base_uri": "https://localhost:8080/"
    },
    "executionInfo": {
     "elapsed": 205,
     "status": "ok",
     "timestamp": 1720471046260,
     "user": {
      "displayName": "deepdive datascience",
      "userId": "06241824193725215643"
     },
     "user_tz": 360
    },
    "id": "lgG-LU36aJtI",
    "outputId": "07e92531-861f-43e6-b176-55c56b2b43d8"
   },
   "outputs": [
    {
     "data": {
      "text/plain": [
       "Animal(name=Zeus, species=dog, color=grey, sound=bark)"
      ]
     },
     "execution_count": 71,
     "metadata": {},
     "output_type": "execute_result"
    }
   ],
   "source": [
    "our_dog = Animal(name = 'Zeus', species = 'dog', color = 'grey', sound = 'bark')\n",
    "our_dog"
   ]
  },
  {
   "cell_type": "code",
   "execution_count": 72,
   "metadata": {
    "colab": {
     "base_uri": "https://localhost:8080/"
    },
    "executionInfo": {
     "elapsed": 4,
     "status": "ok",
     "timestamp": 1720471046919,
     "user": {
      "displayName": "deepdive datascience",
      "userId": "06241824193725215643"
     },
     "user_tz": 360
    },
    "id": "OVff0QPtaSXH",
    "outputId": "16458a2c-6a04-47f6-d9af-6e2b9250be76"
   },
   "outputs": [
    {
     "data": {
      "text/plain": [
       "0"
      ]
     },
     "execution_count": 72,
     "metadata": {},
     "output_type": "execute_result"
    }
   ],
   "source": [
    "our_dog.steps"
   ]
  },
  {
   "cell_type": "code",
   "execution_count": 73,
   "metadata": {
    "colab": {
     "base_uri": "https://localhost:8080/"
    },
    "executionInfo": {
     "elapsed": 3,
     "status": "ok",
     "timestamp": 1720471047352,
     "user": {
      "displayName": "deepdive datascience",
      "userId": "06241824193725215643"
     },
     "user_tz": 360
    },
    "id": "3Er7My6gw-IH",
    "outputId": "4188d969-7f99-4678-b88c-cb31bf1595f5"
   },
   "outputs": [
    {
     "name": "stdout",
     "output_type": "stream",
     "text": [
      "bark\n"
     ]
    }
   ],
   "source": [
    "our_dog.talk()"
   ]
  },
  {
   "cell_type": "code",
   "execution_count": 74,
   "metadata": {
    "colab": {
     "base_uri": "https://localhost:8080/"
    },
    "executionInfo": {
     "elapsed": 2,
     "status": "ok",
     "timestamp": 1720471047865,
     "user": {
      "displayName": "deepdive datascience",
      "userId": "06241824193725215643"
     },
     "user_tz": 360
    },
    "id": "s_WMWnQoayTo",
    "outputId": "d6ceed8e-18a9-430d-be19-7054177e6a2f"
   },
   "outputs": [
    {
     "data": {
      "text/plain": [
       "5"
      ]
     },
     "execution_count": 74,
     "metadata": {},
     "output_type": "execute_result"
    }
   ],
   "source": [
    "our_dog.walk(5)\n"
   ]
  },
  {
   "cell_type": "code",
   "execution_count": 75,
   "metadata": {
    "colab": {
     "base_uri": "https://localhost:8080/"
    },
    "executionInfo": {
     "elapsed": 3,
     "status": "ok",
     "timestamp": 1720471048403,
     "user": {
      "displayName": "deepdive datascience",
      "userId": "06241824193725215643"
     },
     "user_tz": 360
    },
    "id": "IjvXTorIa1FF",
    "outputId": "07efb97c-b84c-4d18-e46e-b778f9377069"
   },
   "outputs": [
    {
     "data": {
      "text/plain": [
       "5"
      ]
     },
     "execution_count": 75,
     "metadata": {},
     "output_type": "execute_result"
    }
   ],
   "source": [
    "our_dog.steps\n"
   ]
  },
  {
   "cell_type": "code",
   "execution_count": 76,
   "metadata": {
    "colab": {
     "base_uri": "https://localhost:8080/"
    },
    "executionInfo": {
     "elapsed": 3,
     "status": "ok",
     "timestamp": 1720471049422,
     "user": {
      "displayName": "deepdive datascience",
      "userId": "06241824193725215643"
     },
     "user_tz": 360
    },
    "id": "QNxUOkfyJNvE",
    "outputId": "dd1aaba6-9643-48e7-cdff-f02dab567412"
   },
   "outputs": [
    {
     "name": "stdout",
     "output_type": "stream",
     "text": [
      "Help on class Animal in module __main__:\n",
      "\n",
      "class Animal(builtins.object)\n",
      " |  Animal(name, species, color, sound)\n",
      " |\n",
      " |  This is the Animal Class\n",
      " |\n",
      " |  Methods defined here:\n",
      " |\n",
      " |  __init__(self, name, species, color, sound)\n",
      " |      Initialize self.  See help(type(self)) for accurate signature.\n",
      " |\n",
      " |  __repr__(self)\n",
      " |      Return repr(self).\n",
      " |\n",
      " |  talk(self)\n",
      " |      Print the animal's sound\n",
      " |\n",
      " |  walk(self, num_steps)\n",
      " |\n",
      " |  ----------------------------------------------------------------------\n",
      " |  Data descriptors defined here:\n",
      " |\n",
      " |  __dict__\n",
      " |      dictionary for instance variables\n",
      " |\n",
      " |  __weakref__\n",
      " |      list of weak references to the object\n",
      "\n"
     ]
    }
   ],
   "source": [
    "#Animal?\n",
    "help(Animal)\n"
   ]
  },
  {
   "cell_type": "code",
   "execution_count": 77,
   "metadata": {
    "colab": {
     "base_uri": "https://localhost:8080/"
    },
    "executionInfo": {
     "elapsed": 140,
     "status": "ok",
     "timestamp": 1720471096340,
     "user": {
      "displayName": "deepdive datascience",
      "userId": "06241824193725215643"
     },
     "user_tz": 360
    },
    "id": "LRJ5TnfkNbrG",
    "outputId": "d0bf0e0e-51f7-4985-9c36-65399d2bed73"
   },
   "outputs": [
    {
     "data": {
      "text/plain": [
       "Animal(name=Head Cat, species=cat, color=white and grey, sound=mrrrrr)"
      ]
     },
     "execution_count": 77,
     "metadata": {},
     "output_type": "execute_result"
    }
   ],
   "source": [
    "# Head Cat is an Object of Type Animal.  Animal is the class.\n",
    "head_cat = Animal('Head Cat', 'cat', 'white and grey', 'mrrrrr')\n",
    "head_cat\n"
   ]
  },
  {
   "cell_type": "code",
   "execution_count": 78,
   "metadata": {
    "colab": {
     "base_uri": "https://localhost:8080/"
    },
    "executionInfo": {
     "elapsed": 137,
     "status": "ok",
     "timestamp": 1720471104627,
     "user": {
      "displayName": "deepdive datascience",
      "userId": "06241824193725215643"
     },
     "user_tz": 360
    },
    "id": "AnOpQCgRQE_E",
    "outputId": "80f500b0-514d-40b0-ee40-cfbeba2a4147"
   },
   "outputs": [
    {
     "name": "stdout",
     "output_type": "stream",
     "text": [
      "mrrrrr\n"
     ]
    }
   ],
   "source": [
    "head_cat.talk()\n"
   ]
  },
  {
   "cell_type": "code",
   "execution_count": 79,
   "metadata": {
    "colab": {
     "base_uri": "https://localhost:8080/"
    },
    "executionInfo": {
     "elapsed": 5,
     "status": "ok",
     "timestamp": 1720471106968,
     "user": {
      "displayName": "deepdive datascience",
      "userId": "06241824193725215643"
     },
     "user_tz": 360
    },
    "id": "JAeciKOoAApN",
    "outputId": "3531963e-c086-4f3f-8881-dd99021e0f3a"
   },
   "outputs": [
    {
     "name": "stdout",
     "output_type": "stream",
     "text": [
      "Animal(name=Head Cat, species=cat, color=white and grey, sound=mrrrrr)\n"
     ]
    }
   ],
   "source": [
    "print(head_cat)\n"
   ]
  },
  {
   "cell_type": "code",
   "execution_count": 80,
   "metadata": {
    "colab": {
     "base_uri": "https://localhost:8080/"
    },
    "executionInfo": {
     "elapsed": 145,
     "status": "ok",
     "timestamp": 1720471115193,
     "user": {
      "displayName": "deepdive datascience",
      "userId": "06241824193725215643"
     },
     "user_tz": 360
    },
    "id": "vcJyMm6F_64p",
    "outputId": "ae1cc5be-0177-4c36-9bd4-9d15d092fd43"
   },
   "outputs": [
    {
     "name": "stdout",
     "output_type": "stream",
     "text": [
      "cat\n"
     ]
    }
   ],
   "source": [
    "print(head_cat.species)\n"
   ]
  },
  {
   "cell_type": "code",
   "execution_count": 81,
   "metadata": {
    "colab": {
     "base_uri": "https://localhost:8080/",
     "height": 35
    },
    "executionInfo": {
     "elapsed": 150,
     "status": "ok",
     "timestamp": 1720471118264,
     "user": {
      "displayName": "deepdive datascience",
      "userId": "06241824193725215643"
     },
     "user_tz": 360
    },
    "id": "fDaopJaBZpts",
    "outputId": "09a9786c-9743-46b2-f885-7fd488605d8f"
   },
   "outputs": [
    {
     "data": {
      "text/plain": [
       "'white and grey'"
      ]
     },
     "execution_count": 81,
     "metadata": {},
     "output_type": "execute_result"
    }
   ],
   "source": [
    "head_cat.color\n"
   ]
  },
  {
   "cell_type": "code",
   "execution_count": 82,
   "metadata": {
    "colab": {
     "base_uri": "https://localhost:8080/"
    },
    "executionInfo": {
     "elapsed": 142,
     "status": "ok",
     "timestamp": 1720471135707,
     "user": {
      "displayName": "deepdive datascience",
      "userId": "06241824193725215643"
     },
     "user_tz": 360
    },
    "id": "aJqWdNR2PoQl",
    "outputId": "35a48bc2-0457-4a4d-f4da-9961a47b1802"
   },
   "outputs": [
    {
     "name": "stdout",
     "output_type": "stream",
     "text": [
      "purrr\n",
      "Trip was a grey cat\n"
     ]
    }
   ],
   "source": [
    "trip = Animal('Tripping Hazzard', 'cat', 'grey', 'purrr')\n",
    "trip.talk()\n",
    "print(f\"Trip was a {trip.color} cat\")\n"
   ]
  },
  {
   "cell_type": "code",
   "execution_count": 83,
   "metadata": {
    "colab": {
     "base_uri": "https://localhost:8080/"
    },
    "executionInfo": {
     "elapsed": 125,
     "status": "ok",
     "timestamp": 1720471148643,
     "user": {
      "displayName": "deepdive datascience",
      "userId": "06241824193725215643"
     },
     "user_tz": 360
    },
    "id": "zbdggtVLWaR7",
    "outputId": "c484996c-883d-4aa9-babd-037b376964a4"
   },
   "outputs": [
    {
     "name": "stdout",
     "output_type": "stream",
     "text": [
      "Animal(name=Tripping Hazzard, species=cat, color=grey, sound=purrr)\n"
     ]
    }
   ],
   "source": [
    "print(trip)\n"
   ]
  },
  {
   "cell_type": "code",
   "execution_count": 84,
   "metadata": {
    "executionInfo": {
     "elapsed": 137,
     "status": "ok",
     "timestamp": 1720471151940,
     "user": {
      "displayName": "deepdive datascience",
      "userId": "06241824193725215643"
     },
     "user_tz": 360
    },
    "id": "148iQ07JR2RJ"
   },
   "outputs": [],
   "source": [
    "parrot = Animal(\"Timothy\", \"parrot\", \"blue\", \"Polly want a cracker!\")\n"
   ]
  },
  {
   "cell_type": "code",
   "execution_count": 85,
   "metadata": {
    "colab": {
     "base_uri": "https://localhost:8080/"
    },
    "executionInfo": {
     "elapsed": 142,
     "status": "ok",
     "timestamp": 1720471153708,
     "user": {
      "displayName": "deepdive datascience",
      "userId": "06241824193725215643"
     },
     "user_tz": 360
    },
    "id": "Nc2ugbSnS91I",
    "outputId": "067cb91f-b3e7-402d-843a-484f8ed7c80b"
   },
   "outputs": [
    {
     "name": "stdout",
     "output_type": "stream",
     "text": [
      "Animal(name=Timothy, species=parrot, color=blue, sound=Polly want a cracker!)\n"
     ]
    }
   ],
   "source": [
    "print(parrot)\n"
   ]
  },
  {
   "cell_type": "code",
   "execution_count": 86,
   "metadata": {
    "colab": {
     "base_uri": "https://localhost:8080/"
    },
    "executionInfo": {
     "elapsed": 136,
     "status": "ok",
     "timestamp": 1720471155458,
     "user": {
      "displayName": "deepdive datascience",
      "userId": "06241824193725215643"
     },
     "user_tz": 360
    },
    "id": "rwi9wSVTSOOA",
    "outputId": "a4e0ac04-f667-48e4-e05e-89444f7c819a"
   },
   "outputs": [
    {
     "name": "stdout",
     "output_type": "stream",
     "text": [
      "Polly want a cracker!\n"
     ]
    }
   ],
   "source": [
    "parrot.talk()\n"
   ]
  },
  {
   "cell_type": "code",
   "execution_count": 87,
   "metadata": {
    "colab": {
     "base_uri": "https://localhost:8080/"
    },
    "executionInfo": {
     "elapsed": 141,
     "status": "ok",
     "timestamp": 1720471161563,
     "user": {
      "displayName": "deepdive datascience",
      "userId": "06241824193725215643"
     },
     "user_tz": 360
    },
    "id": "BlzANHjTbyGi",
    "outputId": "245a8e4e-11f0-4aae-cef6-49f7c558615d"
   },
   "outputs": [
    {
     "data": {
      "text/plain": [
       "10"
      ]
     },
     "execution_count": 87,
     "metadata": {},
     "output_type": "execute_result"
    }
   ],
   "source": [
    "parrot.walk(10)\n",
    "parrot.steps\n"
   ]
  },
  {
   "cell_type": "code",
   "execution_count": 88,
   "metadata": {
    "colab": {
     "base_uri": "https://localhost:8080/"
    },
    "executionInfo": {
     "elapsed": 129,
     "status": "ok",
     "timestamp": 1720471166428,
     "user": {
      "displayName": "deepdive datascience",
      "userId": "06241824193725215643"
     },
     "user_tz": 360
    },
    "id": "kze2oJQlb1eQ",
    "outputId": "88833591-0f54-4b12-f8b9-c4eed5840360"
   },
   "outputs": [
    {
     "data": {
      "text/plain": [
       "15"
      ]
     },
     "execution_count": 88,
     "metadata": {},
     "output_type": "execute_result"
    }
   ],
   "source": [
    "parrot.walk(5)\n",
    "parrot.steps\n"
   ]
  },
  {
   "cell_type": "code",
   "execution_count": 89,
   "metadata": {
    "colab": {
     "base_uri": "https://localhost:8080/"
    },
    "executionInfo": {
     "elapsed": 145,
     "status": "ok",
     "timestamp": 1720471168743,
     "user": {
      "displayName": "deepdive datascience",
      "userId": "06241824193725215643"
     },
     "user_tz": 360
    },
    "id": "16GIYN4RSRwz",
    "outputId": "d669a80d-ae29-4846-b487-3f25357367c0"
   },
   "outputs": [
    {
     "name": "stdout",
     "output_type": "stream",
     "text": [
      "Animal(name=Timothy, species=parrot, color=blue, sound=Polly want a cracker!)\n",
      "blue\n"
     ]
    }
   ],
   "source": [
    "print(parrot)\n",
    "print(parrot.color)\n"
   ]
  },
  {
   "cell_type": "markdown",
   "metadata": {
    "id": "2EDF9SpiOkt8"
   },
   "source": [
    "##  Making a derived class"
   ]
  },
  {
   "cell_type": "markdown",
   "metadata": {
    "id": "IH77RcuGWHKG"
   },
   "source": [
    "### Creating a [Queue]( https://en.wikipedia.org/wiki/Queue_(abstract_data_type) )"
   ]
  },
  {
   "cell_type": "code",
   "execution_count": 90,
   "metadata": {
    "colab": {
     "base_uri": "https://localhost:8080/"
    },
    "executionInfo": {
     "elapsed": 164,
     "status": "ok",
     "timestamp": 1720471292499,
     "user": {
      "displayName": "deepdive datascience",
      "userId": "06241824193725215643"
     },
     "user_tz": 360
    },
    "id": "4LrWYo6bictW",
    "outputId": "e7d0b8c2-9f0b-4e29-83a2-2575771d586c"
   },
   "outputs": [
    {
     "data": {
      "text/plain": [
       "[1, 2, 3]"
      ]
     },
     "execution_count": 90,
     "metadata": {},
     "output_type": "execute_result"
    }
   ],
   "source": [
    "foo = [ 1, 2, 3]\n",
    "foo"
   ]
  },
  {
   "cell_type": "code",
   "execution_count": 91,
   "metadata": {
    "colab": {
     "base_uri": "https://localhost:8080/",
     "height": 141
    },
    "executionInfo": {
     "elapsed": 147,
     "status": "error",
     "timestamp": 1720471295382,
     "user": {
      "displayName": "deepdive datascience",
      "userId": "06241824193725215643"
     },
     "user_tz": 360
    },
    "id": "bk9iUkaliuHO",
    "outputId": "06f8d2c4-36a4-4533-e138-7621a479e617"
   },
   "outputs": [
    {
     "ename": "AttributeError",
     "evalue": "'list' object has no attribute 'size'",
     "output_type": "error",
     "traceback": [
      "\u001b[0;31m---------------------------------------------------------------------------\u001b[0m",
      "\u001b[0;31mAttributeError\u001b[0m                            Traceback (most recent call last)",
      "Cell \u001b[0;32mIn[91], line 1\u001b[0m\n\u001b[0;32m----> 1\u001b[0m \u001b[43mfoo\u001b[49m\u001b[38;5;241;43m.\u001b[39;49m\u001b[43msize\u001b[49m\n",
      "\u001b[0;31mAttributeError\u001b[0m: 'list' object has no attribute 'size'"
     ]
    }
   ],
   "source": [
    "foo.size"
   ]
  },
  {
   "cell_type": "code",
   "execution_count": null,
   "metadata": {
    "colab": {
     "base_uri": "https://localhost:8080/"
    },
    "executionInfo": {
     "elapsed": 144,
     "status": "ok",
     "timestamp": 1720471368630,
     "user": {
      "displayName": "deepdive datascience",
      "userId": "06241824193725215643"
     },
     "user_tz": 360
    },
    "id": "k6NtRsadifPd",
    "outputId": "da7dc465-3c75-4cce-cfa7-2de6962d40c7"
   },
   "outputs": [
    {
     "data": {
      "text/plain": [
       "3"
      ]
     },
     "execution_count": 49,
     "metadata": {},
     "output_type": "execute_result"
    }
   ],
   "source": [
    "foo.pop()"
   ]
  },
  {
   "cell_type": "code",
   "execution_count": null,
   "metadata": {
    "colab": {
     "base_uri": "https://localhost:8080/",
     "height": 141
    },
    "executionInfo": {
     "elapsed": 137,
     "status": "error",
     "timestamp": 1720471370078,
     "user": {
      "displayName": "deepdive datascience",
      "userId": "06241824193725215643"
     },
     "user_tz": 360
    },
    "id": "wiEjRnFWinm1",
    "outputId": "700f5704-1a05-4fc1-e896-32c7e44bbf83"
   },
   "outputs": [
    {
     "ename": "AttributeError",
     "evalue": "'list' object has no attribute 'push'",
     "output_type": "error",
     "traceback": [
      "\u001b[0;31m---------------------------------------------------------------------------\u001b[0m",
      "\u001b[0;31mAttributeError\u001b[0m                            Traceback (most recent call last)",
      "\u001b[0;32m<ipython-input-50-399717872260>\u001b[0m in \u001b[0;36m<cell line: 1>\u001b[0;34m()\u001b[0m\n\u001b[0;32m----> 1\u001b[0;31m \u001b[0mfoo\u001b[0m\u001b[0;34m.\u001b[0m\u001b[0mpush\u001b[0m\u001b[0;34m(\u001b[0m\u001b[0;36m3\u001b[0m\u001b[0;34m)\u001b[0m\u001b[0;34m\u001b[0m\u001b[0;34m\u001b[0m\u001b[0m\n\u001b[0m",
      "\u001b[0;31mAttributeError\u001b[0m: 'list' object has no attribute 'push'"
     ]
    }
   ],
   "source": [
    "foo.push(3)"
   ]
  },
  {
   "cell_type": "code",
   "execution_count": null,
   "metadata": {
    "executionInfo": {
     "elapsed": 150,
     "status": "ok",
     "timestamp": 1720472116636,
     "user": {
      "displayName": "deepdive datascience",
      "userId": "06241824193725215643"
     },
     "user_tz": 360
    },
    "id": "y_pHlyPRODY6"
   },
   "outputs": [],
   "source": [
    "class Queue(list):\n",
    "  '''\n",
    "  Implements a queue data structure with methods push(), pop(), and show(),\n",
    "  and attribute size.\n",
    "  '''\n",
    "\n",
    "  def __init__(self, initial_list=None):\n",
    "    '''Initialize a Queue given an optional list'''\n",
    "    if initial_list is not None:\n",
    "      super().__init__(initial_list)\n",
    "      self.size = len(initial_list)\n",
    "    else:\n",
    "      super().__init__()\n",
    "      self.size = 0\n",
    "\n",
    "  def push(self, item):\n",
    "    '''Push an element onto the Queue'''\n",
    "    self.append(item)\n",
    "    self.size += 1\n",
    "\n",
    "  def pop(self):\n",
    "    '''Remove an element from the Queue'''\n",
    "    if self.size > 0:\n",
    "      self.size -= 1\n",
    "      return super().pop(0)\n",
    "    else:\n",
    "      return None\n",
    "\n",
    "  def show(self):\n",
    "    '''Show the elements in the Queue'''\n",
    "    return(self)\n"
   ]
  },
  {
   "cell_type": "code",
   "execution_count": null,
   "metadata": {
    "colab": {
     "base_uri": "https://localhost:8080/"
    },
    "executionInfo": {
     "elapsed": 123,
     "status": "ok",
     "timestamp": 1720472117795,
     "user": {
      "displayName": "deepdive datascience",
      "userId": "06241824193725215643"
     },
     "user_tz": 360
    },
    "id": "MwBxmDIIPbA9",
    "outputId": "63be2a74-ac40-45c1-fdf9-fd5f148a86a7"
   },
   "outputs": [
    {
     "data": {
      "text/plain": [
       "[1, 2, 3]"
      ]
     },
     "execution_count": 53,
     "metadata": {},
     "output_type": "execute_result"
    }
   ],
   "source": [
    "# Example usage:\n",
    "q = Queue([1, 2, 3])\n",
    "q"
   ]
  },
  {
   "cell_type": "code",
   "execution_count": null,
   "metadata": {
    "colab": {
     "base_uri": "https://localhost:8080/",
     "height": 121
    },
    "executionInfo": {
     "elapsed": 135,
     "status": "ok",
     "timestamp": 1720472121789,
     "user": {
      "displayName": "deepdive datascience",
      "userId": "06241824193725215643"
     },
     "user_tz": 360
    },
    "id": "zdd3vi6oj6SX",
    "outputId": "78cc1f19-2d0a-4937-9263-cf97969a3d51"
   },
   "outputs": [
    {
     "data": {
      "text/html": [
       "<div style=\"max-width:800px; border: 1px solid var(--colab-border-color);\"><style>\n",
       "      pre.function-repr-contents {\n",
       "        overflow-x: auto;\n",
       "        padding: 8px 12px;\n",
       "        max-height: 500px;\n",
       "      }\n",
       "\n",
       "      pre.function-repr-contents.function-repr-contents-collapsed {\n",
       "        cursor: pointer;\n",
       "        max-height: 100px;\n",
       "      }\n",
       "    </style>\n",
       "    <pre style=\"white-space: initial; background:\n",
       "         var(--colab-secondary-surface-color); padding: 8px 12px;\n",
       "         border-bottom: 1px solid var(--colab-border-color);\"><b>Queue</b><br/>def __init__(initial_list=None)</pre><pre class=\"function-repr-contents function-repr-contents-collapsed\" style=\"\"><a class=\"filepath\" style=\"display:none\" href=\"#\"></a>Implements a queue data structure with methods push(), pop(), and show(),\n",
       "and attribute size.</pre></div>"
      ],
      "text/plain": [
       "__main__.Queue"
      ]
     },
     "execution_count": 54,
     "metadata": {},
     "output_type": "execute_result"
    }
   ],
   "source": [
    "type(q)"
   ]
  },
  {
   "cell_type": "code",
   "execution_count": null,
   "metadata": {
    "colab": {
     "base_uri": "https://localhost:8080/"
    },
    "executionInfo": {
     "elapsed": 149,
     "status": "ok",
     "timestamp": 1720472132052,
     "user": {
      "displayName": "deepdive datascience",
      "userId": "06241824193725215643"
     },
     "user_tz": 360
    },
    "id": "SJETD85kj3gG",
    "outputId": "8deec717-66a3-4b0d-b664-a69bfdda28e1"
   },
   "outputs": [
    {
     "name": "stdout",
     "output_type": "stream",
     "text": [
      "Initial queue: [1, 2, 3]\n"
     ]
    }
   ],
   "source": [
    "print(\"Initial queue:\", q)\n"
   ]
  },
  {
   "cell_type": "code",
   "execution_count": null,
   "metadata": {
    "colab": {
     "base_uri": "https://localhost:8080/"
    },
    "executionInfo": {
     "elapsed": 164,
     "status": "ok",
     "timestamp": 1720472273799,
     "user": {
      "displayName": "deepdive datascience",
      "userId": "06241824193725215643"
     },
     "user_tz": 360
    },
    "id": "bPIUCGy_j_Gg",
    "outputId": "4689e77a-7b60-4597-88b9-d80dee314170"
   },
   "outputs": [
    {
     "name": "stdout",
     "output_type": "stream",
     "text": [
      "Size of the queue: 3\n"
     ]
    }
   ],
   "source": [
    "print(\"Size of the queue:\", q.size)\n"
   ]
  },
  {
   "cell_type": "code",
   "execution_count": null,
   "metadata": {
    "colab": {
     "base_uri": "https://localhost:8080/"
    },
    "executionInfo": {
     "elapsed": 177,
     "status": "ok",
     "timestamp": 1720472282289,
     "user": {
      "displayName": "deepdive datascience",
      "userId": "06241824193725215643"
     },
     "user_tz": 360
    },
    "id": "V8FrSrnBkCnx",
    "outputId": "02c6e854-6766-4ba3-b52d-655be20dd77e"
   },
   "outputs": [
    {
     "name": "stdout",
     "output_type": "stream",
     "text": [
      "Popped item: 1\n"
     ]
    }
   ],
   "source": [
    "print(\"Popped item:\", q.pop())\n"
   ]
  },
  {
   "cell_type": "code",
   "execution_count": null,
   "metadata": {
    "colab": {
     "base_uri": "https://localhost:8080/"
    },
    "executionInfo": {
     "elapsed": 142,
     "status": "ok",
     "timestamp": 1720472289399,
     "user": {
      "displayName": "deepdive datascience",
      "userId": "06241824193725215643"
     },
     "user_tz": 360
    },
    "id": "pN2HCmI1kIj8",
    "outputId": "61003d44-892f-4bcd-a295-4c230b56d0d5"
   },
   "outputs": [
    {
     "name": "stdout",
     "output_type": "stream",
     "text": [
      "Queue after popping: [2, 3]\n"
     ]
    }
   ],
   "source": [
    "print(\"Queue after popping:\", q)\n",
    "\n"
   ]
  },
  {
   "cell_type": "code",
   "execution_count": null,
   "metadata": {
    "colab": {
     "base_uri": "https://localhost:8080/"
    },
    "executionInfo": {
     "elapsed": 154,
     "status": "ok",
     "timestamp": 1720472294668,
     "user": {
      "displayName": "deepdive datascience",
      "userId": "06241824193725215643"
     },
     "user_tz": 360
    },
    "id": "i6fLBwi5kb8r",
    "outputId": "dd9e9656-9477-4c52-fbdd-a8e0f6ead475"
   },
   "outputs": [
    {
     "name": "stdout",
     "output_type": "stream",
     "text": [
      "Size after popping: 2\n"
     ]
    }
   ],
   "source": [
    "print(\"Size after popping:\", q.size)\n"
   ]
  },
  {
   "cell_type": "code",
   "execution_count": null,
   "metadata": {
    "colab": {
     "base_uri": "https://localhost:8080/"
    },
    "executionInfo": {
     "elapsed": 179,
     "status": "ok",
     "timestamp": 1720472298607,
     "user": {
      "displayName": "deepdive datascience",
      "userId": "06241824193725215643"
     },
     "user_tz": 360
    },
    "id": "as33D5uCkOjZ",
    "outputId": "2cca9f0b-7866-47db-b216-3b60436ab5de"
   },
   "outputs": [
    {
     "data": {
      "text/plain": [
       "[2, 3, 100]"
      ]
     },
     "execution_count": 60,
     "metadata": {},
     "output_type": "execute_result"
    }
   ],
   "source": [
    "q.push(100)\n",
    "q"
   ]
  },
  {
   "cell_type": "code",
   "execution_count": null,
   "metadata": {
    "colab": {
     "base_uri": "https://localhost:8080/",
     "height": 139
    },
    "executionInfo": {
     "elapsed": 140,
     "status": "ok",
     "timestamp": 1720472322772,
     "user": {
      "displayName": "deepdive datascience",
      "userId": "06241824193725215643"
     },
     "user_tz": 360
    },
    "id": "TL1iZRhTkMCb",
    "outputId": "a5fe58a2-b9ab-4e2d-95d9-2c51d6251e74"
   },
   "outputs": [
    {
     "name": "stdout",
     "output_type": "stream",
     "text": [
      "[2, 3, 100]\n"
     ]
    },
    {
     "data": {
      "text/html": [
       "<div style=\"max-width:800px; border: 1px solid var(--colab-border-color);\"><style>\n",
       "      pre.function-repr-contents {\n",
       "        overflow-x: auto;\n",
       "        padding: 8px 12px;\n",
       "        max-height: 500px;\n",
       "      }\n",
       "\n",
       "      pre.function-repr-contents.function-repr-contents-collapsed {\n",
       "        cursor: pointer;\n",
       "        max-height: 100px;\n",
       "      }\n",
       "    </style>\n",
       "    <pre style=\"white-space: initial; background:\n",
       "         var(--colab-secondary-surface-color); padding: 8px 12px;\n",
       "         border-bottom: 1px solid var(--colab-border-color);\"><b>Queue</b><br/>def __init__(initial_list=None)</pre><pre class=\"function-repr-contents function-repr-contents-collapsed\" style=\"\"><a class=\"filepath\" style=\"display:none\" href=\"#\"></a>Implements a queue data structure with methods push(), pop(), and show(),\n",
       "and attribute size.</pre></div>"
      ],
      "text/plain": [
       "__main__.Queue"
      ]
     },
     "execution_count": 61,
     "metadata": {},
     "output_type": "execute_result"
    }
   ],
   "source": [
    "print(q.show())\n",
    "type(q)"
   ]
  },
  {
   "cell_type": "code",
   "execution_count": null,
   "metadata": {
    "id": "IhhKMnHfODVe"
   },
   "outputs": [],
   "source": []
  },
  {
   "cell_type": "markdown",
   "metadata": {
    "id": "7C3O0MuAHALR"
   },
   "source": [
    "## Your turn\n",
    "- Create your own class.\n",
    "- List a few attributes (>2)\n",
    "- Create at least 3 methods - init, repr, and at least 1 method of your own\n",
    "- Create a new object of your class\n",
    "- Print your object, print your object's attributes, & run your method\n",
    "\n",
    "\n",
    "---\n",
    "Ideas:\n",
    "- Car\n",
    "- Person\n",
    "- Plant\n"
   ]
  },
  {
   "cell_type": "code",
   "execution_count": null,
   "metadata": {
    "executionInfo": {
     "elapsed": 173,
     "status": "ok",
     "timestamp": 1720475138686,
     "user": {
      "displayName": "deepdive datascience",
      "userId": "06241824193725215643"
     },
     "user_tz": 360
    },
    "id": "yd9OyRez2o0p"
   },
   "outputs": [],
   "source": [
    "# Solution\n",
    "class Fibonacci:\n",
    "  def __init__(self):\n",
    "    self.memo = {}\n",
    "\n",
    "  def fibonacci(self, n):\n",
    "    if n in self.memo:\n",
    "      return self.memo[n]\n",
    "    if n <= 1:\n",
    "      return n\n",
    "    else:\n",
    "      result = self.fibonacci(n - 1) + self.fibonacci(n - 2)\n",
    "      self.memo[n] = result\n",
    "      return result\n"
   ]
  },
  {
   "cell_type": "code",
   "execution_count": null,
   "metadata": {
    "colab": {
     "base_uri": "https://localhost:8080/"
    },
    "executionInfo": {
     "elapsed": 157,
     "status": "ok",
     "timestamp": 1720475139950,
     "user": {
      "displayName": "deepdive datascience",
      "userId": "06241824193725215643"
     },
     "user_tz": 360
    },
    "id": "pWlwCF9FS9VG",
    "outputId": "1f2ad615-548e-4be5-fc9a-204240a750ea"
   },
   "outputs": [
    {
     "name": "stdout",
     "output_type": "stream",
     "text": [
      "55\n"
     ]
    }
   ],
   "source": [
    "fib = Fibonacci()\n",
    "print(fib.fibonacci(10))  # Output: 55\n"
   ]
  },
  {
   "cell_type": "markdown",
   "metadata": {},
   "source": [
    "# Basics of Object Oriented Programming\n"
   ]
  },
  {
   "cell_type": "markdown",
   "metadata": {},
   "source": [
    "## Why we care\n"
   ]
  },
  {
   "cell_type": "markdown",
   "metadata": {},
   "source": [
    "Everything in python is an object:\n",
    "- strings\n",
    "- ints\n",
    "- lists\n",
    "- DataFrames\n",
    "- Numpy Arrays\n",
    "\n",
    "We want to cover just enough OOP that you understand certain things about Python syntax.  "
   ]
  },
  {
   "cell_type": "markdown",
   "metadata": {},
   "source": [
    "## Classes and Objects\n",
    "\n",
    "**Classes** are like a blueprint.  They define a type of object and the methods that can be used on that object.  \n",
    "\n",
    "**Objects** are specific instances of a class.  For example, an actual house.  You could create as many houses as you wanted from one blueprint.  \n",
    "\n",
    "For example, DataFrame is a class in Pandas.  But when you create a DataFrame, that specific DataFrame is an obeject.  \n",
    "\n",
    "Classes allow us to create functionality that will be available to all objects that we make of that class.  \n",
    "\n",
    "For example,  you are able to use head() with any DataFrame to get the first few entries.  "
   ]
  },
  {
   "cell_type": "markdown",
   "metadata": {},
   "source": [
    "##  Methods and Attributes\n",
    "**Methods** are like functions, but they run on an object.  \n",
    "- For example, when you call head() on a dataframe it's df.head() not head(df).  \n",
    "\n",
    "\n",
    "**Attributes** are values for variables associated with an object.  "
   ]
  },
  {
   "cell_type": "code",
   "execution_count": null,
   "metadata": {},
   "outputs": [
    {
     "data": {
      "text/html": [
       "<div>\n",
       "<style scoped>\n",
       "    .dataframe tbody tr th:only-of-type {\n",
       "        vertical-align: middle;\n",
       "    }\n",
       "\n",
       "    .dataframe tbody tr th {\n",
       "        vertical-align: top;\n",
       "    }\n",
       "\n",
       "    .dataframe thead th {\n",
       "        text-align: right;\n",
       "    }\n",
       "</style>\n",
       "<table border=\"1\" class=\"dataframe\">\n",
       "  <thead>\n",
       "    <tr style=\"text-align: right;\">\n",
       "      <th></th>\n",
       "      <th>0</th>\n",
       "      <th>1</th>\n",
       "    </tr>\n",
       "  </thead>\n",
       "  <tbody>\n",
       "    <tr>\n",
       "      <th>0</th>\n",
       "      <td>0</td>\n",
       "      <td>2</td>\n",
       "    </tr>\n",
       "    <tr>\n",
       "      <th>1</th>\n",
       "      <td>5</td>\n",
       "      <td>6</td>\n",
       "    </tr>\n",
       "    <tr>\n",
       "      <th>2</th>\n",
       "      <td>9</td>\n",
       "      <td>0</td>\n",
       "    </tr>\n",
       "  </tbody>\n",
       "</table>\n",
       "</div>"
      ],
      "text/plain": [
       "   0  1\n",
       "0  0  2\n",
       "1  5  6\n",
       "2  9  0"
      ]
     },
     "metadata": {},
     "output_type": "display_data"
    }
   ],
   "source": [
    "import pandas as pd\n",
    "df = pd.DataFrame([[0,2],[5,6],[9,0]])\n",
    "df"
   ]
  },
  {
   "cell_type": "code",
   "execution_count": null,
   "metadata": {},
   "outputs": [
    {
     "data": {
      "text/html": [
       "<div>\n",
       "<style scoped>\n",
       "    .dataframe tbody tr th:only-of-type {\n",
       "        vertical-align: middle;\n",
       "    }\n",
       "\n",
       "    .dataframe tbody tr th {\n",
       "        vertical-align: top;\n",
       "    }\n",
       "\n",
       "    .dataframe thead th {\n",
       "        text-align: right;\n",
       "    }\n",
       "</style>\n",
       "<table border=\"1\" class=\"dataframe\">\n",
       "  <thead>\n",
       "    <tr style=\"text-align: right;\">\n",
       "      <th></th>\n",
       "      <th>0</th>\n",
       "      <th>1</th>\n",
       "    </tr>\n",
       "  </thead>\n",
       "  <tbody>\n",
       "    <tr>\n",
       "      <th>0</th>\n",
       "      <td>0</td>\n",
       "      <td>2</td>\n",
       "    </tr>\n",
       "    <tr>\n",
       "      <th>1</th>\n",
       "      <td>5</td>\n",
       "      <td>6</td>\n",
       "    </tr>\n",
       "  </tbody>\n",
       "</table>\n",
       "</div>"
      ],
      "text/plain": [
       "   0  1\n",
       "0  0  2\n",
       "1  5  6"
      ]
     },
     "metadata": {},
     "output_type": "display_data"
    }
   ],
   "source": [
    "# head() is a method we can call on our dataframe object\n",
    "df.head(2)\n"
   ]
  },
  {
   "cell_type": "code",
   "execution_count": null,
   "metadata": {},
   "outputs": [
    {
     "data": {
      "text/plain": [
       "(3, 2)"
      ]
     },
     "metadata": {},
     "output_type": "display_data"
    }
   ],
   "source": [
    "# shape is an attribute  - notice how it has no ()\n",
    "df.shape\n"
   ]
  },
  {
   "cell_type": "code",
   "execution_count": null,
   "metadata": {},
   "outputs": [
    {
     "name": "stdout",
     "output_type": "stream",
     "text": [
      "   0  1\n",
      "0  0  2\n",
      "1  5  6\n",
      "2  9  0\n",
      "<class 'pandas.core.frame.DataFrame'>\n",
      "DataFrame\n"
     ]
    }
   ],
   "source": [
    "print(df)\n",
    "print(df.__class__)\n",
    "print(df.__class__.__name__)\n"
   ]
  },
  {
   "cell_type": "markdown",
   "metadata": {},
   "source": [
    "##  Making your own class"
   ]
  },
  {
   "cell_type": "markdown",
   "metadata": {},
   "source": [
    "Animal\n",
    "**Class**\n",
    "Attributes:\n",
    "- Sound - What sound does it make?\n",
    "- Name\n",
    "- Color\n",
    "- Species\n",
    "-\\# of legs\n",
    "- eye color\n",
    "....\n",
    "\n",
    "Methods (What can an animal do?  Or what can I do to it?):\n",
    "- Talk\n",
    "- Walk\n",
    "- ...\n",
    "\n",
    "**Object - Specific instance of the class**\n",
    "\n",
    "Cat -\n",
    "\n",
    "Sound - mreeow\n",
    "\n",
    "Name - Head Cat\n",
    "\n",
    "Color - White & grey\n",
    "\n",
    "**Make an animal class & an object of type Animal**\n"
   ]
  },
  {
   "cell_type": "code",
   "execution_count": null,
   "metadata": {},
   "outputs": [],
   "source": [
    "# Class names - first letter of words are capitalized - no spaces - i.e. pd.DataFrame\n",
    "class Animal:\n",
    "  \"\"\"This is the Animal Class\"\"\"\n",
    "\n",
    "  # This is the constructor.  It is called when we make a new Animal.\n",
    "  # For example, something like\n",
    "  # head_cat = Animal('Head Cat', 'cat', 'white and grey', 'meow') goes to\n",
    "  # head_cat = __init__('Head Cat', 'cat', 'white and grey', 'meow')\n",
    "  def __init__(self, name, species, color, sound):\n",
    "    # here we set the attributes based on the input from the constructor\n",
    "    self.name = name\n",
    "    self.species = species\n",
    "    self.color = color\n",
    "    self.sound = sound\n",
    "    self.steps = 0\n",
    "\n",
    "  # This is a dunder method - it returns a string as a representation of the object.\n",
    "  # Creating a string that will be returned when print is used on the Animal\n",
    "  # We'll make it something pretty and human-readable\n",
    "  def __repr__(self):\n",
    "    return(f\"{self.__class__.__name__}(name={self.name}, species={self.species}, color={self.color}, sound={self.sound})\")\n",
    "\n",
    "  # This is a method\n",
    "  def talk(self):  # head_cat.talk()  ->  talk(head_cat)\n",
    "    \"\"\"Print the animal's sound\"\"\"\n",
    "    print(self.sound)  # print(head_cat.sound)\n",
    "\n",
    "  def walk(self, num_steps):\n",
    "    self.steps = self.steps + num_steps\n",
    "    return num_steps"
   ]
  },
  {
   "cell_type": "code",
   "execution_count": null,
   "metadata": {},
   "outputs": [
    {
     "data": {
      "text/plain": [
       "Animal(name=Zeus, species=dog, color=grey, sound=bark)"
      ]
     },
     "metadata": {},
     "output_type": "display_data"
    }
   ],
   "source": [
    "our_dog = Animal(name = 'Zeus', species = 'dog', color = 'grey', sound = 'bark')\n",
    "our_dog"
   ]
  },
  {
   "cell_type": "code",
   "execution_count": null,
   "metadata": {},
   "outputs": [
    {
     "data": {
      "text/plain": [
       "0"
      ]
     },
     "metadata": {},
     "output_type": "display_data"
    }
   ],
   "source": [
    "our_dog.steps"
   ]
  },
  {
   "cell_type": "code",
   "execution_count": null,
   "metadata": {},
   "outputs": [
    {
     "name": "stdout",
     "output_type": "stream",
     "text": [
      "bark\n"
     ]
    }
   ],
   "source": [
    "our_dog.talk()"
   ]
  },
  {
   "cell_type": "code",
   "execution_count": null,
   "metadata": {},
   "outputs": [
    {
     "data": {
      "text/plain": [
       "5"
      ]
     },
     "metadata": {},
     "output_type": "display_data"
    }
   ],
   "source": [
    "our_dog.walk(5)\n"
   ]
  },
  {
   "cell_type": "code",
   "execution_count": null,
   "metadata": {},
   "outputs": [
    {
     "data": {
      "text/plain": [
       "5"
      ]
     },
     "metadata": {},
     "output_type": "display_data"
    }
   ],
   "source": [
    "our_dog.steps\n"
   ]
  },
  {
   "cell_type": "code",
   "execution_count": null,
   "metadata": {},
   "outputs": [
    {
     "name": "stdout",
     "output_type": "stream",
     "text": [
      "Help on class Animal in module __main__:\n",
      "\n",
      "class Animal(builtins.object)\n",
      " |  Animal(name, species, color, sound)\n",
      " |\n",
      " |  This is the Animal Class\n",
      " |\n",
      " |  Methods defined here:\n",
      " |\n",
      " |  __init__(self, name, species, color, sound)\n",
      " |      Initialize self.  See help(type(self)) for accurate signature.\n",
      " |\n",
      " |  __repr__(self)\n",
      " |      Return repr(self).\n",
      " |\n",
      " |  talk(self)\n",
      " |      Print the animal's sound\n",
      " |\n",
      " |  walk(self, num_steps)\n",
      " |\n",
      " |  ----------------------------------------------------------------------\n",
      " |  Data descriptors defined here:\n",
      " |\n",
      " |  __dict__\n",
      " |      dictionary for instance variables\n",
      " |\n",
      " |  __weakref__\n",
      " |      list of weak references to the object\n",
      "\n"
     ]
    }
   ],
   "source": [
    "#Animal?\n",
    "help(Animal)\n"
   ]
  },
  {
   "cell_type": "code",
   "execution_count": null,
   "metadata": {},
   "outputs": [
    {
     "data": {
      "text/plain": [
       "Animal(name=Head Cat, species=cat, color=white and grey, sound=mrrrrr)"
      ]
     },
     "metadata": {},
     "output_type": "display_data"
    }
   ],
   "source": [
    "# Head Cat is an Object of Type Animal.  Animal is the class.\n",
    "head_cat = Animal('Head Cat', 'cat', 'white and grey', 'mrrrrr')\n",
    "head_cat\n"
   ]
  },
  {
   "cell_type": "code",
   "execution_count": null,
   "metadata": {},
   "outputs": [
    {
     "name": "stdout",
     "output_type": "stream",
     "text": [
      "mrrrrr\n"
     ]
    }
   ],
   "source": [
    "head_cat.talk()\n"
   ]
  },
  {
   "cell_type": "code",
   "execution_count": null,
   "metadata": {},
   "outputs": [
    {
     "name": "stdout",
     "output_type": "stream",
     "text": [
      "Animal(name=Head Cat, species=cat, color=white and grey, sound=mrrrrr)\n"
     ]
    }
   ],
   "source": [
    "print(head_cat)\n"
   ]
  },
  {
   "cell_type": "code",
   "execution_count": null,
   "metadata": {},
   "outputs": [
    {
     "name": "stdout",
     "output_type": "stream",
     "text": [
      "cat\n"
     ]
    }
   ],
   "source": [
    "print(head_cat.species)\n"
   ]
  },
  {
   "cell_type": "code",
   "execution_count": null,
   "metadata": {},
   "outputs": [
    {
     "data": {
      "text/plain": [
       "'white and grey'"
      ]
     },
     "metadata": {},
     "output_type": "display_data"
    }
   ],
   "source": [
    "head_cat.color\n"
   ]
  },
  {
   "cell_type": "code",
   "execution_count": null,
   "metadata": {},
   "outputs": [
    {
     "name": "stdout",
     "output_type": "stream",
     "text": [
      "purrr\n",
      "Trip was a grey cat\n"
     ]
    }
   ],
   "source": [
    "trip = Animal('Tripping Hazzard', 'cat', 'grey', 'purrr')\n",
    "trip.talk()\n",
    "print(f\"Trip was a {trip.color} cat\")\n"
   ]
  },
  {
   "cell_type": "code",
   "execution_count": null,
   "metadata": {},
   "outputs": [
    {
     "name": "stdout",
     "output_type": "stream",
     "text": [
      "Animal(name=Tripping Hazzard, species=cat, color=grey, sound=purrr)\n"
     ]
    }
   ],
   "source": [
    "print(trip)\n"
   ]
  },
  {
   "cell_type": "code",
   "execution_count": null,
   "metadata": {},
   "outputs": [],
   "source": [
    "parrot = Animal(\"Timothy\", \"parrot\", \"blue\", \"Polly want a cracker!\")\n"
   ]
  },
  {
   "cell_type": "code",
   "execution_count": null,
   "metadata": {},
   "outputs": [
    {
     "name": "stdout",
     "output_type": "stream",
     "text": [
      "Animal(name=Timothy, species=parrot, color=blue, sound=Polly want a cracker!)\n"
     ]
    }
   ],
   "source": [
    "print(parrot)\n"
   ]
  },
  {
   "cell_type": "code",
   "execution_count": null,
   "metadata": {},
   "outputs": [
    {
     "name": "stdout",
     "output_type": "stream",
     "text": [
      "Polly want a cracker!\n"
     ]
    }
   ],
   "source": [
    "parrot.talk()\n"
   ]
  },
  {
   "cell_type": "code",
   "execution_count": null,
   "metadata": {},
   "outputs": [
    {
     "data": {
      "text/plain": [
       "10"
      ]
     },
     "metadata": {},
     "output_type": "display_data"
    }
   ],
   "source": [
    "parrot.walk(10)\n",
    "parrot.steps\n"
   ]
  },
  {
   "cell_type": "code",
   "execution_count": null,
   "metadata": {},
   "outputs": [
    {
     "data": {
      "text/plain": [
       "15"
      ]
     },
     "metadata": {},
     "output_type": "display_data"
    }
   ],
   "source": [
    "parrot.walk(5)\n",
    "parrot.steps\n"
   ]
  },
  {
   "cell_type": "code",
   "execution_count": null,
   "metadata": {},
   "outputs": [
    {
     "name": "stdout",
     "output_type": "stream",
     "text": [
      "Animal(name=Timothy, species=parrot, color=blue, sound=Polly want a cracker!)\n",
      "blue\n"
     ]
    }
   ],
   "source": [
    "print(parrot)\n",
    "print(parrot.color)\n"
   ]
  },
  {
   "cell_type": "markdown",
   "metadata": {},
   "source": [
    "##  Making a derived class"
   ]
  },
  {
   "cell_type": "markdown",
   "metadata": {},
   "source": [
    "### Creating a [Queue]( https://en.wikipedia.org/wiki/Queue_(abstract_data_type) )"
   ]
  },
  {
   "cell_type": "code",
   "execution_count": null,
   "metadata": {},
   "outputs": [
    {
     "data": {
      "text/plain": [
       "[1, 2, 3]"
      ]
     },
     "metadata": {},
     "output_type": "display_data"
    }
   ],
   "source": [
    "foo = [ 1, 2, 3]\n",
    "foo"
   ]
  },
  {
   "cell_type": "code",
   "execution_count": null,
   "metadata": {},
   "outputs": [
    {
     "ename": "AttributeError",
     "evalue": "'list' object has no attribute 'size'",
     "output_type": "error",
     "traceback": [
      "\u001b[0;31m---------------------------------------------------------------------------\u001b[0m\n",
      "\u001b[0;31mAttributeError\u001b[0m                            Traceback (most recent call last)\n",
      "Cell \u001b[0;32mIn[27], line 1\u001b[0m\n",
      "\u001b[0;32m----> 1\u001b[0m \u001b[43mfoo\u001b[49m\u001b[38;5;241;43m.\u001b[39;49m\u001b[43msize\u001b[49m()\n",
      "\n",
      "\u001b[0;31mAttributeError\u001b[0m: 'list' object has no attribute 'size'"
     ]
    }
   ],
   "source": [
    "foo.size"
   ]
  },
  {
   "cell_type": "code",
   "execution_count": null,
   "metadata": {},
   "outputs": [
    {
     "data": {
      "text/plain": [
       "3"
      ]
     },
     "metadata": {},
     "output_type": "display_data"
    }
   ],
   "source": [
    "foo.pop()"
   ]
  },
  {
   "cell_type": "code",
   "execution_count": null,
   "metadata": {},
   "outputs": [
    {
     "ename": "AttributeError",
     "evalue": "'list' object has no attribute 'push'",
     "output_type": "error",
     "traceback": [
      "\u001b[0;31m---------------------------------------------------------------------------\u001b[0m\n",
      "\u001b[0;31mAttributeError\u001b[0m                            Traceback (most recent call last)\n",
      "\u001b[0;32m<ipython-input-50-399717872260>\u001b[0m in \u001b[0;36m<cell line: 1>\u001b[0;34m()\u001b[0m\n",
      "\u001b[0;32m----> 1\u001b[0;31m \u001b[0mfoo\u001b[0m\u001b[0;34m.\u001b[0m\u001b[0mpush\u001b[0m\u001b[0;34m(\u001b[0m\u001b[0;36m3\u001b[0m\u001b[0;34m)\u001b[0m\u001b[0;34m\u001b[0m\u001b[0;34m\u001b[0m\u001b[0m\n",
      "\u001b[0m\n",
      "\u001b[0;31mAttributeError\u001b[0m: 'list' object has no attribute 'push'"
     ]
    }
   ],
   "source": [
    "foo.push(3)"
   ]
  },
  {
   "cell_type": "code",
   "execution_count": null,
   "metadata": {},
   "outputs": [],
   "source": [
    "class Queue(list):\n",
    "  '''\n",
    "  Implements a queue data structure with methods push(), pop(), and show(),\n",
    "  and attribute size.\n",
    "  '''\n",
    "\n",
    "  def __init__(self, initial_list=None):\n",
    "    '''Initialize a Queue given an optional list'''\n",
    "    if initial_list is not None:\n",
    "      super().__init__(initial_list)\n",
    "      self.size = len(initial_list)\n",
    "    else:\n",
    "      super().__init__()\n",
    "      self.size = 0\n",
    "\n",
    "  def push(self, item):\n",
    "    '''Push an element onto the Queue'''\n",
    "    self.append(item)\n",
    "    self.size += 1\n",
    "\n",
    "  def pop(self):\n",
    "    '''Remove an element from the Queue'''\n",
    "    if self.size > 0:\n",
    "      self.size -= 1\n",
    "      return super().pop(0)\n",
    "    else:\n",
    "      return None\n",
    "\n",
    "  def show(self):\n",
    "    '''Show the elements in the Queue'''\n",
    "    return(self)\n"
   ]
  },
  {
   "cell_type": "code",
   "execution_count": null,
   "metadata": {},
   "outputs": [],
   "source": [
    "import random\n",
    "\n",
    "class ListShuffler:\n",
    "    '''\n",
    "    shuffle a list\n",
    "    '''\n",
    "\n",
    "    def __init__(self, data_list):\n",
    "        self.data_list = data_list\n",
    "\n",
    "    def __repr__(self):\n",
    "        return f\"ListShuffler(data_list={self.data_list})\"\n",
    "\n",
    "    def shuffle(self):\n",
    "        random.shuffle(self.data_list)"
   ]
  },
  {
   "cell_type": "code",
   "execution_count": null,
   "metadata": {},
   "outputs": [
    {
     "data": {
      "text/plain": [
       "[3, 5, 4, 2, 1]"
      ]
     },
     "metadata": {},
     "output_type": "display_data"
    }
   ],
   "source": [
    "list = [1, 2, 3, 4, 5]\n",
    "\n",
    "shuffler = ListShuffler(list)\n",
    "shuffler.shuffle()\n",
    "shuffler.data_list"
   ]
  },
  {
   "cell_type": "code",
   "execution_count": null,
   "metadata": {},
   "outputs": [
    {
     "data": {
      "text/plain": [
       "[1, 2, 3]"
      ]
     },
     "metadata": {},
     "output_type": "display_data"
    }
   ],
   "source": [
    "# Example usage:\n",
    "q = Queue([1, 2, 3])\n",
    "q"
   ]
  },
  {
   "cell_type": "code",
   "execution_count": null,
   "metadata": {},
   "outputs": [
    {
     "data": {
      "text/html": [
       "<div style=\"max-width:800px; border: 1px solid var(--colab-border-color);\"><style>\n",
       "      pre.function-repr-contents {\n",
       "        overflow-x: auto;\n",
       "        padding: 8px 12px;\n",
       "        max-height: 500px;\n",
       "      }\n",
       "\n",
       "      pre.function-repr-contents.function-repr-contents-collapsed {\n",
       "        cursor: pointer;\n",
       "        max-height: 100px;\n",
       "      }\n",
       "    </style>\n",
       "    <pre style=\"white-space: initial; background:\n",
       "         var(--colab-secondary-surface-color); padding: 8px 12px;\n",
       "         border-bottom: 1px solid var(--colab-border-color);\"><b>Queue</b><br/>def __init__(initial_list=None)</pre><pre class=\"function-repr-contents function-repr-contents-collapsed\" style=\"\"><a class=\"filepath\" style=\"display:none\" href=\"#\"></a>Implements a queue data structure with methods push(), pop(), and show(),\n",
       "and attribute size.</pre></div>"
      ],
      "text/plain": [
       "__main__.Queue"
      ]
     },
     "metadata": {},
     "output_type": "display_data"
    }
   ],
   "source": [
    "type(q)"
   ]
  },
  {
   "cell_type": "code",
   "execution_count": null,
   "metadata": {},
   "outputs": [
    {
     "name": "stdout",
     "output_type": "stream",
     "text": [
      "Initial queue: [1, 2, 3]\n"
     ]
    }
   ],
   "source": [
    "print(\"Initial queue:\", q)\n"
   ]
  },
  {
   "cell_type": "code",
   "execution_count": null,
   "metadata": {},
   "outputs": [
    {
     "name": "stdout",
     "output_type": "stream",
     "text": [
      "Size of the queue: 3\n"
     ]
    }
   ],
   "source": [
    "print(\"Size of the queue:\", q.size)\n"
   ]
  },
  {
   "cell_type": "code",
   "execution_count": null,
   "metadata": {},
   "outputs": [
    {
     "name": "stdout",
     "output_type": "stream",
     "text": [
      "Popped item: 1\n"
     ]
    }
   ],
   "source": [
    "print(\"Popped item:\", q.pop())\n"
   ]
  },
  {
   "cell_type": "code",
   "execution_count": null,
   "metadata": {},
   "outputs": [
    {
     "name": "stdout",
     "output_type": "stream",
     "text": [
      "Queue after popping: [2, 3]\n"
     ]
    }
   ],
   "source": [
    "print(\"Queue after popping:\", q)\n",
    "\n"
   ]
  },
  {
   "cell_type": "code",
   "execution_count": null,
   "metadata": {},
   "outputs": [
    {
     "name": "stdout",
     "output_type": "stream",
     "text": [
      "Size after popping: 2\n"
     ]
    }
   ],
   "source": [
    "print(\"Size after popping:\", q.size)\n"
   ]
  },
  {
   "cell_type": "code",
   "execution_count": null,
   "metadata": {},
   "outputs": [
    {
     "data": {
      "text/plain": [
       "[2, 3, 100]"
      ]
     },
     "metadata": {},
     "output_type": "display_data"
    }
   ],
   "source": [
    "q.push(100)\n",
    "q"
   ]
  },
  {
   "cell_type": "code",
   "execution_count": null,
   "metadata": {},
   "outputs": [
    {
     "name": "stdout",
     "output_type": "stream",
     "text": [
      "[2, 3, 100]\n"
     ]
    },
    {
     "data": {
      "text/html": [
       "<div style=\"max-width:800px; border: 1px solid var(--colab-border-color);\"><style>\n",
       "      pre.function-repr-contents {\n",
       "        overflow-x: auto;\n",
       "        padding: 8px 12px;\n",
       "        max-height: 500px;\n",
       "      }\n",
       "\n",
       "      pre.function-repr-contents.function-repr-contents-collapsed {\n",
       "        cursor: pointer;\n",
       "        max-height: 100px;\n",
       "      }\n",
       "    </style>\n",
       "    <pre style=\"white-space: initial; background:\n",
       "         var(--colab-secondary-surface-color); padding: 8px 12px;\n",
       "         border-bottom: 1px solid var(--colab-border-color);\"><b>Queue</b><br/>def __init__(initial_list=None)</pre><pre class=\"function-repr-contents function-repr-contents-collapsed\" style=\"\"><a class=\"filepath\" style=\"display:none\" href=\"#\"></a>Implements a queue data structure with methods push(), pop(), and show(),\n",
       "and attribute size.</pre></div>"
      ],
      "text/plain": [
       "__main__.Queue"
      ]
     },
     "metadata": {},
     "output_type": "display_data"
    }
   ],
   "source": [
    "print(q.show())\n",
    "type(q)"
   ]
  },
  {
   "cell_type": "code",
   "execution_count": null,
   "metadata": {},
   "outputs": [],
   "source": []
  },
  {
   "cell_type": "markdown",
   "metadata": {},
   "source": [
    "## Your turn\n",
    "- Create your own class.\n",
    "- List a few attributes (>2)\n",
    "- Create at least 3 methods - init, repr, and at least 1 method of your own\n",
    "- Create a new object of your class\n",
    "- Print your object, print your object's attributes, & run your method\n",
    "\n",
    "\n",
    "---\n",
    "Ideas:\n",
    "- Car\n",
    "- Person\n",
    "- Plant\n"
   ]
  },
  {
   "cell_type": "code",
   "execution_count": null,
   "metadata": {},
   "outputs": [],
   "source": [
    "# Solution\n",
    "class Fibonacci:\n",
    "  def __init__(self):\n",
    "    self.memo = {}\n",
    "\n",
    "  def fibonacci(self, n):\n",
    "    if n in self.memo:\n",
    "      return self.memo[n]\n",
    "    if n <= 1:\n",
    "      return n\n",
    "    else:\n",
    "      result = self.fibonacci(n - 1) + self.fibonacci(n - 2)\n",
    "      self.memo[n] = result\n",
    "      return result\n"
   ]
  },
  {
   "cell_type": "code",
   "execution_count": null,
   "metadata": {},
   "outputs": [
    {
     "name": "stdout",
     "output_type": "stream",
     "text": [
      "55\n"
     ]
    }
   ],
   "source": [
    "fib = Fibonacci()\n",
    "print(fib.fibonacci(10))  # Output: 55\n"
   ]
  },
  {
   "cell_type": "code",
   "execution_count": 146,
   "metadata": {
    "id": "HMohNmyiTz3J"
   },
   "outputs": [],
   "source": [
    "import random\n",
    "\n",
    "class ListShuffler:\n",
    "    '''\n",
    "    shuffle a list\n",
    "    '''\n",
    "\n",
    "    def __init__(self, data_list):\n",
    "        self.data_list = data_list\n",
    "\n",
    "    def __repr__(self):\n",
    "        return f\"ListShuffler(data_list={self.data_list})\"\n",
    "\n",
    "    def shuffle(self):\n",
    "        random.shuffle(self.data_list)"
   ]
  },
  {
   "cell_type": "code",
   "execution_count": 148,
   "metadata": {},
   "outputs": [
    {
     "data": {
      "text/plain": [
       "[3, 4, 2, 1, 5]"
      ]
     },
     "execution_count": 148,
     "metadata": {},
     "output_type": "execute_result"
    }
   ],
   "source": [
    "list = [1, 2, 3, 4, 5]\n",
    "\n",
    "shuffler = ListShuffler(list)\n",
    "shuffler.shuffle()\n",
    "shuffler.data_list"
   ]
  }
 ],
 "metadata": {
  "colab": {
   "provenance": [],
   "toc_visible": true
  },
  "kernelspec": {
   "display_name": "Python 3",
   "name": "python3"
  },
  "language_info": {
   "codemirror_mode": {
    "name": "ipython",
    "version": 3
   },
   "file_extension": ".py",
   "mimetype": "text/x-python",
   "name": "python",
   "nbconvert_exporter": "python",
   "pygments_lexer": "ipython3",
   "version": "3.12.7"
  }
 },
 "nbformat": 4,
 "nbformat_minor": 0
}
