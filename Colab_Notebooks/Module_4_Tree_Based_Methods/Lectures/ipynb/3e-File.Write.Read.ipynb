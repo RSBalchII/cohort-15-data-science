{
 "cells": [
  {
   "cell_type": "markdown",
   "metadata": {
    "id": "88KwxO8hDVLs"
   },
   "source": [
    "# Writing to a File"
   ]
  },
  {
   "cell_type": "markdown",
   "metadata": {
    "id": "760lmaWXDYTE"
   },
   "source": [
    "## Using the Shell"
   ]
  },
  {
   "cell_type": "markdown",
   "metadata": {
    "id": "5FGIxA2SEe-D"
   },
   "source": [
    "Using echo and the shell's redirect operator."
   ]
  },
  {
   "cell_type": "code",
   "execution_count": 1,
   "metadata": {
    "executionInfo": {
     "elapsed": 339,
     "status": "ok",
     "timestamp": 1719434267592,
     "user": {
      "displayName": "deepdive datascience",
      "userId": "06241824193725215643"
     },
     "user_tz": 360
    },
    "id": "jWaXlpVZD3LC"
   },
   "outputs": [],
   "source": [
    "!echo hello world > hello.world.v01.txt\n"
   ]
  },
  {
   "cell_type": "code",
   "execution_count": 2,
   "metadata": {
    "colab": {
     "base_uri": "https://localhost:8080/"
    },
    "executionInfo": {
     "elapsed": 237,
     "status": "ok",
     "timestamp": 1719434267826,
     "user": {
      "displayName": "deepdive datascience",
      "userId": "06241824193725215643"
     },
     "user_tz": 360
    },
    "id": "QBNJGvt-Vs1t",
    "outputId": "d3f68760-e321-49b3-db7f-f9c8cb8c2376"
   },
   "outputs": [
    {
     "name": "stdout",
     "output_type": "stream",
     "text": [
      "-rw-r--r-- 1 root root 12 Nov  4 17:57 hello.world.v01.txt\n"
     ]
    }
   ],
   "source": [
    "ls -la hello.world.v01.txt\n"
   ]
  },
  {
   "cell_type": "code",
   "execution_count": 3,
   "metadata": {
    "colab": {
     "base_uri": "https://localhost:8080/"
    },
    "executionInfo": {
     "elapsed": 222,
     "status": "ok",
     "timestamp": 1719434268045,
     "user": {
      "displayName": "deepdive datascience",
      "userId": "06241824193725215643"
     },
     "user_tz": 360
    },
    "id": "kO3GoT7tEN0s",
    "outputId": "4b7b9000-3af8-4e5c-beaf-c40ded7a07fc"
   },
   "outputs": [
    {
     "name": "stdout",
     "output_type": "stream",
     "text": [
      "     1\thello world\n"
     ]
    }
   ],
   "source": [
    "!cat -n hello.world.v01.txt\n"
   ]
  },
  {
   "cell_type": "markdown",
   "metadata": {
    "id": "HJb_Byl3ElWU"
   },
   "source": [
    "Using a \"here document\" structure."
   ]
  },
  {
   "cell_type": "code",
   "execution_count": 4,
   "metadata": {
    "executionInfo": {
     "elapsed": 3,
     "status": "ok",
     "timestamp": 1719434268426,
     "user": {
      "displayName": "deepdive datascience",
      "userId": "06241824193725215643"
     },
     "user_tz": 360
    },
    "id": "mHrAfRNLD__M"
   },
   "outputs": [],
   "source": [
    "%%bash\n",
    "cat <<'asdfasdfasdf' > hello.world.v02.txt\n",
    "  hello\n",
    "  world\n",
    "asdfasdfasdf\n"
   ]
  },
  {
   "cell_type": "code",
   "execution_count": null,
   "metadata": {
    "colab": {
     "base_uri": "https://localhost:8080/"
    },
    "executionInfo": {
     "elapsed": 5,
     "status": "ok",
     "timestamp": 1719434268607,
     "user": {
      "displayName": "deepdive datascience",
      "userId": "06241824193725215643"
     },
     "user_tz": 360
    },
    "id": "uq6L79iUEKgY",
    "outputId": "72a70944-d786-4fb1-ccd4-bba8d0c9edf1"
   },
   "outputs": [
    {
     "name": "stdout",
     "output_type": "stream",
     "text": [
      "     1\t  hello\n",
      "     2\t  world\n"
     ]
    }
   ],
   "source": [
    "!cWe're unable to make a credit decision due to the security freeze on your credit report. Log in to your TransUnion account or call them at 800-916-8800 to lift the freeze. Once it's lifted, call us back at 800-510-0380 so we can proceed with your loan application.\n",
    "\n",
    "at -n hello.world.v02.txt\n"
   ]
  },
  {
   "cell_type": "markdown",
   "metadata": {
    "id": "ZVdhy5w0DYo_"
   },
   "source": [
    "## Using writefile Magic"
   ]
  },
  {
   "cell_type": "markdown",
   "metadata": {
    "id": "ZBCXR7jrFWeo"
   },
   "source": [
    "The `%%writefile` magic takes all the text after the magic and writes it to the specified file."
   ]
  },
  {
   "cell_type": "code",
   "execution_count": 6,
   "metadata": {
    "colab": {
     "base_uri": "https://localhost:8080/"
    },
    "executionInfo": {
     "elapsed": 155,
     "status": "ok",
     "timestamp": 1719434295269,
     "user": {
      "displayName": "deepdive datascience",
      "userId": "06241824193725215643"
     },
     "user_tz": 360
    },
    "id": "4P2mNC1lE_ca",
    "outputId": "c15cd8a4-cd39-49dd-cb46-a5fc3542e6c3"
   },
   "outputs": [
    {
     "name": "stdout",
     "output_type": "stream",
     "text": [
      "Writing hello.world.v03.txt\n"
     ]
    }
   ],
   "source": [
    "%%writefile hello.world.v03.txt\n",
    "hello\n",
    "world\n"
   ]
  },
  {
   "cell_type": "code",
   "execution_count": 7,
   "metadata": {
    "colab": {
     "base_uri": "https://localhost:8080/"
    },
    "executionInfo": {
     "elapsed": 179,
     "status": "ok",
     "timestamp": 1719434297742,
     "user": {
      "displayName": "deepdive datascience",
      "userId": "06241824193725215643"
     },
     "user_tz": 360
    },
    "id": "s8IP2n6oFLWk",
    "outputId": "208162c6-3e07-4da8-df1e-6aa530d1f350"
   },
   "outputs": [
    {
     "name": "stdout",
     "output_type": "stream",
     "text": [
      "     1\thello\n",
      "     2\tworld\n"
     ]
    }
   ],
   "source": [
    "!cat -n hello.world.v03.txt\n"
   ]
  },
  {
   "cell_type": "markdown",
   "metadata": {
    "id": "bS9sjK9SDYzf"
   },
   "source": [
    "## Using Python"
   ]
  },
  {
   "cell_type": "markdown",
   "metadata": {
    "id": "bTdajyT3Fqlj"
   },
   "source": [
    "The most \"Pythonic\" way to write to a file is to use a \"context manager\".  The `with` command creates a code block that automatically handles, i.e. provides a context for, closing a file."
   ]
  },
  {
   "cell_type": "code",
   "execution_count": 8,
   "metadata": {
    "executionInfo": {
     "elapsed": 148,
     "status": "ok",
     "timestamp": 1719434363703,
     "user": {
      "displayName": "deepdive datascience",
      "userId": "06241824193725215643"
     },
     "user_tz": 360
    },
    "id": "GMPTJ2_iFyrn"
   },
   "outputs": [],
   "source": [
    "with open(\"hello.world.v04.txt\", \"w\") as file:\n",
    "  file.write(\"hello world\")\n"
   ]
  },
  {
   "cell_type": "code",
   "execution_count": 9,
   "metadata": {
    "colab": {
     "base_uri": "https://localhost:8080/"
    },
    "executionInfo": {
     "elapsed": 357,
     "status": "ok",
     "timestamp": 1719434366123,
     "user": {
      "displayName": "deepdive datascience",
      "userId": "06241824193725215643"
     },
     "user_tz": 360
    },
    "id": "bn4oWB4tF9t9",
    "outputId": "aab3508b-a099-493f-b8ea-c3b09d52304e"
   },
   "outputs": [
    {
     "name": "stdout",
     "output_type": "stream",
     "text": [
      "     1\thello world"
     ]
    }
   ],
   "source": [
    "!cat -n hello.world.v04.txt"
   ]
  },
  {
   "cell_type": "code",
   "execution_count": 10,
   "metadata": {
    "colab": {
     "base_uri": "https://localhost:8080/"
    },
    "executionInfo": {
     "elapsed": 250,
     "status": "ok",
     "timestamp": 1719434368207,
     "user": {
      "displayName": "deepdive datascience",
      "userId": "06241824193725215643"
     },
     "user_tz": 360
    },
    "id": "bfRiZ2ypWeb1",
    "outputId": "0d6a9f69-3ebb-4e8f-ce01-9282ccfe4650"
   },
   "outputs": [
    {
     "name": "stdout",
     "output_type": "stream",
     "text": [
      "-rw-r--r-- 1 root root 12 Nov  4 17:57 hello.world.v01.txt\n",
      "-rw-r--r-- 1 root root 16 Nov  4 17:57 hello.world.v02.txt\n",
      "-rw-r--r-- 1 root root 12 Nov  4 17:57 hello.world.v03.txt\n",
      "-rw-r--r-- 1 root root 11 Nov  4 17:57 hello.world.v04.txt\n"
     ]
    }
   ],
   "source": [
    "ls -la hello*"
   ]
  },
  {
   "cell_type": "markdown",
   "metadata": {
    "id": "gfjY8N4yJhfu"
   },
   "source": [
    "Another way to to use the pair `open` and `close`.  This is generally avoided as it is easy to forget to include the `close`."
   ]
  },
  {
   "cell_type": "code",
   "execution_count": 11,
   "metadata": {
    "executionInfo": {
     "elapsed": 189,
     "status": "ok",
     "timestamp": 1719434568294,
     "user": {
      "displayName": "deepdive datascience",
      "userId": "06241824193725215643"
     },
     "user_tz": 360
    },
    "id": "EXdEEEQiJmGZ"
   },
   "outputs": [],
   "source": [
    "file = open(\"hello.world.v05.txt\", \"w\")\n",
    "file.write(\"hello world\\n\")\n",
    "file.close()"
   ]
  },
  {
   "cell_type": "code",
   "execution_count": 12,
   "metadata": {
    "colab": {
     "base_uri": "https://localhost:8080/"
    },
    "executionInfo": {
     "elapsed": 196,
     "status": "ok",
     "timestamp": 1719434570450,
     "user": {
      "displayName": "deepdive datascience",
      "userId": "06241824193725215643"
     },
     "user_tz": 360
    },
    "id": "kOxnTESyJxhc",
    "outputId": "b7a02fcd-382a-4ec0-9a98-5306f6848e91"
   },
   "outputs": [
    {
     "name": "stdout",
     "output_type": "stream",
     "text": [
      "     1\thello world\n"
     ]
    }
   ],
   "source": [
    "!cat -n hello.world.v05.txt"
   ]
  },
  {
   "cell_type": "code",
   "execution_count": 13,
   "metadata": {
    "colab": {
     "base_uri": "https://localhost:8080/"
    },
    "executionInfo": {
     "elapsed": 201,
     "status": "ok",
     "timestamp": 1719434628999,
     "user": {
      "displayName": "deepdive datascience",
      "userId": "06241824193725215643"
     },
     "user_tz": 360
    },
    "id": "18VP6HskW_e8",
    "outputId": "5a5aa64d-99f4-48ca-a64b-583c1c0fc7eb"
   },
   "outputs": [
    {
     "name": "stdout",
     "output_type": "stream",
     "text": [
      "-rw-r--r-- 1 root root 12 Nov  4 17:57 hello.world.v01.txt\n",
      "-rw-r--r-- 1 root root 16 Nov  4 17:57 hello.world.v02.txt\n",
      "-rw-r--r-- 1 root root 12 Nov  4 17:57 hello.world.v03.txt\n",
      "-rw-r--r-- 1 root root 11 Nov  4 17:57 hello.world.v04.txt\n",
      "-rw-r--r-- 1 root root 12 Nov  4 17:57 hello.world.v05.txt\n"
     ]
    }
   ],
   "source": [
    "ls -la hello*"
   ]
  },
  {
   "cell_type": "markdown",
   "metadata": {
    "id": "geDOlIpUDY8c"
   },
   "source": [
    "# Reading from a File"
   ]
  },
  {
   "cell_type": "markdown",
   "metadata": {
    "id": "TMsNW35JDZFn"
   },
   "source": [
    "## Using the Shell"
   ]
  },
  {
   "cell_type": "markdown",
   "metadata": {
    "id": "5GP8mkJKGJHZ"
   },
   "source": [
    "The most common way to read from a file is to use `cat` and assign it to a Python variable.  Each line becomes an entry in a list."
   ]
  },
  {
   "cell_type": "code",
   "execution_count": 14,
   "metadata": {
    "colab": {
     "base_uri": "https://localhost:8080/"
    },
    "executionInfo": {
     "elapsed": 356,
     "status": "ok",
     "timestamp": 1719434779044,
     "user": {
      "displayName": "deepdive datascience",
      "userId": "06241824193725215643"
     },
     "user_tz": 360
    },
    "id": "UTUzfpZxTI-b",
    "outputId": "ee6ae0b5-26ab-4aff-dcc1-0a86252c5b5f"
   },
   "outputs": [
    {
     "name": "stdout",
     "output_type": "stream",
     "text": [
      "     1\thello world\n"
     ]
    }
   ],
   "source": [
    "!cat -n hello.world.v01.txt"
   ]
  },
  {
   "cell_type": "code",
   "execution_count": 15,
   "metadata": {
    "colab": {
     "base_uri": "https://localhost:8080/"
    },
    "executionInfo": {
     "elapsed": 183,
     "status": "ok",
     "timestamp": 1719434795719,
     "user": {
      "displayName": "deepdive datascience",
      "userId": "06241824193725215643"
     },
     "user_tz": 360
    },
    "id": "7nbKO1O-GHbe",
    "outputId": "2627cd99-3f25-4129-e16e-d49592a84db9"
   },
   "outputs": [
    {
     "name": "stdout",
     "output_type": "stream",
     "text": [
      "['     1\\thello world']\n"
     ]
    }
   ],
   "source": [
    "output = !cat -n hello.world.v01.txt\n",
    "print(output)\n"
   ]
  },
  {
   "cell_type": "code",
   "execution_count": 16,
   "metadata": {
    "colab": {
     "base_uri": "https://localhost:8080/",
     "height": 35
    },
    "executionInfo": {
     "elapsed": 169,
     "status": "ok",
     "timestamp": 1719434824586,
     "user": {
      "displayName": "deepdive datascience",
      "userId": "06241824193725215643"
     },
     "user_tz": 360
    },
    "id": "4d0tszHiwA-U",
    "outputId": "07fd2038-3f0f-4981-ee2f-4c281c70a573"
   },
   "outputs": [
    {
     "data": {
      "text/plain": [
       "'     1\\tHELLO WORLD'"
      ]
     },
     "execution_count": 16,
     "metadata": {},
     "output_type": "execute_result"
    }
   ],
   "source": [
    "output[0].upper()"
   ]
  },
  {
   "cell_type": "markdown",
   "metadata": {
    "id": "nmy4VqYRDZN8"
   },
   "source": [
    "## Using capture Magic"
   ]
  },
  {
   "cell_type": "markdown",
   "metadata": {
    "id": "EOEmsEm7Gx-T"
   },
   "source": [
    "The `%%capture` magic reads all the output of a cell.  If a variable is given, the output is assigned to the variable.  Both the standard output and standard error are captured and can be accessed using the `#.stdout` and `#.stderr` attributes.  They are both strings.\n"
   ]
  },
  {
   "cell_type": "code",
   "execution_count": 17,
   "metadata": {
    "executionInfo": {
     "elapsed": 350,
     "status": "ok",
     "timestamp": 1719435014105,
     "user": {
      "displayName": "deepdive datascience",
      "userId": "06241824193725215643"
     },
     "user_tz": 360
    },
    "id": "prWGHX4vGv_p"
   },
   "outputs": [],
   "source": [
    "%%capture output\n",
    "!cat -n hello.world.v02.txt"
   ]
  },
  {
   "cell_type": "code",
   "execution_count": 18,
   "metadata": {
    "colab": {
     "base_uri": "https://localhost:8080/"
    },
    "executionInfo": {
     "elapsed": 156,
     "status": "ok",
     "timestamp": 1719435014831,
     "user": {
      "displayName": "deepdive datascience",
      "userId": "06241824193725215643"
     },
     "user_tz": 360
    },
    "id": "iMmcGM2mHcB5",
    "outputId": "49ba5020-14d3-4dbb-e53d-12b61342c881"
   },
   "outputs": [
    {
     "name": "stdout",
     "output_type": "stream",
     "text": [
      "     1\t  hello\n",
      "     2\t  world\n",
      "\n"
     ]
    }
   ],
   "source": [
    "print(output.stdout)"
   ]
  },
  {
   "cell_type": "code",
   "execution_count": 19,
   "metadata": {
    "colab": {
     "base_uri": "https://localhost:8080/"
    },
    "executionInfo": {
     "elapsed": 178,
     "status": "ok",
     "timestamp": 1719435015619,
     "user": {
      "displayName": "deepdive datascience",
      "userId": "06241824193725215643"
     },
     "user_tz": 360
    },
    "id": "RUBHfuj8Hf0k",
    "outputId": "e521f6cc-59a4-4f7e-fd25-d40d82060b8d"
   },
   "outputs": [
    {
     "name": "stdout",
     "output_type": "stream",
     "text": [
      "\n"
     ]
    }
   ],
   "source": [
    "print(output.stderr)"
   ]
  },
  {
   "cell_type": "markdown",
   "metadata": {
    "id": "2AtmLPMTDZZr"
   },
   "source": [
    "## Using Python"
   ]
  },
  {
   "cell_type": "markdown",
   "metadata": {
    "id": "ePrq04JZItAo"
   },
   "source": [
    "Just the like writing, the most \"Pythonic\" way to read from a file is to use a \"context manager\"."
   ]
  },
  {
   "cell_type": "code",
   "execution_count": 20,
   "metadata": {
    "colab": {
     "base_uri": "https://localhost:8080/"
    },
    "executionInfo": {
     "elapsed": 171,
     "status": "ok",
     "timestamp": 1719435091798,
     "user": {
      "displayName": "deepdive datascience",
      "userId": "06241824193725215643"
     },
     "user_tz": 360
    },
    "id": "srNhfEyBDy40",
    "outputId": "c6b4e56c-4a27-4ea6-f697-819d3b813d6e"
   },
   "outputs": [
    {
     "name": "stdout",
     "output_type": "stream",
     "text": [
      "hello world\n"
     ]
    }
   ],
   "source": [
    "output = ''\n",
    "with open(\"hello.world.v04.txt\", \"r\") as file:\n",
    "  output = file.read()\n",
    "\n",
    "print(output)"
   ]
  },
  {
   "cell_type": "code",
   "execution_count": 21,
   "metadata": {
    "colab": {
     "base_uri": "https://localhost:8080/"
    },
    "executionInfo": {
     "elapsed": 148,
     "status": "ok",
     "timestamp": 1719435182137,
     "user": {
      "displayName": "deepdive datascience",
      "userId": "06241824193725215643"
     },
     "user_tz": 360
    },
    "id": "fvJgrkdVxKhJ",
    "outputId": "0ba50fad-e3db-4903-ceeb-062c6f7bd58a"
   },
   "outputs": [
    {
     "data": {
      "text/plain": [
       "str"
      ]
     },
     "execution_count": 21,
     "metadata": {},
     "output_type": "execute_result"
    }
   ],
   "source": [
    "type(output)"
   ]
  },
  {
   "cell_type": "code",
   "execution_count": 22,
   "metadata": {
    "colab": {
     "base_uri": "https://localhost:8080/"
    },
    "executionInfo": {
     "elapsed": 155,
     "status": "ok",
     "timestamp": 1719435183085,
     "user": {
      "displayName": "deepdive datascience",
      "userId": "06241824193725215643"
     },
     "user_tz": 360
    },
    "id": "KQO5snPTUkEH",
    "outputId": "9c3f17cc-745d-498c-800b-86f581c53994"
   },
   "outputs": [
    {
     "data": {
      "text/plain": [
       "list"
      ]
     },
     "execution_count": 22,
     "metadata": {},
     "output_type": "execute_result"
    }
   ],
   "source": [
    "type(output.split('\\n'))"
   ]
  },
  {
   "cell_type": "code",
   "execution_count": 23,
   "metadata": {
    "colab": {
     "base_uri": "https://localhost:8080/"
    },
    "executionInfo": {
     "elapsed": 181,
     "status": "ok",
     "timestamp": 1719435184125,
     "user": {
      "displayName": "deepdive datascience",
      "userId": "06241824193725215643"
     },
     "user_tz": 360
    },
    "id": "Jwmrl4nmUlOU",
    "outputId": "1f924336-aac0-4f82-e278-037e338f5524"
   },
   "outputs": [
    {
     "data": {
      "text/plain": [
       "['hello world']"
      ]
     },
     "execution_count": 23,
     "metadata": {},
     "output_type": "execute_result"
    }
   ],
   "source": [
    "output.split('\\n')"
   ]
  },
  {
   "cell_type": "markdown",
   "metadata": {
    "id": "bUr8Ex0hKEhx"
   },
   "source": [
    "You can also read one line at a time using a loop."
   ]
  },
  {
   "cell_type": "code",
   "execution_count": 24,
   "metadata": {
    "executionInfo": {
     "elapsed": 160,
     "status": "ok",
     "timestamp": 1719435207721,
     "user": {
      "displayName": "deepdive datascience",
      "userId": "06241824193725215643"
     },
     "user_tz": 360
    },
    "id": "Wp3msegrBY1h"
   },
   "outputs": [],
   "source": [
    "!seq 1 10 > hello.world.v04.txt"
   ]
  },
  {
   "cell_type": "code",
   "execution_count": 25,
   "metadata": {
    "colab": {
     "base_uri": "https://localhost:8080/"
    },
    "executionInfo": {
     "elapsed": 377,
     "status": "ok",
     "timestamp": 1719435209569,
     "user": {
      "displayName": "deepdive datascience",
      "userId": "06241824193725215643"
     },
     "user_tz": 360
    },
    "id": "g5mtQ3_uYRfs",
    "outputId": "3f6be60d-38bb-4049-ad7c-45e2bd621445"
   },
   "outputs": [
    {
     "name": "stdout",
     "output_type": "stream",
     "text": [
      "     1\t1\n",
      "     2\t2\n",
      "     3\t3\n",
      "     4\t4\n",
      "     5\t5\n",
      "     6\t6\n",
      "     7\t7\n",
      "     8\t8\n",
      "     9\t9\n",
      "    10\t10\n"
     ]
    }
   ],
   "source": [
    "!cat -n hello.world.v04.txt"
   ]
  },
  {
   "cell_type": "code",
   "execution_count": 26,
   "metadata": {
    "colab": {
     "base_uri": "https://localhost:8080/"
    },
    "executionInfo": {
     "elapsed": 164,
     "status": "ok",
     "timestamp": 1719435240633,
     "user": {
      "displayName": "deepdive datascience",
      "userId": "06241824193725215643"
     },
     "user_tz": 360
    },
    "id": "kKBbN8LBI9xw",
    "outputId": "02b6871c-4791-4841-f792-51fee471b218"
   },
   "outputs": [
    {
     "name": "stdout",
     "output_type": "stream",
     "text": [
      "1\n",
      "2\n",
      "3\n",
      "4\n",
      "5\n",
      "6\n",
      "7\n",
      "8\n",
      "9\n",
      "10\n",
      "\n"
     ]
    }
   ],
   "source": [
    "output = ''\n",
    "with open(\"hello.world.v04.txt\", \"r\") as file:\n",
    "  for line in file:\n",
    "    output += line\n",
    "\n",
    "print(output)"
   ]
  },
  {
   "cell_type": "code",
   "execution_count": 27,
   "metadata": {
    "colab": {
     "base_uri": "https://localhost:8080/",
     "height": 35
    },
    "executionInfo": {
     "elapsed": 164,
     "status": "ok",
     "timestamp": 1719435251427,
     "user": {
      "displayName": "deepdive datascience",
      "userId": "06241824193725215643"
     },
     "user_tz": 360
    },
    "id": "ijCW5946xWLJ",
    "outputId": "79025122-b3e0-47d1-f17e-e47cda5777dd"
   },
   "outputs": [
    {
     "data": {
      "text/plain": [
       "'1\\n2\\n3\\n4\\n5\\n6\\n7\\n8\\n9\\n10\\n'"
      ]
     },
     "execution_count": 27,
     "metadata": {},
     "output_type": "execute_result"
    }
   ],
   "source": [
    "output"
   ]
  },
  {
   "cell_type": "code",
   "execution_count": 28,
   "metadata": {
    "colab": {
     "base_uri": "https://localhost:8080/"
    },
    "executionInfo": {
     "elapsed": 160,
     "status": "ok",
     "timestamp": 1719435270021,
     "user": {
      "displayName": "deepdive datascience",
      "userId": "06241824193725215643"
     },
     "user_tz": 360
    },
    "id": "IFh3DUTKxYp5",
    "outputId": "c3c3cb74-e2a6-4197-fa13-30fa16d5042b"
   },
   "outputs": [
    {
     "name": "stdout",
     "output_type": "stream",
     "text": [
      "['1', '2', '3', '4', '5', '6', '7', '8', '9', '10']\n"
     ]
    }
   ],
   "source": [
    "output = []\n",
    "with open(\"hello.world.v04.txt\", \"r\") as file:\n",
    "  for line in file:\n",
    "    output += [line.rstrip()]\n",
    "\n",
    "print(output)"
   ]
  },
  {
   "cell_type": "markdown",
   "metadata": {
    "id": "Ow8fEiDDLEat"
   },
   "source": [
    "# Your turn"
   ]
  },
  {
   "cell_type": "markdown",
   "metadata": {
    "id": "a56A6ScGLF1-"
   },
   "source": [
    "## Part 1\n",
    "Write some content to files using each of the three methods shown above\n",
    "- shell\n",
    "- %%writefile\n",
    "- Python open()\n",
    "\n"
   ]
  },
  {
   "cell_type": "code",
   "execution_count": 38,
   "metadata": {
    "id": "npm7-TDWKkNs"
   },
   "outputs": [],
   "source": [
    "# Solution\n",
    "!echo Is There anybody out there??? > FloydThought.txt"
   ]
  },
  {
   "cell_type": "code",
   "execution_count": 47,
   "metadata": {},
   "outputs": [
    {
     "name": "stdout",
     "output_type": "stream",
     "text": [
      "Overwriting Files_n_Stuff.txt\n"
     ]
    }
   ],
   "source": [
    "%%writefile Files_n_Stuff.txt\n",
    "Its a file and Ill cat if I want to\n",
    "cat if I want to\n",
    "cat if I \n",
    "cat if\n",
    "cat"
   ]
  },
  {
   "cell_type": "code",
   "execution_count": 45,
   "metadata": {},
   "outputs": [],
   "source": [
    "with open(\"to_python_or_not2python.txt\", \"w\") as file:\n",
    "  file.write(\"Another Python method and I am gonna lose it\")\n"
   ]
  },
  {
   "cell_type": "markdown",
   "metadata": {
    "id": "BNIE7dqpL-gz"
   },
   "source": [
    "## Part 2\n",
    "Then use each of the three methods shown above to read the content into a Python variable.\n",
    "- shell\n",
    "- %%capture\n",
    "- Python open()"
   ]
  },
  {
   "cell_type": "code",
   "execution_count": 41,
   "metadata": {
    "id": "v8qX2hb9xx75"
   },
   "outputs": [
    {
     "name": "stdout",
     "output_type": "stream",
     "text": [
      "     1\tIs There anybody out there???\n"
     ]
    }
   ],
   "source": [
    "!cat -n FloydThought.txt"
   ]
  },
  {
   "cell_type": "code",
   "execution_count": 48,
   "metadata": {},
   "outputs": [
    {
     "name": "stdout",
     "output_type": "stream",
     "text": [
      "     1\tIts a file and Ill cat if I want to\n",
      "     2\tcat if I want to\n",
      "     3\tcat if I \n",
      "     4\tcat if\n",
      "     5\tcat\n"
     ]
    }
   ],
   "source": [
    "!cat -n Files_n_Stuff.txt"
   ]
  },
  {
   "cell_type": "code",
   "execution_count": 46,
   "metadata": {},
   "outputs": [
    {
     "name": "stdout",
     "output_type": "stream",
     "text": [
      "Another Python method and I am gonna lose it\n"
     ]
    }
   ],
   "source": [
    "output = ''\n",
    "with open(\"to_python_or_not2python.txt\", \"r\") as file:\n",
    "  output = file.read()\n",
    "\n",
    "print(output)"
   ]
  },
  {
   "cell_type": "markdown",
   "metadata": {
    "id": "UL-PoxD7ZzTC"
   },
   "source": [
    "---"
   ]
  },
  {
   "cell_type": "code",
   "execution_count": 31,
   "metadata": {
    "colab": {
     "base_uri": "https://localhost:8080/"
    },
    "executionInfo": {
     "elapsed": 183,
     "status": "ok",
     "timestamp": 1719436129981,
     "user": {
      "displayName": "deepdive datascience",
      "userId": "06241824193725215643"
     },
     "user_tz": 360
    },
    "id": "Ua4nKKhqYQ88",
    "outputId": "4788a0f1-7f6e-443c-dfe6-f4823045253d"
   },
   "outputs": [
    {
     "name": "stdout",
     "output_type": "stream",
     "text": [
      "Usage: cat [OPTION]... [FILE]...\n",
      "Concatenate FILE(s) to standard output.\n",
      "\n",
      "With no FILE, or when FILE is -, read standard input.\n",
      "\n",
      "  -A, --show-all           equivalent to -vET\n",
      "  -b, --number-nonblank    number nonempty output lines, overrides -n\n",
      "  -e                       equivalent to -vE\n",
      "  -E, --show-ends          display $ at end of each line\n",
      "  -n, --number             number all output lines\n",
      "  -s, --squeeze-blank      suppress repeated empty output lines\n",
      "  -t                       equivalent to -vT\n",
      "  -T, --show-tabs          display TAB characters as ^I\n",
      "  -u                       (ignored)\n",
      "  -v, --show-nonprinting   use ^ and M- notation, except for LFD and TAB\n",
      "      --help        display this help and exit\n",
      "      --version     output version information and exit\n",
      "\n",
      "Examples:\n",
      "  cat f - g  Output f's contents, then standard input, then g's contents.\n",
      "  cat        Copy standard input to standard output.\n",
      "\n",
      "GNU coreutils online help: <https://www.gnu.org/software/coreutils/>\n",
      "Report any translation bugs to <https://translationproject.org/team/>\n",
      "Full documentation <https://www.gnu.org/software/coreutils/cat>\n",
      "or available locally via: info '(coreutils) cat invocation'\n"
     ]
    }
   ],
   "source": [
    "!cat --help"
   ]
  },
  {
   "cell_type": "code",
   "execution_count": 32,
   "metadata": {
    "colab": {
     "base_uri": "https://localhost:8080/"
    },
    "executionInfo": {
     "elapsed": 172,
     "status": "ok",
     "timestamp": 1719436196710,
     "user": {
      "displayName": "deepdive datascience",
      "userId": "06241824193725215643"
     },
     "user_tz": 360
    },
    "id": "Zrt6n5xnYTUq",
    "outputId": "19bc6334-db74-4201-8e56-d4dcfb340f45"
   },
   "outputs": [
    {
     "name": "stdout",
     "output_type": "stream",
     "text": [
      "     1\thello world\n"
     ]
    }
   ],
   "source": [
    "!cat -b hello.world.v01.txt"
   ]
  },
  {
   "cell_type": "code",
   "execution_count": 33,
   "metadata": {
    "colab": {
     "base_uri": "https://localhost:8080/"
    },
    "executionInfo": {
     "elapsed": 167,
     "status": "ok",
     "timestamp": 1719436414018,
     "user": {
      "displayName": "deepdive datascience",
      "userId": "06241824193725215643"
     },
     "user_tz": 360
    },
    "id": "HwdCxqQiYjnn",
    "outputId": "b8498ea1-200a-417a-a23e-131012efc795"
   },
   "outputs": [
    {
     "name": "stdout",
     "output_type": "stream",
     "text": [
      "Writing foobar.txt\n"
     ]
    }
   ],
   "source": [
    "%%writefile foobar.txt\n",
    "hello\n",
    "\n",
    "\n",
    "\n",
    "\n",
    "\n",
    "world\n"
   ]
  },
  {
   "cell_type": "code",
   "execution_count": 34,
   "metadata": {
    "colab": {
     "base_uri": "https://localhost:8080/"
    },
    "executionInfo": {
     "elapsed": 186,
     "status": "ok",
     "timestamp": 1719436414757,
     "user": {
      "displayName": "deepdive datascience",
      "userId": "06241824193725215643"
     },
     "user_tz": 360
    },
    "id": "ZK842FahYn9m",
    "outputId": "6d956233-bb58-4e96-d796-1f00aa3f4f3c"
   },
   "outputs": [
    {
     "name": "stdout",
     "output_type": "stream",
     "text": [
      "     1\thello\n",
      "     2\t\n",
      "     3\t\n",
      "     4\t\n",
      "     5\t\n",
      "     6\t\n",
      "     7\tworld\n"
     ]
    }
   ],
   "source": [
    "!cat -n foobar.txt"
   ]
  },
  {
   "cell_type": "code",
   "execution_count": 35,
   "metadata": {
    "colab": {
     "base_uri": "https://localhost:8080/"
    },
    "executionInfo": {
     "elapsed": 164,
     "status": "ok",
     "timestamp": 1719436314576,
     "user": {
      "displayName": "deepdive datascience",
      "userId": "06241824193725215643"
     },
     "user_tz": 360
    },
    "id": "TDHf5q4iYpYs",
    "outputId": "4193280a-2d5e-4051-eb21-0dadfbedb703"
   },
   "outputs": [
    {
     "name": "stdout",
     "output_type": "stream",
     "text": [
      "     1\thello\n",
      "\n",
      "\n",
      "\n",
      "\n",
      "\n",
      "     2\tworld\n"
     ]
    }
   ],
   "source": [
    "!cat -b foobar.txt"
   ]
  },
  {
   "cell_type": "code",
   "execution_count": 36,
   "metadata": {
    "colab": {
     "base_uri": "https://localhost:8080/"
    },
    "executionInfo": {
     "elapsed": 163,
     "status": "ok",
     "timestamp": 1719436342676,
     "user": {
      "displayName": "deepdive datascience",
      "userId": "06241824193725215643"
     },
     "user_tz": 360
    },
    "id": "HKmMDiuWYrW_",
    "outputId": "cef085bd-ba7c-44a3-f65a-79e49d33069b"
   },
   "outputs": [
    {
     "name": "stdout",
     "output_type": "stream",
     "text": [
      "     1\thello\n",
      "     2\t\n",
      "     3\tworld\n"
     ]
    }
   ],
   "source": [
    "!cat -ns foobar.txt"
   ]
  },
  {
   "cell_type": "code",
   "execution_count": 37,
   "metadata": {
    "colab": {
     "base_uri": "https://localhost:8080/"
    },
    "executionInfo": {
     "elapsed": 305,
     "status": "ok",
     "timestamp": 1719436378155,
     "user": {
      "displayName": "deepdive datascience",
      "userId": "06241824193725215643"
     },
     "user_tz": 360
    },
    "id": "pNfwtbtrY5sY",
    "outputId": "10537aac-52ff-445c-efc2-eab5cf55f5de"
   },
   "outputs": [
    {
     "name": "stdout",
     "output_type": "stream",
     "text": [
      "hello$\n",
      "$\n",
      "$\n",
      "$\n",
      "$\n",
      "$\n",
      "world$\n"
     ]
    }
   ],
   "source": [
    "!cat -vet foobar.txt"
   ]
  },
  {
   "cell_type": "code",
   "execution_count": null,
   "metadata": {
    "id": "3s3m4QlyZP4j"
   },
   "outputs": [],
   "source": []
  }
 ],
 "metadata": {
  "colab": {
   "authorship_tag": "ABX9TyN5IXpSLDnta1rv5SMfNrRj",
   "mount_file_id": "1GCHztL7sSCTuTBKacuZlh02At2YP_ky5",
   "provenance": []
  },
  "kernelspec": {
   "display_name": "Python 3",
   "name": "python3"
  },
  "language_info": {
   "codemirror_mode": {
    "name": "ipython",
    "version": 3
   },
   "file_extension": ".py",
   "mimetype": "text/x-python",
   "name": "python",
   "nbconvert_exporter": "python",
   "pygments_lexer": "ipython3",
   "version": "3.9.20"
  }
 },
 "nbformat": 4,
 "nbformat_minor": 0
}
