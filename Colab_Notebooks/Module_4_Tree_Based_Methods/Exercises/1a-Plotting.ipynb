{
 "cells": [
  {
   "cell_type": "markdown",
   "metadata": {
    "id": "B9SIxmK65i94"
   },
   "source": [
    "# Plotting\n",
    "For this exercise, you will do the following\n",
    "\n",
    "1. Read in the data located on AWS at [company_sales_data.csv]( https://ddc-datascience.s3.amazonaws.com/company_sales_data.csv ).\n",
    "1. Create at least two different plots of the data. Try to be creative and think about what information someone might want to know about this data set. You can use any plotting libary you would like. Below are some resources to help if needed.\n",
    "  - https://matplotlib.org/stable/gallery/index.html\n",
    "  - https://seaborn.pydata.org/examples/index.html\n",
    "  - https://plotly.com/python/plotly-express/\n",
    "1. Make sure you add axis labels and a legend (if necessary). Make sure your colors are easy to differentiate and that your font is large enough to easily read.\n",
    "\n",
    "Hint: You may need to do some data restructuring/manipulation to create certain plots. The pandas `melt` and `groupby` methods may be helpful.\n",
    "\n",
    "Reference: [Reshaping Tables With Pandas](https://towardsdatascience.com/shape-tables-like-jelly-with-pandas-melt-and-pivot-f2e13e666d6)"
   ]
  },
  {
   "cell_type": "code",
   "execution_count": null,
   "metadata": {
    "id": "G12UK9jbuG7q"
   },
   "outputs": [],
   "source": []
  }
 ],
 "metadata": {
  "colab": {
   "authorship_tag": "ABX9TyMs6Ftitr4FWAR0GDACNKvX",
   "mount_file_id": "13YnZfF-PW7jTITvJkngDYG51eoRqe0HF",
   "provenance": []
  },
  "kernelspec": {
   "display_name": "Python 3",
   "name": "python3"
  },
  "language_info": {
   "name": "python"
  }
 },
 "nbformat": 4,
 "nbformat_minor": 0
}
