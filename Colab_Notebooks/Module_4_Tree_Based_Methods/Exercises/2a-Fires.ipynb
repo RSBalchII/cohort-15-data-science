{
 "cells": [
  {
   "cell_type": "markdown",
   "metadata": {
    "id": "lSmzLTKl7f65"
   },
   "source": [
    "## Imports"
   ]
  },
  {
   "cell_type": "markdown",
   "metadata": {
    "id": "lCAuX54z7MON"
   },
   "source": [
    "In the code cell below import the following\n",
    "- pandas as __pd__,\n",
    "- numpy as __np__, and\n",
    "- matplotlib.pyplot as __plt__.\n",
    "- seaborn as __sns__."
   ]
  },
  {
   "cell_type": "code",
   "execution_count": 120,
   "metadata": {
    "id": "41PkeHXR7MOP"
   },
   "outputs": [],
   "source": [
    "import pandas as pd\n",
    "import numpy as np\n",
    "import matplotlib.pyplot as plt\n",
    "import seaborn as sns\n",
    "%matplotlib inline"
   ]
  },
  {
   "cell_type": "markdown",
   "metadata": {
    "id": "rXKn_9B97qyJ"
   },
   "source": [
    "## Activity 1"
   ]
  },
  {
   "cell_type": "markdown",
   "metadata": {
    "id": "HUUTek_a7MOS"
   },
   "source": [
    "\n",
    "Write code to perform following:\n",
    "1. Read in the dataset on AWS at [Brazilian-fire-dataset.csv]( https://ddc-datascience.s3.amazonaws.com/Brazilian-fire-dataset.csv ) and save it to a variable called `df_ffire`.\n",
    "1. Display the top 10 rows of the data frame.\n",
    "1. Generate summary statistics for all columns."
   ]
  },
  {
   "cell_type": "code",
   "execution_count": 121,
   "metadata": {
    "id": "SbI6naOg87s_"
   },
   "outputs": [
    {
     "name": "stdout",
     "output_type": "stream",
     "text": [
      "<class 'pandas.core.frame.DataFrame'>\n",
      "RangeIndex: 6454 entries, 0 to 6453\n",
      "Data columns (total 5 columns):\n",
      " #   Column           Non-Null Count  Dtype  \n",
      "---  ------           --------------  -----  \n",
      " 0   Year             6454 non-null   int64  \n",
      " 1   State            6454 non-null   object \n",
      " 2   Month            6454 non-null   object \n",
      " 3   Number of Fires  6454 non-null   float64\n",
      " 4   Date Reported    6454 non-null   object \n",
      "dtypes: float64(1), int64(1), object(3)\n",
      "memory usage: 252.2+ KB\n"
     ]
    }
   ],
   "source": [
    "url = pd.read_csv('https://ddc-datascience.s3.amazonaws.com/Brazilian-fire-dataset.csv')\n",
    "\n",
    "df_ffire = pd.DataFrame(url)\n",
    "\n",
    "df_ffire.info()"
   ]
  },
  {
   "cell_type": "markdown",
   "metadata": {
    "id": "-QLpaPmv7MOV"
   },
   "source": [
    "Based on the information collected so far, can you answer the following:\n",
    "\n",
    "1.  What is the maximum number of fires reported on any given day?\n",
    "2. In the dataset what is the total number of states for which the fire incidents have been reported?"
   ]
  },
  {
   "cell_type": "code",
   "execution_count": 122,
   "metadata": {},
   "outputs": [
    {
     "data": {
      "text/plain": [
       "Year                    2008\n",
       "State               Amazonas\n",
       "Month              September\n",
       "Number of Fires        998.0\n",
       "Date Reported      1/01/2008\n",
       "Name: 888, dtype: object"
      ]
     },
     "execution_count": 122,
     "metadata": {},
     "output_type": "execute_result"
    }
   ],
   "source": [
    "max_value_row = df_ffire.loc[df_ffire.iloc[:, 3].idxmax()]\n",
    "max_value_row"
   ]
  },
  {
   "cell_type": "markdown",
   "metadata": {
    "id": "anNfNXwgD4t7"
   },
   "source": [
    "## Activity 2\n"
   ]
  },
  {
   "cell_type": "markdown",
   "metadata": {
    "id": "GGaK0wl2FDtq"
   },
   "source": [
    "1. Change the `Date Reported` column to a datetime object.\n",
    "2. Filter the `df_ffire` data frame to only keep the rows that are in the Acre, Bahia or Mato Grosso states. Save this filtered data frame as `df_ffire_filt`.\n",
    "3. Create a seaborn line plot of `df_ffire_filt` with the `Date Reported` on the x-axis, the `Number of Fires` on the y-axis and the `State` as the hue."
   ]
  },
  {
   "cell_type": "code",
   "execution_count": 123,
   "metadata": {
    "id": "KBGQVT6TtXjj"
   },
   "outputs": [
    {
     "name": "stdout",
     "output_type": "stream",
     "text": [
      "0      1998-01-01\n",
      "1      1999-01-01\n",
      "2      2000-01-01\n",
      "3      2001-01-01\n",
      "4      2002-01-01\n",
      "          ...    \n",
      "6449   2012-01-01\n",
      "6450   2013-01-01\n",
      "6451   2014-01-01\n",
      "6452   2015-01-01\n",
      "6453   2016-01-01\n",
      "Name: Date Reported, Length: 6454, dtype: datetime64[ns]\n"
     ]
    }
   ],
   "source": [
    "df2 = df_ffire.iloc[:, 4] = print(pd.to_datetime(df_ffire.iloc[:, 4]))"
   ]
  },
  {
   "cell_type": "code",
   "execution_count": 124,
   "metadata": {},
   "outputs": [],
   "source": [
    "df2_ffire = df_ffire.copy()"
   ]
  },
  {
   "cell_type": "code",
   "execution_count": 128,
   "metadata": {},
   "outputs": [
    {
     "name": "stdout",
     "output_type": "stream",
     "text": [
      "      Year  State     Month  Number of Fires Date Reported\n",
      "957   1998  Bahia   January            0.000          None\n",
      "958   1999  Bahia   January          114.000          None\n",
      "959   2000  Bahia   January           31.000          None\n",
      "960   2001  Bahia   January           24.000          None\n",
      "961   2002  Bahia   January          125.000          None\n",
      "...    ...    ...       ...              ...           ...\n",
      "1191  2012  Bahia  December          477.000          None\n",
      "1192  2013  Bahia  December          131.000          None\n",
      "1193  2014  Bahia  December          144.000          None\n",
      "1194  2015  Bahia  December            1.408          None\n",
      "1195  2016  Bahia  December          164.000          None\n",
      "\n",
      "[239 rows x 5 columns]\n",
      "     Year State     Month  Number of Fires Date Reported\n",
      "0    1998  Acre   January              0.0          None\n",
      "1    1999  Acre   January              0.0          None\n",
      "2    2000  Acre   January              0.0          None\n",
      "3    2001  Acre   January              0.0          None\n",
      "4    2002  Acre   January              0.0          None\n",
      "..    ...   ...       ...              ...           ...\n",
      "234  2012  Acre  December              1.0          None\n",
      "235  2013  Acre  December              3.0          None\n",
      "236  2014  Acre  December              6.0          None\n",
      "237  2015  Acre  December              8.0          None\n",
      "238  2016  Acre  December              6.0          None\n",
      "\n",
      "[239 rows x 5 columns]\n",
      "      Year        State     Month  Number of Fires Date Reported\n",
      "2391  1998  Mato Grosso   January            0.000          None\n",
      "2392  1999  Mato Grosso   January           39.000          None\n",
      "2393  2000  Mato Grosso   January           44.000          None\n",
      "2394  2001  Mato Grosso   January           44.000          None\n",
      "2395  2002  Mato Grosso   January          172.000          None\n",
      "...    ...          ...       ...              ...           ...\n",
      "2625  2012  Mato Grosso  December          492.000          None\n",
      "2626  2013  Mato Grosso  December          447.000          None\n",
      "2627  2014  Mato Grosso  December          466.000          None\n",
      "2628  2015  Mato Grosso  December            1.777          None\n",
      "2629  2016  Mato Grosso  December          425.000          None\n",
      "\n",
      "[239 rows x 5 columns]\n"
     ]
    }
   ],
   "source": [
    "df_ffire_filt = df2_ffire[df2_ffire['State'] == 'Bahia' ]\n",
    "df_ffire_filt2 = df2_ffire[df2_ffire['State'] == 'Acre']\n",
    "df_ffire_filt3 = df2_ffire[df2_ffire['State'] == 'Mato Grosso']\n",
    "print(df_ffire_filt)\n",
    "print(df_ffire_filt2)\n",
    "print(df_ffire_filt3)"
   ]
  },
  {
   "cell_type": "code",
   "execution_count": 126,
   "metadata": {},
   "outputs": [
    {
     "data": {
      "image/png": "[encoded data removed]",
      "text/plain": [
       "<Figure size 1200x800 with 1 Axes>"
      ]
     },
     "metadata": {},
     "output_type": "display_data"
    }
   ],
   "source": [
    "# Set the figure size\n",
    "plt.figure(figsize=(12, 8))\n",
    "\n",
    "# Create the line plot\n",
    "sns.lineplot(data=df_ffire_filt, \n",
    "             x='Date Reported', \n",
    "             y='Number of Fires', \n",
    "             hue='State')\n",
    "\n",
    "# Customize the plot\n",
    "plt.title('Number of Fires Over Time by State')\n",
    "plt.xlabel('Date')\n",
    "plt.ylabel('Number of Fires')\n",
    "\n",
    "# Rotate x-axis labels for better readability\n",
    "plt.xticks(rotation=45)\n",
    "\n",
    "# Adjust layout to prevent cutting off labels\n",
    "plt.tight_layout()\n",
    "\n",
    "# Show the plot\n",
    "plt.show()"
   ]
  },
  {
   "cell_type": "markdown",
   "metadata": {
    "id": "TnNeT2s37MOY"
   },
   "source": [
    "## Activity 3\n",
    "1. Find which state has recorded the maximum number of fires on any given day (not the total sum), and in which month did it occur?\n",
    "\n",
    "HINT:\n",
    "- Create a boolean filter based on condition on column __Number of Fires__, and\n",
    "- Using this filter perform an indexing operation on the DataFrame to retrieve the corresponding records"
   ]
  },
  {
   "cell_type": "code",
   "execution_count": null,
   "metadata": {
    "id": "nYzL7ht57MOY"
   },
   "outputs": [],
   "source": []
  },
  {
   "cell_type": "markdown",
   "metadata": {
    "id": "TCLT0Jh77MOZ"
   },
   "source": [
    "## Activity 4\n",
    "\n",
    "1. Calculate the total number of fires for the entire duration (i.e. for 1998 to 2018) for every state. Save the result to a data frame called `df_group_states`.\n",
    "2. Print the Summary Statistics for `df_group_states` - and what is the minimum and maximum number of total fires records?\n",
    "4. Which state has recorded the minimum number of total fires, and which state has recorded the maximum number of total fires?\n",
    "\n",
    "__HINT:__\n",
    "- Use the `groupby` operation on the State column.\n",
    "- Pandas has methods `idxmax()` and `idxmin()` which return the indices corresponding to the maximum and minimum values respectively, in a Pandas Series (or a Column in DataFrame)."
   ]
  },
  {
   "cell_type": "code",
   "execution_count": null,
   "metadata": {
    "id": "c8NZkzQS7MOa"
   },
   "outputs": [],
   "source": []
  },
  {
   "cell_type": "markdown",
   "metadata": {
    "id": "UWsLDtRw7MOb"
   },
   "source": [
    "## Activity 5\n",
    "\n",
    "1. Reset the index of the `df_group_states` DataFrame so that States are not considered as index, and are rather considered as Data Column (Hint: use method __reset_index()__ for this operation\n",
    "2. Arrange the DataFrame in descending order of \"Total Number of Fires\".\n",
    "3. Create a seaborn barplot with the State on the x-axis and the Number of Fires on the y-axis. Rotate the State labels on the x-axis so they are easier to read.\n",
    "    \n"
   ]
  },
  {
   "cell_type": "code",
   "execution_count": null,
   "metadata": {
    "id": "vDXnIL3MteLm"
   },
   "outputs": [],
   "source": []
  }
 ],
 "metadata": {
  "colab": {
   "provenance": []
  },
  "kernelspec": {
   "display_name": "Python 3",
   "language": "python",
   "name": "python3"
  },
  "language_info": {
   "codemirror_mode": {
    "name": "ipython",
    "version": 3
   },
   "file_extension": ".py",
   "mimetype": "text/x-python",
   "name": "python",
   "nbconvert_exporter": "python",
   "pygments_lexer": "ipython3",
   "version": "3.12.7"
  }
 },
 "nbformat": 4,
 "nbformat_minor": 0
}
