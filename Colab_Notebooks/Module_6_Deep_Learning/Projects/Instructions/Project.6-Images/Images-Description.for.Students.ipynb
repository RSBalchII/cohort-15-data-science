{
 "cells": [
  {
   "cell_type": "markdown",
   "metadata": {
    "id": "9QpaA5HAyv_O"
   },
   "source": [
    "# Project 6: Image Classification with Deep Learning\n",
    "\n"
   ]
  },
  {
   "cell_type": "markdown",
   "metadata": {
    "id": "aO3HLTWdzq3V"
   },
   "source": [
    "This project introduces us to deep learning. The deep learning process is a huge leap forward in data science and the field is less than 15 years old. The processing is significantly different from our previous projects so you will basically be provided a walkthrough document delineating the steps - much like Project 1. Deep learning is fascinating and I just want you to go through the process so you can appreciate its power.\n",
    "\n"
   ]
  },
  {
   "cell_type": "markdown",
   "metadata": {
    "id": "4TMP83_Hzl9L"
   },
   "source": [
    "The data collection portion of deep learning projects is a rather complex task. In other words, there is no CSV file that we can load to serve as our training data. Constructing a training data set is a rather large undertaking. We have imported all the training images (took hours) and I will show you how you can load the training data through the \"pickle\" process.\n",
    "\n"
   ]
  },
  {
   "cell_type": "markdown",
   "metadata": {
    "id": "ySPLD8gyzetb"
   },
   "source": [
    "There are three files in this data set:\n",
    "- [the feature set]( https://ddc-datascience.s3.amazonaws.com/Projects/Project.6-Images/Data/X.pickle ), i.e. images of dogs and cats ( mostly )\n",
    "- [the target set]( https://ddc-datascience.s3.amazonaws.com/Projects/Project.6-Images/Data/y.pickle ), i.e. the indicator if something is a dog or cat ( mostly )\n",
    "- [a test image]( https://ddc-datascience.s3.amazonaws.com/Projects/Project.6-Images/Data/dog.jpg )\n",
    "\n",
    "\n",
    "\n"
   ]
  },
  {
   "cell_type": "markdown",
   "metadata": {
    "id": "KGfC1Ukky06p"
   },
   "source": [
    "This project will classify new, unseen images of cats and dogs. This was one of the first big success stories of deep learning and we will go through the process of building a learning algorithm that will do this task. Telling a picture of a cat from a picture of a dog is easy for humans to do, but had been notoriously difficult to get a computer learning to perform well on the task. Deep learning solved that.\n"
   ]
  },
  {
   "cell_type": "markdown",
   "metadata": {
    "id": "c2pMIDWq1B4L"
   },
   "source": [
    "The same data set, but you can copy the links by viewing the markdown directly to bypass Google Colab's annoying \"You are leaving Colab\" link.\n",
    "\n",
    "\n",
    "\n",
    "\n",
    "https://ddc-datascience.s3.amazonaws.com/Projects/Project.6-Images/Data/X.pickle\n",
    "\n",
    "https://ddc-datascience.s3.amazonaws.com/Projects/Project.6-Images/Data/y.pickle\n",
    "\n",
    "https://ddc-datascience.s3.amazonaws.com/Projects/Project.6-Images/Data/dog.jpg\n"
   ]
  },
  {
   "cell_type": "code",
   "execution_count": null,
   "metadata": {
    "id": "8E3DqDT21wM1"
   },
   "outputs": [],
   "source": []
  }
 ],
 "metadata": {
  "accelerator": "GPU",
  "colab": {
   "authorship_tag": "ABX9TyN5bnCKhPlXOG1c8nWxNq35",
   "mount_file_id": "1GCHztL7sSCTuTBKacuZlh02At2YP_ky5",
   "provenance": []
  },
  "gpuClass": "standard",
  "kernelspec": {
   "display_name": "Python 3 (ipykernel)",
   "language": "python",
   "name": "python3"
  },
  "language_info": {
   "codemirror_mode": {
    "name": "ipython",
    "version": 3
   },
   "file_extension": ".py",
   "mimetype": "text/x-python",
   "name": "python",
   "nbconvert_exporter": "python",
   "pygments_lexer": "ipython3",
   "version": "3.12.7"
  }
 },
 "nbformat": 4,
 "nbformat_minor": 4
}
