{
 "cells": [
  {
   "cell_type": "code",
   "execution_count": 1,
   "metadata": {
    "colab": {
     "base_uri": "https://localhost:8080/"
    },
    "executionInfo": {
     "elapsed": 2694,
     "status": "ok",
     "timestamp": 1731444476635,
     "user": {
      "displayName": "deepdive datascience",
      "userId": "06241824193725215643"
     },
     "user_tz": 420
    },
    "id": "lEO9w9HDXbAa",
    "outputId": "234ad885-df36-4212-c398-c1010688c3af"
   },
   "outputs": [
    {
     "name": "stderr",
     "output_type": "stream",
     "text": [
      "[nltk_data] Downloading package punkt_tab to /root/nltk_data...\n",
      "[nltk_data]   Package punkt_tab is already up-to-date!\n"
     ]
    },
    {
     "data": {
      "text/plain": [
       "True"
      ]
     },
     "execution_count": 1,
     "metadata": {},
     "output_type": "execute_result"
    }
   ],
   "source": [
    "import numpy as np\n",
    "import pandas as pd\n",
    "\n",
    "from textblob import TextBlob\n",
    "from sklearn.feature_extraction.text import CountVectorizer\n",
    "from sklearn.feature_extraction.text import TfidfTransformer\n",
    "from sklearn.feature_extraction.text import TfidfVectorizer\n",
    "from sklearn.neighbors import NearestNeighbors\n",
    "\n",
    "pd.options.display.max_columns = 100\n",
    "\n",
    "import nltk\n",
    "# nltk.download('omw-1.4')\n",
    "nltk.download('punkt_tab')\n",
    "# nltk.download('averaged_perceptron_tagger_eng')\n"
   ]
  },
  {
   "cell_type": "markdown",
   "metadata": {
    "id": "3NiotjKsg6ni"
   },
   "source": [
    "### Gary Example\n"
   ]
  },
  {
   "cell_type": "code",
   "execution_count": 2,
   "metadata": {
    "colab": {
     "base_uri": "https://localhost:8080/",
     "height": 332
    },
    "executionInfo": {
     "elapsed": 7,
     "status": "ok",
     "timestamp": 1731444476635,
     "user": {
      "displayName": "deepdive datascience",
      "userId": "06241824193725215643"
     },
     "user_tz": 420
    },
    "id": "W5wV_y1A7BfW",
    "outputId": "fcb02882-e967-4dfa-ff42-e64c45e0a0b9"
   },
   "outputs": [
    {
     "data": {
      "text/html": [
       "<div>\n",
       "<style scoped>\n",
       "    .dataframe tbody tr th:only-of-type {\n",
       "        vertical-align: middle;\n",
       "    }\n",
       "\n",
       "    .dataframe tbody tr th {\n",
       "        vertical-align: top;\n",
       "    }\n",
       "\n",
       "    .dataframe thead th {\n",
       "        text-align: right;\n",
       "    }\n",
       "</style>\n",
       "<table border=\"1\" class=\"dataframe\">\n",
       "  <thead>\n",
       "    <tr style=\"text-align: right;\">\n",
       "      <th></th>\n",
       "      <th>names</th>\n",
       "      <th>ages</th>\n",
       "      <th>genders_txt</th>\n",
       "      <th>genders</th>\n",
       "      <th>music_band_txt</th>\n",
       "    </tr>\n",
       "  </thead>\n",
       "  <tbody>\n",
       "    <tr>\n",
       "      <th>0</th>\n",
       "      <td>Amantha</td>\n",
       "      <td>19</td>\n",
       "      <td>female</td>\n",
       "      <td>1</td>\n",
       "      <td>Coldplay</td>\n",
       "    </tr>\n",
       "    <tr>\n",
       "      <th>1</th>\n",
       "      <td>Brendon</td>\n",
       "      <td>23</td>\n",
       "      <td>male</td>\n",
       "      <td>0</td>\n",
       "      <td>Coldplay</td>\n",
       "    </tr>\n",
       "    <tr>\n",
       "      <th>2</th>\n",
       "      <td>Nate</td>\n",
       "      <td>24</td>\n",
       "      <td>male</td>\n",
       "      <td>0</td>\n",
       "      <td>LinkinPark</td>\n",
       "    </tr>\n",
       "    <tr>\n",
       "      <th>3</th>\n",
       "      <td>Sam</td>\n",
       "      <td>30</td>\n",
       "      <td>male</td>\n",
       "      <td>0</td>\n",
       "      <td>LinkinPark</td>\n",
       "    </tr>\n",
       "    <tr>\n",
       "      <th>4</th>\n",
       "      <td>Betty</td>\n",
       "      <td>16</td>\n",
       "      <td>female</td>\n",
       "      <td>1</td>\n",
       "      <td>Coldplay</td>\n",
       "    </tr>\n",
       "    <tr>\n",
       "      <th>5</th>\n",
       "      <td>Christine</td>\n",
       "      <td>18</td>\n",
       "      <td>female</td>\n",
       "      <td>1</td>\n",
       "      <td>LinkinPark</td>\n",
       "    </tr>\n",
       "    <tr>\n",
       "      <th>6</th>\n",
       "      <td>Gin</td>\n",
       "      <td>22</td>\n",
       "      <td>female</td>\n",
       "      <td>1</td>\n",
       "      <td>LinkinPark</td>\n",
       "    </tr>\n",
       "    <tr>\n",
       "      <th>7</th>\n",
       "      <td>Ken</td>\n",
       "      <td>18</td>\n",
       "      <td>male</td>\n",
       "      <td>0</td>\n",
       "      <td>Coldplay</td>\n",
       "    </tr>\n",
       "    <tr>\n",
       "      <th>8</th>\n",
       "      <td>Susy</td>\n",
       "      <td>15</td>\n",
       "      <td>female</td>\n",
       "      <td>1</td>\n",
       "      <td>Coldplay</td>\n",
       "    </tr>\n",
       "  </tbody>\n",
       "</table>\n",
       "</div>"
      ],
      "text/plain": [
       "       names  ages genders_txt  genders music_band_txt\n",
       "0    Amantha    19      female        1       Coldplay\n",
       "1    Brendon    23        male        0       Coldplay\n",
       "2       Nate    24        male        0     LinkinPark\n",
       "3        Sam    30        male        0     LinkinPark\n",
       "4      Betty    16      female        1       Coldplay\n",
       "5  Christine    18      female        1     LinkinPark\n",
       "6        Gin    22      female        1     LinkinPark\n",
       "7        Ken    18        male        0       Coldplay\n",
       "8       Susy    15      female        1       Coldplay"
      ]
     },
     "execution_count": 2,
     "metadata": {},
     "output_type": "execute_result"
    }
   ],
   "source": [
    "my_df = pd.DataFrame()\n",
    "my_df[\"names\"] = ['Amantha', 'Brendon', 'Nate', 'Sam', 'Betty', 'Christine', 'Gin', 'Ken', 'Susy']\n",
    "my_df[\"ages\"] = [ 19, 23, 24, 30, 16, 18, 22, 18, 15 ]\n",
    "my_df[\"genders_txt\"] = \"female male male male female female female male female\".split()\n",
    "my_df[\"genders\"] = [ 1, 0, 0, 0, 1, 1, 1, 0, 1 ]\n",
    "my_df[\"music_band_txt\"] = \"Coldplay Coldplay LinkinPark LinkinPark Coldplay LinkinPark LinkinPark Coldplay Coldplay\".split()\n",
    "\n",
    "my_df\n"
   ]
  },
  {
   "cell_type": "code",
   "execution_count": 3,
   "metadata": {
    "colab": {
     "base_uri": "https://localhost:8080/",
     "height": 332
    },
    "executionInfo": {
     "elapsed": 246,
     "status": "ok",
     "timestamp": 1731444476876,
     "user": {
      "displayName": "deepdive datascience",
      "userId": "06241824193725215643"
     },
     "user_tz": 420
    },
    "id": "x3rNlMx_0vnj",
    "outputId": "a684b7a8-65b4-4fce-b240-e55b7a152c7b"
   },
   "outputs": [
    {
     "data": {
      "text/html": [
       "<div>\n",
       "<style scoped>\n",
       "    .dataframe tbody tr th:only-of-type {\n",
       "        vertical-align: middle;\n",
       "    }\n",
       "\n",
       "    .dataframe tbody tr th {\n",
       "        vertical-align: top;\n",
       "    }\n",
       "\n",
       "    .dataframe thead th {\n",
       "        text-align: right;\n",
       "    }\n",
       "</style>\n",
       "<table border=\"1\" class=\"dataframe\">\n",
       "  <thead>\n",
       "    <tr style=\"text-align: right;\">\n",
       "      <th></th>\n",
       "      <th>ages</th>\n",
       "      <th>genders</th>\n",
       "    </tr>\n",
       "  </thead>\n",
       "  <tbody>\n",
       "    <tr>\n",
       "      <th>0</th>\n",
       "      <td>19</td>\n",
       "      <td>1</td>\n",
       "    </tr>\n",
       "    <tr>\n",
       "      <th>1</th>\n",
       "      <td>23</td>\n",
       "      <td>0</td>\n",
       "    </tr>\n",
       "    <tr>\n",
       "      <th>2</th>\n",
       "      <td>24</td>\n",
       "      <td>0</td>\n",
       "    </tr>\n",
       "    <tr>\n",
       "      <th>3</th>\n",
       "      <td>30</td>\n",
       "      <td>0</td>\n",
       "    </tr>\n",
       "    <tr>\n",
       "      <th>4</th>\n",
       "      <td>16</td>\n",
       "      <td>1</td>\n",
       "    </tr>\n",
       "    <tr>\n",
       "      <th>5</th>\n",
       "      <td>18</td>\n",
       "      <td>1</td>\n",
       "    </tr>\n",
       "    <tr>\n",
       "      <th>6</th>\n",
       "      <td>22</td>\n",
       "      <td>1</td>\n",
       "    </tr>\n",
       "    <tr>\n",
       "      <th>7</th>\n",
       "      <td>18</td>\n",
       "      <td>0</td>\n",
       "    </tr>\n",
       "    <tr>\n",
       "      <th>8</th>\n",
       "      <td>15</td>\n",
       "      <td>1</td>\n",
       "    </tr>\n",
       "  </tbody>\n",
       "</table>\n",
       "</div>"
      ],
      "text/plain": [
       "   ages  genders\n",
       "0    19        1\n",
       "1    23        0\n",
       "2    24        0\n",
       "3    30        0\n",
       "4    16        1\n",
       "5    18        1\n",
       "6    22        1\n",
       "7    18        0\n",
       "8    15        1"
      ]
     },
     "execution_count": 3,
     "metadata": {},
     "output_type": "execute_result"
    }
   ],
   "source": [
    "my_df.select_dtypes(\"int\")"
   ]
  },
  {
   "cell_type": "markdown",
   "metadata": {
    "id": "mJ4Z_24YhhHb"
   },
   "source": [
    "Fit nearest neighbors\n"
   ]
  },
  {
   "cell_type": "code",
   "execution_count": 4,
   "metadata": {
    "executionInfo": {
     "elapsed": 26,
     "status": "ok",
     "timestamp": 1731444476877,
     "user": {
      "displayName": "deepdive datascience",
      "userId": "06241824193725215643"
     },
     "user_tz": 420
    },
    "id": "ZWo2t01u7ckO"
   },
   "outputs": [],
   "source": [
    "nn = NearestNeighbors().fit(my_df.select_dtypes(\"int\"))\n"
   ]
  },
  {
   "cell_type": "markdown",
   "metadata": {
    "id": "g-_SjBwYhfB3"
   },
   "source": [
    "Get nearest neighbors distances\n"
   ]
  },
  {
   "cell_type": "code",
   "execution_count": 5,
   "metadata": {
    "colab": {
     "base_uri": "https://localhost:8080/",
     "height": 89
    },
    "executionInfo": {
     "elapsed": 25,
     "status": "ok",
     "timestamp": 1731444476877,
     "user": {
      "displayName": "deepdive datascience",
      "userId": "06241824193725215643"
     },
     "user_tz": 420
    },
    "id": "amzugMu51Rtb",
    "outputId": "c7916c4a-3159-4d9a-ffd0-17ed04902987"
   },
   "outputs": [
    {
     "data": {
      "text/html": [
       "<div>\n",
       "<style scoped>\n",
       "    .dataframe tbody tr th:only-of-type {\n",
       "        vertical-align: middle;\n",
       "    }\n",
       "\n",
       "    .dataframe tbody tr th {\n",
       "        vertical-align: top;\n",
       "    }\n",
       "\n",
       "    .dataframe thead th {\n",
       "        text-align: right;\n",
       "    }\n",
       "</style>\n",
       "<table border=\"1\" class=\"dataframe\">\n",
       "  <thead>\n",
       "    <tr style=\"text-align: right;\">\n",
       "      <th></th>\n",
       "      <th>ages</th>\n",
       "      <th>genders</th>\n",
       "    </tr>\n",
       "  </thead>\n",
       "  <tbody>\n",
       "    <tr>\n",
       "      <th>0</th>\n",
       "      <td>23</td>\n",
       "      <td>0</td>\n",
       "    </tr>\n",
       "  </tbody>\n",
       "</table>\n",
       "</div>"
      ],
      "text/plain": [
       "   ages  genders\n",
       "0    23        0"
      ]
     },
     "execution_count": 5,
     "metadata": {},
     "output_type": "execute_result"
    }
   ],
   "source": [
    "gary = pd.DataFrame( {\"ages\": [23], \"genders\": [0] } )\n",
    "gary"
   ]
  },
  {
   "cell_type": "code",
   "execution_count": 6,
   "metadata": {
    "executionInfo": {
     "elapsed": 23,
     "status": "ok",
     "timestamp": 1731444476877,
     "user": {
      "displayName": "deepdive datascience",
      "userId": "06241824193725215643"
     },
     "user_tz": 420
    },
    "id": "lkzySK2GBtrj"
   },
   "outputs": [],
   "source": [
    "distances, indices = nn.kneighbors(\n",
    "  X = gary,\n",
    "  n_neighbors = 3,\n",
    ")\n"
   ]
  },
  {
   "cell_type": "code",
   "execution_count": 7,
   "metadata": {
    "colab": {
     "base_uri": "https://localhost:8080/"
    },
    "executionInfo": {
     "elapsed": 22,
     "status": "ok",
     "timestamp": 1731444476877,
     "user": {
      "displayName": "deepdive datascience",
      "userId": "06241824193725215643"
     },
     "user_tz": 420
    },
    "id": "Ms1vzl-97oWA",
    "outputId": "3edb443c-4d78-4e47-ef18-d2440325cf65"
   },
   "outputs": [
    {
     "data": {
      "text/plain": [
       "array([0., 1., 2.])"
      ]
     },
     "execution_count": 7,
     "metadata": {},
     "output_type": "execute_result"
    }
   ],
   "source": [
    "distances[0]**2\n"
   ]
  },
  {
   "cell_type": "code",
   "execution_count": 8,
   "metadata": {
    "colab": {
     "base_uri": "https://localhost:8080/"
    },
    "executionInfo": {
     "elapsed": 17,
     "status": "ok",
     "timestamp": 1731444476877,
     "user": {
      "displayName": "deepdive datascience",
      "userId": "06241824193725215643"
     },
     "user_tz": 420
    },
    "id": "cUALiImp8AxK",
    "outputId": "dfde6584-7930-431a-b0f4-a5f580a0e295"
   },
   "outputs": [
    {
     "data": {
      "text/plain": [
       "array([1, 2, 6])"
      ]
     },
     "execution_count": 8,
     "metadata": {},
     "output_type": "execute_result"
    }
   ],
   "source": [
    "indices[0]\n"
   ]
  },
  {
   "cell_type": "markdown",
   "metadata": {
    "id": "BuqUOHjphcxZ"
   },
   "source": [
    "Get people matching index\n"
   ]
  },
  {
   "cell_type": "code",
   "execution_count": 9,
   "metadata": {
    "colab": {
     "base_uri": "https://localhost:8080/",
     "height": 143
    },
    "executionInfo": {
     "elapsed": 200,
     "status": "ok",
     "timestamp": 1731444477064,
     "user": {
      "displayName": "deepdive datascience",
      "userId": "06241824193725215643"
     },
     "user_tz": 420
    },
    "id": "CQJ_Uc7_9ZE_",
    "outputId": "faff2d9f-ceb6-4004-cd22-c2e41054938a"
   },
   "outputs": [
    {
     "data": {
      "text/html": [
       "<div>\n",
       "<style scoped>\n",
       "    .dataframe tbody tr th:only-of-type {\n",
       "        vertical-align: middle;\n",
       "    }\n",
       "\n",
       "    .dataframe tbody tr th {\n",
       "        vertical-align: top;\n",
       "    }\n",
       "\n",
       "    .dataframe thead th {\n",
       "        text-align: right;\n",
       "    }\n",
       "</style>\n",
       "<table border=\"1\" class=\"dataframe\">\n",
       "  <thead>\n",
       "    <tr style=\"text-align: right;\">\n",
       "      <th></th>\n",
       "      <th>names</th>\n",
       "      <th>ages</th>\n",
       "      <th>genders_txt</th>\n",
       "      <th>genders</th>\n",
       "      <th>music_band_txt</th>\n",
       "    </tr>\n",
       "  </thead>\n",
       "  <tbody>\n",
       "    <tr>\n",
       "      <th>1</th>\n",
       "      <td>Brendon</td>\n",
       "      <td>23</td>\n",
       "      <td>male</td>\n",
       "      <td>0</td>\n",
       "      <td>Coldplay</td>\n",
       "    </tr>\n",
       "    <tr>\n",
       "      <th>2</th>\n",
       "      <td>Nate</td>\n",
       "      <td>24</td>\n",
       "      <td>male</td>\n",
       "      <td>0</td>\n",
       "      <td>LinkinPark</td>\n",
       "    </tr>\n",
       "    <tr>\n",
       "      <th>6</th>\n",
       "      <td>Gin</td>\n",
       "      <td>22</td>\n",
       "      <td>female</td>\n",
       "      <td>1</td>\n",
       "      <td>LinkinPark</td>\n",
       "    </tr>\n",
       "  </tbody>\n",
       "</table>\n",
       "</div>"
      ],
      "text/plain": [
       "     names  ages genders_txt  genders music_band_txt\n",
       "1  Brendon    23        male        0       Coldplay\n",
       "2     Nate    24        male        0     LinkinPark\n",
       "6      Gin    22      female        1     LinkinPark"
      ]
     },
     "execution_count": 9,
     "metadata": {},
     "output_type": "execute_result"
    }
   ],
   "source": [
    "my_df.iloc[indices[0]]\n"
   ]
  },
  {
   "cell_type": "markdown",
   "metadata": {
    "id": "GwRyFfUgA2bH"
   },
   "source": [
    "Vote"
   ]
  },
  {
   "cell_type": "code",
   "execution_count": 10,
   "metadata": {
    "colab": {
     "base_uri": "https://localhost:8080/",
     "height": 35
    },
    "executionInfo": {
     "elapsed": 18,
     "status": "ok",
     "timestamp": 1731444477064,
     "user": {
      "displayName": "deepdive datascience",
      "userId": "06241824193725215643"
     },
     "user_tz": 420
    },
    "id": "oD6w8OgwvQLA",
    "outputId": "59a15111-1d56-4754-d4c8-80dc4ad8d821"
   },
   "outputs": [
    {
     "data": {
      "text/plain": [
       "'LinkinPark'"
      ]
     },
     "execution_count": 10,
     "metadata": {},
     "output_type": "execute_result"
    }
   ],
   "source": [
    "my_df.iloc[indices[0]][\"music_band_txt\"].mode()[0]"
   ]
  },
  {
   "cell_type": "markdown",
   "metadata": {
    "id": "WMWC2YDK3H0O"
   },
   "source": [
    "Repeat with K = all rows"
   ]
  },
  {
   "cell_type": "code",
   "execution_count": 11,
   "metadata": {
    "colab": {
     "base_uri": "https://localhost:8080/"
    },
    "executionInfo": {
     "elapsed": 17,
     "status": "ok",
     "timestamp": 1731444477064,
     "user": {
      "displayName": "deepdive datascience",
      "userId": "06241824193725215643"
     },
     "user_tz": 420
    },
    "id": "8xTextoQaYKX",
    "outputId": "10184c51-5075-4938-fe60-1602baaf83a0"
   },
   "outputs": [
    {
     "data": {
      "text/plain": [
       "(array([ 0.,  1.,  2., 17., 25., 26., 49., 50., 65.]),\n",
       " array([1., 2., 6., 0., 7., 5., 3., 4., 8.]))"
      ]
     },
     "execution_count": 11,
     "metadata": {},
     "output_type": "execute_result"
    }
   ],
   "source": [
    "d_i = nn.kneighbors(gary, n_neighbors = my_df.shape[0])\n",
    "distances, indices = np.array(d_i).reshape(2,9)\n",
    "distances**2, indices\n"
   ]
  },
  {
   "cell_type": "code",
   "execution_count": 12,
   "metadata": {
    "colab": {
     "base_uri": "https://localhost:8080/",
     "height": 332
    },
    "executionInfo": {
     "elapsed": 15,
     "status": "ok",
     "timestamp": 1731444477065,
     "user": {
      "displayName": "deepdive datascience",
      "userId": "06241824193725215643"
     },
     "user_tz": 420
    },
    "id": "PHBsW1Td8mN_",
    "outputId": "3ecc4c23-db28-4054-ffa9-da15cfc3f678"
   },
   "outputs": [
    {
     "data": {
      "text/html": [
       "<div>\n",
       "<style scoped>\n",
       "    .dataframe tbody tr th:only-of-type {\n",
       "        vertical-align: middle;\n",
       "    }\n",
       "\n",
       "    .dataframe tbody tr th {\n",
       "        vertical-align: top;\n",
       "    }\n",
       "\n",
       "    .dataframe thead th {\n",
       "        text-align: right;\n",
       "    }\n",
       "</style>\n",
       "<table border=\"1\" class=\"dataframe\">\n",
       "  <thead>\n",
       "    <tr style=\"text-align: right;\">\n",
       "      <th></th>\n",
       "      <th>names</th>\n",
       "      <th>ages</th>\n",
       "      <th>genders_txt</th>\n",
       "      <th>genders</th>\n",
       "      <th>music_band_txt</th>\n",
       "      <th>distances^2</th>\n",
       "    </tr>\n",
       "  </thead>\n",
       "  <tbody>\n",
       "    <tr>\n",
       "      <th>1.0</th>\n",
       "      <td>Brendon</td>\n",
       "      <td>23</td>\n",
       "      <td>male</td>\n",
       "      <td>0</td>\n",
       "      <td>Coldplay</td>\n",
       "      <td>0.0</td>\n",
       "    </tr>\n",
       "    <tr>\n",
       "      <th>2.0</th>\n",
       "      <td>Nate</td>\n",
       "      <td>24</td>\n",
       "      <td>male</td>\n",
       "      <td>0</td>\n",
       "      <td>LinkinPark</td>\n",
       "      <td>1.0</td>\n",
       "    </tr>\n",
       "    <tr>\n",
       "      <th>6.0</th>\n",
       "      <td>Gin</td>\n",
       "      <td>22</td>\n",
       "      <td>female</td>\n",
       "      <td>1</td>\n",
       "      <td>LinkinPark</td>\n",
       "      <td>2.0</td>\n",
       "    </tr>\n",
       "    <tr>\n",
       "      <th>0.0</th>\n",
       "      <td>Amantha</td>\n",
       "      <td>19</td>\n",
       "      <td>female</td>\n",
       "      <td>1</td>\n",
       "      <td>Coldplay</td>\n",
       "      <td>17.0</td>\n",
       "    </tr>\n",
       "    <tr>\n",
       "      <th>7.0</th>\n",
       "      <td>Ken</td>\n",
       "      <td>18</td>\n",
       "      <td>male</td>\n",
       "      <td>0</td>\n",
       "      <td>Coldplay</td>\n",
       "      <td>25.0</td>\n",
       "    </tr>\n",
       "    <tr>\n",
       "      <th>5.0</th>\n",
       "      <td>Christine</td>\n",
       "      <td>18</td>\n",
       "      <td>female</td>\n",
       "      <td>1</td>\n",
       "      <td>LinkinPark</td>\n",
       "      <td>26.0</td>\n",
       "    </tr>\n",
       "    <tr>\n",
       "      <th>3.0</th>\n",
       "      <td>Sam</td>\n",
       "      <td>30</td>\n",
       "      <td>male</td>\n",
       "      <td>0</td>\n",
       "      <td>LinkinPark</td>\n",
       "      <td>49.0</td>\n",
       "    </tr>\n",
       "    <tr>\n",
       "      <th>4.0</th>\n",
       "      <td>Betty</td>\n",
       "      <td>16</td>\n",
       "      <td>female</td>\n",
       "      <td>1</td>\n",
       "      <td>Coldplay</td>\n",
       "      <td>50.0</td>\n",
       "    </tr>\n",
       "    <tr>\n",
       "      <th>8.0</th>\n",
       "      <td>Susy</td>\n",
       "      <td>15</td>\n",
       "      <td>female</td>\n",
       "      <td>1</td>\n",
       "      <td>Coldplay</td>\n",
       "      <td>65.0</td>\n",
       "    </tr>\n",
       "  </tbody>\n",
       "</table>\n",
       "</div>"
      ],
      "text/plain": [
       "         names  ages genders_txt  genders music_band_txt  distances^2\n",
       "1.0    Brendon    23        male        0       Coldplay          0.0\n",
       "2.0       Nate    24        male        0     LinkinPark          1.0\n",
       "6.0        Gin    22      female        1     LinkinPark          2.0\n",
       "0.0    Amantha    19      female        1       Coldplay         17.0\n",
       "7.0        Ken    18        male        0       Coldplay         25.0\n",
       "5.0  Christine    18      female        1     LinkinPark         26.0\n",
       "3.0        Sam    30        male        0     LinkinPark         49.0\n",
       "4.0      Betty    16      female        1       Coldplay         50.0\n",
       "8.0       Susy    15      female        1       Coldplay         65.0"
      ]
     },
     "execution_count": 12,
     "metadata": {},
     "output_type": "execute_result"
    }
   ],
   "source": [
    "(\n",
    "  my_df\n",
    "    .iloc[indices]\n",
    "    .join( pd.DataFrame( { \"distances^2\": distances**2 }, index = indices ) )\n",
    ")"
   ]
  },
  {
   "cell_type": "markdown",
   "metadata": {
    "id": "-yWO_FtK4l55"
   },
   "source": [
    "Display vote for various values of K $\\epsilon$ { 1, 3, 5, 7, 9 }"
   ]
  },
  {
   "cell_type": "code",
   "execution_count": 13,
   "metadata": {
    "colab": {
     "base_uri": "https://localhost:8080/"
    },
    "executionInfo": {
     "elapsed": 13,
     "status": "ok",
     "timestamp": 1731444477065,
     "user": {
      "displayName": "deepdive datascience",
      "userId": "06241824193725215643"
     },
     "user_tz": 420
    },
    "id": "Y9GEtEML4e31",
    "outputId": "ddab0a1b-d4c5-4d14-82ce-8032b585a517"
   },
   "outputs": [
    {
     "name": "stdout",
     "output_type": "stream",
     "text": [
      "K = 1 : Coldplay\n",
      "K = 3 : LinkinPark\n",
      "K = 5 : Coldplay\n",
      "K = 7 : LinkinPark\n",
      "K = 9 : Coldplay\n"
     ]
    }
   ],
   "source": [
    "for k in range(1,10,2):\n",
    "  vote = my_df.iloc[indices][\"music_band_txt\"][:k].mode()[0]\n",
    "  print(f\"K = {k} : {vote}\")\n"
   ]
  },
  {
   "cell_type": "markdown",
   "metadata": {
    "id": "ribzVE6J7igz"
   },
   "source": [
    "# NLP"
   ]
  },
  {
   "cell_type": "markdown",
   "metadata": {
    "id": "HaNBLyA7dZMN"
   },
   "source": [
    "If our text data are unlabelled (as is often the case in NLP), we can use KNN to identify documents that are similar to a given document.  In this example, our documents will be sentences and the given document will be the first sentence."
   ]
  },
  {
   "cell_type": "code",
   "execution_count": 14,
   "metadata": {
    "executionInfo": {
     "elapsed": 3489,
     "status": "ok",
     "timestamp": 1731444480544,
     "user": {
      "displayName": "deepdive datascience",
      "userId": "06241824193725215643"
     },
     "user_tz": 420
    },
    "id": "5ZyXbs2dsq80"
   },
   "outputs": [],
   "source": [
    "%%capture\n",
    "!python -m textblob.download_corpora\n"
   ]
  },
  {
   "cell_type": "code",
   "execution_count": 15,
   "metadata": {
    "colab": {
     "base_uri": "https://localhost:8080/"
    },
    "executionInfo": {
     "elapsed": 16,
     "status": "ok",
     "timestamp": 1731444480545,
     "user": {
      "displayName": "deepdive datascience",
      "userId": "06241824193725215643"
     },
     "user_tz": 420
    },
    "id": "ul__IwLAXxJ4",
    "outputId": "e50977ff-a022-4b80-f91b-f4f41f81fddc"
   },
   "outputs": [
    {
     "data": {
      "text/plain": [
       "['Jen is a good student.',\n",
       " 'Jen is also a great guitarist.',\n",
       " 'Good students can sometimes be good guitarists']"
      ]
     },
     "execution_count": 15,
     "metadata": {},
     "output_type": "execute_result"
    }
   ],
   "source": [
    "sentences_orig = [\n",
    "  'Jen is a good student.',\n",
    "  'Jen is also a great guitarist.',\n",
    "  'Good students can sometimes be good guitarists',\n",
    "]\n",
    "sentences_orig\n"
   ]
  },
  {
   "cell_type": "markdown",
   "metadata": {
    "id": "SAQ_Cn1J05Pk"
   },
   "source": [
    "# Data Cleaning\n",
    "We want to singularize guitarists and students."
   ]
  },
  {
   "cell_type": "code",
   "execution_count": 16,
   "metadata": {
    "colab": {
     "base_uri": "https://localhost:8080/",
     "height": 35
    },
    "executionInfo": {
     "elapsed": 14,
     "status": "ok",
     "timestamp": 1731444480545,
     "user": {
      "displayName": "deepdive datascience",
      "userId": "06241824193725215643"
     },
     "user_tz": 420
    },
    "id": "HATpf-dN091J",
    "outputId": "8561a0bf-c9e2-458a-bb64-29db95640aef"
   },
   "outputs": [
    {
     "data": {
      "text/plain": [
       "'Good student can sometime be good guitarist'"
      ]
     },
     "execution_count": 16,
     "metadata": {},
     "output_type": "execute_result"
    }
   ],
   "source": [
    "sentence_last_tb = TextBlob(sentences_orig[-1]) # Make a textblob so that we can singularize the word\n",
    "sentence_last_singular = [ x.singularize() for x in sentence_last_tb.words ] # Singularize each word in the text\n",
    "sentence_last_clean = ' '.join(sentence_last_singular) # Join it together into a single string\n",
    "sentence_last_clean\n"
   ]
  },
  {
   "cell_type": "code",
   "execution_count": 17,
   "metadata": {
    "colab": {
     "base_uri": "https://localhost:8080/"
    },
    "executionInfo": {
     "elapsed": 13,
     "status": "ok",
     "timestamp": 1731444480546,
     "user": {
      "displayName": "deepdive datascience",
      "userId": "06241824193725215643"
     },
     "user_tz": 420
    },
    "id": "Mh4vw-4vWXlh",
    "outputId": "7e5193b2-4633-4ff0-ad6c-897a5690356c"
   },
   "outputs": [
    {
     "data": {
      "text/plain": [
       "['Jen is a good student.',\n",
       " 'Jen is also a great guitarist.',\n",
       " 'Good student can sometime be good guitarist']"
      ]
     },
     "execution_count": 17,
     "metadata": {},
     "output_type": "execute_result"
    }
   ],
   "source": [
    "sentences_clean = sentences_orig[:2] + [sentence_last_clean]\n",
    "sentences_clean"
   ]
  },
  {
   "cell_type": "markdown",
   "metadata": {
    "id": "yuFf00oinAiU"
   },
   "source": [
    "## Bag of Words Using CountVectorizer"
   ]
  },
  {
   "cell_type": "markdown",
   "metadata": {
    "id": "Y0p6v0tlgVBv"
   },
   "source": [
    "Perform the count transformation\n"
   ]
  },
  {
   "cell_type": "code",
   "execution_count": 18,
   "metadata": {
    "executionInfo": {
     "elapsed": 272,
     "status": "ok",
     "timestamp": 1731444480809,
     "user": {
      "displayName": "deepdive datascience",
      "userId": "06241824193725215643"
     },
     "user_tz": 420
    },
    "id": "_pfxrLYnXxsA"
   },
   "outputs": [],
   "source": [
    "vectorizer = CountVectorizer(stop_words='english')\n",
    "bow_matrix = vectorizer.fit_transform(sentences_clean)\n"
   ]
  },
  {
   "cell_type": "code",
   "execution_count": 19,
   "metadata": {
    "colab": {
     "base_uri": "https://localhost:8080/"
    },
    "executionInfo": {
     "elapsed": 41,
     "status": "ok",
     "timestamp": 1731444480810,
     "user": {
      "displayName": "deepdive datascience",
      "userId": "06241824193725215643"
     },
     "user_tz": 420
    },
    "id": "ZeS_-F_0Thkd",
    "outputId": "dc6706e4-0f26-4e07-9fab-8efc66ceffa8"
   },
   "outputs": [
    {
     "data": {
      "text/plain": [
       "(scipy.sparse._csr.csr_matrix, (3, 5))"
      ]
     },
     "execution_count": 19,
     "metadata": {},
     "output_type": "execute_result"
    }
   ],
   "source": [
    "type(bow_matrix), bow_matrix.shape\n"
   ]
  },
  {
   "cell_type": "code",
   "execution_count": 20,
   "metadata": {
    "colab": {
     "base_uri": "https://localhost:8080/"
    },
    "executionInfo": {
     "elapsed": 36,
     "status": "ok",
     "timestamp": 1731444480810,
     "user": {
      "displayName": "deepdive datascience",
      "userId": "06241824193725215643"
     },
     "user_tz": 420
    },
    "id": "Lv4q20x6TlHB",
    "outputId": "ae7932c3-dc85-487c-efec-f5f0ec2b185f"
   },
   "outputs": [
    {
     "data": {
      "text/plain": [
       "array([[1, 0, 0, 1, 1],\n",
       "       [0, 1, 1, 1, 0],\n",
       "       [2, 0, 1, 0, 1]])"
      ]
     },
     "execution_count": 20,
     "metadata": {},
     "output_type": "execute_result"
    }
   ],
   "source": [
    "bow_matrix.toarray()\n"
   ]
  },
  {
   "cell_type": "markdown",
   "metadata": {
    "id": "hv0Xa9IHnF7T"
   },
   "source": [
    "## TF-IDF using BoW\n"
   ]
  },
  {
   "cell_type": "markdown",
   "metadata": {
    "id": "scmAZltMgRY9"
   },
   "source": [
    "Perform the TF-IDF transformation\n"
   ]
  },
  {
   "cell_type": "code",
   "execution_count": 21,
   "metadata": {
    "executionInfo": {
     "elapsed": 29,
     "status": "ok",
     "timestamp": 1731444480810,
     "user": {
      "displayName": "deepdive datascience",
      "userId": "06241824193725215643"
     },
     "user_tz": 420
    },
    "id": "bDR3hA_1nE02"
   },
   "outputs": [],
   "source": [
    "tf_idf_matrix = TfidfTransformer()\n",
    "tf_idf_jen = tf_idf_matrix.fit_transform(bow_matrix)\n"
   ]
  },
  {
   "cell_type": "code",
   "execution_count": 22,
   "metadata": {
    "colab": {
     "base_uri": "https://localhost:8080/"
    },
    "executionInfo": {
     "elapsed": 27,
     "status": "ok",
     "timestamp": 1731444480810,
     "user": {
      "displayName": "deepdive datascience",
      "userId": "06241824193725215643"
     },
     "user_tz": 420
    },
    "id": "fpONWi-_S2hw",
    "outputId": "34fcc560-ae16-49c5-ca77-0331f212e8fd"
   },
   "outputs": [
    {
     "data": {
      "text/plain": [
       "(scipy.sparse._csr.csr_matrix, (3, 5))"
      ]
     },
     "execution_count": 22,
     "metadata": {},
     "output_type": "execute_result"
    }
   ],
   "source": [
    "type(tf_idf_jen), tf_idf_jen.shape\n"
   ]
  },
  {
   "cell_type": "code",
   "execution_count": 23,
   "metadata": {
    "colab": {
     "base_uri": "https://localhost:8080/"
    },
    "executionInfo": {
     "elapsed": 20,
     "status": "ok",
     "timestamp": 1731444480810,
     "user": {
      "displayName": "deepdive datascience",
      "userId": "06241824193725215643"
     },
     "user_tz": 420
    },
    "id": "xnlP5HddS1J8",
    "outputId": "5157ea84-36e3-441c-bc40-fc6ffc078efe"
   },
   "outputs": [
    {
     "data": {
      "text/plain": [
       "array([[0.57735027, 0.        , 0.        , 0.57735027, 0.57735027],\n",
       "       [0.        , 0.68091856, 0.51785612, 0.51785612, 0.        ],\n",
       "       [0.81649658, 0.        , 0.40824829, 0.        , 0.40824829]])"
      ]
     },
     "execution_count": 23,
     "metadata": {},
     "output_type": "execute_result"
    }
   ],
   "source": [
    "tf_idf_jen.toarray()\n"
   ]
  },
  {
   "cell_type": "markdown",
   "metadata": {
    "id": "GrH4l76jgOuL"
   },
   "source": [
    "Print out results in a dataframe\n"
   ]
  },
  {
   "cell_type": "code",
   "execution_count": 24,
   "metadata": {
    "colab": {
     "base_uri": "https://localhost:8080/",
     "height": 143
    },
    "executionInfo": {
     "elapsed": 224,
     "status": "ok",
     "timestamp": 1731444481020,
     "user": {
      "displayName": "deepdive datascience",
      "userId": "06241824193725215643"
     },
     "user_tz": 420
    },
    "id": "699yjSoNocXh",
    "outputId": "4851e3a2-a403-494d-9225-e08e62a89adb"
   },
   "outputs": [
    {
     "data": {
      "text/html": [
       "<div>\n",
       "<style scoped>\n",
       "    .dataframe tbody tr th:only-of-type {\n",
       "        vertical-align: middle;\n",
       "    }\n",
       "\n",
       "    .dataframe tbody tr th {\n",
       "        vertical-align: top;\n",
       "    }\n",
       "\n",
       "    .dataframe thead th {\n",
       "        text-align: right;\n",
       "    }\n",
       "</style>\n",
       "<table border=\"1\" class=\"dataframe\">\n",
       "  <thead>\n",
       "    <tr style=\"text-align: right;\">\n",
       "      <th></th>\n",
       "      <th>good</th>\n",
       "      <th>great</th>\n",
       "      <th>guitarist</th>\n",
       "      <th>jen</th>\n",
       "      <th>student</th>\n",
       "    </tr>\n",
       "  </thead>\n",
       "  <tbody>\n",
       "    <tr>\n",
       "      <th>0</th>\n",
       "      <td>0.577350</td>\n",
       "      <td>0.000000</td>\n",
       "      <td>0.000000</td>\n",
       "      <td>0.577350</td>\n",
       "      <td>0.577350</td>\n",
       "    </tr>\n",
       "    <tr>\n",
       "      <th>1</th>\n",
       "      <td>0.000000</td>\n",
       "      <td>0.680919</td>\n",
       "      <td>0.517856</td>\n",
       "      <td>0.517856</td>\n",
       "      <td>0.000000</td>\n",
       "    </tr>\n",
       "    <tr>\n",
       "      <th>2</th>\n",
       "      <td>0.816497</td>\n",
       "      <td>0.000000</td>\n",
       "      <td>0.408248</td>\n",
       "      <td>0.000000</td>\n",
       "      <td>0.408248</td>\n",
       "    </tr>\n",
       "  </tbody>\n",
       "</table>\n",
       "</div>"
      ],
      "text/plain": [
       "       good     great  guitarist       jen   student\n",
       "0  0.577350  0.000000   0.000000  0.577350  0.577350\n",
       "1  0.000000  0.680919   0.517856  0.517856  0.000000\n",
       "2  0.816497  0.000000   0.408248  0.000000  0.408248"
      ]
     },
     "execution_count": 24,
     "metadata": {},
     "output_type": "execute_result"
    }
   ],
   "source": [
    "tf_df = pd.DataFrame(\n",
    "  data = tf_idf_jen.toarray(),\n",
    "  columns = vectorizer.get_feature_names_out(),\n",
    ")\n",
    "tf_df\n"
   ]
  },
  {
   "cell_type": "markdown",
   "metadata": {
    "id": "7W7XzSRVIPPv"
   },
   "source": [
    "> Note: Converting a sparse matrix to a data frame is NOT something you will normally do, especially for large matrices."
   ]
  },
  {
   "cell_type": "markdown",
   "metadata": {
    "id": "KRN8RSUFW77S"
   },
   "source": [
    "## K Nearest Neighbors"
   ]
  },
  {
   "cell_type": "markdown",
   "metadata": {
    "id": "R7g_4HcCZIKz"
   },
   "source": [
    "Fit nearest neighbors\n"
   ]
  },
  {
   "cell_type": "code",
   "execution_count": 25,
   "metadata": {
    "executionInfo": {
     "elapsed": 34,
     "status": "ok",
     "timestamp": 1731444481022,
     "user": {
      "displayName": "deepdive datascience",
      "userId": "06241824193725215643"
     },
     "user_tz": 420
    },
    "id": "fdtRhsq2W-j2"
   },
   "outputs": [],
   "source": [
    "nn = NearestNeighbors().fit(tf_idf_jen)\n"
   ]
  },
  {
   "cell_type": "markdown",
   "metadata": {
    "id": "Ux0Uf-9JZEyG"
   },
   "source": [
    "Create the reference matrix from the tf_idf matrix\n"
   ]
  },
  {
   "cell_type": "code",
   "execution_count": 26,
   "metadata": {
    "colab": {
     "base_uri": "https://localhost:8080/"
    },
    "executionInfo": {
     "elapsed": 33,
     "status": "ok",
     "timestamp": 1731444481023,
     "user": {
      "displayName": "deepdive datascience",
      "userId": "06241824193725215643"
     },
     "user_tz": 420
    },
    "id": "wDrw0_hOHP5U",
    "outputId": "583f692c-24ac-4b16-b5d7-48cfe53451f1"
   },
   "outputs": [
    {
     "data": {
      "text/plain": [
       "(1, 5)"
      ]
     },
     "execution_count": 26,
     "metadata": {},
     "output_type": "execute_result"
    }
   ],
   "source": [
    "sent0 = tf_idf_jen[0]\n",
    "sent0.shape"
   ]
  },
  {
   "cell_type": "markdown",
   "metadata": {
    "id": "-nFByRLXZAAd"
   },
   "source": [
    "Or ...\n",
    "\n",
    "Create the reference matrix from the data frame\n"
   ]
  },
  {
   "cell_type": "code",
   "execution_count": 27,
   "metadata": {
    "colab": {
     "base_uri": "https://localhost:8080/"
    },
    "executionInfo": {
     "elapsed": 30,
     "status": "ok",
     "timestamp": 1731444481023,
     "user": {
      "displayName": "deepdive datascience",
      "userId": "06241824193725215643"
     },
     "user_tz": 420
    },
    "id": "tYccOHMkXMLL",
    "outputId": "03100213-ab89-4cca-a547-b41479b45c24"
   },
   "outputs": [
    {
     "data": {
      "text/plain": [
       "(1, 5)"
      ]
     },
     "execution_count": 27,
     "metadata": {},
     "output_type": "execute_result"
    }
   ],
   "source": [
    "sent0 = np.array([tf_df.iloc[0]])\n",
    "sent0.shape"
   ]
  },
  {
   "cell_type": "markdown",
   "metadata": {
    "id": "SzDFg9aAY97p"
   },
   "source": [
    "Get nearest neighbors distances\n"
   ]
  },
  {
   "cell_type": "code",
   "execution_count": 28,
   "metadata": {
    "executionInfo": {
     "elapsed": 27,
     "status": "ok",
     "timestamp": 1731444481024,
     "user": {
      "displayName": "deepdive datascience",
      "userId": "06241824193725215643"
     },
     "user_tz": 420
    },
    "id": "uTwlfpPLHRIM"
   },
   "outputs": [],
   "source": [
    "distances, indices = nn.kneighbors(\n",
    "  X = sent0,\n",
    "  n_neighbors = 2,\n",
    ")\n"
   ]
  },
  {
   "cell_type": "code",
   "execution_count": 29,
   "metadata": {
    "colab": {
     "base_uri": "https://localhost:8080/"
    },
    "executionInfo": {
     "elapsed": 27,
     "status": "ok",
     "timestamp": 1731444481024,
     "user": {
      "displayName": "deepdive datascience",
      "userId": "06241824193725215643"
     },
     "user_tz": 420
    },
    "id": "EHMIecV2xHXT",
    "outputId": "3915cab6-1e87-41c0-d66e-7cb023ade723"
   },
   "outputs": [
    {
     "data": {
      "text/plain": [
       "array([[0.        , 0.76536686]])"
      ]
     },
     "execution_count": 29,
     "metadata": {},
     "output_type": "execute_result"
    }
   ],
   "source": [
    "distances\n"
   ]
  },
  {
   "cell_type": "code",
   "execution_count": 30,
   "metadata": {
    "colab": {
     "base_uri": "https://localhost:8080/"
    },
    "executionInfo": {
     "elapsed": 23,
     "status": "ok",
     "timestamp": 1731444481024,
     "user": {
      "displayName": "deepdive datascience",
      "userId": "06241824193725215643"
     },
     "user_tz": 420
    },
    "id": "nF5tdUtDxxvd",
    "outputId": "b10e2f5b-9c57-4c99-adc9-6913b80d128a"
   },
   "outputs": [
    {
     "data": {
      "text/plain": [
       "array([[0, 2]])"
      ]
     },
     "execution_count": 30,
     "metadata": {},
     "output_type": "execute_result"
    }
   ],
   "source": [
    "indices\n"
   ]
  },
  {
   "cell_type": "markdown",
   "metadata": {
    "id": "FUDI4gO0Y1V1"
   },
   "source": [
    "Pull out the original sentences given the indices."
   ]
  },
  {
   "cell_type": "code",
   "execution_count": 31,
   "metadata": {
    "colab": {
     "base_uri": "https://localhost:8080/"
    },
    "executionInfo": {
     "elapsed": 20,
     "status": "ok",
     "timestamp": 1731444481025,
     "user": {
      "displayName": "deepdive datascience",
      "userId": "06241824193725215643"
     },
     "user_tz": 420
    },
    "id": "waQJcI16UJUh",
    "outputId": "3cac5c06-7e12-4f19-a610-e6c79df81f67"
   },
   "outputs": [
    {
     "data": {
      "text/plain": [
       "['Jen is a good student.', 'Good students can sometimes be good guitarists']"
      ]
     },
     "execution_count": 31,
     "metadata": {},
     "output_type": "execute_result"
    }
   ],
   "source": [
    "# Using list comprehension\n",
    "[ x for i,x in enumerate(sentences_orig) if i in indices[0] ]"
   ]
  },
  {
   "cell_type": "code",
   "execution_count": 32,
   "metadata": {
    "colab": {
     "base_uri": "https://localhost:8080/"
    },
    "executionInfo": {
     "elapsed": 15,
     "status": "ok",
     "timestamp": 1731444481025,
     "user": {
      "displayName": "deepdive datascience",
      "userId": "06241824193725215643"
     },
     "user_tz": 420
    },
    "id": "p3XJufNaa6dM",
    "outputId": "8964f4f7-ade6-403d-f62c-7b1cf033b7ec"
   },
   "outputs": [
    {
     "data": {
      "text/plain": [
       "array([['Jen is a good student.',\n",
       "        'Good students can sometimes be good guitarists']], dtype='<U46')"
      ]
     },
     "execution_count": 32,
     "metadata": {},
     "output_type": "execute_result"
    }
   ],
   "source": [
    "# Converting to Numpy array\n",
    "np.array(sentences_orig)[indices]\n"
   ]
  },
  {
   "cell_type": "markdown",
   "metadata": {
    "id": "xDuCEa4Z-mwb"
   },
   "source": [
    "# Another Example - Using Wikipedia API"
   ]
  },
  {
   "cell_type": "markdown",
   "metadata": {
    "id": "9NvSYTnubZJw"
   },
   "source": [
    "## Get text and clean"
   ]
  },
  {
   "cell_type": "markdown",
   "metadata": {
    "id": "6arK0j14ePnK"
   },
   "source": [
    "Install Wikipedia API"
   ]
  },
  {
   "cell_type": "code",
   "execution_count": 33,
   "metadata": {
    "executionInfo": {
     "elapsed": 12225,
     "status": "ok",
     "timestamp": 1731444493239,
     "user": {
      "displayName": "deepdive datascience",
      "userId": "06241824193725215643"
     },
     "user_tz": 420
    },
    "id": "QZKrDDzTE32G"
   },
   "outputs": [],
   "source": [
    "%%capture\n",
    "!pip3 install wikipedia-api"
   ]
  },
  {
   "cell_type": "code",
   "execution_count": 34,
   "metadata": {
    "executionInfo": {
     "elapsed": 395,
     "status": "ok",
     "timestamp": 1731444493628,
     "user": {
      "displayName": "deepdive datascience",
      "userId": "06241824193725215643"
     },
     "user_tz": 420
    },
    "id": "QCyuTKCq-mLN"
   },
   "outputs": [],
   "source": [
    "import wikipediaapi"
   ]
  },
  {
   "cell_type": "markdown",
   "metadata": {
    "id": "DLDmAxuzeS0Y"
   },
   "source": [
    "Pull out page from Wikipedia\n"
   ]
  },
  {
   "cell_type": "code",
   "execution_count": 35,
   "metadata": {
    "colab": {
     "base_uri": "https://localhost:8080/",
     "height": 140
    },
    "executionInfo": {
     "elapsed": 199,
     "status": "ok",
     "timestamp": 1731444493821,
     "user": {
      "displayName": "deepdive datascience",
      "userId": "06241824193725215643"
     },
     "user_tz": 420
    },
    "id": "cZ8mxZvMEeDC",
    "outputId": "18e8ab7c-c8b5-437a-eb65-c8b772f4c062"
   },
   "outputs": [
    {
     "data": {
      "text/plain": [
       "'A Munchkin is a native of the fictional Munchkin Country in the Oz books by American author L. Frank Baum. They first appear in the classic children\\'s novel The Wonderful Wizard of Oz (1900) where they welcome Dorothy Gale to their city in Oz. The Munchkins are described as being the same height as Dorothy and they wear only shades of blue clothing, as blue is the Munchkins\\' favorite color. Blue is also the predominating color that officially represents the eastern quadrant in the Land of Oz. The Munchkins have appeared in various media, including the 1939 film The Wizard of Oz, as well as in various other films and comedy acts.\\n\\nConcept\\nWhile Baum may have written about it, there are no surviving notes for the composition of The Wonderful Wizard of Oz. The lack of this information has resulted in speculation of the term origins he used in the book, which include the word Munchkin. Baum researcher Brian Attebery has hypothesized that there might be a connection to the Münchner Kindl, the emblem of the Bavarian city of Munich (spelled München in German). The symbol was originally a 13th-century statue of a monk, looking down from the town hall in Munich. Over the years, the image was reproduced many times, for instance as a figure on beer steins, and eventually evolved into a child wearing a pointed hood. Baum\\'s family had German origins, suggesting that Baum could have seen one such reproduction in his childhood. It is also possible that Munchkin came from the German word Männchen, which means \"mannikin\" or \"little figure\". In 1900, Baum published a book about window displays in which he stressed the importance of mannequins in attracting customers. Another possibility is a connection to Baron Munchausen. This fictional character is based on a real baron who told outrageous tall tales based on his military career. Like the other Oz terms, the word Munchkin ends in a diminutive which in this case refers to the size of the natives.\\n\\nLiterature\\nOz Books by Frank Baum\\nThe Munchkins are first mentioned (quote shown) in an excerpt from chapter two of The Wonderful Wizard of Oz, titled \"The Council with the Munchkins\". Dorothy initially meets only three of them, along with the Good Witch of the North. The rest of the Munchkins then come out of hiding and are shown to be grateful towards Dorothy for killing their evil ruler the Wicked Witch of the East. Dorothy later eventually finds the yellow brick road and along the way attends a banquet held by a Munchkin man named Boq. Sometime in the book a background story is also given about a \"Munchkin maiden\" (named Nimmie Amee in later books), who was the former love interest of the Tin Woodman.\\nBaum also included the Munchkin characters in his later works as minor and major individual characters. The Munchkin Jinjur is the main antagonist in Baum\\'s second book The Marvelous Land of Oz, where she seeks to overthrow the Scarecrow and take over the Emerald City. Jinjur makes a brief appearance in the next book, entitled Ozma of Oz, and is brought back in Baum\\'s twelfth book, The Tin Woodman of Oz. By this time, she is shown to be a more prominent character who is helpful and friendly to Dorothy and her friends. Two other major Munchkin characters also appear in The Tin Woodman of Oz: Tommy Kwikstep and Nimmie Amee. The former appears in the story asking for a wish for running an errand for a witch; the latter is the name given to the mystery \"Munchkin maiden\" from the first book, who was the former lover of the Tin Woodman. More information is revealed that tells about the Tin Woodman\\'s origin and their tragic love story. Lastly, the Munchkin Unc Nunkie appears in Baum\\'s seventh book, The Patchwork Girl of Oz, where he is accidentally turned to stone. His Munchkin nephew Ojo successfully goes on a quest in search of an antidote while learning more about himself in the process.\\n\\nSubsequent Oz books\\nL. Frank Baum died on 6 May 1919 after which other writers took up writing additional Oz stories. In some cases these books were written under Baum\\'s name and included the Munchkins. There is at least one known Munchkin character that was created after Baum\\'s death that appears as a major character. Zif is a Munchkin boy who appears in John R. Neill\\'s first adaptation called The Royal Book of Oz. Zif is a student at the College of Art and Athletic Perfection; he is both respectful and resentful towards his teacher Wogglebog who considers Zif a \"nobody or a nothing\". The Munchkin characters that Baum had created in his lifetime also appear in these additional works.\\n\\nFilm and musicals\\nEarly works (1902–1933)\\nWhile the 1939 film is the most well known adaptation (see section below), it was not the first outside work to show the Munchkins in film or musical format. One of the first musical adaptations of Baum\\'s books took place in 1902; it was also dubbed The Wizard of Oz. The Munchkins make their appearance in act one, called \"The Storm\", in which they are shown dancing around their maypole, not noticing that Dorothy\\'s house has fallen to earth killing the Wicked Witch of the East. The first film adaptation of Baum\\'s works, titled The Wonderful Wizard of Oz, was released in 1910, followed by three sequels. However, it was not until 1914 that Munchkin characters first appeared in film works. Ojo the Lucky and Unc Nunkie both appear in a film titled The Patchwork Girl of Oz (based on the book of the same name). This film stars American actress Violet MacMillan as Ojo and was produced by Baum.\\n\\n1939 film\\nThe 1939 movie musical The Wizard of Oz was loosely based on Baum\\'s novel. Notable differences of the Munchkins include their country name of Munchkinland and their clothes of many colors instead of an all-blue attire. In the musical, the Munchkins are portrayed by the thirty-odd members of the Singer Midgets, a European performing troupe made up of adult actors with dwarfism. Their numbers were swelled when a national talent search brought in a further ninety-four little men, women, and teenagers, with a few average-sized children were also included as background extras in order to make up the 124 characters requested by MGM.\\nIn the musical, the Munchkins first appear when Dorothy and Toto arrive in the Land of Oz after her house lands on the Wicked Witch of the East. The Munchkins hide from all the commotion until Glinda the Good Witch arrives reassuring them that everything is okay. Dorothy tells them how she arrived in the Land of Oz (through a musical number) and the Munchkins celebrate. To make it official, a Barrister and a number of City Fathers insist to the Mayor of the Munchkin City that they must make sure that the Wicked Witch of the East is really dead before the celebration continues. The Coroner confirms this by saying that the witch is \"not only merely dead\" but is indeed \"most sincerely dead\" while showing a Certificate of Death. The Munchkins then celebrate further as Dorothy receives gifts from the \"Lullaby League\" and the \"Lollipop Guild\". Near the end of the song, the Wicked Witch of the West arrives, which causes the Munchkins to panic. After the Wicked Witch of the West leaves, Glinda tells Dorothy to follow the yellow brick road to the Emerald City as the Munchkins guide her out of Munchkinland.\\nThe Munchkin actors have since not avoided controversy with alleged behavior behind the scenes. In a 1967 interview, Judy Garland referred to all of the Munchkins as \"little drunks\" who got intoxicated every night to the point where they had to be picked up in \"butterfly nets\". These accusations were denied as fabrications by fellow Munchkin Margaret Pellegrini, who said only \"a couple of kids from Germany even drank beer\". On 20 November 2007, the Munchkins were given a star on the Hollywood Walk of Fame. Seven of the surviving Munchkin actors from the film were present. As a result of the popularity of the 1939 film, the word \"munchkin\" has entered the English language as a reference to small children, persons with dwarfism, or anything of diminutive stature.\\n\\nActors and actresses\\nThe following is a list of actors who portrayed the Munchkins in the 1939 film. Most of the dwarfs hired were acquired for MGM by Leo Singer, the proprietor of Singer\\'s Midgets. A Daily Variety news story from 17 August 1938, stated 124 dwarves had been signed to play Munchkins; modern sources place the number either at 122 or 124. An additional dozen or so child actors were hired to make up for the shortage of dwarves. At least one Munchkin actor, Dale Paullin (stage name Paul Dale), did not make the final cut for the movie. Only two actors (Joseph Koziel and Frank Cucksey) used their actual voices for the dialogue exchanged with Dorothy where she is given the flowers. The rest of the voices, such as the \"Munchkin chorus\", were created by Pinto Colvig and Billy Bletcher with their voices recorded at a slow speed, which were subsequently sped-up when played back.\\nIn 1989, author Stephen Cox researched, found, and wrote about the surviving Munchkin actors fifty years after they made the film. He wrote about them in his book, The Munchkins Remember (1989, E.P. Dutton), which was later revised as The Munchkins of Oz (Cumberland House), and his book remained in print for nearly two decades. When he wrote the book, 33 of the actors with dwarfism who appeared in the film were still alive and were interviewed. Several of them outlived all the major cast, as well as the original Tin Man Buddy Ebsen. Jerry Maren, who played the green \"Lollipop Guild\" member, was the last living adult Munchkin actor. Maren was the only Munchkin alive when the film\\'s longest living cast member, Shep Houghton, an extra, died in 2016.\\n\\nNotes: Some of the information presented in the table below may never be complete as Social Security records remain sparse prior to the mid-twentieth century. Stage names and/or aliases are present in italics and quotation marks.\\n\\nChild actresses\\nAbout a dozen children of average height were hired so they could be used for background fill. Sources differ on the number of children used for these roles ranging anywhere from 10 to 12. The names used for the women are maiden names with known aliases present in italics and quotation marks.\\nAs of 2023, at least three \"child munchkins\" are known to be living.\\n\\nLater works (1940–1989)\\nThe 1939 film was adapted into a musical that was released in 1942 that includes the Munchkin characters. The events that take place mirror the film including the song \"Ding-Dong! The Witch Is Dead\". Twenty-seven years later an animated film called The Wonderful Land of Oz was made featuring Jinjur as a main antagonist.\\n\\nOther works\\nThe Munchkins appeared in The Wiz and were played by children and teenagers. (1978)\\nThe Munchkins appear at the end of Return to Oz. They are seen celebrating Dorothy\\'s return after defeating the Nome King and are present at Princess Ozma\\'s coronation. Tommy Kwikstep was also seen there. (1985)\\nIn The Muppets\\' Wizard of Oz, the Munchkins were played by Rizzo the Rat (who portrayed the \"Mayor of Munchkinland\") and his fellow rats. (2005)\\nIn Strawberry Shortcake, more specifically the 2003 cartoon, the fourth season contains an episode called Berry Brick Road that involves a story where Strawberry Shortcake gets whisked from her home. When she lands, she is greeted by three Munchkins that call themselves the Berrykins (after a feylike being from the 1980s cartoon), were tormented by the Wicked Witch of the West, thank Strawberry Shortcake for knocking out the Wicked Witch of the West (which she only did by landing nearby) and pressure her into stealing the latter\\'s magic slippers (which she later uses to return to her home) as a reward. She later returns to Oz to teach the trio a lesson about caring for the environment. The Berrykins do not sing as much as their people had in the original version, and they and the other Munchkins look very small; however, the Berrykins specifically look just like Blueberry Muffin, Rainbow Sherbet, and Lemon Meringue. (2007)\\nThe Munchkins appeared in Dorothy and the Witches of Oz. The Munchkins were first seen in the battle against the Wicked Witch of the West\\'s forces in Oz. They were later brought to Earth by Glinda in order to combat the forces of the Wicked Witch of the West. (2012)\\nThe Munchkins appear in Oz the Great and Powerful. They alongside the Quadlings and the Tinkers as inhabitants of Glinda\\'s protectorate. Although the film is not otherwise a musical, the Munchkins sing and dance much as they do in the 1939 film. (2013)\\nThe Munchkins appear in more than one skit on Mad TV where the 1939 film is parodied. The actors are played by people with dwarfism.\\nThe Munchkins appear in the television series Once Upon a Time. Not much is known about them, but they seem to be similar to the Dwarves in the Enchanted forest as Zelena originally thought that Sneezy was a Munchkin. Also, Regina Mills once mistakenly referred to the Seven Dwarfs as Munchkins.\\nThe Munchkins appear in Dorothy and the Wizard of Oz with the \"Mayor of Munchkinland\" voiced by Bill Fagerbakke and the background Munchkins voiced by Steven Blum and Jessica DiCicco. Ojo, Dr. Pipt, the Lollipop Guild, and the Lullaby League are also featured. Also, Smith & Tinker are depicted as Munchkins in this show.\\n\\nExplanatory notes\\nReferences\\nCitations\\nWorks cited\\nExternal links\\n The dictionary definition of munchkin at Wiktionary'"
      ]
     },
     "execution_count": 35,
     "metadata": {},
     "output_type": "execute_result"
    }
   ],
   "source": [
    "topic = 'munchkin'\n",
    "wikip = wikipediaapi.Wikipedia('foobar')\n",
    "page_ex = wikip.page(topic)\n",
    "wiki_text = page_ex.text\n",
    "wiki_text\n"
   ]
  },
  {
   "cell_type": "markdown",
   "metadata": {
    "id": "EDW80equeXwD"
   },
   "source": [
    "Replace newline chars with spaces before doing any processing. Strip the ' and \"s\" from possessives.\n"
   ]
  },
  {
   "cell_type": "code",
   "execution_count": 36,
   "metadata": {
    "colab": {
     "base_uri": "https://localhost:8080/",
     "height": 140
    },
    "executionInfo": {
     "elapsed": 15,
     "status": "ok",
     "timestamp": 1731444493822,
     "user": {
      "displayName": "deepdive datascience",
      "userId": "06241824193725215643"
     },
     "user_tz": 420
    },
    "id": "6eWVRMUPJvsw",
    "outputId": "78f8f38a-4cd3-4618-bead-f97f953a8f02"
   },
   "outputs": [
    {
     "data": {
      "text/plain": [
       "'A Munchkin is a native of the fictional Munchkin Country in the Oz books by American author L. Frank Baum. They first appear in the classic children novel The Wonderful Wizard of Oz 1900 where they welcome Dorothy Gale to their city in Oz. The Munchkins are described as being the same height as Dorothy and they wear only shades of blue clothing, as blue is the Munchkins favorite color. Blue is also the predominating color that officially represents the eastern quadrant in the Land of Oz. The Munchkins have appeared in various media, including the 1939 film The Wizard of Oz, as well as in various other films and comedy acts.  Concept While Baum may have written about it, there are no surviving notes for the composition of The Wonderful Wizard of Oz. The lack of this information has resulted in speculation of the term origins he used in the book, which include the word Munchkin. Baum researcher Brian Attebery has hypothesized that there might be a connection to the Münchner Kindl, the emblem of the Bavarian city of Munich spelled München in German. The symbol was originally a 13th-century statue of a monk, looking down from the town hall in Munich. Over the years, the image was reproduced many times, for instance as a figure on beer steins, and eventually evolved into a child wearing a pointed hood. Baum family had German origins, suggesting that Baum could have seen one such reproduction in his childhood. It is also possible that Munchkin came from the German word Männchen, which means mannikin or little figure. In 1900, Baum published a book about window displays in which he stressed the importance of mannequins in attracting customers. Another possibility is a connection to Baron Munchausen. This fictional character is based on a real baron who told outrageous tall tales based on his military career. Like the other Oz terms, the word Munchkin ends in a diminutive which in this case refers to the size of the natives.  Literature Oz Books by Frank Baum The Munchkins are first mentioned quote shown in an excerpt from chapter two of The Wonderful Wizard of Oz, titled The Council with the Munchkins. Dorothy initially meets only three of them, along with the Good Witch of the North. The rest of the Munchkins then come out of hiding and are shown to be grateful towards Dorothy for killing their evil ruler the Wicked Witch of the East. Dorothy later eventually finds the yellow brick road and along the way attends a banquet held by a Munchkin man named Boq. Sometime in the book a background story is also given about a Munchkin maiden named Nimmie Amee in later books, who was the former love interest of the Tin Woodman. Baum also included the Munchkin characters in his later works as minor and major individual characters. The Munchkin Jinjur is the main antagonist in Baum second book The Marvelous Land of Oz, where she seeks to overthrow the Scarecrow and take over the Emerald City. Jinjur makes a brief appearance in the next book, entitled Ozma of Oz, and is brought back in Baum twelfth book, The Tin Woodman of Oz. By this time, she is shown to be a more prominent character who is helpful and friendly to Dorothy and her friends. Two other major Munchkin characters also appear in The Tin Woodman of Oz: Tommy Kwikstep and Nimmie Amee. The former appears in the story asking for a wish for running an errand for a witch; the latter is the name given to the mystery Munchkin maiden from the first book, who was the former lover of the Tin Woodman. More information is revealed that tells about the Tin Woodman origin and their tragic love story. Lastly, the Munchkin Unc Nunkie appears in Baum seventh book, The Patchwork Girl of Oz, where he is accidentally turned to stone. His Munchkin nephew Ojo successfully goes on a quest in search of an antidote while learning more about himself in the process.  Subsequent Oz books L. Frank Baum died on 6 May 1919 after which other writers took up writing additional Oz stories. In some cases these books were written under Baum name and included the Munchkins. There is at least one known Munchkin character that was created after Baum death that appears as a major character. Zif is a Munchkin boy who appears in John R. Neill first adaptation called The Royal Book of Oz. Zif is a student at the College of Art and Athletic Perfection; he is both respectful and resentful towards his teacher Wogglebog who considers Zif a nobody or a nothing. The Munchkin characters that Baum had created in his lifetime also appear in these additional works.  Film and musicals Early works 1902–1933 While the 1939 film is the most well known adaptation see section below, it was not the first outside work to show the Munchkins in film or musical format. One of the first musical adaptations of Baum books took place in 1902; it was also dubbed The Wizard of Oz. The Munchkins make their appearance in act one, called The Storm, in which they are shown dancing around their maypole, not noticing that Dorothy house has fallen to earth killing the Wicked Witch of the East. The first film adaptation of Baum works, titled The Wonderful Wizard of Oz, was released in 1910, followed by three sequels. However, it was not until 1914 that Munchkin characters first appeared in film works. Ojo the Lucky and Unc Nunkie both appear in a film titled The Patchwork Girl of Oz based on the book of the same name. This film stars American actress Violet MacMillan as Ojo and was produced by Baum.  1939 film The 1939 movie musical The Wizard of Oz was loosely based on Baum novel. Notable differences of the Munchkins include their country name of Munchkinland and their clothes of many colors instead of an all-blue attire. In the musical, the Munchkins are portrayed by the thirty-odd members of the Singer Midgets, a European performing troupe made up of adult actors with dwarfism. Their numbers were swelled when a national talent search brought in a further ninety-four little men, women, and teenagers, with a few average-sized children were also included as background extras in order to make up the 124 characters requested by MGM. In the musical, the Munchkins first appear when Dorothy and Toto arrive in the Land of Oz after her house lands on the Wicked Witch of the East. The Munchkins hide from all the commotion until Glinda the Good Witch arrives reassuring them that everything is okay. Dorothy tells them how she arrived in the Land of Oz through a musical number and the Munchkins celebrate. To make it official, a Barrister and a number of City Fathers insist to the Mayor of the Munchkin City that they must make sure that the Wicked Witch of the East is really dead before the celebration continues. The Coroner confirms this by saying that the witch is not only merely dead but is indeed most sincerely dead while showing a Certificate of Death. The Munchkins then celebrate further as Dorothy receives gifts from the Lullaby League and the Lollipop Guild. Near the end of the song, the Wicked Witch of the West arrives, which causes the Munchkins to panic. After the Wicked Witch of the West leaves, Glinda tells Dorothy to follow the yellow brick road to the Emerald City as the Munchkins guide her out of Munchkinland. The Munchkin actors have since not avoided controversy with alleged behavior behind the scenes. In a 1967 interview, Judy Garland referred to all of the Munchkins as little drunks who got intoxicated every night to the point where they had to be picked up in butterfly nets. These accusations were denied as fabrications by fellow Munchkin Margaret Pellegrini, who said only a couple of kids from Germany even drank beer. On 20 November 2007, the Munchkins were given a star on the Hollywood Walk of Fame. Seven of the surviving Munchkin actors from the film were present. As a result of the popularity of the 1939 film, the word munchkin has entered the English language as a reference to small children, persons with dwarfism, or anything of diminutive stature.  Actors and actresses The following is a list of actors who portrayed the Munchkins in the 1939 film. Most of the dwarfs hired were acquired for MGM by Leo Singer, the proprietor of Singer Midgets. A Daily Variety news story from 17 August 1938, stated 124 dwarves had been signed to play Munchkins; modern sources place the number either at 122 or 124. An additional dozen or so child actors were hired to make up for the shortage of dwarves. At least one Munchkin actor, Dale Paullin stage name Paul Dale, did not make the final cut for the movie. Only two actors Joseph Koziel and Frank Cucksey used their actual voices for the dialogue exchanged with Dorothy where she is given the flowers. The rest of the voices, such as the Munchkin chorus, were created by Pinto Colvig and Billy Bletcher with their voices recorded at a slow speed, which were subsequently sped-up when played back. In 1989, author Stephen Cox researched, found, and wrote about the surviving Munchkin actors fifty years after they made the film. He wrote about them in his book, The Munchkins Remember 1989, E.P. Dutton, which was later revised as The Munchkins of Oz Cumberland House, and his book remained in print for nearly two decades. When he wrote the book, 33 of the actors with dwarfism who appeared in the film were still alive and were interviewed. Several of them outlived all the major cast, as well as the original Tin Man Buddy Ebsen. Jerry Maren, who played the green Lollipop Guild member, was the last living adult Munchkin actor. Maren was the only Munchkin alive when the film longest living cast member, Shep Houghton, an extra, died in 2016.  Notes: Some of the information presented in the table below may never be complete as Social Security records remain sparse prior to the mid-twentieth century. Stage names and/or aliases are present in italics and quotation marks.  Child actresses About a dozen children of average height were hired so they could be used for background fill. Sources differ on the number of children used for these roles ranging anywhere from 10 to 12. The names used for the women are maiden names with known aliases present in italics and quotation marks. As of 2023, at least three child munchkins are known to be living.  Later works 1940–1989 The 1939 film was adapted into a musical that was released in 1942 that includes the Munchkin characters. The events that take place mirror the film including the song Ding-Dong! The Witch Is Dead. Twenty-seven years later an animated film called The Wonderful Land of Oz was made featuring Jinjur as a main antagonist.  Other works The Munchkins appeared in The Wiz and were played by children and teenagers. 1978 The Munchkins appear at the end of Return to Oz. They are seen celebrating Dorothy return after defeating the Nome King and are present at Princess Ozma coronation. Tommy Kwikstep was also seen there. 1985 In The Muppets Wizard of Oz, the Munchkins were played by Rizzo the Rat who portrayed the Mayor of Munchkinland and his fellow rats. 2005 In Strawberry Shortcake, more specifically the 2003 cartoon, the fourth season contains an episode called Berry Brick Road that involves a story where Strawberry Shortcake gets whisked from her home. When she lands, she is greeted by three Munchkins that call themselves the Berrykins after a feylike being from the 1980s cartoon, were tormented by the Wicked Witch of the West, thank Strawberry Shortcake for knocking out the Wicked Witch of the West which she only did by landing nearby and pressure her into stealing the latter magic slippers which she later uses to return to her home as a reward. She later returns to Oz to teach the trio a lesson about caring for the environment. The Berrykins do not sing as much as their people had in the original version, and they and the other Munchkins look very small; however, the Berrykins specifically look just like Blueberry Muffin, Rainbow Sherbet, and Lemon Meringue. 2007 The Munchkins appeared in Dorothy and the Witches of Oz. The Munchkins were first seen in the battle against the Wicked Witch of the West forces in Oz. They were later brought to Earth by Glinda in order to combat the forces of the Wicked Witch of the West. 2012 The Munchkins appear in Oz the Great and Powerful. They alongside the Quadlings and the Tinkers as inhabitants of Glinda protectorate. Although the film is not otherwise a musical, the Munchkins sing and dance much as they do in the 1939 film. 2013 The Munchkins appear in more than one skit on Mad TV where the 1939 film is parodied. The actors are played by people with dwarfism. The Munchkins appear in the television series Once Upon a Time. Not much is known about them, but they seem to be similar to the Dwarves in the Enchanted forest as Zelena originally thought that Sneezy was a Munchkin. Also, Regina Mills once mistakenly referred to the Seven Dwarfs as Munchkins. The Munchkins appear in Dorothy and the Wizard of Oz with the Mayor of Munchkinland voiced by Bill Fagerbakke and the background Munchkins voiced by Steven Blum and Jessica DiCicco. Ojo, Dr. Pipt, the Lollipop Guild, and the Lullaby League are also featured. Also, Smith & Tinker are depicted as Munchkins in this show.  Explanatory notes References Citations Works cited External links  The dictionary definition of munchkin at Wiktionary'"
      ]
     },
     "execution_count": 36,
     "metadata": {},
     "output_type": "execute_result"
    }
   ],
   "source": [
    "wiki_text_clean = (\n",
    "  wiki_text\n",
    "  .replace(\"\\n\",\" \")\n",
    "  .replace(\"\\'s\",'')\n",
    "  .replace('\\'','')\n",
    "  .replace(\"(\", \"\")\n",
    "  .replace(\")\", \"\")\n",
    "  .replace('\"', \"\")\n",
    ")\n",
    "wiki_text_clean\n"
   ]
  },
  {
   "cell_type": "markdown",
   "metadata": {
    "id": "RI0_S8F9eekZ"
   },
   "source": [
    "Convert to textblob"
   ]
  },
  {
   "cell_type": "code",
   "execution_count": 37,
   "metadata": {
    "executionInfo": {
     "elapsed": 15,
     "status": "ok",
     "timestamp": 1731444493823,
     "user": {
      "displayName": "deepdive datascience",
      "userId": "06241824193725215643"
     },
     "user_tz": 420
    },
    "id": "oDIJiWY1Kwd3"
   },
   "outputs": [],
   "source": [
    "wiki_blob = TextBlob(wiki_text_clean)\n"
   ]
  },
  {
   "cell_type": "markdown",
   "metadata": {
    "id": "TQ3100SrgDB8"
   },
   "source": [
    "Only look at first 5 sentences\n"
   ]
  },
  {
   "cell_type": "code",
   "execution_count": 38,
   "metadata": {
    "colab": {
     "base_uri": "https://localhost:8080/"
    },
    "executionInfo": {
     "elapsed": 14,
     "status": "ok",
     "timestamp": 1731444493823,
     "user": {
      "displayName": "deepdive datascience",
      "userId": "06241824193725215643"
     },
     "user_tz": 420
    },
    "id": "jj7xKSFGLPoU",
    "outputId": "d36a6ba7-86c8-4288-c227-a419fe4bf656"
   },
   "outputs": [
    {
     "data": {
      "text/plain": [
       "[Sentence(\"A Munchkin is a native of the fictional Munchkin Country in the Oz books by American author L. Frank Baum.\"),\n",
       " Sentence(\"They first appear in the classic children novel The Wonderful Wizard of Oz 1900 where they welcome Dorothy Gale to their city in Oz.\"),\n",
       " Sentence(\"The Munchkins are described as being the same height as Dorothy and they wear only shades of blue clothing, as blue is the Munchkins favorite color.\"),\n",
       " Sentence(\"Blue is also the predominating color that officially represents the eastern quadrant in the Land of Oz.\"),\n",
       " Sentence(\"The Munchkins have appeared in various media, including the 1939 film The Wizard of Oz, as well as in various other films and comedy acts.\"),\n",
       " Sentence(\"Concept While Baum may have written about it, there are no surviving notes for the composition of The Wonderful Wizard of Oz.\"),\n",
       " Sentence(\"The lack of this information has resulted in speculation of the term origins he used in the book, which include the word Munchkin.\"),\n",
       " Sentence(\"Baum researcher Brian Attebery has hypothesized that there might be a connection to the Münchner Kindl, the emblem of the Bavarian city of Munich spelled München in German.\"),\n",
       " Sentence(\"The symbol was originally a 13th-century statue of a monk, looking down from the town hall in Munich.\"),\n",
       " Sentence(\"Over the years, the image was reproduced many times, for instance as a figure on beer steins, and eventually evolved into a child wearing a pointed hood.\"),\n",
       " Sentence(\"Baum family had German origins, suggesting that Baum could have seen one such reproduction in his childhood.\"),\n",
       " Sentence(\"It is also possible that Munchkin came from the German word Männchen, which means mannikin or little figure.\"),\n",
       " Sentence(\"In 1900, Baum published a book about window displays in which he stressed the importance of mannequins in attracting customers.\"),\n",
       " Sentence(\"Another possibility is a connection to Baron Munchausen.\"),\n",
       " Sentence(\"This fictional character is based on a real baron who told outrageous tall tales based on his military career.\"),\n",
       " Sentence(\"Like the other Oz terms, the word Munchkin ends in a diminutive which in this case refers to the size of the natives.\"),\n",
       " Sentence(\"Literature Oz Books by Frank Baum The Munchkins are first mentioned quote shown in an excerpt from chapter two of The Wonderful Wizard of Oz, titled The Council with the Munchkins.\"),\n",
       " Sentence(\"Dorothy initially meets only three of them, along with the Good Witch of the North.\"),\n",
       " Sentence(\"The rest of the Munchkins then come out of hiding and are shown to be grateful towards Dorothy for killing their evil ruler the Wicked Witch of the East.\"),\n",
       " Sentence(\"Dorothy later eventually finds the yellow brick road and along the way attends a banquet held by a Munchkin man named Boq.\")]"
      ]
     },
     "execution_count": 38,
     "metadata": {},
     "output_type": "execute_result"
    }
   ],
   "source": [
    "my_sentences = wiki_blob.sentences[0:20]\n",
    "my_sentences\n"
   ]
  },
  {
   "cell_type": "code",
   "execution_count": 39,
   "metadata": {
    "colab": {
     "base_uri": "https://localhost:8080/"
    },
    "executionInfo": {
     "elapsed": 155,
     "status": "ok",
     "timestamp": 1731444493968,
     "user": {
      "displayName": "deepdive datascience",
      "userId": "06241824193725215643"
     },
     "user_tz": 420
    },
    "id": "5hEBNc0f-t0K",
    "outputId": "e700109a-a131-421d-b9eb-284836fad87c"
   },
   "outputs": [
    {
     "data": {
      "text/plain": [
       "109"
      ]
     },
     "execution_count": 39,
     "metadata": {},
     "output_type": "execute_result"
    }
   ],
   "source": [
    "len(wiki_blob.sentences)"
   ]
  },
  {
   "cell_type": "markdown",
   "metadata": {
    "id": "e3UKbRlHgF2P"
   },
   "source": [
    "Singularize and convert back to string\n"
   ]
  },
  {
   "cell_type": "code",
   "execution_count": 40,
   "metadata": {
    "colab": {
     "base_uri": "https://localhost:8080/"
    },
    "executionInfo": {
     "elapsed": 18,
     "status": "ok",
     "timestamp": 1731444493969,
     "user": {
      "displayName": "deepdive datascience",
      "userId": "06241824193725215643"
     },
     "user_tz": 420
    },
    "id": "iRKdbTRh-Caa",
    "outputId": "ae642cd6-fe1f-4b4c-e2b5-2e624f6d310c"
   },
   "outputs": [
    {
     "data": {
      "text/plain": [
       "['A Munchkin is a native of the fictional Munchkin Country in the Oz book by American author L Frank Baum',\n",
       " 'They first appear in the classic child novel The Wonderful Wizard of Oz 1900 where they welcome Dorothy Gale to their city in Oz',\n",
       " 'The Munchkin are described a being the same height a Dorothy and they wear only shade of blue clothing a blue is the Munchkin favorite color',\n",
       " 'Blue is also the predominating color that officially represent the eastern quadrant in the Land of Oz',\n",
       " 'The Munchkin have appeared in variou medium including the 1939 film The Wizard of Oz a well a in variou other film and comedy act',\n",
       " 'Concept While Baum may have written about it there are no surviving note for the composition of The Wonderful Wizard of Oz',\n",
       " 'The lack of thi information ha resulted in speculation of the term origin he used in the book which include the word Munchkin',\n",
       " 'Baum researcher Brian Attebery ha hypothesized that there might be a connection to the Münchner Kindl the emblem of the Bavarian city of Munich spelled München in German',\n",
       " 'The symbol wa originally a 13th-century statue of a monk looking down from the town hall in Munich',\n",
       " 'Over the year the image wa reproduced many time for instance a a figure on beer stein and eventually evolved into a child wearing a pointed hood',\n",
       " 'Baum family had German origin suggesting that Baum could have seen one such reproduction in hi childhood',\n",
       " 'It is also possible that Munchkin came from the German word Männchen which mean mannikin or little figure',\n",
       " 'In 1900 Baum published a book about window display in which he stressed the importance of mannequin in attracting customer',\n",
       " 'Another possibility is a connection to Baron Munchausen',\n",
       " 'Thi fictional character is based on a real baron who told outrageou tall tale based on hi military career',\n",
       " 'Like the other Oz term the word Munchkin end in a diminutive which in thi case refer to the size of the native',\n",
       " 'Literature Oz Book by Frank Baum The Munchkin are first mentioned quote shown in an excerpt from chapter two of The Wonderful Wizard of Oz titled The Council with the Munchkin',\n",
       " 'Dorothy initially meet only three of them along with the Good Witch of the North',\n",
       " 'The rest of the Munchkin then come out of hiding and are shown to be grateful toward Dorothy for killing their evil ruler the Wicked Witch of the East',\n",
       " 'Dorothy later eventually find the yellow brick road and along the way attend a banquet held by a Munchkin man named Boq']"
      ]
     },
     "execution_count": 40,
     "metadata": {},
     "output_type": "execute_result"
    }
   ],
   "source": [
    "for i, sentence in enumerate(my_sentences):\n",
    "  sing = [x.singularize() for x in sentence.words]\n",
    "  my_sentences[i] = ' '.join(sing)\n",
    "my_sentences\n"
   ]
  },
  {
   "cell_type": "markdown",
   "metadata": {
    "id": "G3nAYnQNbfwR"
   },
   "source": [
    "## TF-IDF without using BoW"
   ]
  },
  {
   "cell_type": "markdown",
   "metadata": {
    "id": "FoQWRs8MdguH"
   },
   "source": [
    "Perform the TF-IDF Vectorization\n"
   ]
  },
  {
   "cell_type": "code",
   "execution_count": 41,
   "metadata": {
    "executionInfo": {
     "elapsed": 12,
     "status": "ok",
     "timestamp": 1731444493969,
     "user": {
      "displayName": "deepdive datascience",
      "userId": "06241824193725215643"
     },
     "user_tz": 420
    },
    "id": "gUILAz5BKGB1"
   },
   "outputs": [],
   "source": [
    "tf_idf_matrix = TfidfVectorizer(stop_words = 'english')\n",
    "tf_idf = tf_idf_matrix.fit_transform(my_sentences)\n"
   ]
  },
  {
   "cell_type": "code",
   "execution_count": 42,
   "metadata": {
    "colab": {
     "base_uri": "https://localhost:8080/"
    },
    "executionInfo": {
     "elapsed": 12,
     "status": "ok",
     "timestamp": 1731444493969,
     "user": {
      "displayName": "deepdive datascience",
      "userId": "06241824193725215643"
     },
     "user_tz": 420
    },
    "id": "sFgeWD4jZTLF",
    "outputId": "f7e6f93b-6486-44a5-9465-5d34e16d8353"
   },
   "outputs": [
    {
     "data": {
      "text/plain": [
       "(20, 166)"
      ]
     },
     "execution_count": 42,
     "metadata": {},
     "output_type": "execute_result"
    }
   ],
   "source": [
    "tf_idf.shape"
   ]
  },
  {
   "cell_type": "markdown",
   "metadata": {
    "id": "8VVFFNFSdjVK"
   },
   "source": [
    "Print out results in a data frame\n"
   ]
  },
  {
   "cell_type": "code",
   "execution_count": 43,
   "metadata": {
    "colab": {
     "base_uri": "https://localhost:8080/",
     "height": 444
    },
    "executionInfo": {
     "elapsed": 176,
     "status": "ok",
     "timestamp": 1731444494139,
     "user": {
      "displayName": "deepdive datascience",
      "userId": "06241824193725215643"
     },
     "user_tz": 420
    },
    "id": "Ix2ijDZl5uVf",
    "outputId": "e0e8dfa6-e304-4a6f-8b89-681742181b60"
   },
   "outputs": [
    {
     "data": {
      "text/html": [
       "<div>\n",
       "<style scoped>\n",
       "    .dataframe tbody tr th:only-of-type {\n",
       "        vertical-align: middle;\n",
       "    }\n",
       "\n",
       "    .dataframe tbody tr th {\n",
       "        vertical-align: top;\n",
       "    }\n",
       "\n",
       "    .dataframe thead th {\n",
       "        text-align: right;\n",
       "    }\n",
       "</style>\n",
       "<table border=\"1\" class=\"dataframe\">\n",
       "  <thead>\n",
       "    <tr style=\"text-align: right;\">\n",
       "      <th></th>\n",
       "      <th>0</th>\n",
       "      <th>1</th>\n",
       "      <th>2</th>\n",
       "      <th>3</th>\n",
       "      <th>4</th>\n",
       "      <th>5</th>\n",
       "      <th>6</th>\n",
       "      <th>7</th>\n",
       "      <th>8</th>\n",
       "      <th>9</th>\n",
       "      <th>10</th>\n",
       "      <th>11</th>\n",
       "      <th>12</th>\n",
       "      <th>13</th>\n",
       "      <th>14</th>\n",
       "      <th>15</th>\n",
       "      <th>16</th>\n",
       "      <th>17</th>\n",
       "      <th>18</th>\n",
       "      <th>19</th>\n",
       "    </tr>\n",
       "  </thead>\n",
       "  <tbody>\n",
       "    <tr>\n",
       "      <th>13th</th>\n",
       "      <td>0.000000</td>\n",
       "      <td>0.000000</td>\n",
       "      <td>0.0</td>\n",
       "      <td>0.0</td>\n",
       "      <td>0.000000</td>\n",
       "      <td>0.000000</td>\n",
       "      <td>0.000000</td>\n",
       "      <td>0.0</td>\n",
       "      <td>0.307943</td>\n",
       "      <td>0.0000</td>\n",
       "      <td>0.0</td>\n",
       "      <td>0.000000</td>\n",
       "      <td>0.000000</td>\n",
       "      <td>0.0</td>\n",
       "      <td>0.0</td>\n",
       "      <td>0.000000</td>\n",
       "      <td>0.000000</td>\n",
       "      <td>0.0</td>\n",
       "      <td>0.0</td>\n",
       "      <td>0.000000</td>\n",
       "    </tr>\n",
       "    <tr>\n",
       "      <th>1900</th>\n",
       "      <td>0.000000</td>\n",
       "      <td>0.273863</td>\n",
       "      <td>0.0</td>\n",
       "      <td>0.0</td>\n",
       "      <td>0.000000</td>\n",
       "      <td>0.000000</td>\n",
       "      <td>0.000000</td>\n",
       "      <td>0.0</td>\n",
       "      <td>0.000000</td>\n",
       "      <td>0.0000</td>\n",
       "      <td>0.0</td>\n",
       "      <td>0.000000</td>\n",
       "      <td>0.282341</td>\n",
       "      <td>0.0</td>\n",
       "      <td>0.0</td>\n",
       "      <td>0.000000</td>\n",
       "      <td>0.000000</td>\n",
       "      <td>0.0</td>\n",
       "      <td>0.0</td>\n",
       "      <td>0.000000</td>\n",
       "    </tr>\n",
       "    <tr>\n",
       "      <th>1939</th>\n",
       "      <td>0.000000</td>\n",
       "      <td>0.000000</td>\n",
       "      <td>0.0</td>\n",
       "      <td>0.0</td>\n",
       "      <td>0.256986</td>\n",
       "      <td>0.000000</td>\n",
       "      <td>0.000000</td>\n",
       "      <td>0.0</td>\n",
       "      <td>0.000000</td>\n",
       "      <td>0.0000</td>\n",
       "      <td>0.0</td>\n",
       "      <td>0.000000</td>\n",
       "      <td>0.000000</td>\n",
       "      <td>0.0</td>\n",
       "      <td>0.0</td>\n",
       "      <td>0.000000</td>\n",
       "      <td>0.000000</td>\n",
       "      <td>0.0</td>\n",
       "      <td>0.0</td>\n",
       "      <td>0.000000</td>\n",
       "    </tr>\n",
       "    <tr>\n",
       "      <th>act</th>\n",
       "      <td>0.000000</td>\n",
       "      <td>0.000000</td>\n",
       "      <td>0.0</td>\n",
       "      <td>0.0</td>\n",
       "      <td>0.256986</td>\n",
       "      <td>0.000000</td>\n",
       "      <td>0.000000</td>\n",
       "      <td>0.0</td>\n",
       "      <td>0.000000</td>\n",
       "      <td>0.0000</td>\n",
       "      <td>0.0</td>\n",
       "      <td>0.000000</td>\n",
       "      <td>0.000000</td>\n",
       "      <td>0.0</td>\n",
       "      <td>0.0</td>\n",
       "      <td>0.000000</td>\n",
       "      <td>0.000000</td>\n",
       "      <td>0.0</td>\n",
       "      <td>0.0</td>\n",
       "      <td>0.000000</td>\n",
       "    </tr>\n",
       "    <tr>\n",
       "      <th>american</th>\n",
       "      <td>0.361256</td>\n",
       "      <td>0.000000</td>\n",
       "      <td>0.0</td>\n",
       "      <td>0.0</td>\n",
       "      <td>0.000000</td>\n",
       "      <td>0.000000</td>\n",
       "      <td>0.000000</td>\n",
       "      <td>0.0</td>\n",
       "      <td>0.000000</td>\n",
       "      <td>0.0000</td>\n",
       "      <td>0.0</td>\n",
       "      <td>0.000000</td>\n",
       "      <td>0.000000</td>\n",
       "      <td>0.0</td>\n",
       "      <td>0.0</td>\n",
       "      <td>0.000000</td>\n",
       "      <td>0.000000</td>\n",
       "      <td>0.0</td>\n",
       "      <td>0.0</td>\n",
       "      <td>0.000000</td>\n",
       "    </tr>\n",
       "    <tr>\n",
       "      <th>...</th>\n",
       "      <td>...</td>\n",
       "      <td>...</td>\n",
       "      <td>...</td>\n",
       "      <td>...</td>\n",
       "      <td>...</td>\n",
       "      <td>...</td>\n",
       "      <td>...</td>\n",
       "      <td>...</td>\n",
       "      <td>...</td>\n",
       "      <td>...</td>\n",
       "      <td>...</td>\n",
       "      <td>...</td>\n",
       "      <td>...</td>\n",
       "      <td>...</td>\n",
       "      <td>...</td>\n",
       "      <td>...</td>\n",
       "      <td>...</td>\n",
       "      <td>...</td>\n",
       "      <td>...</td>\n",
       "      <td>...</td>\n",
       "    </tr>\n",
       "    <tr>\n",
       "      <th>wonderful</th>\n",
       "      <td>0.000000</td>\n",
       "      <td>0.247119</td>\n",
       "      <td>0.0</td>\n",
       "      <td>0.0</td>\n",
       "      <td>0.000000</td>\n",
       "      <td>0.302110</td>\n",
       "      <td>0.000000</td>\n",
       "      <td>0.0</td>\n",
       "      <td>0.000000</td>\n",
       "      <td>0.0000</td>\n",
       "      <td>0.0</td>\n",
       "      <td>0.000000</td>\n",
       "      <td>0.000000</td>\n",
       "      <td>0.0</td>\n",
       "      <td>0.0</td>\n",
       "      <td>0.000000</td>\n",
       "      <td>0.219328</td>\n",
       "      <td>0.0</td>\n",
       "      <td>0.0</td>\n",
       "      <td>0.000000</td>\n",
       "    </tr>\n",
       "    <tr>\n",
       "      <th>word</th>\n",
       "      <td>0.000000</td>\n",
       "      <td>0.000000</td>\n",
       "      <td>0.0</td>\n",
       "      <td>0.0</td>\n",
       "      <td>0.000000</td>\n",
       "      <td>0.000000</td>\n",
       "      <td>0.246257</td>\n",
       "      <td>0.0</td>\n",
       "      <td>0.000000</td>\n",
       "      <td>0.0000</td>\n",
       "      <td>0.0</td>\n",
       "      <td>0.275297</td>\n",
       "      <td>0.000000</td>\n",
       "      <td>0.0</td>\n",
       "      <td>0.0</td>\n",
       "      <td>0.258464</td>\n",
       "      <td>0.000000</td>\n",
       "      <td>0.0</td>\n",
       "      <td>0.0</td>\n",
       "      <td>0.000000</td>\n",
       "    </tr>\n",
       "    <tr>\n",
       "      <th>written</th>\n",
       "      <td>0.000000</td>\n",
       "      <td>0.000000</td>\n",
       "      <td>0.0</td>\n",
       "      <td>0.0</td>\n",
       "      <td>0.000000</td>\n",
       "      <td>0.380887</td>\n",
       "      <td>0.000000</td>\n",
       "      <td>0.0</td>\n",
       "      <td>0.000000</td>\n",
       "      <td>0.0000</td>\n",
       "      <td>0.0</td>\n",
       "      <td>0.000000</td>\n",
       "      <td>0.000000</td>\n",
       "      <td>0.0</td>\n",
       "      <td>0.0</td>\n",
       "      <td>0.000000</td>\n",
       "      <td>0.000000</td>\n",
       "      <td>0.0</td>\n",
       "      <td>0.0</td>\n",
       "      <td>0.000000</td>\n",
       "    </tr>\n",
       "    <tr>\n",
       "      <th>year</th>\n",
       "      <td>0.000000</td>\n",
       "      <td>0.000000</td>\n",
       "      <td>0.0</td>\n",
       "      <td>0.0</td>\n",
       "      <td>0.000000</td>\n",
       "      <td>0.000000</td>\n",
       "      <td>0.000000</td>\n",
       "      <td>0.0</td>\n",
       "      <td>0.000000</td>\n",
       "      <td>0.2664</td>\n",
       "      <td>0.0</td>\n",
       "      <td>0.000000</td>\n",
       "      <td>0.000000</td>\n",
       "      <td>0.0</td>\n",
       "      <td>0.0</td>\n",
       "      <td>0.000000</td>\n",
       "      <td>0.000000</td>\n",
       "      <td>0.0</td>\n",
       "      <td>0.0</td>\n",
       "      <td>0.000000</td>\n",
       "    </tr>\n",
       "    <tr>\n",
       "      <th>yellow</th>\n",
       "      <td>0.000000</td>\n",
       "      <td>0.000000</td>\n",
       "      <td>0.0</td>\n",
       "      <td>0.0</td>\n",
       "      <td>0.000000</td>\n",
       "      <td>0.000000</td>\n",
       "      <td>0.000000</td>\n",
       "      <td>0.0</td>\n",
       "      <td>0.000000</td>\n",
       "      <td>0.0000</td>\n",
       "      <td>0.0</td>\n",
       "      <td>0.000000</td>\n",
       "      <td>0.000000</td>\n",
       "      <td>0.0</td>\n",
       "      <td>0.0</td>\n",
       "      <td>0.000000</td>\n",
       "      <td>0.000000</td>\n",
       "      <td>0.0</td>\n",
       "      <td>0.0</td>\n",
       "      <td>0.282903</td>\n",
       "    </tr>\n",
       "  </tbody>\n",
       "</table>\n",
       "<p>166 rows × 20 columns</p>\n",
       "</div>"
      ],
      "text/plain": [
       "                 0         1    2    3         4         5         6    7   \\\n",
       "13th       0.000000  0.000000  0.0  0.0  0.000000  0.000000  0.000000  0.0   \n",
       "1900       0.000000  0.273863  0.0  0.0  0.000000  0.000000  0.000000  0.0   \n",
       "1939       0.000000  0.000000  0.0  0.0  0.256986  0.000000  0.000000  0.0   \n",
       "act        0.000000  0.000000  0.0  0.0  0.256986  0.000000  0.000000  0.0   \n",
       "american   0.361256  0.000000  0.0  0.0  0.000000  0.000000  0.000000  0.0   \n",
       "...             ...       ...  ...  ...       ...       ...       ...  ...   \n",
       "wonderful  0.000000  0.247119  0.0  0.0  0.000000  0.302110  0.000000  0.0   \n",
       "word       0.000000  0.000000  0.0  0.0  0.000000  0.000000  0.246257  0.0   \n",
       "written    0.000000  0.000000  0.0  0.0  0.000000  0.380887  0.000000  0.0   \n",
       "year       0.000000  0.000000  0.0  0.0  0.000000  0.000000  0.000000  0.0   \n",
       "yellow     0.000000  0.000000  0.0  0.0  0.000000  0.000000  0.000000  0.0   \n",
       "\n",
       "                 8       9    10        11        12   13   14        15  \\\n",
       "13th       0.307943  0.0000  0.0  0.000000  0.000000  0.0  0.0  0.000000   \n",
       "1900       0.000000  0.0000  0.0  0.000000  0.282341  0.0  0.0  0.000000   \n",
       "1939       0.000000  0.0000  0.0  0.000000  0.000000  0.0  0.0  0.000000   \n",
       "act        0.000000  0.0000  0.0  0.000000  0.000000  0.0  0.0  0.000000   \n",
       "american   0.000000  0.0000  0.0  0.000000  0.000000  0.0  0.0  0.000000   \n",
       "...             ...     ...  ...       ...       ...  ...  ...       ...   \n",
       "wonderful  0.000000  0.0000  0.0  0.000000  0.000000  0.0  0.0  0.000000   \n",
       "word       0.000000  0.0000  0.0  0.275297  0.000000  0.0  0.0  0.258464   \n",
       "written    0.000000  0.0000  0.0  0.000000  0.000000  0.0  0.0  0.000000   \n",
       "year       0.000000  0.2664  0.0  0.000000  0.000000  0.0  0.0  0.000000   \n",
       "yellow     0.000000  0.0000  0.0  0.000000  0.000000  0.0  0.0  0.000000   \n",
       "\n",
       "                 16   17   18        19  \n",
       "13th       0.000000  0.0  0.0  0.000000  \n",
       "1900       0.000000  0.0  0.0  0.000000  \n",
       "1939       0.000000  0.0  0.0  0.000000  \n",
       "act        0.000000  0.0  0.0  0.000000  \n",
       "american   0.000000  0.0  0.0  0.000000  \n",
       "...             ...  ...  ...       ...  \n",
       "wonderful  0.219328  0.0  0.0  0.000000  \n",
       "word       0.000000  0.0  0.0  0.000000  \n",
       "written    0.000000  0.0  0.0  0.000000  \n",
       "year       0.000000  0.0  0.0  0.000000  \n",
       "yellow     0.000000  0.0  0.0  0.282903  \n",
       "\n",
       "[166 rows x 20 columns]"
      ]
     },
     "execution_count": 43,
     "metadata": {},
     "output_type": "execute_result"
    }
   ],
   "source": [
    "results_df = pd.DataFrame(\n",
    "  data = tf_idf.toarray(),\n",
    "  columns = tf_idf_matrix.get_feature_names_out()\n",
    ")\n",
    "results_df.transpose()\n"
   ]
  },
  {
   "cell_type": "markdown",
   "metadata": {
    "id": "gnGGQ8o_-wlK"
   },
   "source": [
    "## K Nearest Neighbors"
   ]
  },
  {
   "cell_type": "markdown",
   "metadata": {
    "id": "AIMOL658cLsc"
   },
   "source": [
    "Fit nearest neighbors\n"
   ]
  },
  {
   "cell_type": "code",
   "execution_count": 44,
   "metadata": {
    "executionInfo": {
     "elapsed": 27,
     "status": "ok",
     "timestamp": 1731444494139,
     "user": {
      "displayName": "deepdive datascience",
      "userId": "06241824193725215643"
     },
     "user_tz": 420
    },
    "id": "yRWvvK4t-xjr"
   },
   "outputs": [],
   "source": [
    "nn = NearestNeighbors().fit(tf_idf)\n"
   ]
  },
  {
   "cell_type": "markdown",
   "metadata": {
    "id": "gera5zE3cIKq"
   },
   "source": [
    "Get nearest neighbors distances to first sentence\n"
   ]
  },
  {
   "cell_type": "code",
   "execution_count": 45,
   "metadata": {
    "executionInfo": {
     "elapsed": 26,
     "status": "ok",
     "timestamp": 1731444494139,
     "user": {
      "displayName": "deepdive datascience",
      "userId": "06241824193725215643"
     },
     "user_tz": 420
    },
    "id": "iHMcIZHr-zHg"
   },
   "outputs": [],
   "source": [
    "distances, indices = nn.kneighbors(\n",
    "  X = tf_idf[0],\n",
    "  n_neighbors = 3,\n",
    ")\n"
   ]
  },
  {
   "cell_type": "code",
   "execution_count": 46,
   "metadata": {
    "colab": {
     "base_uri": "https://localhost:8080/"
    },
    "executionInfo": {
     "elapsed": 26,
     "status": "ok",
     "timestamp": 1731444494140,
     "user": {
      "displayName": "deepdive datascience",
      "userId": "06241824193725215643"
     },
     "user_tz": 420
    },
    "id": "hL_E2hcd-1TV",
    "outputId": "a9a7c922-198e-4625-df4f-2d430cdd163d"
   },
   "outputs": [
    {
     "data": {
      "text/plain": [
       "array([[0.        , 1.14391441, 1.26882977]])"
      ]
     },
     "execution_count": 46,
     "metadata": {},
     "output_type": "execute_result"
    }
   ],
   "source": [
    "distances\n"
   ]
  },
  {
   "cell_type": "code",
   "execution_count": 47,
   "metadata": {
    "colab": {
     "base_uri": "https://localhost:8080/"
    },
    "executionInfo": {
     "elapsed": 21,
     "status": "ok",
     "timestamp": 1731444494140,
     "user": {
      "displayName": "deepdive datascience",
      "userId": "06241824193725215643"
     },
     "user_tz": 420
    },
    "id": "1Yh33IuK-2GT",
    "outputId": "3f891cb7-ebef-4411-8a53-1aabfe657b5b"
   },
   "outputs": [
    {
     "data": {
      "text/plain": [
       "array([[ 0, 16, 15]])"
      ]
     },
     "execution_count": 47,
     "metadata": {},
     "output_type": "execute_result"
    }
   ],
   "source": [
    "indices\n"
   ]
  },
  {
   "cell_type": "code",
   "execution_count": 48,
   "metadata": {
    "colab": {
     "base_uri": "https://localhost:8080/"
    },
    "executionInfo": {
     "elapsed": 16,
     "status": "ok",
     "timestamp": 1731444494140,
     "user": {
      "displayName": "deepdive datascience",
      "userId": "06241824193725215643"
     },
     "user_tz": 420
    },
    "id": "NmLSTjxeg__8",
    "outputId": "2506091b-e23f-4934-f3c5-29370139fde7"
   },
   "outputs": [
    {
     "data": {
      "text/plain": [
       "array([['A Munchkin is a native of the fictional Munchkin Country in the Oz book by American author L Frank Baum',\n",
       "        'Literature Oz Book by Frank Baum The Munchkin are first mentioned quote shown in an excerpt from chapter two of The Wonderful Wizard of Oz titled The Council with the Munchkin',\n",
       "        'Like the other Oz term the word Munchkin end in a diminutive which in thi case refer to the size of the native']],\n",
       "      dtype='<U175')"
      ]
     },
     "execution_count": 48,
     "metadata": {},
     "output_type": "execute_result"
    }
   ],
   "source": [
    "np.array(my_sentences)[indices]\n"
   ]
  },
  {
   "cell_type": "code",
   "execution_count": null,
   "metadata": {
    "executionInfo": {
     "elapsed": 12,
     "status": "ok",
     "timestamp": 1731444494140,
     "user": {
      "displayName": "deepdive datascience",
      "userId": "06241824193725215643"
     },
     "user_tz": 420
    },
    "id": "UsTeF3lCxPa7"
   },
   "outputs": [],
   "source": []
  }
 ],
 "metadata": {
  "colab": {
   "provenance": [],
   "toc_visible": true
  },
  "kernelspec": {
   "display_name": "Python 3",
   "language": "python",
   "name": "python3"
  },
  "language_info": {
   "codemirror_mode": {
    "name": "ipython",
    "version": 3
   },
   "file_extension": ".py",
   "mimetype": "text/x-python",
   "name": "python",
   "nbconvert_exporter": "python",
   "pygments_lexer": "ipython3",
   "version": "3.12.3"
  }
 },
 "nbformat": 4,
 "nbformat_minor": 0
}
