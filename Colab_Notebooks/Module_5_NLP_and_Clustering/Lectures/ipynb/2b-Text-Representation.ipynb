{
 "cells": [
  {
   "cell_type": "code",
   "execution_count": 1,
   "metadata": {
    "colab": {
     "base_uri": "https://localhost:8080/"
    },
    "executionInfo": {
     "elapsed": 15246,
     "status": "ok",
     "timestamp": 1731444042868,
     "user": {
      "displayName": "deepdive datascience",
      "userId": "06241824193725215643"
     },
     "user_tz": 420
    },
    "id": "lEO9w9HDXbAa",
    "outputId": "2f92e2b8-5663-4808-c6c7-546aac2178bb"
   },
   "outputs": [
    {
     "name": "stderr",
     "output_type": "stream",
     "text": [
      "[nltk_data] Downloading package punkt_tab to /root/nltk_data...\n",
      "[nltk_data]   Unzipping tokenizers/punkt_tab.zip.\n"
     ]
    },
    {
     "data": {
      "text/plain": [
       "True"
      ]
     },
     "execution_count": 1,
     "metadata": {},
     "output_type": "execute_result"
    }
   ],
   "source": [
    "import numpy as np\n",
    "import pandas as pd\n",
    "from textblob import TextBlob\n",
    "from sklearn.feature_extraction.text import CountVectorizer\n",
    "from sklearn.feature_extraction.text import TfidfVectorizer\n",
    "from sklearn.feature_extraction.text import TfidfTransformer\n",
    "\n",
    "pd.options.display.max_columns = 100\n",
    "\n",
    "import nltk\n",
    "# nltk.download('omw-1.4')\n",
    "nltk.download('punkt_tab')\n",
    "# nltk.download('averaged_perceptron_tagger_eng')\n"
   ]
  },
  {
   "cell_type": "code",
   "execution_count": 2,
   "metadata": {
    "executionInfo": {
     "elapsed": 9223,
     "status": "ok",
     "timestamp": 1731444052088,
     "user": {
      "displayName": "deepdive datascience",
      "userId": "06241824193725215643"
     },
     "user_tz": 420
    },
    "id": "5ZyXbs2dsq80"
   },
   "outputs": [],
   "source": [
    "%%capture\n",
    "!python -m textblob.download_corpora\n"
   ]
  },
  {
   "cell_type": "code",
   "execution_count": 3,
   "metadata": {
    "executionInfo": {
     "elapsed": 6,
     "status": "ok",
     "timestamp": 1731444052088,
     "user": {
      "displayName": "deepdive datascience",
      "userId": "06241824193725215643"
     },
     "user_tz": 420
    },
    "id": "ul__IwLAXxJ4"
   },
   "outputs": [],
   "source": [
    "sentence_1 = 'Jen is a good student.'\n",
    "sentence_2 = 'Jen is also a great guitarist.'\n",
    "sentence_3 = 'Good students can sometimes be good guitarists'\n"
   ]
  },
  {
   "cell_type": "markdown",
   "metadata": {
    "id": "SAQ_Cn1J05Pk"
   },
   "source": [
    "# Data Cleaning\n",
    "We want to singularize guitarists and students."
   ]
  },
  {
   "cell_type": "code",
   "execution_count": 4,
   "metadata": {
    "colab": {
     "base_uri": "https://localhost:8080/",
     "height": 35
    },
    "executionInfo": {
     "elapsed": 180,
     "status": "ok",
     "timestamp": 1731444052263,
     "user": {
      "displayName": "deepdive datascience",
      "userId": "06241824193725215643"
     },
     "user_tz": 420
    },
    "id": "HATpf-dN091J",
    "outputId": "d253c32a-b01b-470d-a18f-8be348397762"
   },
   "outputs": [
    {
     "data": {
      "text/plain": [
       "'Good student can sometime be good guitarist'"
      ]
     },
     "execution_count": 4,
     "metadata": {},
     "output_type": "execute_result"
    }
   ],
   "source": [
    "sentence_3_tb = TextBlob(sentence_3) # Make a textblob so that we can singularize the word\n",
    "sentence_3_singular = [x.singularize() for x in sentence_3_tb.words] # Singularize each word in the text\n",
    "sentence_3_clean = ' '.join(sentence_3_singular) # Join it together into a single string\n",
    "sentence_3_clean\n"
   ]
  },
  {
   "cell_type": "markdown",
   "metadata": {
    "id": "yuFf00oinAiU"
   },
   "source": [
    "## Bag of Words Using CountVectorizer"
   ]
  },
  {
   "cell_type": "code",
   "execution_count": 5,
   "metadata": {
    "colab": {
     "base_uri": "https://localhost:8080/"
    },
    "executionInfo": {
     "elapsed": 12,
     "status": "ok",
     "timestamp": 1731444052263,
     "user": {
      "displayName": "deepdive datascience",
      "userId": "06241824193725215643"
     },
     "user_tz": 420
    },
    "id": "_pfxrLYnXxsA",
    "outputId": "56ebbfb7-e622-4359-a7db-8334d2088d58"
   },
   "outputs": [
    {
     "data": {
      "text/plain": [
       "<Compressed Sparse Row sparse matrix of dtype 'int64'\n",
       "\twith 9 stored elements and shape (3, 5)>"
      ]
     },
     "execution_count": 5,
     "metadata": {},
     "output_type": "execute_result"
    }
   ],
   "source": [
    "# Perform the count transformation\n",
    "vectorizer = CountVectorizer(stop_words='english')\n",
    "bow_vec = vectorizer.fit_transform([sentence_1, sentence_2, sentence_3_clean])\n",
    "bow_vec\n"
   ]
  },
  {
   "cell_type": "code",
   "execution_count": 6,
   "metadata": {
    "colab": {
     "base_uri": "https://localhost:8080/"
    },
    "executionInfo": {
     "elapsed": 11,
     "status": "ok",
     "timestamp": 1731444052264,
     "user": {
      "displayName": "deepdive datascience",
      "userId": "06241824193725215643"
     },
     "user_tz": 420
    },
    "id": "m1UGeAWVl-xe",
    "outputId": "5d9c0f58-4770-4de3-cb35-b6ad021b894c"
   },
   "outputs": [
    {
     "data": {
      "text/plain": [
       "array([[1, 0, 0, 1, 1],\n",
       "       [0, 1, 1, 1, 0],\n",
       "       [2, 0, 1, 0, 1]])"
      ]
     },
     "execution_count": 6,
     "metadata": {},
     "output_type": "execute_result"
    }
   ],
   "source": [
    "bow_vec.toarray()\n"
   ]
  },
  {
   "cell_type": "code",
   "execution_count": 7,
   "metadata": {
    "colab": {
     "base_uri": "https://localhost:8080/",
     "height": 143
    },
    "executionInfo": {
     "elapsed": 252,
     "status": "ok",
     "timestamp": 1731444052508,
     "user": {
      "displayName": "deepdive datascience",
      "userId": "06241824193725215643"
     },
     "user_tz": 420
    },
    "id": "5GqvVpq_mpbD",
    "outputId": "dd4b28ed-abc3-4a19-b2d9-0cf6b1082a99"
   },
   "outputs": [
    {
     "data": {
      "text/html": [
       "<div>\n",
       "<style scoped>\n",
       "    .dataframe tbody tr th:only-of-type {\n",
       "        vertical-align: middle;\n",
       "    }\n",
       "\n",
       "    .dataframe tbody tr th {\n",
       "        vertical-align: top;\n",
       "    }\n",
       "\n",
       "    .dataframe thead th {\n",
       "        text-align: right;\n",
       "    }\n",
       "</style>\n",
       "<table border=\"1\" class=\"dataframe\">\n",
       "  <thead>\n",
       "    <tr style=\"text-align: right;\">\n",
       "      <th></th>\n",
       "      <th>good</th>\n",
       "      <th>great</th>\n",
       "      <th>guitarist</th>\n",
       "      <th>jen</th>\n",
       "      <th>student</th>\n",
       "    </tr>\n",
       "  </thead>\n",
       "  <tbody>\n",
       "    <tr>\n",
       "      <th>0</th>\n",
       "      <td>1</td>\n",
       "      <td>0</td>\n",
       "      <td>0</td>\n",
       "      <td>1</td>\n",
       "      <td>1</td>\n",
       "    </tr>\n",
       "    <tr>\n",
       "      <th>1</th>\n",
       "      <td>0</td>\n",
       "      <td>1</td>\n",
       "      <td>1</td>\n",
       "      <td>1</td>\n",
       "      <td>0</td>\n",
       "    </tr>\n",
       "    <tr>\n",
       "      <th>2</th>\n",
       "      <td>2</td>\n",
       "      <td>0</td>\n",
       "      <td>1</td>\n",
       "      <td>0</td>\n",
       "      <td>1</td>\n",
       "    </tr>\n",
       "  </tbody>\n",
       "</table>\n",
       "</div>"
      ],
      "text/plain": [
       "   good  great  guitarist  jen  student\n",
       "0     1      0          0    1        1\n",
       "1     0      1          1    1        0\n",
       "2     2      0          1    0        1"
      ]
     },
     "execution_count": 7,
     "metadata": {},
     "output_type": "execute_result"
    }
   ],
   "source": [
    "# Print out results in a data frame\n",
    "sent_df = pd.DataFrame(bow_vec.toarray(), columns = vectorizer.get_feature_names_out())\n",
    "sent_df\n"
   ]
  },
  {
   "cell_type": "markdown",
   "metadata": {
    "id": "M-FL1eL1j1zm"
   },
   "source": [
    "### Your Turn\n",
    "1. Write 4 sentences of your choice.\n",
    "2. Run the `CountVectorizer` on your sentences.\n",
    "3. Print the results in a data frame."
   ]
  },
  {
   "cell_type": "code",
   "execution_count": 8,
   "metadata": {
    "colab": {
     "base_uri": "https://localhost:8080/"
    },
    "executionInfo": {
     "elapsed": 178,
     "status": "ok",
     "timestamp": 1731444052679,
     "user": {
      "displayName": "deepdive datascience",
      "userId": "06241824193725215643"
     },
     "user_tz": 420
    },
    "id": "bq2jCXFOjXCt",
    "outputId": "aca1a595-55bd-4fde-d47f-08505f6fb751"
   },
   "outputs": [
    {
     "data": {
      "text/plain": [
       "['It was the best of times.',\n",
       " 'Call me Ishmael.',\n",
       " 'To be, or not to be.  That is the question.',\n",
       " 'We do not choose these things because they are easy.']"
      ]
     },
     "execution_count": 8,
     "metadata": {},
     "output_type": "execute_result"
    }
   ],
   "source": [
    "# Solution 1\n",
    "my_sents = [\n",
    "    \"It was the best of times.\",\n",
    "    \"Call me Ishmael.\",\n",
    "    \"To be, or not to be.  That is the question.\",\n",
    "    \"We do not choose these things because they are easy.\"\n",
    "]\n",
    "my_sents"
   ]
  },
  {
   "cell_type": "code",
   "execution_count": 9,
   "metadata": {
    "colab": {
     "base_uri": "https://localhost:8080/"
    },
    "executionInfo": {
     "elapsed": 14,
     "status": "ok",
     "timestamp": 1731444052680,
     "user": {
      "displayName": "deepdive datascience",
      "userId": "06241824193725215643"
     },
     "user_tz": 420
    },
    "id": "VlBDanH5jXCu",
    "outputId": "82e8335e-6ad3-4535-bb2a-5f51533b9693"
   },
   "outputs": [
    {
     "data": {
      "text/plain": [
       "array([[1, 0, 0, 0, 0, 0, 1],\n",
       "       [0, 0, 0, 1, 0, 0, 0],\n",
       "       [0, 0, 0, 0, 1, 0, 0],\n",
       "       [0, 1, 1, 0, 0, 1, 0]])"
      ]
     },
     "execution_count": 9,
     "metadata": {},
     "output_type": "execute_result"
    }
   ],
   "source": [
    "# Solution 2\n",
    "my_vectorizer = CountVectorizer(stop_words='english')\n",
    "my_bow_vec = my_vectorizer.fit_transform( my_sents )\n",
    "my_bow_vec.toarray()\n"
   ]
  },
  {
   "cell_type": "code",
   "execution_count": 10,
   "metadata": {
    "colab": {
     "base_uri": "https://localhost:8080/",
     "height": 175
    },
    "executionInfo": {
     "elapsed": 12,
     "status": "ok",
     "timestamp": 1731444052680,
     "user": {
      "displayName": "deepdive datascience",
      "userId": "06241824193725215643"
     },
     "user_tz": 420
    },
    "id": "YvCUiMF_jXCv",
    "outputId": "e510a0f1-61ab-4ae9-c299-96cdfbeb41dd"
   },
   "outputs": [
    {
     "data": {
      "text/html": [
       "<div>\n",
       "<style scoped>\n",
       "    .dataframe tbody tr th:only-of-type {\n",
       "        vertical-align: middle;\n",
       "    }\n",
       "\n",
       "    .dataframe tbody tr th {\n",
       "        vertical-align: top;\n",
       "    }\n",
       "\n",
       "    .dataframe thead th {\n",
       "        text-align: right;\n",
       "    }\n",
       "</style>\n",
       "<table border=\"1\" class=\"dataframe\">\n",
       "  <thead>\n",
       "    <tr style=\"text-align: right;\">\n",
       "      <th></th>\n",
       "      <th>best</th>\n",
       "      <th>choose</th>\n",
       "      <th>easy</th>\n",
       "      <th>ishmael</th>\n",
       "      <th>question</th>\n",
       "      <th>things</th>\n",
       "      <th>times</th>\n",
       "    </tr>\n",
       "  </thead>\n",
       "  <tbody>\n",
       "    <tr>\n",
       "      <th>0</th>\n",
       "      <td>1</td>\n",
       "      <td>0</td>\n",
       "      <td>0</td>\n",
       "      <td>0</td>\n",
       "      <td>0</td>\n",
       "      <td>0</td>\n",
       "      <td>1</td>\n",
       "    </tr>\n",
       "    <tr>\n",
       "      <th>1</th>\n",
       "      <td>0</td>\n",
       "      <td>0</td>\n",
       "      <td>0</td>\n",
       "      <td>1</td>\n",
       "      <td>0</td>\n",
       "      <td>0</td>\n",
       "      <td>0</td>\n",
       "    </tr>\n",
       "    <tr>\n",
       "      <th>2</th>\n",
       "      <td>0</td>\n",
       "      <td>0</td>\n",
       "      <td>0</td>\n",
       "      <td>0</td>\n",
       "      <td>1</td>\n",
       "      <td>0</td>\n",
       "      <td>0</td>\n",
       "    </tr>\n",
       "    <tr>\n",
       "      <th>3</th>\n",
       "      <td>0</td>\n",
       "      <td>1</td>\n",
       "      <td>1</td>\n",
       "      <td>0</td>\n",
       "      <td>0</td>\n",
       "      <td>1</td>\n",
       "      <td>0</td>\n",
       "    </tr>\n",
       "  </tbody>\n",
       "</table>\n",
       "</div>"
      ],
      "text/plain": [
       "   best  choose  easy  ishmael  question  things  times\n",
       "0     1       0     0        0         0       0      1\n",
       "1     0       0     0        1         0       0      0\n",
       "2     0       0     0        0         1       0      0\n",
       "3     0       1     1        0         0       1      0"
      ]
     },
     "execution_count": 10,
     "metadata": {},
     "output_type": "execute_result"
    }
   ],
   "source": [
    "# Solution 3\n",
    "my_sent_df = pd.DataFrame(my_bow_vec.toarray(), columns = my_vectorizer.get_feature_names_out())\n",
    "my_sent_df\n"
   ]
  },
  {
   "cell_type": "markdown",
   "metadata": {
    "id": "hv0Xa9IHnF7T"
   },
   "source": [
    "## TF-IDF"
   ]
  },
  {
   "cell_type": "code",
   "execution_count": 11,
   "metadata": {
    "colab": {
     "base_uri": "https://localhost:8080/"
    },
    "executionInfo": {
     "elapsed": 11,
     "status": "ok",
     "timestamp": 1731444052680,
     "user": {
      "displayName": "deepdive datascience",
      "userId": "06241824193725215643"
     },
     "user_tz": 420
    },
    "id": "bDR3hA_1nE02",
    "outputId": "c302a7f1-74dc-41bb-acc5-4892f5e28706"
   },
   "outputs": [
    {
     "data": {
      "text/plain": [
       "<Compressed Sparse Row sparse matrix of dtype 'float64'\n",
       "\twith 9 stored elements and shape (3, 5)>"
      ]
     },
     "execution_count": 11,
     "metadata": {},
     "output_type": "execute_result"
    }
   ],
   "source": [
    "# Perform the TF-IDF transformation - Option 1 (TfidfVectorizer)\n",
    "tf_idf_vec = TfidfVectorizer(stop_words = 'english')\n",
    "tf_idf_jen = tf_idf_vec.fit_transform([sentence_1, sentence_2, sentence_3_clean])\n",
    "tf_idf_jen"
   ]
  },
  {
   "cell_type": "code",
   "execution_count": 12,
   "metadata": {
    "colab": {
     "base_uri": "https://localhost:8080/"
    },
    "executionInfo": {
     "elapsed": 8,
     "status": "ok",
     "timestamp": 1731444052680,
     "user": {
      "displayName": "deepdive datascience",
      "userId": "06241824193725215643"
     },
     "user_tz": 420
    },
    "id": "YiSRAYrqJGlh",
    "outputId": "485a9a59-720b-4b0f-d57b-7a845f1aff14"
   },
   "outputs": [
    {
     "name": "stdout",
     "output_type": "stream",
     "text": [
      "Jen is a good student.\n",
      "Jen is also a great guitarist.\n",
      "Good student can sometime be good guitarist\n"
     ]
    }
   ],
   "source": [
    "print(sentence_1)\n",
    "print(sentence_2)\n",
    "print(sentence_3_clean)\n"
   ]
  },
  {
   "cell_type": "code",
   "execution_count": 13,
   "metadata": {
    "colab": {
     "base_uri": "https://localhost:8080/"
    },
    "executionInfo": {
     "elapsed": 217,
     "status": "ok",
     "timestamp": 1731444052892,
     "user": {
      "displayName": "deepdive datascience",
      "userId": "06241824193725215643"
     },
     "user_tz": 420
    },
    "id": "699yjSoNocXh",
    "outputId": "b73b6c28-7152-4207-f259-85454eefb0e5"
   },
   "outputs": [
    {
     "data": {
      "text/plain": [
       "(3, 5)"
      ]
     },
     "execution_count": 13,
     "metadata": {},
     "output_type": "execute_result"
    }
   ],
   "source": [
    "# Print out results in a dataframe\n",
    "tf_df = pd.DataFrame(tf_idf_jen.toarray(), columns = tf_idf_vec.get_feature_names_out())\n",
    "tf_df.shape\n"
   ]
  },
  {
   "cell_type": "code",
   "execution_count": 14,
   "metadata": {
    "colab": {
     "base_uri": "https://localhost:8080/",
     "height": 143
    },
    "executionInfo": {
     "elapsed": 9,
     "status": "ok",
     "timestamp": 1731444052892,
     "user": {
      "displayName": "deepdive datascience",
      "userId": "06241824193725215643"
     },
     "user_tz": 420
    },
    "id": "I8v7YRCIczv-",
    "outputId": "3fc65e4b-c59c-4fd0-fb20-18b611695c9e"
   },
   "outputs": [
    {
     "data": {
      "text/html": [
       "<div>\n",
       "<style scoped>\n",
       "    .dataframe tbody tr th:only-of-type {\n",
       "        vertical-align: middle;\n",
       "    }\n",
       "\n",
       "    .dataframe tbody tr th {\n",
       "        vertical-align: top;\n",
       "    }\n",
       "\n",
       "    .dataframe thead th {\n",
       "        text-align: right;\n",
       "    }\n",
       "</style>\n",
       "<table border=\"1\" class=\"dataframe\">\n",
       "  <thead>\n",
       "    <tr style=\"text-align: right;\">\n",
       "      <th></th>\n",
       "      <th>good</th>\n",
       "      <th>great</th>\n",
       "      <th>guitarist</th>\n",
       "      <th>jen</th>\n",
       "      <th>student</th>\n",
       "    </tr>\n",
       "  </thead>\n",
       "  <tbody>\n",
       "    <tr>\n",
       "      <th>0</th>\n",
       "      <td>0.577350</td>\n",
       "      <td>0.000000</td>\n",
       "      <td>0.000000</td>\n",
       "      <td>0.577350</td>\n",
       "      <td>0.577350</td>\n",
       "    </tr>\n",
       "    <tr>\n",
       "      <th>1</th>\n",
       "      <td>0.000000</td>\n",
       "      <td>0.680919</td>\n",
       "      <td>0.517856</td>\n",
       "      <td>0.517856</td>\n",
       "      <td>0.000000</td>\n",
       "    </tr>\n",
       "    <tr>\n",
       "      <th>2</th>\n",
       "      <td>0.816497</td>\n",
       "      <td>0.000000</td>\n",
       "      <td>0.408248</td>\n",
       "      <td>0.000000</td>\n",
       "      <td>0.408248</td>\n",
       "    </tr>\n",
       "  </tbody>\n",
       "</table>\n",
       "</div>"
      ],
      "text/plain": [
       "       good     great  guitarist       jen   student\n",
       "0  0.577350  0.000000   0.000000  0.577350  0.577350\n",
       "1  0.000000  0.680919   0.517856  0.517856  0.000000\n",
       "2  0.816497  0.000000   0.408248  0.000000  0.408248"
      ]
     },
     "execution_count": 14,
     "metadata": {},
     "output_type": "execute_result"
    }
   ],
   "source": [
    "tf_df\n"
   ]
  },
  {
   "cell_type": "code",
   "execution_count": 15,
   "metadata": {
    "colab": {
     "base_uri": "https://localhost:8080/"
    },
    "executionInfo": {
     "elapsed": 8,
     "status": "ok",
     "timestamp": 1731444052892,
     "user": {
      "displayName": "deepdive datascience",
      "userId": "06241824193725215643"
     },
     "user_tz": 420
    },
    "id": "41fBQBzgjjv9",
    "outputId": "11a0682f-6e57-4da5-cd0b-32bb498067cc"
   },
   "outputs": [
    {
     "data": {
      "text/plain": [
       "<Compressed Sparse Row sparse matrix of dtype 'float64'\n",
       "\twith 9 stored elements and shape (3, 5)>"
      ]
     },
     "execution_count": 15,
     "metadata": {},
     "output_type": "execute_result"
    }
   ],
   "source": [
    "# Perform the TF-IDF transformation - Option 2 (CountVectorizer + TfidfTransformer - better for large datasets)\n",
    "tf_idf_tran = TfidfTransformer()\n",
    "tf_idf_jen = tf_idf_tran.fit_transform(bow_vec)\n",
    "tf_idf_jen"
   ]
  },
  {
   "cell_type": "code",
   "execution_count": 16,
   "metadata": {
    "colab": {
     "base_uri": "https://localhost:8080/",
     "height": 143
    },
    "executionInfo": {
     "elapsed": 186,
     "status": "ok",
     "timestamp": 1731444053073,
     "user": {
      "displayName": "deepdive datascience",
      "userId": "06241824193725215643"
     },
     "user_tz": 420
    },
    "id": "IGEShHQUjsdx",
    "outputId": "ec25638d-7568-4542-8862-7c619aafe497"
   },
   "outputs": [
    {
     "data": {
      "text/html": [
       "<div>\n",
       "<style scoped>\n",
       "    .dataframe tbody tr th:only-of-type {\n",
       "        vertical-align: middle;\n",
       "    }\n",
       "\n",
       "    .dataframe tbody tr th {\n",
       "        vertical-align: top;\n",
       "    }\n",
       "\n",
       "    .dataframe thead th {\n",
       "        text-align: right;\n",
       "    }\n",
       "</style>\n",
       "<table border=\"1\" class=\"dataframe\">\n",
       "  <thead>\n",
       "    <tr style=\"text-align: right;\">\n",
       "      <th></th>\n",
       "      <th>good</th>\n",
       "      <th>great</th>\n",
       "      <th>guitarist</th>\n",
       "      <th>jen</th>\n",
       "      <th>student</th>\n",
       "    </tr>\n",
       "  </thead>\n",
       "  <tbody>\n",
       "    <tr>\n",
       "      <th>0</th>\n",
       "      <td>0.577350</td>\n",
       "      <td>0.000000</td>\n",
       "      <td>0.000000</td>\n",
       "      <td>0.577350</td>\n",
       "      <td>0.577350</td>\n",
       "    </tr>\n",
       "    <tr>\n",
       "      <th>1</th>\n",
       "      <td>0.000000</td>\n",
       "      <td>0.680919</td>\n",
       "      <td>0.517856</td>\n",
       "      <td>0.517856</td>\n",
       "      <td>0.000000</td>\n",
       "    </tr>\n",
       "    <tr>\n",
       "      <th>2</th>\n",
       "      <td>0.816497</td>\n",
       "      <td>0.000000</td>\n",
       "      <td>0.408248</td>\n",
       "      <td>0.000000</td>\n",
       "      <td>0.408248</td>\n",
       "    </tr>\n",
       "  </tbody>\n",
       "</table>\n",
       "</div>"
      ],
      "text/plain": [
       "       good     great  guitarist       jen   student\n",
       "0  0.577350  0.000000   0.000000  0.577350  0.577350\n",
       "1  0.000000  0.680919   0.517856  0.517856  0.000000\n",
       "2  0.816497  0.000000   0.408248  0.000000  0.408248"
      ]
     },
     "execution_count": 16,
     "metadata": {},
     "output_type": "execute_result"
    }
   ],
   "source": [
    "# Print out results in a dataframe\n",
    "tf_df = pd.DataFrame(tf_idf_jen.toarray(), columns = vectorizer.get_feature_names_out())\n",
    "tf_df\n"
   ]
  },
  {
   "cell_type": "code",
   "execution_count": 17,
   "metadata": {
    "colab": {
     "base_uri": "https://localhost:8080/",
     "height": 206
    },
    "executionInfo": {
     "elapsed": 8,
     "status": "ok",
     "timestamp": 1731444053074,
     "user": {
      "displayName": "deepdive datascience",
      "userId": "06241824193725215643"
     },
     "user_tz": 420
    },
    "id": "RytiNKSYDQ1n",
    "outputId": "4fd8ea1c-9056-4f01-eac4-3d388d835a9c"
   },
   "outputs": [
    {
     "data": {
      "text/html": [
       "<div>\n",
       "<style scoped>\n",
       "    .dataframe tbody tr th:only-of-type {\n",
       "        vertical-align: middle;\n",
       "    }\n",
       "\n",
       "    .dataframe tbody tr th {\n",
       "        vertical-align: top;\n",
       "    }\n",
       "\n",
       "    .dataframe thead th {\n",
       "        text-align: right;\n",
       "    }\n",
       "</style>\n",
       "<table border=\"1\" class=\"dataframe\">\n",
       "  <thead>\n",
       "    <tr style=\"text-align: right;\">\n",
       "      <th></th>\n",
       "      <th>TF-IDF</th>\n",
       "    </tr>\n",
       "  </thead>\n",
       "  <tbody>\n",
       "    <tr>\n",
       "      <th>good</th>\n",
       "      <td>0.57735</td>\n",
       "    </tr>\n",
       "    <tr>\n",
       "      <th>student</th>\n",
       "      <td>0.57735</td>\n",
       "    </tr>\n",
       "    <tr>\n",
       "      <th>jen</th>\n",
       "      <td>0.57735</td>\n",
       "    </tr>\n",
       "    <tr>\n",
       "      <th>guitarist</th>\n",
       "      <td>0.00000</td>\n",
       "    </tr>\n",
       "    <tr>\n",
       "      <th>great</th>\n",
       "      <td>0.00000</td>\n",
       "    </tr>\n",
       "  </tbody>\n",
       "</table>\n",
       "</div>"
      ],
      "text/plain": [
       "            TF-IDF\n",
       "good       0.57735\n",
       "student    0.57735\n",
       "jen        0.57735\n",
       "guitarist  0.00000\n",
       "great      0.00000"
      ]
     },
     "execution_count": 17,
     "metadata": {},
     "output_type": "execute_result"
    }
   ],
   "source": [
    "# Get a data frame with the TF-IDF values sorted for document 0\n",
    "df = pd.DataFrame(tf_idf_jen[0].T.todense(), index=tf_idf_vec.get_feature_names_out(), columns=[\"TF-IDF\"])\n",
    "df = df.sort_values('TF-IDF', ascending=False)\n",
    "df\n"
   ]
  },
  {
   "cell_type": "code",
   "execution_count": 18,
   "metadata": {
    "colab": {
     "base_uri": "https://localhost:8080/",
     "height": 241
    },
    "executionInfo": {
     "elapsed": 213,
     "status": "ok",
     "timestamp": 1731444053281,
     "user": {
      "displayName": "deepdive datascience",
      "userId": "06241824193725215643"
     },
     "user_tz": 420
    },
    "id": "9M7d64cmHh7P",
    "outputId": "294744a0-1cc4-4f26-8001-828da537b20d"
   },
   "outputs": [
    {
     "data": {
      "text/plain": [
       "good         0.57735\n",
       "student      0.57735\n",
       "jen          0.57735\n",
       "guitarist    0.00000\n",
       "great        0.00000\n",
       "Name: 0, dtype: float64"
      ]
     },
     "execution_count": 18,
     "metadata": {},
     "output_type": "execute_result"
    }
   ],
   "source": [
    "tf_df.transpose()[0].sort_values(ascending = False)"
   ]
  },
  {
   "cell_type": "markdown",
   "metadata": {
    "id": "WXYwykW8kXp9"
   },
   "source": [
    "### Your Turn\n",
    "1. Use the `TfidfTransformer` to transform the bag of words matrix you created above to TF-IDF.\n",
    "2. Print out the results in a data frame."
   ]
  },
  {
   "cell_type": "code",
   "execution_count": 19,
   "metadata": {
    "colab": {
     "base_uri": "https://localhost:8080/"
    },
    "executionInfo": {
     "elapsed": 14,
     "status": "ok",
     "timestamp": 1731444053281,
     "user": {
      "displayName": "deepdive datascience",
      "userId": "06241824193725215643"
     },
     "user_tz": 420
    },
    "id": "puZUoCbum5Y3",
    "outputId": "7c211901-64e7-4c71-91b3-0731ac03b08e"
   },
   "outputs": [
    {
     "data": {
      "text/plain": [
       "<Compressed Sparse Row sparse matrix of dtype 'float64'\n",
       "\twith 7 stored elements and shape (4, 7)>"
      ]
     },
     "execution_count": 19,
     "metadata": {},
     "output_type": "execute_result"
    }
   ],
   "source": [
    "# Solution 1\n",
    "my_tf_idf_tran = TfidfTransformer()\n",
    "my_tf_idf_jen = my_tf_idf_tran.fit_transform(my_bow_vec)\n",
    "my_tf_idf_jen"
   ]
  },
  {
   "cell_type": "code",
   "execution_count": 20,
   "metadata": {
    "colab": {
     "base_uri": "https://localhost:8080/"
    },
    "executionInfo": {
     "elapsed": 11,
     "status": "ok",
     "timestamp": 1731444053281,
     "user": {
      "displayName": "deepdive datascience",
      "userId": "06241824193725215643"
     },
     "user_tz": 420
    },
    "id": "mqqZ0AF_m5Y4",
    "outputId": "8212d60b-2ef0-4688-bae1-7ca440bdc627"
   },
   "outputs": [
    {
     "data": {
      "text/plain": [
       "array([[0.70710678, 0.        , 0.        , 0.        , 0.        ,\n",
       "        0.        , 0.70710678],\n",
       "       [0.        , 0.        , 0.        , 1.        , 0.        ,\n",
       "        0.        , 0.        ],\n",
       "       [0.        , 0.        , 0.        , 0.        , 1.        ,\n",
       "        0.        , 0.        ],\n",
       "       [0.        , 0.57735027, 0.57735027, 0.        , 0.        ,\n",
       "        0.57735027, 0.        ]])"
      ]
     },
     "execution_count": 20,
     "metadata": {},
     "output_type": "execute_result"
    }
   ],
   "source": [
    "my_tf_idf_jen.toarray()"
   ]
  },
  {
   "cell_type": "code",
   "execution_count": 21,
   "metadata": {
    "colab": {
     "base_uri": "https://localhost:8080/",
     "height": 175
    },
    "executionInfo": {
     "elapsed": 10,
     "status": "ok",
     "timestamp": 1731444053282,
     "user": {
      "displayName": "deepdive datascience",
      "userId": "06241824193725215643"
     },
     "user_tz": 420
    },
    "id": "81yDiXXZm5Y5",
    "outputId": "c6dc99e6-d038-40b0-8997-5c3483fe7cc1"
   },
   "outputs": [
    {
     "data": {
      "text/html": [
       "<div>\n",
       "<style scoped>\n",
       "    .dataframe tbody tr th:only-of-type {\n",
       "        vertical-align: middle;\n",
       "    }\n",
       "\n",
       "    .dataframe tbody tr th {\n",
       "        vertical-align: top;\n",
       "    }\n",
       "\n",
       "    .dataframe thead th {\n",
       "        text-align: right;\n",
       "    }\n",
       "</style>\n",
       "<table border=\"1\" class=\"dataframe\">\n",
       "  <thead>\n",
       "    <tr style=\"text-align: right;\">\n",
       "      <th></th>\n",
       "      <th>best</th>\n",
       "      <th>choose</th>\n",
       "      <th>easy</th>\n",
       "      <th>ishmael</th>\n",
       "      <th>question</th>\n",
       "      <th>things</th>\n",
       "      <th>times</th>\n",
       "    </tr>\n",
       "  </thead>\n",
       "  <tbody>\n",
       "    <tr>\n",
       "      <th>0</th>\n",
       "      <td>0.707107</td>\n",
       "      <td>0.00000</td>\n",
       "      <td>0.00000</td>\n",
       "      <td>0.0</td>\n",
       "      <td>0.0</td>\n",
       "      <td>0.00000</td>\n",
       "      <td>0.707107</td>\n",
       "    </tr>\n",
       "    <tr>\n",
       "      <th>1</th>\n",
       "      <td>0.000000</td>\n",
       "      <td>0.00000</td>\n",
       "      <td>0.00000</td>\n",
       "      <td>1.0</td>\n",
       "      <td>0.0</td>\n",
       "      <td>0.00000</td>\n",
       "      <td>0.000000</td>\n",
       "    </tr>\n",
       "    <tr>\n",
       "      <th>2</th>\n",
       "      <td>0.000000</td>\n",
       "      <td>0.00000</td>\n",
       "      <td>0.00000</td>\n",
       "      <td>0.0</td>\n",
       "      <td>1.0</td>\n",
       "      <td>0.00000</td>\n",
       "      <td>0.000000</td>\n",
       "    </tr>\n",
       "    <tr>\n",
       "      <th>3</th>\n",
       "      <td>0.000000</td>\n",
       "      <td>0.57735</td>\n",
       "      <td>0.57735</td>\n",
       "      <td>0.0</td>\n",
       "      <td>0.0</td>\n",
       "      <td>0.57735</td>\n",
       "      <td>0.000000</td>\n",
       "    </tr>\n",
       "  </tbody>\n",
       "</table>\n",
       "</div>"
      ],
      "text/plain": [
       "       best   choose     easy  ishmael  question   things     times\n",
       "0  0.707107  0.00000  0.00000      0.0       0.0  0.00000  0.707107\n",
       "1  0.000000  0.00000  0.00000      1.0       0.0  0.00000  0.000000\n",
       "2  0.000000  0.00000  0.00000      0.0       1.0  0.00000  0.000000\n",
       "3  0.000000  0.57735  0.57735      0.0       0.0  0.57735  0.000000"
      ]
     },
     "execution_count": 21,
     "metadata": {},
     "output_type": "execute_result"
    }
   ],
   "source": [
    "# Solution 2\n",
    "# Print out results in a dataframe\n",
    "my_tf_df = pd.DataFrame(my_tf_idf_jen.toarray(), columns = my_vectorizer.get_feature_names_out())\n",
    "my_tf_df\n"
   ]
  },
  {
   "cell_type": "markdown",
   "metadata": {
    "id": "xDuCEa4Z-mwb"
   },
   "source": [
    "# Another Example - Using Wikipedia API"
   ]
  },
  {
   "cell_type": "code",
   "execution_count": 22,
   "metadata": {
    "executionInfo": {
     "elapsed": 10000,
     "status": "ok",
     "timestamp": 1731444063274,
     "user": {
      "displayName": "deepdive datascience",
      "userId": "06241824193725215643"
     },
     "user_tz": 420
    },
    "id": "QZKrDDzTE32G"
   },
   "outputs": [],
   "source": [
    "%%capture output\n",
    "#install Wikipedia API\n",
    "!pip3 install wikipedia-api\n"
   ]
  },
  {
   "cell_type": "code",
   "execution_count": 23,
   "metadata": {
    "executionInfo": {
     "elapsed": 160,
     "status": "ok",
     "timestamp": 1731444063428,
     "user": {
      "displayName": "deepdive datascience",
      "userId": "06241824193725215643"
     },
     "user_tz": 420
    },
    "id": "QCyuTKCq-mLN"
   },
   "outputs": [],
   "source": [
    "import wikipediaapi\n"
   ]
  },
  {
   "cell_type": "code",
   "execution_count": 24,
   "metadata": {
    "colab": {
     "base_uri": "https://localhost:8080/",
     "height": 140
    },
    "executionInfo": {
     "elapsed": 206,
     "status": "ok",
     "timestamp": 1731444063628,
     "user": {
      "displayName": "deepdive datascience",
      "userId": "06241824193725215643"
     },
     "user_tz": 420
    },
    "id": "cZ8mxZvMEeDC",
    "outputId": "53035560-5413-405f-dc92-547d0283be91"
   },
   "outputs": [
    {
     "data": {
      "text/plain": [
       "'Popcorn (also called popped corn, popcorns, or pop-corn) is a variety of corn kernel which expands and puffs up when heated. The term also refers to the snack food produced by the expansion. It is one of the oldest snacks, with evidence of popcorn dating back thousands of years in the Americas. It is commonly eaten salted, sweetened, or with artificial flavorings. \\nA popcorn kernel\\'s strong hull contains the seed\\'s hard, starchy shell endosperm with 14–20% moisture, which turns to steam as the kernel is heated. Pressure from the steam continues to build until the hull ruptures, allowing the kernel to forcefully expand, to 20 to 50 times its original size, and then cool.\\nSome strains of corn (taxonomized as Zea mays) are cultivated specifically as popping corns. The Zea mays variety everta, a special kind of flint corn, is the most common of these. Popcorn is one of six major types of corn, which includes dent corn, flint corn, pod corn, flour corn, and sweet corn.\\n\\nHistory\\nCorn was domesticated about 10,000 years ago, in what is now Mexico. Archaeologists discovered that people have known about popcorn for thousands of years. Fossil evidence from Peru suggests that corn was present there as early as 4700 BCE, and popped there over 1000 years ago. Between 2007 and 2011, evidence, as early as 4700 BCE, for popping corn, as macrofossil cobs, were discovered at the Paredones and Huaca Prieta archaeological sites on the northern coast of Peru.\\nIn 1948 and 1950, evidence, as early as 3600 BCE, for popping corn, as ears of popcorn, were discovered by Harvard anthropology graduate student Herbert W. Dick and Harvard botany graduate student Claude Earle Smith, Junior (1922-1987), in a complex of rock shelters, dubbed the \"Bat Cave\", in Catron County, west-central New Mexico, and attributed to the Ancestral Puebloan peoples, who maintained trade networks with peoples in tropical Mexico.\\nThrough the 19th century, popping of the kernels was achieved by hand, on stove tops over flame. Kernels were sold on the East Coast of the United States under names such as Pearls or Nonpareil. The term popped corn first appeared in John Russell Bartlett\\'s 1848 Dictionary of Americanisms. Popcorn is an ingredient in Cracker Jack and, in the early years of the product, it was popped by hand.\\n\\nPopcorn\\'s accessibility increased rapidly in the 1890s with Charles Cretors\\' invention of the popcorn maker. Cretors, a Chicago candy store owner, had created a number of steam-powered machines for roasting nuts and applied the technology to the corn kernels.\\n\\nBy the turn of the century, Cretors had created and deployed street carts equipped with steam-powered popcorn makers.During the Great Depression, popcorn was fairly inexpensive at 5–10 cents a bag and became popular. Thus, while other businesses failed, the popcorn business thrived and became a source of income for many struggling farmers and entrepreneurs, including the Redenbacher family, namesake of the Orville Redenbacher\\'s popcorn brand. During World War II, sugar rations diminished candy production, and Americans compensated by eating three times as much popcorn as they had before. The snack was popular at theaters, much to the initial displeasure of many of the theater owners, who thought it distracted from the films. Their minds eventually changed, however, and in 1938 a Midwestern theater owner named Glen W. Dickinson Sr. installed popcorn machines in the lobbies of his Dickinson theaters. Popcorn was more profitable than theater tickets, and at the suggestion of his production consultant, R. Ray Aden, Dickinson purchased popcorn farms and was able to keep ticket prices down. The venture was a success, and popcorn soon spread. The rise of television in the 1940s brought lower popcorn consumption as theater attendance fell. The Popcorn Institute (a trade association of popcorn processors) promoted popcorn consumption at home, bringing it back to previous levels.\\n In 1970, Orville Redenbacher\\'s namesake brand of popcorn was launched. In 1981, General Mills received the first patent for a microwave oven popcorn bag; popcorn consumption saw an increase.\\nAt least six localities (all in the Midwestern United States) claim to be the \"Popcorn Capital of the World;\": Ridgway, Illinois; Valparaiso, Indiana; Van Buren, Indiana; Schaller, Iowa; Marion, Ohio;  and North Loup, Nebraska.  According to the USDA, specific corn for popcorn is grown mostly in Nebraska and Indiana, and increasingly in Texas. As the result of an elementary school project, popcorn became the official state snack food of Illinois.\\n\\nPopping mechanism\\nEach kernel of popcorn contains moisture and oil. Unlike most other grains, the outer hull of the popcorn kernel is strong and impervious to moisture, and the starch inside consists almost entirely of a hard type.\\n\\nAs the oil and water in the kernel are heated, they turn into steam. Under these conditions, the starch inside the kernel gelatinizes and softens. The steam pressure increases until the breaking point of the hull is reached; a pressure of approximately 930 kPa (135 psi) and a temperature of 180 °C (356 °F). The hull ruptures, causing a sudden drop in pressure inside the kernel and a corresponding rapid expansion of the steam, which expands the starch and proteins of the endosperm into airy foam. As the foam rapidly cools, the starch and protein polymers set into the familiar crispy puff.\\nSpecial varieties are grown to improve popping yield. Though the kernels of some other types will pop, the cultivated strain for popcorn is Zea mays everta, which is a variety of flint corn.\\n\\nCooking methods\\nPopcorn can be cooked with butter or oil. Although small quantities can be popped in a stove-top kettle or pot in a home kitchen, commercial sale employs specially designed popcorn machines, which were invented in Chicago, Illinois, by Charles Cretors in 1885. Cretors introduced his invention at the Columbian Exposition in 1893. At that fair, F. W. Rueckheim introduced a molasses-flavored \"Candied Popcorn\", the first caramel corn; his brother, Louis Ruekheim, slightly altered the recipe and introduced it as Cracker Jack in 1896.\\n\\nCretors\\'s invention was the first patented steam-driven machine that popped corn in oil. Previously, vendors popped corn by holding a wire basket over an open flame. At best, the result was hot, dry, and unevenly cooked. Cretors\\'s machine popped corn in a mixture of one-third clarified butter, two-thirds lard, and salt. This mixture can withstand the 232 °C (450 °F) temperature needed to pop corn and produces little smoke. A fire under a boiler created steam that drove a small engine to drive gears, shaft, and the agitator that stirred the corn, and also powered a small puppet, \"The Toasty Roasty Man\", an attention-getting amusement to attract business. A wire connected to the top of the cooking pan allowed the operator to disengage the drive mechanism, lift the cover, and dump popped corn into the storage bin beneath. Exhaust from the steam engine was piped to a pan below the corn storage bin and kept freshly popped corn warm. Excess steam was also used to operate a small, shrill whistle to attract attention.\\nA different method of popcorn-making involves the \"popcorn hammer\", a large cast-iron canister that is sealed with a heavy lid and slowly turned over a fire in rotisserie fashion.\\n\\nExpansion and yield\\nPopping results are sensitive to the rate at which the kernels are heated. If heated too quickly, the steam in the outer layers of the kernel can reach high pressures and rupture the hull before the starch in the center of the kernel can fully gelatinize, leading to partially popped kernels with hard centers. Heating too slowly leads to entirely unpopped kernels: the tip of the kernel, where it attached to the cob, is not entirely moisture-proof, and when heated slowly, the steam can leak out of the tip fast enough to keep the pressure from rising sufficiently to break the hull and cause the pop.\\nProducers and sellers of popcorn consider two major factors in evaluating the quality of popcorn: what percentage of the kernels will pop, and how much each popped kernel expands. Expansion is an important factor to both the consumer and vendor. For the consumer, larger pieces of popcorn tend to be more tender and are associated with higher quality. For the grower, distributor and vendor, expansion is closely correlated with profit: vendors such as theaters buy popcorn by weight and sell it by volume. For these reasons, higher-expansion popcorn fetches a higher profit per unit weight.\\nPopcorn will pop when freshly harvested, but not well; its high moisture content leads to poor expansion and chewy pieces of popcorn. Kernels with a high moisture content are also susceptible to mold when stored. For these reasons, popcorn growers and distributors dry the kernels until they reach the moisture level at which they expand the most. This differs by variety and conditions, but is generally in the range of 14–15% moisture by weight. If the kernels are over-dried, the expansion rate will suffer and the percentage of kernels that pop will decline.  Old popcorn tends to dry out, lowering the yield.\\nWhen the popcorn has finished popping, sometimes unpopped kernels remain. Known in the popcorn industry as \"old maids\", these kernels fail to pop because they do not have enough moisture to create enough steam for an explosion. Re-hydrating prior to popping usually results in eliminating the unpopped kernels.\\nPopcorn varieties are broadly categorized by the shape of the kernels, the color of the kernels, or the shape of the popped corn. While the kernels may come in a variety of colors, the popped corn is always off-yellow or white as it is only the hull (or pericarp) that is colored. \"Rice\" type popcorn have a long kernel pointed at both ends; \"pearl\" type kernels are rounded at the top. Commercial popcorn production has moved mostly to pearl types. Historically, pearl popcorn were usually yellow and rice popcorn usually white. Today both shapes are available in both colors, as well as others including black, red, mauve,  purple, and variegated. Mauve and purple popcorn usually have smaller and nutty kernels. Commercial production is dominated by white and yellow.\\n\\nTerminology\\nIn the popcorn industry, a popped kernel of corn is known as a \"flake\". Two shapes of flakes are commercially important. \"Butterfly\" (or \"snowflake\") flakes are irregular in shape and have a number of protruding \"wings\". \"Mushroom\" flakes are largely ball-shaped, with few wings. Butterfly flakes are regarded as having better mouthfeel, with greater tenderness and less noticeable hulls. Mushroom flakes are less fragile than butterfly flakes and are therefore often used for packaged popcorn or confectionery, such as caramel corn. The kernels from a single cob of popcorn may form both butterfly and mushroom flakes; hybrids that produce 100% butterfly flakes or 100% mushroom flakes exist, the latter developed only as recently as 1998.\\n\\nConsumption\\nPopcorn is a popular snack food at sporting events and in movie theaters, where it has been served since the 1930s. Cinemas have come under fire due to their high markup on popcorn; Stuart Hanson, a film historian at De Montfort University in Leicester, once said, \"One of the great jokes in the industry is that popcorn is second only to cocaine or heroin in terms of profit.\"\\nTraditions differ as to whether popcorn is consumed as a hearty snack food with salt (predominating in the United States) or as a sweet snack food with caramelized sugar (predominating in Germany).\\n\\nPopcorn smell has an unusually attractive quality for human beings. This is largely because it contains high levels of the chemicals 6-acetyl-2,3,4,5-tetrahydropyridine and 2-acetyl-1-pyrroline, very powerful aroma compounds that are also used by food and other industries either to make products that smell like popcorn, bread, or other foods containing the compound in nature, or for other purposes.\\n\\nPopcorn as a breakfast cereal was consumed by Americans in the 1800s and generally consisted of popcorn with milk and a sweetener.\\n\\nPopcorn balls (popped kernels stuck together with a sugary \"glue\") were hugely popular around the turn of the 20th century, but their popularity has since waned.  Popcorn balls are still served in some places as a traditional Halloween treat. Cracker Jack is a popular, commercially produced candy that consists of peanuts mixed in with caramel-covered popcorn. Kettle corn is a variation of normal popcorn, cooked with white sugar and salt, traditionally in a large copper kettle.  Once reserved for specialty shops and county fairs, kettle corn has recently become popular, especially in the microwave popcorn market.  The popcorn maker is a relatively new home appliance, and its popularity is increasing because it offers the opportunity to add flavors of the consumer\\'s own choice and to choose healthy-eating popcorn styles.\\nPopped sorghum is popular as a snack in India. The popped sorghum is similar to popcorn, but the puffs are smaller. Recipes for popping sorghum by microwave, in a pot, etc., are readily available online.\\n\\nNutritional value\\nAir-popped popcorn (no salt or other additives) is 4% water, 78% carbohydrates (including 15% dietary fiber), 12% protein, and 4% fat (table). In a 100 gram reference amount, popcorn provides 382 calories and is a rich source (20% or more of the Daily Value, DV) of riboflavin (25% DV) and several dietary minerals, particularly manganese, phosphorus, and zinc (36–45% DV). B vitamins and other minerals are in appreciable amounts (table).\\n\\nSaturated fat\\nMovie theaters commonly use coconut oil to pop the corn, and then top it with butter or margarine.  Movie theater popcorn contains large amounts of saturated fats and sodium due to its method of preparation.\\n\\nPhytochemicals\\nSorghum grains can be popped to form popcorn. All sorghums contain phenolic acids, and most contain flavonoids. Sorghum grains are one of the highest food sources of the flavonoid proanthocyanidin.\\n\\nHealth risks\\nPopcorn is included on the list of foods that the American Academy of Pediatrics recommends not serving to children under four, because of the risk of choking.\\nMicrowaveable popcorn represents a special case, since it is designed to be cooked along with its various flavoring agents. One of these formerly common artificial-butter flavorants, diacetyl, has been implicated in causing respiratory illnesses in microwave popcorn factory workers, also known as \"popcorn lung\". Major manufacturers in the United States have stopped using this chemical, including Orville Redenbacher\\'s, Act II, Pop Secret and Jolly Time.\\n\\nOther uses\\nPopcorn, threaded onto a string, is used as a wall or Christmas tree decoration in some parts of North America, as well as on the Balkan peninsula.\\nSome shipping companies have experimented with using popcorn as a biodegradable replacement for expanded polystyrene packing material. However, popcorn has numerous undesirable properties as a packing material, including attractiveness to pests, flammability, and a higher cost and greater density than expanded polystyrene. A more processed form of expanded corn foam has been developed to overcome some of these limitations, forming starch-based foam peanuts.\\n\\nSee also\\nReferences\\nFurther reading\\n\\nHallauer, Arnel R. (2001). Specialty Corns. CRC Press. ISBN 978-0-8493-2377-5.\\nLusas, Edmund W.; Rooney, Lloyd W. (2001). Snack Foods Processing. CRC Press. ISBN 978-1-56676-932-7.\\nSmith, Andrew F. (1999). Popped Culture: The Social History of Popcorn in America. University of South Carolina Press. ISBN 978-1-57003-300-1.'"
      ]
     },
     "execution_count": 24,
     "metadata": {},
     "output_type": "execute_result"
    }
   ],
   "source": [
    "# Pull out the popcorn page from wikipedia - https://en.wikipedia.org/wiki/Popcorn\n",
    "topic = 'popcorn'\n",
    "wikip = wikipediaapi.Wikipedia(user_agent = 'foobar')\n",
    "page_ex = wikip.page(topic)\n",
    "wiki_text = page_ex.text\n",
    "wiki_text\n"
   ]
  },
  {
   "cell_type": "markdown",
   "metadata": {
    "id": "84WagQgIexwB"
   },
   "source": [
    "### Clean the text - version 1\n",
    "\n",
    "Using string replace.\n",
    "\n"
   ]
  },
  {
   "cell_type": "code",
   "execution_count": 25,
   "metadata": {
    "colab": {
     "base_uri": "https://localhost:8080/",
     "height": 140
    },
    "executionInfo": {
     "elapsed": 11,
     "status": "ok",
     "timestamp": 1731444063628,
     "user": {
      "displayName": "deepdive datascience",
      "userId": "06241824193725215643"
     },
     "user_tz": 420
    },
    "id": "6eWVRMUPJvsw",
    "outputId": "719e90d4-480b-46ad-f414-a74f94158b6d"
   },
   "outputs": [
    {
     "data": {
      "text/plain": [
       "'Popcorn (also called popped corn, popcorns, or pop-corn) is a variety of corn kernel which expands and puffs up when heated. The term also refers to the snack food produced by the expansion. It is one of the oldest snacks, with evidence of popcorn dating back thousands of years in the Americas. It is commonly eaten salted, sweetened, or with artificial flavorings.  A popcorn kernel strong hull contains the seed hard, starchy shell endosperm with 14–20% moisture, which turns to steam as the kernel is heated. Pressure from the steam continues to build until the hull ruptures, allowing the kernel to forcefully expand, to 20 to 50 times its original size, and then cool. Some strains of corn (taxonomized as Zea mays) are cultivated specifically as popping corns. The Zea mays variety everta, a special kind of flint corn, is the most common of these. Popcorn is one of six major types of corn, which includes dent corn, flint corn, pod corn, flour corn, and sweet corn.  History Corn was domesticated about 10,000 years ago, in what is now Mexico. Archaeologists discovered that people have known about popcorn for thousands of years. Fossil evidence from Peru suggests that corn was present there as early as 4700 BCE, and popped there over 1000 years ago. Between 2007 and 2011, evidence, as early as 4700 BCE, for popping corn, as macrofossil cobs, were discovered at the Paredones and Huaca Prieta archaeological sites on the northern coast of Peru. In 1948 and 1950, evidence, as early as 3600 BCE, for popping corn, as ears of popcorn, were discovered by Harvard anthropology graduate student Herbert W. Dick and Harvard botany graduate student Claude Earle Smith, Junior (1922-1987), in a complex of rock shelters, dubbed the \"Bat Cave\", in Catron County, west-central New Mexico, and attributed to the Ancestral Puebloan peoples, who maintained trade networks with peoples in tropical Mexico. Through the 19th century, popping of the kernels was achieved by hand, on stove tops over flame. Kernels were sold on the East Coast of the United States under names such as Pearls or Nonpareil. The term popped corn first appeared in John Russell Bartlett 1848 Dictionary of Americanisms. Popcorn is an ingredient in Cracker Jack and, in the early years of the product, it was popped by hand.  Popcorn accessibility increased rapidly in the 1890s with Charles Cretors invention of the popcorn maker. Cretors, a Chicago candy store owner, had created a number of steam-powered machines for roasting nuts and applied the technology to the corn kernels.  By the turn of the century, Cretors had created and deployed street carts equipped with steam-powered popcorn makers.During the Great Depression, popcorn was fairly inexpensive at 5–10 cents a bag and became popular. Thus, while other businesses failed, the popcorn business thrived and became a source of income for many struggling farmers and entrepreneurs, including the Redenbacher family, namesake of the Orville Redenbacher popcorn brand. During World War II, sugar rations diminished candy production, and Americans compensated by eating three times as much popcorn as they had before. The snack was popular at theaters, much to the initial displeasure of many of the theater owners, who thought it distracted from the films. Their minds eventually changed, however, and in 1938 a Midwestern theater owner named Glen W. Dickinson Sr. installed popcorn machines in the lobbies of his Dickinson theaters. Popcorn was more profitable than theater tickets, and at the suggestion of his production consultant, R. Ray Aden, Dickinson purchased popcorn farms and was able to keep ticket prices down. The venture was a success, and popcorn soon spread. The rise of television in the 1940s brought lower popcorn consumption as theater attendance fell. The Popcorn Institute (a trade association of popcorn processors) promoted popcorn consumption at home, bringing it back to previous levels.  In 1970, Orville Redenbacher namesake brand of popcorn was launched. In 1981, General Mills received the first patent for a microwave oven popcorn bag; popcorn consumption saw an increase. At least six localities (all in the Midwestern United States) claim to be the \"Popcorn Capital of the World;\": Ridgway, Illinois; Valparaiso, Indiana; Van Buren, Indiana; Schaller, Iowa; Marion, Ohio;  and North Loup, Nebraska.  According to the USDA, specific corn for popcorn is grown mostly in Nebraska and Indiana, and increasingly in Texas. As the result of an elementary school project, popcorn became the official state snack food of Illinois.  Popping mechanism Each kernel of popcorn contains moisture and oil. Unlike most other grains, the outer hull of the popcorn kernel is strong and impervious to moisture, and the starch inside consists almost entirely of a hard type.  As the oil and water in the kernel are heated, they turn into steam. Under these conditions, the starch inside the kernel gelatinizes and softens. The steam pressure increases until the breaking point of the hull is reached; a pressure of approximately 930 kPa (135 psi) and a temperature of 180 °C (356 °F). The hull ruptures, causing a sudden drop in pressure inside the kernel and a corresponding rapid expansion of the steam, which expands the starch and proteins of the endosperm into airy foam. As the foam rapidly cools, the starch and protein polymers set into the familiar crispy puff. Special varieties are grown to improve popping yield. Though the kernels of some other types will pop, the cultivated strain for popcorn is Zea mays everta, which is a variety of flint corn.  Cooking methods Popcorn can be cooked with butter or oil. Although small quantities can be popped in a stove-top kettle or pot in a home kitchen, commercial sale employs specially designed popcorn machines, which were invented in Chicago, Illinois, by Charles Cretors in 1885. Cretors introduced his invention at the Columbian Exposition in 1893. At that fair, F. W. Rueckheim introduced a molasses-flavored \"Candied Popcorn\", the first caramel corn; his brother, Louis Ruekheim, slightly altered the recipe and introduced it as Cracker Jack in 1896.  Cretors invention was the first patented steam-driven machine that popped corn in oil. Previously, vendors popped corn by holding a wire basket over an open flame. At best, the result was hot, dry, and unevenly cooked. Cretors machine popped corn in a mixture of one-third clarified butter, two-thirds lard, and salt. This mixture can withstand the 232 °C (450 °F) temperature needed to pop corn and produces little smoke. A fire under a boiler created steam that drove a small engine to drive gears, shaft, and the agitator that stirred the corn, and also powered a small puppet, \"The Toasty Roasty Man\", an attention-getting amusement to attract business. A wire connected to the top of the cooking pan allowed the operator to disengage the drive mechanism, lift the cover, and dump popped corn into the storage bin beneath. Exhaust from the steam engine was piped to a pan below the corn storage bin and kept freshly popped corn warm. Excess steam was also used to operate a small, shrill whistle to attract attention. A different method of popcorn-making involves the \"popcorn hammer\", a large cast-iron canister that is sealed with a heavy lid and slowly turned over a fire in rotisserie fashion.  Expansion and yield Popping results are sensitive to the rate at which the kernels are heated. If heated too quickly, the steam in the outer layers of the kernel can reach high pressures and rupture the hull before the starch in the center of the kernel can fully gelatinize, leading to partially popped kernels with hard centers. Heating too slowly leads to entirely unpopped kernels: the tip of the kernel, where it attached to the cob, is not entirely moisture-proof, and when heated slowly, the steam can leak out of the tip fast enough to keep the pressure from rising sufficiently to break the hull and cause the pop. Producers and sellers of popcorn consider two major factors in evaluating the quality of popcorn: what percentage of the kernels will pop, and how much each popped kernel expands. Expansion is an important factor to both the consumer and vendor. For the consumer, larger pieces of popcorn tend to be more tender and are associated with higher quality. For the grower, distributor and vendor, expansion is closely correlated with profit: vendors such as theaters buy popcorn by weight and sell it by volume. For these reasons, higher-expansion popcorn fetches a higher profit per unit weight. Popcorn will pop when freshly harvested, but not well; its high moisture content leads to poor expansion and chewy pieces of popcorn. Kernels with a high moisture content are also susceptible to mold when stored. For these reasons, popcorn growers and distributors dry the kernels until they reach the moisture level at which they expand the most. This differs by variety and conditions, but is generally in the range of 14–15% moisture by weight. If the kernels are over-dried, the expansion rate will suffer and the percentage of kernels that pop will decline.  Old popcorn tends to dry out, lowering the yield. When the popcorn has finished popping, sometimes unpopped kernels remain. Known in the popcorn industry as \"old maids\", these kernels fail to pop because they do not have enough moisture to create enough steam for an explosion. Re-hydrating prior to popping usually results in eliminating the unpopped kernels. Popcorn varieties are broadly categorized by the shape of the kernels, the color of the kernels, or the shape of the popped corn. While the kernels may come in a variety of colors, the popped corn is always off-yellow or white as it is only the hull (or pericarp) that is colored. \"Rice\" type popcorn have a long kernel pointed at both ends; \"pearl\" type kernels are rounded at the top. Commercial popcorn production has moved mostly to pearl types. Historically, pearl popcorn were usually yellow and rice popcorn usually white. Today both shapes are available in both colors, as well as others including black, red, mauve,  purple, and variegated. Mauve and purple popcorn usually have smaller and nutty kernels. Commercial production is dominated by white and yellow.  Terminology In the popcorn industry, a popped kernel of corn is known as a \"flake\". Two shapes of flakes are commercially important. \"Butterfly\" (or \"snowflake\") flakes are irregular in shape and have a number of protruding \"wings\". \"Mushroom\" flakes are largely ball-shaped, with few wings. Butterfly flakes are regarded as having better mouthfeel, with greater tenderness and less noticeable hulls. Mushroom flakes are less fragile than butterfly flakes and are therefore often used for packaged popcorn or confectionery, such as caramel corn. The kernels from a single cob of popcorn may form both butterfly and mushroom flakes; hybrids that produce 100% butterfly flakes or 100% mushroom flakes exist, the latter developed only as recently as 1998.  Consumption Popcorn is a popular snack food at sporting events and in movie theaters, where it has been served since the 1930s. Cinemas have come under fire due to their high markup on popcorn; Stuart Hanson, a film historian at De Montfort University in Leicester, once said, \"One of the great jokes in the industry is that popcorn is second only to cocaine or heroin in terms of profit.\" Traditions differ as to whether popcorn is consumed as a hearty snack food with salt (predominating in the United States) or as a sweet snack food with caramelized sugar (predominating in Germany).  Popcorn smell has an unusually attractive quality for human beings. This is largely because it contains high levels of the chemicals 6-acetyl-2,3,4,5-tetrahydropyridine and 2-acetyl-1-pyrroline, very powerful aroma compounds that are also used by food and other industries either to make products that smell like popcorn, bread, or other foods containing the compound in nature, or for other purposes.  Popcorn as a breakfast cereal was consumed by Americans in the 1800s and generally consisted of popcorn with milk and a sweetener.  Popcorn balls (popped kernels stuck together with a sugary \"glue\") were hugely popular around the turn of the 20th century, but their popularity has since waned.  Popcorn balls are still served in some places as a traditional Halloween treat. Cracker Jack is a popular, commercially produced candy that consists of peanuts mixed in with caramel-covered popcorn. Kettle corn is a variation of normal popcorn, cooked with white sugar and salt, traditionally in a large copper kettle.  Once reserved for specialty shops and county fairs, kettle corn has recently become popular, especially in the microwave popcorn market.  The popcorn maker is a relatively new home appliance, and its popularity is increasing because it offers the opportunity to add flavors of the consumer own choice and to choose healthy-eating popcorn styles. Popped sorghum is popular as a snack in India. The popped sorghum is similar to popcorn, but the puffs are smaller. Recipes for popping sorghum by microwave, in a pot, etc., are readily available online.  Nutritional value Air-popped popcorn (no salt or other additives) is 4% water, 78% carbohydrates (including 15% dietary fiber), 12% protein, and 4% fat (table). In a 100 gram reference amount, popcorn provides 382 calories and is a rich source (20% or more of the Daily Value, DV) of riboflavin (25% DV) and several dietary minerals, particularly manganese, phosphorus, and zinc (36–45% DV). B vitamins and other minerals are in appreciable amounts (table).  Saturated fat Movie theaters commonly use coconut oil to pop the corn, and then top it with butter or margarine.  Movie theater popcorn contains large amounts of saturated fats and sodium due to its method of preparation.  Phytochemicals Sorghum grains can be popped to form popcorn. All sorghums contain phenolic acids, and most contain flavonoids. Sorghum grains are one of the highest food sources of the flavonoid proanthocyanidin.  Health risks Popcorn is included on the list of foods that the American Academy of Pediatrics recommends not serving to children under four, because of the risk of choking. Microwaveable popcorn represents a special case, since it is designed to be cooked along with its various flavoring agents. One of these formerly common artificial-butter flavorants, diacetyl, has been implicated in causing respiratory illnesses in microwave popcorn factory workers, also known as \"popcorn lung\". Major manufacturers in the United States have stopped using this chemical, including Orville Redenbacher, Act II, Pop Secret and Jolly Time.  Other uses Popcorn, threaded onto a string, is used as a wall or Christmas tree decoration in some parts of North America, as well as on the Balkan peninsula. Some shipping companies have experimented with using popcorn as a biodegradable replacement for expanded polystyrene packing material. However, popcorn has numerous undesirable properties as a packing material, including attractiveness to pests, flammability, and a higher cost and greater density than expanded polystyrene. A more processed form of expanded corn foam has been developed to overcome some of these limitations, forming starch-based foam peanuts.  See also References Further reading  Hallauer, Arnel R. (2001). Specialty Corns. CRC Press. ISBN 978-0-8493-2377-5. Lusas, Edmund W.; Rooney, Lloyd W. (2001). Snack Foods Processing. CRC Press. ISBN 978-1-56676-932-7. Smith, Andrew F. (1999). Popped Culture: The Social History of Popcorn in America. University of South Carolina Press. ISBN 978-1-57003-300-1.'"
      ]
     },
     "execution_count": 25,
     "metadata": {},
     "output_type": "execute_result"
    }
   ],
   "source": [
    "# Replace newline chars with spaces before doing any processing. Strip the ' and \"s\" from possessives\n",
    "wiki_text_clean = (\n",
    "    wiki_text\n",
    "    .replace(\"\\n\",\" \")\n",
    "    .replace(\"'s\",'')\n",
    "    .replace(\"'\",'')\n",
    ")\n",
    "wiki_text_clean\n"
   ]
  },
  {
   "cell_type": "markdown",
   "metadata": {
    "id": "IAwddEGlmFo5"
   },
   "source": [
    "### Clean the text - version 2\n",
    "\n",
    "Using a for..loop and string replace.\n",
    "\n",
    "\n"
   ]
  },
  {
   "cell_type": "code",
   "execution_count": 26,
   "metadata": {
    "colab": {
     "base_uri": "https://localhost:8080/",
     "height": 140
    },
    "executionInfo": {
     "elapsed": 279,
     "status": "ok",
     "timestamp": 1731444063898,
     "user": {
      "displayName": "deepdive datascience",
      "userId": "06241824193725215643"
     },
     "user_tz": 420
    },
    "id": "RMUpsMwWWdgY",
    "outputId": "1fd00a47-c098-4dfc-997b-6242a5c206f0"
   },
   "outputs": [
    {
     "data": {
      "text/plain": [
       "'popcorn (also called popped corn, popcorns, or pop-corn) is a variety of corn kernel which expands and puffs up when heated. the term also refers to the snack food produced by the expansion. it is one of the oldest snacks, with evidence of popcorn dating back thousands of years in the americas. it is commonly eaten salted, sweetened, or with artificial flavorings. a popcorn kernel strong hull contains the seed hard, starchy shell endosperm with 14–20% moisture, which turns to steam as the kernel is heated. pressure from the steam continues to build until the hull ruptures, allowing the kernel to forcefully expand, to 20 to 50 times its original size, and then cool. some strains of corn (taxonomized as zea mays) are cultivated specifically as popping corns. the zea mays variety everta, a special kind of flint corn, is the most common of these. popcorn is one of six major types of corn, which includes dent corn, flint corn, pod corn, flour corn, and sweet corn. history corn was domesticated about 10,000 years ago, in what is now mexico. archaeologists discovered that people have known about popcorn for thousands of years. fossil evidence from peru suggests that corn was present there as early as 4700 bce, and popped there over 1000 years ago. between 2007 and 2011, evidence, as early as 4700 bce, for popping corn, as macrofossil cobs, were discovered at the paredones and huaca prieta archaeological sites on the northern coast of peru. in 1948 and 1950, evidence, as early as 3600 bce, for popping corn, as ears of popcorn, were discovered by harvard anthropology graduate student herbert w. dick and harvard botany graduate student claude earle smith, junior (1922-1987), in a complex of rock shelters, dubbed the \"bat cave\", in catron county, west-central new mexico, and attributed to the ancestral puebloan peoples, who maintained trade networks with peoples in tropical mexico. through the 19th century, popping of the kernels was achieved by hand, on stove tops over flame. kernels were sold on the east coast of the united states under names such as pearls or nonpareil. the term popped corn first appeared in john russell bartlett 1848 dictionary of americanisms. popcorn is an ingredient in cracker jack and, in the early years of the product, it was popped by hand. popcorn accessibility increased rapidly in the 1890s with charles cretors invention of the popcorn maker. cretors, a chicago candy store owner, had created a number of steam-powered machines for roasting nuts and applied the technology to the corn kernels. by the turn of the century, cretors had created and deployed street carts equipped with steam-powered popcorn makers.during the great depression, popcorn was fairly inexpensive at 5–10 cents a bag and became popular. thus, while other businesses failed, the popcorn business thrived and became a source of income for many struggling farmers and entrepreneurs, including the redenbacher family, namesake of the orville redenbacher popcorn brand. during world war ii, sugar rations diminished candy production, and americans compensated by eating three times as much popcorn as they had before. the snack was popular at theaters, much to the initial displeasure of many of the theater owners, who thought it distracted from the films. their minds eventually changed, however, and in 1938 a midwestern theater owner named glen w. dickinson sr. installed popcorn machines in the lobbies of his dickinson theaters. popcorn was more profitable than theater tickets, and at the suggestion of his production consultant, r. ray aden, dickinson purchased popcorn farms and was able to keep ticket prices down. the venture was a success, and popcorn soon spread. the rise of television in the 1940s brought lower popcorn consumption as theater attendance fell. the popcorn institute (a trade association of popcorn processors) promoted popcorn consumption at home, bringing it back to previous levels. in 1970, orville redenbacher namesake brand of popcorn was launched. in 1981, general mills received the first patent for a microwave oven popcorn bag; popcorn consumption saw an increase. at least six localities (all in the midwestern united states) claim to be the \"popcorn capital of the world;\": ridgway, illinois; valparaiso, indiana; van buren, indiana; schaller, iowa; marion, ohio; and north loup, nebraska. according to the usda, specific corn for popcorn is grown mostly in nebraska and indiana, and increasingly in texas. as the result of an elementary school project, popcorn became the official state snack food of illinois. popping mechanism each kernel of popcorn contains moisture and oil. unlike most other grains, the outer hull of the popcorn kernel is strong and impervious to moisture, and the starch inside consists almost entirely of a hard type. as the oil and water in the kernel are heated, they turn into steam. under these conditions, the starch inside the kernel gelatinizes and softens. the steam pressure increases until the breaking point of the hull is reached; a pressure of approximately 930 kpa (135 psi) and a temperature of 180 °c (356 °f). the hull ruptures, causing a sudden drop in pressure inside the kernel and a corresponding rapid expansion of the steam, which expands the starch and proteins of the endosperm into airy foam. as the foam rapidly cools, the starch and protein polymers set into the familiar crispy puff. special varieties are grown to improve popping yield. though the kernels of some other types will pop, the cultivated strain for popcorn is zea mays everta, which is a variety of flint corn. cooking methods popcorn can be cooked with butter or oil. although small quantities can be popped in a stove-top kettle or pot in a home kitchen, commercial sale employs specially designed popcorn machines, which were invented in chicago, illinois, by charles cretors in 1885. cretors introduced his invention at the columbian exposition in 1893. at that fair, f. w. rueckheim introduced a molasses-flavored \"candied popcorn\", the first caramel corn; his brother, louis ruekheim, slightly altered the recipe and introduced it as cracker jack in 1896. cretors invention was the first patented steam-driven machine that popped corn in oil. previously, vendors popped corn by holding a wire basket over an open flame. at best, the result was hot, dry, and unevenly cooked. cretors machine popped corn in a mixture of one-third clarified butter, two-thirds lard, and salt. this mixture can withstand the 232 °c (450 °f) temperature needed to pop corn and produces little smoke. a fire under a boiler created steam that drove a small engine to drive gears, shaft, and the agitator that stirred the corn, and also powered a small puppet, \"the toasty roasty man\", an attention-getting amusement to attract business. a wire connected to the top of the cooking pan allowed the operator to disengage the drive mechanism, lift the cover, and dump popped corn into the storage bin beneath. exhaust from the steam engine was piped to a pan below the corn storage bin and kept freshly popped corn warm. excess steam was also used to operate a small, shrill whistle to attract attention. a different method of popcorn-making involves the \"popcorn hammer\", a large cast-iron canister that is sealed with a heavy lid and slowly turned over a fire in rotisserie fashion. expansion and yield popping results are sensitive to the rate at which the kernels are heated. if heated too quickly, the steam in the outer layers of the kernel can reach high pressures and rupture the hull before the starch in the center of the kernel can fully gelatinize, leading to partially popped kernels with hard centers. heating too slowly leads to entirely unpopped kernels: the tip of the kernel, where it attached to the cob, is not entirely moisture-proof, and when heated slowly, the steam can leak out of the tip fast enough to keep the pressure from rising sufficiently to break the hull and cause the pop. producers and sellers of popcorn consider two major factors in evaluating the quality of popcorn: what percentage of the kernels will pop, and how much each popped kernel expands. expansion is an important factor to both the consumer and vendor. for the consumer, larger pieces of popcorn tend to be more tender and are associated with higher quality. for the grower, distributor and vendor, expansion is closely correlated with profit: vendors such as theaters buy popcorn by weight and sell it by volume. for these reasons, higher-expansion popcorn fetches a higher profit per unit weight. popcorn will pop when freshly harvested, but not well; its high moisture content leads to poor expansion and chewy pieces of popcorn. kernels with a high moisture content are also susceptible to mold when stored. for these reasons, popcorn growers and distributors dry the kernels until they reach the moisture level at which they expand the most. this differs by variety and conditions, but is generally in the range of 14–15% moisture by weight. if the kernels are over-dried, the expansion rate will suffer and the percentage of kernels that pop will decline. old popcorn tends to dry out, lowering the yield. when the popcorn has finished popping, sometimes unpopped kernels remain. known in the popcorn industry as \"old maids\", these kernels fail to pop because they do not have enough moisture to create enough steam for an explosion. re-hydrating prior to popping usually results in eliminating the unpopped kernels. popcorn varieties are broadly categorized by the shape of the kernels, the color of the kernels, or the shape of the popped corn. while the kernels may come in a variety of colors, the popped corn is always off-yellow or white as it is only the hull (or pericarp) that is colored. \"rice\" type popcorn have a long kernel pointed at both ends; \"pearl\" type kernels are rounded at the top. commercial popcorn production has moved mostly to pearl types. historically, pearl popcorn were usually yellow and rice popcorn usually white. today both shapes are available in both colors, as well as others including black, red, mauve, purple, and variegated. mauve and purple popcorn usually have smaller and nutty kernels. commercial production is dominated by white and yellow. terminology in the popcorn industry, a popped kernel of corn is known as a \"flake\". two shapes of flakes are commercially important. \"butterfly\" (or \"snowflake\") flakes are irregular in shape and have a number of protruding \"wings\". \"mushroom\" flakes are largely ball-shaped, with few wings. butterfly flakes are regarded as having better mouthfeel, with greater tenderness and less noticeable hulls. mushroom flakes are less fragile than butterfly flakes and are therefore often used for packaged popcorn or confectionery, such as caramel corn. the kernels from a single cob of popcorn may form both butterfly and mushroom flakes; hybrids that produce 100% butterfly flakes or 100% mushroom flakes exist, the latter developed only as recently as 1998. consumption popcorn is a popular snack food at sporting events and in movie theaters, where it has been served since the 1930s. cinemas have come under fire due to their high markup on popcorn; stuart hanson, a film historian at de montfort university in leicester, once said, \"one of the great jokes in the industry is that popcorn is second only to cocaine or heroin in terms of profit.\" traditions differ as to whether popcorn is consumed as a hearty snack food with salt (predominating in the united states) or as a sweet snack food with caramelized sugar (predominating in germany). popcorn smell has an unusually attractive quality for human beings. this is largely because it contains high levels of the chemicals 6-acetyl-2,3,4,5-tetrahydropyridine and 2-acetyl-1-pyrroline, very powerful aroma compounds that are also used by food and other industries either to make products that smell like popcorn, bread, or other foods containing the compound in nature, or for other purposes. popcorn as a breakfast cereal was consumed by americans in the 1800s and generally consisted of popcorn with milk and a sweetener. popcorn balls (popped kernels stuck together with a sugary \"glue\") were hugely popular around the turn of the 20th century, but their popularity has since waned. popcorn balls are still served in some places as a traditional halloween treat. cracker jack is a popular, commercially produced candy that consists of peanuts mixed in with caramel-covered popcorn. kettle corn is a variation of normal popcorn, cooked with white sugar and salt, traditionally in a large copper kettle. once reserved for specialty shops and county fairs, kettle corn has recently become popular, especially in the microwave popcorn market. the popcorn maker is a relatively new home appliance, and its popularity is increasing because it offers the opportunity to add flavors of the consumer own choice and to choose healthy-eating popcorn styles. popped sorghum is popular as a snack in india. the popped sorghum is similar to popcorn, but the puffs are smaller. recipes for popping sorghum by microwave, in a pot, etc., are readily available online. nutritional value air-popped popcorn (no salt or other additives) is 4% water, 78% carbohydrates (including 15% dietary fiber), 12% protein, and 4% fat (table). in a 100 gram reference amount, popcorn provides 382 calories and is a rich source (20% or more of the daily value, dv) of riboflavin (25% dv) and several dietary minerals, particularly manganese, phosphorus, and zinc (36–45% dv). b vitamins and other minerals are in appreciable amounts (table). saturated fat movie theaters commonly use coconut oil to pop the corn, and then top it with butter or margarine. movie theater popcorn contains large amounts of saturated fats and sodium due to its method of preparation. phytochemicals sorghum grains can be popped to form popcorn. all sorghums contain phenolic acids, and most contain flavonoids. sorghum grains are one of the highest food sources of the flavonoid proanthocyanidin. health risks popcorn is included on the list of foods that the american academy of pediatrics recommends not serving to children under four, because of the risk of choking. microwaveable popcorn represents a special case, since it is designed to be cooked along with its various flavoring agents. one of these formerly common artificial-butter flavorants, diacetyl, has been implicated in causing respiratory illnesses in microwave popcorn factory workers, also known as \"popcorn lung\". major manufacturers in the united states have stopped using this chemical, including orville redenbacher , act ii, pop secret and jolly time. other uses popcorn, threaded onto a string, is used as a wall or christmas tree decoration in some parts of north america, as well as on the balkan peninsula. some shipping companies have experimented with using popcorn as a biodegradable replacement for expanded polystyrene packing material. however, popcorn has numerous undesirable properties as a packing material, including attractiveness to pests, flammability, and a higher cost and greater density than expanded polystyrene. a more processed form of expanded corn foam has been developed to overcome some of these limitations, forming starch-based foam peanuts. see also references further reading hallauer, arnel r. (2001). specialty corns. crc press. isbn 978-0-8493-2377-5. lusas, edmund w.; rooney, lloyd w. (2001). snack foods processing. crc press. isbn 978-1-56676-932-7. smith, andrew f. (1999). popped culture: the social history of popcorn in america. university of south carolina press. isbn 978-1-57003-300-1.'"
      ]
     },
     "execution_count": 26,
     "metadata": {},
     "output_type": "execute_result"
    }
   ],
   "source": [
    "wiki_text_clean = wiki_text.lower()\n",
    "for c in [\"\\n\", \"'s\", \"'\", \"  \"]:\n",
    "  wiki_text_clean = wiki_text_clean.replace(c,\" \")\n",
    "wiki_text_clean"
   ]
  },
  {
   "cell_type": "markdown",
   "metadata": {
    "id": "7Xa4VcRuIXqO"
   },
   "source": [
    "### Clean the text - version 3\n",
    "\n",
    "Using a regular expression.\n"
   ]
  },
  {
   "cell_type": "code",
   "execution_count": 27,
   "metadata": {
    "colab": {
     "base_uri": "https://localhost:8080/",
     "height": 140
    },
    "executionInfo": {
     "elapsed": 45,
     "status": "ok",
     "timestamp": 1731444063899,
     "user": {
      "displayName": "deepdive datascience",
      "userId": "06241824193725215643"
     },
     "user_tz": 420
    },
    "id": "G-y0b9eqZKM2",
    "outputId": "610e7bd2-ecfa-4898-c98d-33d81c8c2dc4"
   },
   "outputs": [
    {
     "data": {
      "text/plain": [
       "'popcorn (also called popped corn, popcorns, or pop-corn) is a variety of corn kernel which expands and puffs up when heated. the term also refers to the snack food produced by the expansion. it is one of the oldest snacks, with evidence of popcorn dating back thousands of years in the americas. it is commonly eaten salted, sweetened, or with artificial flavorings. a popcorn kernel strong hull contains the seed hard, starchy shell endosperm with 14–20% moisture, which turns to steam as the kernel is heated. pressure from the steam continues to build until the hull ruptures, allowing the kernel to forcefully expand, to 20 to 50 times its original size, and then cool. some strains of corn (taxonomized as zea mays) are cultivated specifically as popping corns. the zea mays variety everta, a special kind of flint corn, is the most common of these. popcorn is one of six major types of corn, which includes dent corn, flint corn, pod corn, flour corn, and sweet corn. history corn was domesticated about 10,000 years ago, in what is now mexico. archaeologists discovered that people have known about popcorn for thousands of years. fossil evidence from peru suggests that corn was present there as early as 4700 bce, and popped there over 1000 years ago. between 2007 and 2011, evidence, as early as 4700 bce, for popping corn, as macrofossil cobs, were discovered at the paredones and huaca prieta archaeological sites on the northern coast of peru. in 1948 and 1950, evidence, as early as 3600 bce, for popping corn, as ears of popcorn, were discovered by harvard anthropology graduate student herbert w. dick and harvard botany graduate student claude earle smith, junior (1922-1987), in a complex of rock shelters, dubbed the \"bat cave\", in catron county, west-central new mexico, and attributed to the ancestral puebloan peoples, who maintained trade networks with peoples in tropical mexico. through the 19th century, popping of the kernels was achieved by hand, on stove tops over flame. kernels were sold on the east coast of the united states under names such as pearls or nonpareil. the term popped corn first appeared in john russell bartlett 1848 dictionary of americanisms. popcorn is an ingredient in cracker jack and, in the early years of the product, it was popped by hand. popcorn accessibility increased rapidly in the 1890s with charles cretors invention of the popcorn maker. cretors, a chicago candy store owner, had created a number of steam-powered machines for roasting nuts and applied the technology to the corn kernels. by the turn of the century, cretors had created and deployed street carts equipped with steam-powered popcorn makers.during the great depression, popcorn was fairly inexpensive at 5–10 cents a bag and became popular. thus, while other businesses failed, the popcorn business thrived and became a source of income for many struggling farmers and entrepreneurs, including the redenbacher family, namesake of the orville redenbacher popcorn brand. during world war ii, sugar rations diminished candy production, and americans compensated by eating three times as much popcorn as they had before. the snack was popular at theaters, much to the initial displeasure of many of the theater owners, who thought it distracted from the films. their minds eventually changed, however, and in 1938 a midwestern theater owner named glen w. dickinson sr. installed popcorn machines in the lobbies of his dickinson theaters. popcorn was more profitable than theater tickets, and at the suggestion of his production consultant, r. ray aden, dickinson purchased popcorn farms and was able to keep ticket prices down. the venture was a success, and popcorn soon spread. the rise of television in the 1940s brought lower popcorn consumption as theater attendance fell. the popcorn institute (a trade association of popcorn processors) promoted popcorn consumption at home, bringing it back to previous levels. in 1970, orville redenbacher namesake brand of popcorn was launched. in 1981, general mills received the first patent for a microwave oven popcorn bag; popcorn consumption saw an increase. at least six localities (all in the midwestern united states) claim to be the \"popcorn capital of the world;\": ridgway, illinois; valparaiso, indiana; van buren, indiana; schaller, iowa; marion, ohio; and north loup, nebraska. according to the usda, specific corn for popcorn is grown mostly in nebraska and indiana, and increasingly in texas. as the result of an elementary school project, popcorn became the official state snack food of illinois. popping mechanism each kernel of popcorn contains moisture and oil. unlike most other grains, the outer hull of the popcorn kernel is strong and impervious to moisture, and the starch inside consists almost entirely of a hard type. as the oil and water in the kernel are heated, they turn into steam. under these conditions, the starch inside the kernel gelatinizes and softens. the steam pressure increases until the breaking point of the hull is reached; a pressure of approximately 930 kpa (135 psi) and a temperature of 180 °c (356 °f). the hull ruptures, causing a sudden drop in pressure inside the kernel and a corresponding rapid expansion of the steam, which expands the starch and proteins of the endosperm into airy foam. as the foam rapidly cools, the starch and protein polymers set into the familiar crispy puff. special varieties are grown to improve popping yield. though the kernels of some other types will pop, the cultivated strain for popcorn is zea mays everta, which is a variety of flint corn. cooking methods popcorn can be cooked with butter or oil. although small quantities can be popped in a stove-top kettle or pot in a home kitchen, commercial sale employs specially designed popcorn machines, which were invented in chicago, illinois, by charles cretors in 1885. cretors introduced his invention at the columbian exposition in 1893. at that fair, f. w. rueckheim introduced a molasses-flavored \"candied popcorn\", the first caramel corn; his brother, louis ruekheim, slightly altered the recipe and introduced it as cracker jack in 1896. cretors invention was the first patented steam-driven machine that popped corn in oil. previously, vendors popped corn by holding a wire basket over an open flame. at best, the result was hot, dry, and unevenly cooked. cretors machine popped corn in a mixture of one-third clarified butter, two-thirds lard, and salt. this mixture can withstand the 232 °c (450 °f) temperature needed to pop corn and produces little smoke. a fire under a boiler created steam that drove a small engine to drive gears, shaft, and the agitator that stirred the corn, and also powered a small puppet, \"the toasty roasty man\", an attention-getting amusement to attract business. a wire connected to the top of the cooking pan allowed the operator to disengage the drive mechanism, lift the cover, and dump popped corn into the storage bin beneath. exhaust from the steam engine was piped to a pan below the corn storage bin and kept freshly popped corn warm. excess steam was also used to operate a small, shrill whistle to attract attention. a different method of popcorn-making involves the \"popcorn hammer\", a large cast-iron canister that is sealed with a heavy lid and slowly turned over a fire in rotisserie fashion. expansion and yield popping results are sensitive to the rate at which the kernels are heated. if heated too quickly, the steam in the outer layers of the kernel can reach high pressures and rupture the hull before the starch in the center of the kernel can fully gelatinize, leading to partially popped kernels with hard centers. heating too slowly leads to entirely unpopped kernels: the tip of the kernel, where it attached to the cob, is not entirely moisture-proof, and when heated slowly, the steam can leak out of the tip fast enough to keep the pressure from rising sufficiently to break the hull and cause the pop. producers and sellers of popcorn consider two major factors in evaluating the quality of popcorn: what percentage of the kernels will pop, and how much each popped kernel expands. expansion is an important factor to both the consumer and vendor. for the consumer, larger pieces of popcorn tend to be more tender and are associated with higher quality. for the grower, distributor and vendor, expansion is closely correlated with profit: vendors such as theaters buy popcorn by weight and sell it by volume. for these reasons, higher-expansion popcorn fetches a higher profit per unit weight. popcorn will pop when freshly harvested, but not well; its high moisture content leads to poor expansion and chewy pieces of popcorn. kernels with a high moisture content are also susceptible to mold when stored. for these reasons, popcorn growers and distributors dry the kernels until they reach the moisture level at which they expand the most. this differs by variety and conditions, but is generally in the range of 14–15% moisture by weight. if the kernels are over-dried, the expansion rate will suffer and the percentage of kernels that pop will decline. old popcorn tends to dry out, lowering the yield. when the popcorn has finished popping, sometimes unpopped kernels remain. known in the popcorn industry as \"old maids\", these kernels fail to pop because they do not have enough moisture to create enough steam for an explosion. re-hydrating prior to popping usually results in eliminating the unpopped kernels. popcorn varieties are broadly categorized by the shape of the kernels, the color of the kernels, or the shape of the popped corn. while the kernels may come in a variety of colors, the popped corn is always off-yellow or white as it is only the hull (or pericarp) that is colored. \"rice\" type popcorn have a long kernel pointed at both ends; \"pearl\" type kernels are rounded at the top. commercial popcorn production has moved mostly to pearl types. historically, pearl popcorn were usually yellow and rice popcorn usually white. today both shapes are available in both colors, as well as others including black, red, mauve, purple, and variegated. mauve and purple popcorn usually have smaller and nutty kernels. commercial production is dominated by white and yellow. terminology in the popcorn industry, a popped kernel of corn is known as a \"flake\". two shapes of flakes are commercially important. \"butterfly\" (or \"snowflake\") flakes are irregular in shape and have a number of protruding \"wings\". \"mushroom\" flakes are largely ball-shaped, with few wings. butterfly flakes are regarded as having better mouthfeel, with greater tenderness and less noticeable hulls. mushroom flakes are less fragile than butterfly flakes and are therefore often used for packaged popcorn or confectionery, such as caramel corn. the kernels from a single cob of popcorn may form both butterfly and mushroom flakes; hybrids that produce 100% butterfly flakes or 100% mushroom flakes exist, the latter developed only as recently as 1998. consumption popcorn is a popular snack food at sporting events and in movie theaters, where it has been served since the 1930s. cinemas have come under fire due to their high markup on popcorn; stuart hanson, a film historian at de montfort university in leicester, once said, \"one of the great jokes in the industry is that popcorn is second only to cocaine or heroin in terms of profit.\" traditions differ as to whether popcorn is consumed as a hearty snack food with salt (predominating in the united states) or as a sweet snack food with caramelized sugar (predominating in germany). popcorn smell has an unusually attractive quality for human beings. this is largely because it contains high levels of the chemicals 6-acetyl-2,3,4,5-tetrahydropyridine and 2-acetyl-1-pyrroline, very powerful aroma compounds that are also used by food and other industries either to make products that smell like popcorn, bread, or other foods containing the compound in nature, or for other purposes. popcorn as a breakfast cereal was consumed by americans in the 1800s and generally consisted of popcorn with milk and a sweetener. popcorn balls (popped kernels stuck together with a sugary \"glue\") were hugely popular around the turn of the 20th century, but their popularity has since waned. popcorn balls are still served in some places as a traditional halloween treat. cracker jack is a popular, commercially produced candy that consists of peanuts mixed in with caramel-covered popcorn. kettle corn is a variation of normal popcorn, cooked with white sugar and salt, traditionally in a large copper kettle. once reserved for specialty shops and county fairs, kettle corn has recently become popular, especially in the microwave popcorn market. the popcorn maker is a relatively new home appliance, and its popularity is increasing because it offers the opportunity to add flavors of the consumer own choice and to choose healthy-eating popcorn styles. popped sorghum is popular as a snack in india. the popped sorghum is similar to popcorn, but the puffs are smaller. recipes for popping sorghum by microwave, in a pot, etc., are readily available online. nutritional value air-popped popcorn (no salt or other additives) is 4% water, 78% carbohydrates (including 15% dietary fiber), 12% protein, and 4% fat (table). in a 100 gram reference amount, popcorn provides 382 calories and is a rich source (20% or more of the daily value, dv) of riboflavin (25% dv) and several dietary minerals, particularly manganese, phosphorus, and zinc (36–45% dv). b vitamins and other minerals are in appreciable amounts (table). saturated fat movie theaters commonly use coconut oil to pop the corn, and then top it with butter or margarine. movie theater popcorn contains large amounts of saturated fats and sodium due to its method of preparation. phytochemicals sorghum grains can be popped to form popcorn. all sorghums contain phenolic acids, and most contain flavonoids. sorghum grains are one of the highest food sources of the flavonoid proanthocyanidin. health risks popcorn is included on the list of foods that the american academy of pediatrics recommends not serving to children under four, because of the risk of choking. microwaveable popcorn represents a special case, since it is designed to be cooked along with its various flavoring agents. one of these formerly common artificial-butter flavorants, diacetyl, has been implicated in causing respiratory illnesses in microwave popcorn factory workers, also known as \"popcorn lung\". major manufacturers in the united states have stopped using this chemical, including orville redenbacher , act ii, pop secret and jolly time. other uses popcorn, threaded onto a string, is used as a wall or christmas tree decoration in some parts of north america, as well as on the balkan peninsula. some shipping companies have experimented with using popcorn as a biodegradable replacement for expanded polystyrene packing material. however, popcorn has numerous undesirable properties as a packing material, including attractiveness to pests, flammability, and a higher cost and greater density than expanded polystyrene. a more processed form of expanded corn foam has been developed to overcome some of these limitations, forming starch-based foam peanuts. see also references further reading hallauer, arnel r. (2001). specialty corns. crc press. isbn 978-0-8493-2377-5. lusas, edmund w.; rooney, lloyd w. (2001). snack foods processing. crc press. isbn 978-1-56676-932-7. smith, andrew f. (1999). popped culture: the social history of popcorn in america. university of south carolina press. isbn 978-1-57003-300-1.'"
      ]
     },
     "execution_count": 27,
     "metadata": {},
     "output_type": "execute_result"
    }
   ],
   "source": [
    "import re\n",
    "\n",
    "pat = re.compile(r\"(\\n|'s|'| )+\")\n",
    "wiki_text_clean = re.sub(pat,' ', wiki_text.lower())\n",
    "wiki_text_clean\n"
   ]
  },
  {
   "cell_type": "code",
   "execution_count": 28,
   "metadata": {
    "colab": {
     "base_uri": "https://localhost:8080/"
    },
    "executionInfo": {
     "elapsed": 42,
     "status": "ok",
     "timestamp": 1731444063899,
     "user": {
      "displayName": "deepdive datascience",
      "userId": "06241824193725215643"
     },
     "user_tz": 420
    },
    "id": "oDIJiWY1Kwd3",
    "outputId": "d76f7f05-230a-4ba5-a602-e306ae7caa8f"
   },
   "outputs": [
    {
     "data": {
      "text/plain": [
       "126"
      ]
     },
     "execution_count": 28,
     "metadata": {},
     "output_type": "execute_result"
    }
   ],
   "source": [
    "# Break up single string into separate sentences\n",
    "wiki_blob = TextBlob(wiki_text_clean)\n",
    "len(wiki_blob.sentences)\n"
   ]
  },
  {
   "cell_type": "code",
   "execution_count": 29,
   "metadata": {
    "colab": {
     "base_uri": "https://localhost:8080/"
    },
    "executionInfo": {
     "elapsed": 37,
     "status": "ok",
     "timestamp": 1731444063899,
     "user": {
      "displayName": "deepdive datascience",
      "userId": "06241824193725215643"
     },
     "user_tz": 420
    },
    "id": "jj7xKSFGLPoU",
    "outputId": "bfe48932-15f2-4858-b026-46dae069c96f"
   },
   "outputs": [
    {
     "data": {
      "text/plain": [
       "[Sentence(\"popcorn (also called popped corn, popcorns, or pop-corn) is a variety of corn kernel which expands and puffs up when heated.\"),\n",
       " Sentence(\"the term also refers to the snack food produced by the expansion.\"),\n",
       " Sentence(\"it is one of the oldest snacks, with evidence of popcorn dating back thousands of years in the americas.\"),\n",
       " Sentence(\"it is commonly eaten salted, sweetened, or with artificial flavorings.\"),\n",
       " Sentence(\"a popcorn kernel strong hull contains the seed hard, starchy shell endosperm with 14–20% moisture, which turns to steam as the kernel is heated.\")]"
      ]
     },
     "execution_count": 29,
     "metadata": {},
     "output_type": "execute_result"
    }
   ],
   "source": [
    "# Only look at first 5 sentences\n",
    "my_sentences = wiki_blob.sentences[0:5]\n",
    "my_sentences\n"
   ]
  },
  {
   "cell_type": "code",
   "execution_count": 30,
   "metadata": {
    "colab": {
     "base_uri": "https://localhost:8080/"
    },
    "executionInfo": {
     "elapsed": 33,
     "status": "ok",
     "timestamp": 1731444063899,
     "user": {
      "displayName": "deepdive datascience",
      "userId": "06241824193725215643"
     },
     "user_tz": 420
    },
    "id": "LUh1z8OiQyDa",
    "outputId": "c8d28e66-ba6a-49e5-dd1f-8a31721bdb7d"
   },
   "outputs": [
    {
     "data": {
      "text/plain": [
       "['popcorn (also called popped corn, popcorns, or pop-corn) is a variety of corn kernel which expands and puffs up when heated.',\n",
       " 'the term also refers to the snack food produced by the expansion.',\n",
       " 'it is one of the oldest snacks, with evidence of popcorn dating back thousands of years in the americas.',\n",
       " 'it is commonly eaten salted, sweetened, or with artificial flavorings.',\n",
       " 'a popcorn kernel strong hull contains the seed hard, starchy shell endosperm with 14–20% moisture, which turns to steam as the kernel is heated.']"
      ]
     },
     "execution_count": 30,
     "metadata": {},
     "output_type": "execute_result"
    }
   ],
   "source": [
    "# Convert text blob sentences to strings\n",
    "my_sentences_str = [ str(x) for x in my_sentences ]\n",
    "my_sentences_str\n"
   ]
  },
  {
   "cell_type": "code",
   "execution_count": 31,
   "metadata": {
    "colab": {
     "base_uri": "https://localhost:8080/"
    },
    "executionInfo": {
     "elapsed": 31,
     "status": "ok",
     "timestamp": 1731444063900,
     "user": {
      "displayName": "deepdive datascience",
      "userId": "06241824193725215643"
     },
     "user_tz": 420
    },
    "id": "gUILAz5BKGB1",
    "outputId": "2a132de8-dfff-42aa-f1b1-d41d24556fa8"
   },
   "outputs": [
    {
     "data": {
      "text/plain": [
       "(5, 43)"
      ]
     },
     "execution_count": 31,
     "metadata": {},
     "output_type": "execute_result"
    }
   ],
   "source": [
    "# Perform the TF-IDF Vectorization\n",
    "tf_idf_vec = TfidfVectorizer(stop_words = 'english')\n",
    "tf_idf_pop = tf_idf_vec.fit_transform(my_sentences_str)\n",
    "tf_idf_pop.shape\n"
   ]
  },
  {
   "cell_type": "code",
   "execution_count": 32,
   "metadata": {
    "colab": {
     "base_uri": "https://localhost:8080/"
    },
    "executionInfo": {
     "elapsed": 28,
     "status": "ok",
     "timestamp": 1731444063900,
     "user": {
      "displayName": "deepdive datascience",
      "userId": "06241824193725215643"
     },
     "user_tz": 420
    },
    "id": "9grRAp24_csW",
    "outputId": "463ef8f6-1906-4774-a1ae-7869e61b73af"
   },
   "outputs": [
    {
     "data": {
      "text/plain": [
       "<Compressed Sparse Row sparse matrix of dtype 'float64'\n",
       "\twith 47 stored elements and shape (5, 43)>"
      ]
     },
     "execution_count": 32,
     "metadata": {},
     "output_type": "execute_result"
    }
   ],
   "source": [
    "tf_idf_pop"
   ]
  },
  {
   "cell_type": "code",
   "execution_count": 33,
   "metadata": {
    "colab": {
     "base_uri": "https://localhost:8080/"
    },
    "executionInfo": {
     "elapsed": 25,
     "status": "ok",
     "timestamp": 1731444063900,
     "user": {
      "displayName": "deepdive datascience",
      "userId": "06241824193725215643"
     },
     "user_tz": 420
    },
    "id": "ytxNUAds1KeF",
    "outputId": "1e77a549-054a-4c8a-96cb-cfb38dee0e35"
   },
   "outputs": [
    {
     "data": {
      "text/plain": [
       "(43, 5)"
      ]
     },
     "execution_count": 33,
     "metadata": {},
     "output_type": "execute_result"
    }
   ],
   "source": [
    "tf_idf_pop.transpose().shape\n"
   ]
  },
  {
   "cell_type": "code",
   "execution_count": 34,
   "metadata": {
    "colab": {
     "base_uri": "https://localhost:8080/"
    },
    "executionInfo": {
     "elapsed": 23,
     "status": "ok",
     "timestamp": 1731444063900,
     "user": {
      "displayName": "deepdive datascience",
      "userId": "06241824193725215643"
     },
     "user_tz": 420
    },
    "id": "AFr_I2y605iF",
    "outputId": "97dc777f-0d66-4ec2-c5cf-b11e9d8e956e"
   },
   "outputs": [
    {
     "data": {
      "text/plain": [
       "array(['14', '20', 'americas', 'artificial', 'called', 'commonly',\n",
       "       'contains', 'corn', 'dating', 'eaten', 'endosperm', 'evidence',\n",
       "       'expands', 'expansion', 'flavorings', 'food', 'hard', 'heated',\n",
       "       'hull', 'kernel', 'moisture', 'oldest', 'pop', 'popcorn',\n",
       "       'popcorns', 'popped', 'produced', 'puffs', 'refers', 'salted',\n",
       "       'seed', 'shell', 'snack', 'snacks', 'starchy', 'steam', 'strong',\n",
       "       'sweetened', 'term', 'thousands', 'turns', 'variety', 'years'],\n",
       "      dtype=object)"
      ]
     },
     "execution_count": 34,
     "metadata": {},
     "output_type": "execute_result"
    }
   ],
   "source": [
    "tf_idf_vec.get_feature_names_out()\n"
   ]
  },
  {
   "cell_type": "code",
   "execution_count": 35,
   "metadata": {
    "colab": {
     "base_uri": "https://localhost:8080/",
     "height": 1000
    },
    "executionInfo": {
     "elapsed": 199,
     "status": "ok",
     "timestamp": 1731444064079,
     "user": {
      "displayName": "deepdive datascience",
      "userId": "06241824193725215643"
     },
     "user_tz": 420
    },
    "id": "TxdvcVwFRkut",
    "outputId": "d25e9584-8d74-46e4-f520-8eead2a0cfc7"
   },
   "outputs": [
    {
     "data": {
      "text/html": [
       "<div>\n",
       "<style scoped>\n",
       "    .dataframe tbody tr th:only-of-type {\n",
       "        vertical-align: middle;\n",
       "    }\n",
       "\n",
       "    .dataframe tbody tr th {\n",
       "        vertical-align: top;\n",
       "    }\n",
       "\n",
       "    .dataframe thead th {\n",
       "        text-align: right;\n",
       "    }\n",
       "</style>\n",
       "<table border=\"1\" class=\"dataframe\">\n",
       "  <thead>\n",
       "    <tr style=\"text-align: right;\">\n",
       "      <th></th>\n",
       "      <th>0</th>\n",
       "      <th>1</th>\n",
       "      <th>2</th>\n",
       "      <th>3</th>\n",
       "      <th>4</th>\n",
       "    </tr>\n",
       "  </thead>\n",
       "  <tbody>\n",
       "    <tr>\n",
       "      <th>14</th>\n",
       "      <td>0.000000</td>\n",
       "      <td>0.000000</td>\n",
       "      <td>0.000000</td>\n",
       "      <td>0.000000</td>\n",
       "      <td>0.244682</td>\n",
       "    </tr>\n",
       "    <tr>\n",
       "      <th>20</th>\n",
       "      <td>0.000000</td>\n",
       "      <td>0.000000</td>\n",
       "      <td>0.000000</td>\n",
       "      <td>0.000000</td>\n",
       "      <td>0.244682</td>\n",
       "    </tr>\n",
       "    <tr>\n",
       "      <th>americas</th>\n",
       "      <td>0.000000</td>\n",
       "      <td>0.000000</td>\n",
       "      <td>0.366408</td>\n",
       "      <td>0.000000</td>\n",
       "      <td>0.000000</td>\n",
       "    </tr>\n",
       "    <tr>\n",
       "      <th>artificial</th>\n",
       "      <td>0.000000</td>\n",
       "      <td>0.000000</td>\n",
       "      <td>0.000000</td>\n",
       "      <td>0.408248</td>\n",
       "      <td>0.000000</td>\n",
       "    </tr>\n",
       "    <tr>\n",
       "      <th>called</th>\n",
       "      <td>0.237354</td>\n",
       "      <td>0.000000</td>\n",
       "      <td>0.000000</td>\n",
       "      <td>0.000000</td>\n",
       "      <td>0.000000</td>\n",
       "    </tr>\n",
       "    <tr>\n",
       "      <th>commonly</th>\n",
       "      <td>0.000000</td>\n",
       "      <td>0.000000</td>\n",
       "      <td>0.000000</td>\n",
       "      <td>0.408248</td>\n",
       "      <td>0.000000</td>\n",
       "    </tr>\n",
       "    <tr>\n",
       "      <th>contains</th>\n",
       "      <td>0.000000</td>\n",
       "      <td>0.000000</td>\n",
       "      <td>0.000000</td>\n",
       "      <td>0.000000</td>\n",
       "      <td>0.244682</td>\n",
       "    </tr>\n",
       "    <tr>\n",
       "      <th>corn</th>\n",
       "      <td>0.712062</td>\n",
       "      <td>0.000000</td>\n",
       "      <td>0.000000</td>\n",
       "      <td>0.000000</td>\n",
       "      <td>0.000000</td>\n",
       "    </tr>\n",
       "    <tr>\n",
       "      <th>dating</th>\n",
       "      <td>0.000000</td>\n",
       "      <td>0.000000</td>\n",
       "      <td>0.366408</td>\n",
       "      <td>0.000000</td>\n",
       "      <td>0.000000</td>\n",
       "    </tr>\n",
       "    <tr>\n",
       "      <th>eaten</th>\n",
       "      <td>0.000000</td>\n",
       "      <td>0.000000</td>\n",
       "      <td>0.000000</td>\n",
       "      <td>0.408248</td>\n",
       "      <td>0.000000</td>\n",
       "    </tr>\n",
       "    <tr>\n",
       "      <th>endosperm</th>\n",
       "      <td>0.000000</td>\n",
       "      <td>0.000000</td>\n",
       "      <td>0.000000</td>\n",
       "      <td>0.000000</td>\n",
       "      <td>0.244682</td>\n",
       "    </tr>\n",
       "    <tr>\n",
       "      <th>evidence</th>\n",
       "      <td>0.000000</td>\n",
       "      <td>0.000000</td>\n",
       "      <td>0.366408</td>\n",
       "      <td>0.000000</td>\n",
       "      <td>0.000000</td>\n",
       "    </tr>\n",
       "    <tr>\n",
       "      <th>expands</th>\n",
       "      <td>0.237354</td>\n",
       "      <td>0.000000</td>\n",
       "      <td>0.000000</td>\n",
       "      <td>0.000000</td>\n",
       "      <td>0.000000</td>\n",
       "    </tr>\n",
       "    <tr>\n",
       "      <th>expansion</th>\n",
       "      <td>0.000000</td>\n",
       "      <td>0.408248</td>\n",
       "      <td>0.000000</td>\n",
       "      <td>0.000000</td>\n",
       "      <td>0.000000</td>\n",
       "    </tr>\n",
       "    <tr>\n",
       "      <th>flavorings</th>\n",
       "      <td>0.000000</td>\n",
       "      <td>0.000000</td>\n",
       "      <td>0.000000</td>\n",
       "      <td>0.408248</td>\n",
       "      <td>0.000000</td>\n",
       "    </tr>\n",
       "    <tr>\n",
       "      <th>food</th>\n",
       "      <td>0.000000</td>\n",
       "      <td>0.408248</td>\n",
       "      <td>0.000000</td>\n",
       "      <td>0.000000</td>\n",
       "      <td>0.000000</td>\n",
       "    </tr>\n",
       "    <tr>\n",
       "      <th>hard</th>\n",
       "      <td>0.000000</td>\n",
       "      <td>0.000000</td>\n",
       "      <td>0.000000</td>\n",
       "      <td>0.000000</td>\n",
       "      <td>0.244682</td>\n",
       "    </tr>\n",
       "    <tr>\n",
       "      <th>heated</th>\n",
       "      <td>0.191496</td>\n",
       "      <td>0.000000</td>\n",
       "      <td>0.000000</td>\n",
       "      <td>0.000000</td>\n",
       "      <td>0.197408</td>\n",
       "    </tr>\n",
       "    <tr>\n",
       "      <th>hull</th>\n",
       "      <td>0.000000</td>\n",
       "      <td>0.000000</td>\n",
       "      <td>0.000000</td>\n",
       "      <td>0.000000</td>\n",
       "      <td>0.244682</td>\n",
       "    </tr>\n",
       "    <tr>\n",
       "      <th>kernel</th>\n",
       "      <td>0.191496</td>\n",
       "      <td>0.000000</td>\n",
       "      <td>0.000000</td>\n",
       "      <td>0.000000</td>\n",
       "      <td>0.394815</td>\n",
       "    </tr>\n",
       "    <tr>\n",
       "      <th>moisture</th>\n",
       "      <td>0.000000</td>\n",
       "      <td>0.000000</td>\n",
       "      <td>0.000000</td>\n",
       "      <td>0.000000</td>\n",
       "      <td>0.244682</td>\n",
       "    </tr>\n",
       "    <tr>\n",
       "      <th>oldest</th>\n",
       "      <td>0.000000</td>\n",
       "      <td>0.000000</td>\n",
       "      <td>0.366408</td>\n",
       "      <td>0.000000</td>\n",
       "      <td>0.000000</td>\n",
       "    </tr>\n",
       "    <tr>\n",
       "      <th>pop</th>\n",
       "      <td>0.237354</td>\n",
       "      <td>0.000000</td>\n",
       "      <td>0.000000</td>\n",
       "      <td>0.000000</td>\n",
       "      <td>0.000000</td>\n",
       "    </tr>\n",
       "    <tr>\n",
       "      <th>popcorn</th>\n",
       "      <td>0.158959</td>\n",
       "      <td>0.000000</td>\n",
       "      <td>0.245388</td>\n",
       "      <td>0.000000</td>\n",
       "      <td>0.163866</td>\n",
       "    </tr>\n",
       "    <tr>\n",
       "      <th>popcorns</th>\n",
       "      <td>0.237354</td>\n",
       "      <td>0.000000</td>\n",
       "      <td>0.000000</td>\n",
       "      <td>0.000000</td>\n",
       "      <td>0.000000</td>\n",
       "    </tr>\n",
       "    <tr>\n",
       "      <th>popped</th>\n",
       "      <td>0.237354</td>\n",
       "      <td>0.000000</td>\n",
       "      <td>0.000000</td>\n",
       "      <td>0.000000</td>\n",
       "      <td>0.000000</td>\n",
       "    </tr>\n",
       "    <tr>\n",
       "      <th>produced</th>\n",
       "      <td>0.000000</td>\n",
       "      <td>0.408248</td>\n",
       "      <td>0.000000</td>\n",
       "      <td>0.000000</td>\n",
       "      <td>0.000000</td>\n",
       "    </tr>\n",
       "    <tr>\n",
       "      <th>puffs</th>\n",
       "      <td>0.237354</td>\n",
       "      <td>0.000000</td>\n",
       "      <td>0.000000</td>\n",
       "      <td>0.000000</td>\n",
       "      <td>0.000000</td>\n",
       "    </tr>\n",
       "    <tr>\n",
       "      <th>refers</th>\n",
       "      <td>0.000000</td>\n",
       "      <td>0.408248</td>\n",
       "      <td>0.000000</td>\n",
       "      <td>0.000000</td>\n",
       "      <td>0.000000</td>\n",
       "    </tr>\n",
       "    <tr>\n",
       "      <th>salted</th>\n",
       "      <td>0.000000</td>\n",
       "      <td>0.000000</td>\n",
       "      <td>0.000000</td>\n",
       "      <td>0.408248</td>\n",
       "      <td>0.000000</td>\n",
       "    </tr>\n",
       "    <tr>\n",
       "      <th>seed</th>\n",
       "      <td>0.000000</td>\n",
       "      <td>0.000000</td>\n",
       "      <td>0.000000</td>\n",
       "      <td>0.000000</td>\n",
       "      <td>0.244682</td>\n",
       "    </tr>\n",
       "    <tr>\n",
       "      <th>shell</th>\n",
       "      <td>0.000000</td>\n",
       "      <td>0.000000</td>\n",
       "      <td>0.000000</td>\n",
       "      <td>0.000000</td>\n",
       "      <td>0.244682</td>\n",
       "    </tr>\n",
       "    <tr>\n",
       "      <th>snack</th>\n",
       "      <td>0.000000</td>\n",
       "      <td>0.408248</td>\n",
       "      <td>0.000000</td>\n",
       "      <td>0.000000</td>\n",
       "      <td>0.000000</td>\n",
       "    </tr>\n",
       "    <tr>\n",
       "      <th>snacks</th>\n",
       "      <td>0.000000</td>\n",
       "      <td>0.000000</td>\n",
       "      <td>0.366408</td>\n",
       "      <td>0.000000</td>\n",
       "      <td>0.000000</td>\n",
       "    </tr>\n",
       "    <tr>\n",
       "      <th>starchy</th>\n",
       "      <td>0.000000</td>\n",
       "      <td>0.000000</td>\n",
       "      <td>0.000000</td>\n",
       "      <td>0.000000</td>\n",
       "      <td>0.244682</td>\n",
       "    </tr>\n",
       "    <tr>\n",
       "      <th>steam</th>\n",
       "      <td>0.000000</td>\n",
       "      <td>0.000000</td>\n",
       "      <td>0.000000</td>\n",
       "      <td>0.000000</td>\n",
       "      <td>0.244682</td>\n",
       "    </tr>\n",
       "    <tr>\n",
       "      <th>strong</th>\n",
       "      <td>0.000000</td>\n",
       "      <td>0.000000</td>\n",
       "      <td>0.000000</td>\n",
       "      <td>0.000000</td>\n",
       "      <td>0.244682</td>\n",
       "    </tr>\n",
       "    <tr>\n",
       "      <th>sweetened</th>\n",
       "      <td>0.000000</td>\n",
       "      <td>0.000000</td>\n",
       "      <td>0.000000</td>\n",
       "      <td>0.408248</td>\n",
       "      <td>0.000000</td>\n",
       "    </tr>\n",
       "    <tr>\n",
       "      <th>term</th>\n",
       "      <td>0.000000</td>\n",
       "      <td>0.408248</td>\n",
       "      <td>0.000000</td>\n",
       "      <td>0.000000</td>\n",
       "      <td>0.000000</td>\n",
       "    </tr>\n",
       "    <tr>\n",
       "      <th>thousands</th>\n",
       "      <td>0.000000</td>\n",
       "      <td>0.000000</td>\n",
       "      <td>0.366408</td>\n",
       "      <td>0.000000</td>\n",
       "      <td>0.000000</td>\n",
       "    </tr>\n",
       "    <tr>\n",
       "      <th>turns</th>\n",
       "      <td>0.000000</td>\n",
       "      <td>0.000000</td>\n",
       "      <td>0.000000</td>\n",
       "      <td>0.000000</td>\n",
       "      <td>0.244682</td>\n",
       "    </tr>\n",
       "    <tr>\n",
       "      <th>variety</th>\n",
       "      <td>0.237354</td>\n",
       "      <td>0.000000</td>\n",
       "      <td>0.000000</td>\n",
       "      <td>0.000000</td>\n",
       "      <td>0.000000</td>\n",
       "    </tr>\n",
       "    <tr>\n",
       "      <th>years</th>\n",
       "      <td>0.000000</td>\n",
       "      <td>0.000000</td>\n",
       "      <td>0.366408</td>\n",
       "      <td>0.000000</td>\n",
       "      <td>0.000000</td>\n",
       "    </tr>\n",
       "  </tbody>\n",
       "</table>\n",
       "</div>"
      ],
      "text/plain": [
       "                   0         1         2         3         4\n",
       "14          0.000000  0.000000  0.000000  0.000000  0.244682\n",
       "20          0.000000  0.000000  0.000000  0.000000  0.244682\n",
       "americas    0.000000  0.000000  0.366408  0.000000  0.000000\n",
       "artificial  0.000000  0.000000  0.000000  0.408248  0.000000\n",
       "called      0.237354  0.000000  0.000000  0.000000  0.000000\n",
       "commonly    0.000000  0.000000  0.000000  0.408248  0.000000\n",
       "contains    0.000000  0.000000  0.000000  0.000000  0.244682\n",
       "corn        0.712062  0.000000  0.000000  0.000000  0.000000\n",
       "dating      0.000000  0.000000  0.366408  0.000000  0.000000\n",
       "eaten       0.000000  0.000000  0.000000  0.408248  0.000000\n",
       "endosperm   0.000000  0.000000  0.000000  0.000000  0.244682\n",
       "evidence    0.000000  0.000000  0.366408  0.000000  0.000000\n",
       "expands     0.237354  0.000000  0.000000  0.000000  0.000000\n",
       "expansion   0.000000  0.408248  0.000000  0.000000  0.000000\n",
       "flavorings  0.000000  0.000000  0.000000  0.408248  0.000000\n",
       "food        0.000000  0.408248  0.000000  0.000000  0.000000\n",
       "hard        0.000000  0.000000  0.000000  0.000000  0.244682\n",
       "heated      0.191496  0.000000  0.000000  0.000000  0.197408\n",
       "hull        0.000000  0.000000  0.000000  0.000000  0.244682\n",
       "kernel      0.191496  0.000000  0.000000  0.000000  0.394815\n",
       "moisture    0.000000  0.000000  0.000000  0.000000  0.244682\n",
       "oldest      0.000000  0.000000  0.366408  0.000000  0.000000\n",
       "pop         0.237354  0.000000  0.000000  0.000000  0.000000\n",
       "popcorn     0.158959  0.000000  0.245388  0.000000  0.163866\n",
       "popcorns    0.237354  0.000000  0.000000  0.000000  0.000000\n",
       "popped      0.237354  0.000000  0.000000  0.000000  0.000000\n",
       "produced    0.000000  0.408248  0.000000  0.000000  0.000000\n",
       "puffs       0.237354  0.000000  0.000000  0.000000  0.000000\n",
       "refers      0.000000  0.408248  0.000000  0.000000  0.000000\n",
       "salted      0.000000  0.000000  0.000000  0.408248  0.000000\n",
       "seed        0.000000  0.000000  0.000000  0.000000  0.244682\n",
       "shell       0.000000  0.000000  0.000000  0.000000  0.244682\n",
       "snack       0.000000  0.408248  0.000000  0.000000  0.000000\n",
       "snacks      0.000000  0.000000  0.366408  0.000000  0.000000\n",
       "starchy     0.000000  0.000000  0.000000  0.000000  0.244682\n",
       "steam       0.000000  0.000000  0.000000  0.000000  0.244682\n",
       "strong      0.000000  0.000000  0.000000  0.000000  0.244682\n",
       "sweetened   0.000000  0.000000  0.000000  0.408248  0.000000\n",
       "term        0.000000  0.408248  0.000000  0.000000  0.000000\n",
       "thousands   0.000000  0.000000  0.366408  0.000000  0.000000\n",
       "turns       0.000000  0.000000  0.000000  0.000000  0.244682\n",
       "variety     0.237354  0.000000  0.000000  0.000000  0.000000\n",
       "years       0.000000  0.000000  0.366408  0.000000  0.000000"
      ]
     },
     "execution_count": 35,
     "metadata": {},
     "output_type": "execute_result"
    }
   ],
   "source": [
    "# Print out results in a dataframe\n",
    "tf_df = pd.DataFrame(tf_idf_pop.toarray(), columns = tf_idf_vec.get_feature_names_out())\n",
    "tf_df.transpose()\n"
   ]
  },
  {
   "cell_type": "code",
   "execution_count": 36,
   "metadata": {
    "colab": {
     "base_uri": "https://localhost:8080/",
     "height": 206
    },
    "executionInfo": {
     "elapsed": 20,
     "status": "ok",
     "timestamp": 1731444064079,
     "user": {
      "displayName": "deepdive datascience",
      "userId": "06241824193725215643"
     },
     "user_tz": 420
    },
    "id": "lZIzZwxuRERt",
    "outputId": "e9db8dae-8ed3-4b2c-f3ed-8e571f31961b"
   },
   "outputs": [
    {
     "data": {
      "text/html": [
       "<div>\n",
       "<style scoped>\n",
       "    .dataframe tbody tr th:only-of-type {\n",
       "        vertical-align: middle;\n",
       "    }\n",
       "\n",
       "    .dataframe tbody tr th {\n",
       "        vertical-align: top;\n",
       "    }\n",
       "\n",
       "    .dataframe thead th {\n",
       "        text-align: right;\n",
       "    }\n",
       "</style>\n",
       "<table border=\"1\" class=\"dataframe\">\n",
       "  <thead>\n",
       "    <tr style=\"text-align: right;\">\n",
       "      <th></th>\n",
       "      <th>TF-IDF</th>\n",
       "    </tr>\n",
       "  </thead>\n",
       "  <tbody>\n",
       "    <tr>\n",
       "      <th>corn</th>\n",
       "      <td>0.712062</td>\n",
       "    </tr>\n",
       "    <tr>\n",
       "      <th>called</th>\n",
       "      <td>0.237354</td>\n",
       "    </tr>\n",
       "    <tr>\n",
       "      <th>expands</th>\n",
       "      <td>0.237354</td>\n",
       "    </tr>\n",
       "    <tr>\n",
       "      <th>pop</th>\n",
       "      <td>0.237354</td>\n",
       "    </tr>\n",
       "    <tr>\n",
       "      <th>popcorns</th>\n",
       "      <td>0.237354</td>\n",
       "    </tr>\n",
       "  </tbody>\n",
       "</table>\n",
       "</div>"
      ],
      "text/plain": [
       "            TF-IDF\n",
       "corn      0.712062\n",
       "called    0.237354\n",
       "expands   0.237354\n",
       "pop       0.237354\n",
       "popcorns  0.237354"
      ]
     },
     "execution_count": 36,
     "metadata": {},
     "output_type": "execute_result"
    }
   ],
   "source": [
    "# Get a data frame with the TF-IDF values sorted for document 0\n",
    "df = pd.DataFrame(tf_idf_pop[0].T.todense(), index=tf_idf_vec.get_feature_names_out(), columns=[\"TF-IDF\"])\n",
    "df = df.sort_values('TF-IDF', ascending=False)\n",
    "df[:5]\n"
   ]
  },
  {
   "cell_type": "code",
   "execution_count": 37,
   "metadata": {
    "colab": {
     "base_uri": "https://localhost:8080/",
     "height": 206
    },
    "executionInfo": {
     "elapsed": 17,
     "status": "ok",
     "timestamp": 1731444064079,
     "user": {
      "displayName": "deepdive datascience",
      "userId": "06241824193725215643"
     },
     "user_tz": 420
    },
    "id": "qiVEFduJyAxr",
    "outputId": "b92d5a07-c60e-4131-cde6-c6138c2cdaa1"
   },
   "outputs": [
    {
     "data": {
      "text/html": [
       "<div>\n",
       "<style scoped>\n",
       "    .dataframe tbody tr th:only-of-type {\n",
       "        vertical-align: middle;\n",
       "    }\n",
       "\n",
       "    .dataframe tbody tr th {\n",
       "        vertical-align: top;\n",
       "    }\n",
       "\n",
       "    .dataframe thead th {\n",
       "        text-align: right;\n",
       "    }\n",
       "</style>\n",
       "<table border=\"1\" class=\"dataframe\">\n",
       "  <thead>\n",
       "    <tr style=\"text-align: right;\">\n",
       "      <th></th>\n",
       "      <th>0</th>\n",
       "    </tr>\n",
       "  </thead>\n",
       "  <tbody>\n",
       "    <tr>\n",
       "      <th>corn</th>\n",
       "      <td>0.712062</td>\n",
       "    </tr>\n",
       "    <tr>\n",
       "      <th>called</th>\n",
       "      <td>0.237354</td>\n",
       "    </tr>\n",
       "    <tr>\n",
       "      <th>expands</th>\n",
       "      <td>0.237354</td>\n",
       "    </tr>\n",
       "    <tr>\n",
       "      <th>pop</th>\n",
       "      <td>0.237354</td>\n",
       "    </tr>\n",
       "    <tr>\n",
       "      <th>popcorns</th>\n",
       "      <td>0.237354</td>\n",
       "    </tr>\n",
       "  </tbody>\n",
       "</table>\n",
       "</div>"
      ],
      "text/plain": [
       "                 0\n",
       "corn      0.712062\n",
       "called    0.237354\n",
       "expands   0.237354\n",
       "pop       0.237354\n",
       "popcorns  0.237354"
      ]
     },
     "execution_count": 37,
     "metadata": {},
     "output_type": "execute_result"
    }
   ],
   "source": [
    "tf_df.T[[0]].sort_values([0], ascending=False)[:5]\n"
   ]
  },
  {
   "cell_type": "code",
   "execution_count": 38,
   "metadata": {
    "colab": {
     "base_uri": "https://localhost:8080/"
    },
    "executionInfo": {
     "elapsed": 14,
     "status": "ok",
     "timestamp": 1731444064080,
     "user": {
      "displayName": "deepdive datascience",
      "userId": "06241824193725215643"
     },
     "user_tz": 420
    },
    "id": "ELW9QbXLAbfD",
    "outputId": "1d027484-ccb5-477e-ba90-3e2504a8af95"
   },
   "outputs": [
    {
     "data": {
      "text/plain": [
       "matrix([[0.        ],\n",
       "        [0.        ],\n",
       "        [0.        ],\n",
       "        [0.        ],\n",
       "        [0.23735402],\n",
       "        [0.        ],\n",
       "        [0.        ],\n",
       "        [0.71206206],\n",
       "        [0.        ],\n",
       "        [0.        ],\n",
       "        [0.        ],\n",
       "        [0.        ],\n",
       "        [0.23735402],\n",
       "        [0.        ],\n",
       "        [0.        ],\n",
       "        [0.        ],\n",
       "        [0.        ],\n",
       "        [0.19149573],\n",
       "        [0.        ],\n",
       "        [0.19149573],\n",
       "        [0.        ],\n",
       "        [0.        ],\n",
       "        [0.23735402],\n",
       "        [0.15895875],\n",
       "        [0.23735402],\n",
       "        [0.23735402],\n",
       "        [0.        ],\n",
       "        [0.23735402],\n",
       "        [0.        ],\n",
       "        [0.        ],\n",
       "        [0.        ],\n",
       "        [0.        ],\n",
       "        [0.        ],\n",
       "        [0.        ],\n",
       "        [0.        ],\n",
       "        [0.        ],\n",
       "        [0.        ],\n",
       "        [0.        ],\n",
       "        [0.        ],\n",
       "        [0.        ],\n",
       "        [0.        ],\n",
       "        [0.23735402],\n",
       "        [0.        ]])"
      ]
     },
     "execution_count": 38,
     "metadata": {},
     "output_type": "execute_result"
    }
   ],
   "source": [
    "(\n",
    "tf_idf_pop[0]\n",
    ".T\n",
    ".todense()\n",
    ")"
   ]
  }
 ],
 "metadata": {
  "colab": {
   "provenance": [],
   "toc_visible": true
  },
  "kernelspec": {
   "display_name": "Python 3",
   "language": "python",
   "name": "python3"
  },
  "language_info": {
   "codemirror_mode": {
    "name": "ipython",
    "version": 3
   },
   "file_extension": ".py",
   "mimetype": "text/x-python",
   "name": "python",
   "nbconvert_exporter": "python",
   "pygments_lexer": "ipython3",
   "version": "3.12.7"
  }
 },
 "nbformat": 4,
 "nbformat_minor": 0
}
