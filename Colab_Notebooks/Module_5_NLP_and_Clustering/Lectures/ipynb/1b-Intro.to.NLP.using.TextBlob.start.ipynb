{
 "cells": [
  {
   "cell_type": "markdown",
   "metadata": {
    "id": "TzrddZIGO_5f"
   },
   "source": [
    "# TextBlob\n",
    "TextBlob is a powerful NLP Python library. It can be used to perform a variety of NLP tasks. Documentation for TextBlob can be found [here](https://textblob.readthedocs.io/en/dev/)."
   ]
  },
  {
   "cell_type": "code",
   "execution_count": null,
   "metadata": {
    "executionInfo": {
     "elapsed": 6323,
     "status": "ok",
     "timestamp": 1730994547226,
     "user": {
      "displayName": "deepdive datascience",
      "userId": "06241824193725215643"
     },
     "user_tz": 420
    },
    "id": "KKRtlgDwO4UQ"
   },
   "outputs": [
    {
     "ename": "",
     "evalue": "",
     "output_type": "error",
     "traceback": [
      "\u001b[1;31mRunning cells with 'Python 3.11.2' requires the ipykernel package.\n",
      "\u001b[1;31mRun the following command to install 'ipykernel' into the Python environment. \n",
      "\u001b[1;31mCommand: '/bin/python3 -m pip install ipykernel -U --user --force-reinstall'"
     ]
    }
   ],
   "source": [
    "%%capture\n",
    "# Install textblob\n",
    "!pip install -U textblob\n"
   ]
  },
  {
   "cell_type": "code",
   "execution_count": null,
   "metadata": {
    "executionInfo": {
     "elapsed": 5481,
     "status": "ok",
     "timestamp": 1730994562439,
     "user": {
      "displayName": "deepdive datascience",
      "userId": "06241824193725215643"
     },
     "user_tz": 420
    },
    "id": "irDHosnRN4tN"
   },
   "outputs": [],
   "source": [
    "from textblob import TextBlob\n"
   ]
  },
  {
   "cell_type": "markdown",
   "metadata": {
    "id": "fpVbWI_VPD43"
   },
   "source": [
    "## Corpora"
   ]
  },
  {
   "cell_type": "code",
   "execution_count": null,
   "metadata": {
    "executionInfo": {
     "elapsed": 6903,
     "status": "ok",
     "timestamp": 1730994569340,
     "user": {
      "displayName": "deepdive datascience",
      "userId": "06241824193725215643"
     },
     "user_tz": 420
    },
    "id": "-GFxnAuHer46"
   },
   "outputs": [],
   "source": [
    "%%capture\n",
    "# Download corpora\n",
    "!python -m textblob.download_corpora\n"
   ]
  },
  {
   "cell_type": "code",
   "execution_count": null,
   "metadata": {
    "colab": {
     "base_uri": "https://localhost:8080/"
    },
    "executionInfo": {
     "elapsed": 1715,
     "status": "ok",
     "timestamp": 1730994576554,
     "user": {
      "displayName": "deepdive datascience",
      "userId": "06241824193725215643"
     },
     "user_tz": 420
    },
    "id": "Iac8TfgsLzJh",
    "outputId": "1aa3595a-e68d-47cf-9c15-57b66eeb7596"
   },
   "outputs": [],
   "source": [
    "import nltk\n",
    "nltk.download('omw-1.4')\n"
   ]
  },
  {
   "cell_type": "markdown",
   "metadata": {
    "id": "OqDunLivfE76"
   },
   "source": [
    "## TextBlobs"
   ]
  },
  {
   "cell_type": "code",
   "execution_count": null,
   "metadata": {
    "executionInfo": {
     "elapsed": 310,
     "status": "ok",
     "timestamp": 1730994616553,
     "user": {
      "displayName": "deepdive datascience",
      "userId": "06241824193725215643"
     },
     "user_tz": 420
    },
    "id": "fYCy3sfbfGY2"
   },
   "outputs": [],
   "source": [
    "my_blob = TextBlob(\"There is more than one way to skin a cat.\")\n"
   ]
  },
  {
   "cell_type": "code",
   "execution_count": null,
   "metadata": {
    "colab": {
     "base_uri": "https://localhost:8080/"
    },
    "executionInfo": {
     "elapsed": 284,
     "status": "ok",
     "timestamp": 1730994618478,
     "user": {
      "displayName": "deepdive datascience",
      "userId": "06241824193725215643"
     },
     "user_tz": 420
    },
    "id": "Q1fcXX8mUitv",
    "outputId": "f6982a55-b450-4747-aea6-ba7a8ff7eca0"
   },
   "outputs": [],
   "source": [
    "my_blob\n"
   ]
  },
  {
   "cell_type": "markdown",
   "metadata": {
    "id": "6ATirf1IfOHB"
   },
   "source": [
    "## Tagging Parts of Speech\n",
    "A list of the different parts of speech tags can be found [here](https://www.geeksforgeeks.org/python-part-of-speech-tagging-using-textblob/).\n",
    "\n",
    "code | meaning | example\n",
    "--- | --- | ---\n",
    "CC | coordinating conjunction |\n",
    "CD | cardinal digit |\n",
    "DT | determiner |\n",
    "EX | existential there | (like: “there is” … think of it like “there exists”)\n",
    "FW | foreign word |\n",
    "IN | preposition/subordinating conjunction |\n",
    "JJ | adjective | ‘big’\n",
    "JJR | adjective, comparative | ‘bigger’\n",
    "JJS | adjective, superlative | ‘biggest’\n",
    "LS | list marker | 1)\n",
    "MD | modal could, | will\n",
    "NN | noun, singular | ‘desk’\n",
    "NNS | noun plural | ‘desks’\n",
    "NNP | proper noun, singular | ‘Harrison’\n",
    "NNPS | proper noun, plural | ‘Americans’\n",
    "PDT | predeterminer | ‘all the kids’\n",
    "POS | possessive ending | parent‘s\n",
    "PRP | personal pronoun | I, he, she\n",
    "PRP\\$ | possessive pronoun | my, his, hers\n",
    "RB | adverb | very, silently,\n",
    "RBR | adverb, comparative | better\n",
    "RBS | adverb, superlative | best\n",
    "RP | particle | give up\n",
    "TO | to go | ‘to‘ the store.\n",
    "UH | interjection | errrrrrrrm\n",
    "VB | verb, base form | take\n",
    "VBD | verb, past tense | took\n",
    "VBG | verb, gerund/present participle | taking\n",
    "VBN | verb, past participle | taken\n",
    "VBP | verb, sing. present, non-3d | take\n",
    "VBZ | verb, 3rd person sing. present | takes\n",
    "WDT | wh-determiner | which\n",
    "WP | wh-pronoun | who, what\n",
    "WP$ | possessive wh-pronoun | whose\n",
    "WRB | wh-adverb | where, when\n",
    "\n",
    "\n",
    "\n",
    "\n"
   ]
  },
  {
   "cell_type": "code",
   "execution_count": null,
   "metadata": {
    "colab": {
     "base_uri": "https://localhost:8080/"
    },
    "executionInfo": {
     "elapsed": 283,
     "status": "ok",
     "timestamp": 1730994668813,
     "user": {
      "displayName": "deepdive datascience",
      "userId": "06241824193725215643"
     },
     "user_tz": 420
    },
    "id": "9vtVoD7AfP06",
    "outputId": "051c93c4-7f0c-4980-f2b7-6b9056e827d8"
   },
   "outputs": [],
   "source": [
    "# Use the .tags attribute to see parts of speech\n",
    "my_blob.tags\n"
   ]
  },
  {
   "cell_type": "markdown",
   "metadata": {
    "id": "pCbQ-_RDgN56"
   },
   "source": [
    "## Sentiment Analysis"
   ]
  },
  {
   "cell_type": "markdown",
   "metadata": {
    "id": "qdBZsTh7gq6b"
   },
   "source": [
    "Sentiment analysis can be used to understand the feeling or emotion tied to the text. The sentiment attribute in TextBlob will return two values:\n",
    "1. The **polarity score** (a float between -1.0 and 1.0). -1 is negative, 1 is positive.\n",
    "2. The **subjectivity** (a float between 0.0 and 1.0). 0 is very objective, while 1 is very subjective."
   ]
  },
  {
   "cell_type": "code",
   "execution_count": null,
   "metadata": {
    "colab": {
     "base_uri": "https://localhost:8080/"
    },
    "executionInfo": {
     "elapsed": 281,
     "status": "ok",
     "timestamp": 1730994790189,
     "user": {
      "displayName": "deepdive datascience",
      "userId": "06241824193725215643"
     },
     "user_tz": 420
    },
    "id": "W8mMTPUsgTqD",
    "outputId": "a1fd931b-e071-422e-a565-9c2dfbc18e66"
   },
   "outputs": [],
   "source": [
    "neg_blob = TextBlob(\"I am so tired. Today was a long, hard day.\")\n",
    "neg_blob.sentiment\n"
   ]
  },
  {
   "cell_type": "code",
   "execution_count": null,
   "metadata": {
    "colab": {
     "base_uri": "https://localhost:8080/"
    },
    "executionInfo": {
     "elapsed": 298,
     "status": "ok",
     "timestamp": 1730994867891,
     "user": {
      "displayName": "deepdive datascience",
      "userId": "06241824193725215643"
     },
     "user_tz": 420
    },
    "id": "F5J7WfPygit2",
    "outputId": "e3b635e9-e348-4df1-e292-183dc7f96297"
   },
   "outputs": [],
   "source": [
    "pos_blob = TextBlob(\"Today was a great day. I am so happy.\")\n",
    "pos_blob.sentiment\n"
   ]
  },
  {
   "cell_type": "code",
   "execution_count": null,
   "metadata": {
    "colab": {
     "base_uri": "https://localhost:8080/"
    },
    "executionInfo": {
     "elapsed": 307,
     "status": "ok",
     "timestamp": 1730994883659,
     "user": {
      "displayName": "deepdive datascience",
      "userId": "06241824193725215643"
     },
     "user_tz": 420
    },
    "id": "cZam445yhNx1",
    "outputId": "ca4484ce-a86d-4a73-b07b-45d2fa2e0867"
   },
   "outputs": [],
   "source": [
    "obj_blob = TextBlob(\"The cat is gray.\")\n",
    "obj_blob.sentiment\n"
   ]
  },
  {
   "cell_type": "code",
   "execution_count": null,
   "metadata": {
    "colab": {
     "base_uri": "https://localhost:8080/"
    },
    "executionInfo": {
     "elapsed": 302,
     "status": "ok",
     "timestamp": 1730994906505,
     "user": {
      "displayName": "deepdive datascience",
      "userId": "06241824193725215643"
     },
     "user_tz": 420
    },
    "id": "rH7v7rwhhSNJ",
    "outputId": "fa7438bf-30e7-4792-ffd7-284df8aba048"
   },
   "outputs": [],
   "source": [
    "subj_blob = TextBlob(\"The cat is so cute and sweet.\")\n",
    "print(subj_blob.sentiment)\n",
    "print(subj_blob.sentiment.subjectivity) # Only get the subjectivity\n"
   ]
  },
  {
   "cell_type": "markdown",
   "metadata": {
    "id": "8er-hrrJh07M"
   },
   "source": [
    "Sentiment analysis of multiple sentences"
   ]
  },
  {
   "cell_type": "code",
   "execution_count": null,
   "metadata": {
    "executionInfo": {
     "elapsed": 855,
     "status": "ok",
     "timestamp": 1730994968151,
     "user": {
      "displayName": "deepdive datascience",
      "userId": "06241824193725215643"
     },
     "user_tz": 420
    },
    "id": "HYGpYwhGh4zQ"
   },
   "outputs": [],
   "source": [
    "my_poem = TextBlob('''\n",
    "  Python is a great language to learn.\n",
    "  You can easily do NLP; it's fab.\n",
    "  It might take some getting used to.\n",
    "  But it's definitely more gooder than Matlab.\n",
    "''')\n"
   ]
  },
  {
   "cell_type": "code",
   "execution_count": null,
   "metadata": {
    "colab": {
     "base_uri": "https://localhost:8080/"
    },
    "executionInfo": {
     "elapsed": 303,
     "status": "ok",
     "timestamp": 1730994970521,
     "user": {
      "displayName": "deepdive datascience",
      "userId": "06241824193725215643"
     },
     "user_tz": 420
    },
    "id": "0uP-Uu4rD3Bv",
    "outputId": "736671f3-83e2-450d-ee9d-1501b47aac24"
   },
   "outputs": [],
   "source": [
    "my_poem"
   ]
  },
  {
   "cell_type": "code",
   "execution_count": null,
   "metadata": {
    "colab": {
     "base_uri": "https://localhost:8080/"
    },
    "executionInfo": {
     "elapsed": 301,
     "status": "ok",
     "timestamp": 1730994976924,
     "user": {
      "displayName": "deepdive datascience",
      "userId": "06241824193725215643"
     },
     "user_tz": 420
    },
    "id": "iPkNblDYWrQm",
    "outputId": "2fec55e3-d88a-46c0-babe-9282b155d050"
   },
   "outputs": [],
   "source": [
    "my_poem.sentiment\n"
   ]
  },
  {
   "cell_type": "code",
   "execution_count": null,
   "metadata": {
    "colab": {
     "base_uri": "https://localhost:8080/"
    },
    "executionInfo": {
     "elapsed": 260,
     "status": "ok",
     "timestamp": 1730995001464,
     "user": {
      "displayName": "deepdive datascience",
      "userId": "06241824193725215643"
     },
     "user_tz": 420
    },
    "id": "zO-qyaXnh9c7",
    "outputId": "76fdb1cc-24e2-430e-ebab-cdab53884e45"
   },
   "outputs": [],
   "source": [
    "my_poem.sentences\n"
   ]
  },
  {
   "cell_type": "code",
   "execution_count": null,
   "metadata": {
    "colab": {
     "base_uri": "https://localhost:8080/"
    },
    "executionInfo": {
     "elapsed": 289,
     "status": "ok",
     "timestamp": 1730995090069,
     "user": {
      "displayName": "deepdive datascience",
      "userId": "06241824193725215643"
     },
     "user_tz": 420
    },
    "id": "2Gg127LDh_iC",
    "outputId": "24bb243f-8085-48af-b53b-dccab563018e"
   },
   "outputs": [],
   "source": [
    "for sentence in my_poem.sentences:\n",
    "  print(sentence.sentiment)\n"
   ]
  },
  {
   "cell_type": "markdown",
   "metadata": {
    "id": "NOk3hstOiX66"
   },
   "source": [
    "### Your Turn\n",
    "Create three TextBlobs with the following sentiments:\n",
    "1. Negative, subjective\n",
    "2. Positive, objective\n",
    "3. Neutral\n"
   ]
  },
  {
   "cell_type": "code",
   "execution_count": null,
   "metadata": {
    "colab": {
     "base_uri": "https://localhost:8080/"
    },
    "executionInfo": {
     "elapsed": 388,
     "status": "ok",
     "timestamp": 1730995849237,
     "user": {
      "displayName": "deepdive datascience",
      "userId": "06241824193725215643"
     },
     "user_tz": 420
    },
    "id": "UdWOLBT9PtnI",
    "outputId": "699bdf05-3645-475d-fadc-1f1bbefd3526"
   },
   "outputs": [],
   "source": [
    "# Solution 1\n",
    "text_ns = \"It's a cruddy day.\"\n",
    "neg_sub = TextBlob(text_ns)\n",
    "neg_sub.sentiment\n"
   ]
  },
  {
   "cell_type": "code",
   "execution_count": null,
   "metadata": {
    "colab": {
     "base_uri": "https://localhost:8080/"
    },
    "executionInfo": {
     "elapsed": 144,
     "status": "ok",
     "timestamp": 1708981716338,
     "user": {
      "displayName": "deepdive datascience",
      "userId": "06241824193725215643"
     },
     "user_tz": 420
    },
    "id": "BXRmPIOHP1Hb",
    "outputId": "5c42b2d8-9a6c-48ef-d5f4-962cd99ce1e6"
   },
   "outputs": [],
   "source": [
    "# Solution 1\n",
    "text_ns = \"Hitler was a terrible man.\"\n",
    "neg_sub = TextBlob(text_ns)\n",
    "neg_sub.sentiment\n"
   ]
  },
  {
   "cell_type": "code",
   "execution_count": null,
   "metadata": {
    "colab": {
     "base_uri": "https://localhost:8080/"
    },
    "executionInfo": {
     "elapsed": 90,
     "status": "ok",
     "timestamp": 1708981754115,
     "user": {
      "displayName": "deepdive datascience",
      "userId": "06241824193725215643"
     },
     "user_tz": 420
    },
    "id": "Bdu0gdTTPtnJ",
    "outputId": "b3d0769e-35f2-450c-a7a4-f63667d1f81f"
   },
   "outputs": [],
   "source": [
    "# Solution 2\n",
    "text_po = \"Bill is a nice guy. He won the race.\"\n",
    "pos_obj = TextBlob(text_po)\n",
    "pos_obj.sentiment\n",
    "# no luck\n"
   ]
  },
  {
   "cell_type": "code",
   "execution_count": null,
   "metadata": {
    "colab": {
     "base_uri": "https://localhost:8080/"
    },
    "executionInfo": {
     "elapsed": 93,
     "status": "ok",
     "timestamp": 1708981823406,
     "user": {
      "displayName": "deepdive datascience",
      "userId": "06241824193725215643"
     },
     "user_tz": 420
    },
    "id": "uoKSwz3-QGz9",
    "outputId": "946e2562-8f5a-447a-aa40-2d7d01c7393d"
   },
   "outputs": [],
   "source": [
    "# Solution 2\n",
    "text_po = \"My best friend had a baby boy.\"\n",
    "pos_obj = TextBlob(text_po)\n",
    "pos_obj.sentiment\n",
    "# no luck\n"
   ]
  },
  {
   "cell_type": "code",
   "execution_count": null,
   "metadata": {
    "colab": {
     "base_uri": "https://localhost:8080/"
    },
    "executionInfo": {
     "elapsed": 110,
     "status": "ok",
     "timestamp": 1708981884341,
     "user": {
      "displayName": "deepdive datascience",
      "userId": "06241824193725215643"
     },
     "user_tz": 420
    },
    "id": "sn9aegecPtnK",
    "outputId": "6553942a-7785-4caf-817a-7c8fe0ed129e"
   },
   "outputs": [],
   "source": [
    "# Solution 3\n",
    "text_n = \"One plus one is two.\"\n",
    "neut = TextBlob(text_n)\n",
    "neut.sentiment\n"
   ]
  },
  {
   "cell_type": "markdown",
   "metadata": {
    "id": "_A52ZaAHiySH"
   },
   "source": [
    "## Tokenization\n",
    "Tokenization is the process of splitting long strings of text into small pieces (tokens)."
   ]
  },
  {
   "cell_type": "code",
   "execution_count": null,
   "metadata": {
    "colab": {
     "base_uri": "https://localhost:8080/"
    },
    "executionInfo": {
     "elapsed": 299,
     "status": "ok",
     "timestamp": 1730996153594,
     "user": {
      "displayName": "deepdive datascience",
      "userId": "06241824193725215643"
     },
     "user_tz": 420
    },
    "id": "Ol47fV7Pi8wa",
    "outputId": "53cd3baf-6fe0-4856-8ac1-7e805f949319"
   },
   "outputs": [],
   "source": [
    "my_poem.sentences\n"
   ]
  },
  {
   "cell_type": "code",
   "execution_count": null,
   "metadata": {
    "colab": {
     "base_uri": "https://localhost:8080/"
    },
    "executionInfo": {
     "elapsed": 304,
     "status": "ok",
     "timestamp": 1730996240033,
     "user": {
      "displayName": "deepdive datascience",
      "userId": "06241824193725215643"
     },
     "user_tz": 420
    },
    "id": "xRtIM_HeakLC",
    "outputId": "fceff80d-aa9e-40c2-8297-1d7fbf51b421"
   },
   "outputs": [],
   "source": [
    "my_poem.sentences[0].words\n"
   ]
  },
  {
   "cell_type": "code",
   "execution_count": null,
   "metadata": {
    "colab": {
     "base_uri": "https://localhost:8080/"
    },
    "executionInfo": {
     "elapsed": 313,
     "status": "ok",
     "timestamp": 1730996158392,
     "user": {
      "displayName": "deepdive datascience",
      "userId": "06241824193725215643"
     },
     "user_tz": 420
    },
    "id": "29gjDcTB0CUA",
    "outputId": "5b10d075-71bf-48df-dff5-643295bfd42a"
   },
   "outputs": [],
   "source": [
    "my_poem.words\n"
   ]
  },
  {
   "cell_type": "code",
   "execution_count": null,
   "metadata": {
    "colab": {
     "base_uri": "https://localhost:8080/"
    },
    "executionInfo": {
     "elapsed": 322,
     "status": "ok",
     "timestamp": 1730996189430,
     "user": {
      "displayName": "deepdive datascience",
      "userId": "06241824193725215643"
     },
     "user_tz": 420
    },
    "id": "sRQI7aiuHYSt",
    "outputId": "a13cbeb0-5de4-4051-f84c-12ed4b815e88"
   },
   "outputs": [],
   "source": [
    "sorted(my_poem.word_counts.items(), key = lambda x: x[1], reverse=True)"
   ]
  },
  {
   "cell_type": "markdown",
   "metadata": {
    "id": "UFJiZZje0cDi"
   },
   "source": [
    "## Singular & Plural"
   ]
  },
  {
   "cell_type": "code",
   "execution_count": null,
   "metadata": {
    "executionInfo": {
     "elapsed": 428,
     "status": "ok",
     "timestamp": 1730996429628,
     "user": {
      "displayName": "deepdive datascience",
      "userId": "06241824193725215643"
     },
     "user_tz": 420
    },
    "id": "Fw2nc2JM1uxj"
   },
   "outputs": [],
   "source": [
    "my_sent = TextBlob(\"The octopi went swimming in the dark ocean waters.\")\n"
   ]
  },
  {
   "cell_type": "code",
   "execution_count": null,
   "metadata": {
    "colab": {
     "base_uri": "https://localhost:8080/"
    },
    "executionInfo": {
     "elapsed": 281,
     "status": "ok",
     "timestamp": 1730996447982,
     "user": {
      "displayName": "deepdive datascience",
      "userId": "06241824193725215643"
     },
     "user_tz": 420
    },
    "id": "Imn0LccmbaHF",
    "outputId": "d3643cf6-2f65-43b5-e893-28e6a395b034"
   },
   "outputs": [],
   "source": [
    "my_sent.words"
   ]
  },
  {
   "cell_type": "code",
   "execution_count": null,
   "metadata": {
    "colab": {
     "base_uri": "https://localhost:8080/",
     "height": 35
    },
    "executionInfo": {
     "elapsed": 320,
     "status": "ok",
     "timestamp": 1730996461115,
     "user": {
      "displayName": "deepdive datascience",
      "userId": "06241824193725215643"
     },
     "user_tz": 420
    },
    "id": "dm67_ivG0krF",
    "outputId": "11e1856c-1b7a-42d5-9aab-4d7236376572"
   },
   "outputs": [],
   "source": [
    "my_sent.words[0]\n"
   ]
  },
  {
   "cell_type": "code",
   "execution_count": null,
   "metadata": {
    "colab": {
     "base_uri": "https://localhost:8080/",
     "height": 35
    },
    "executionInfo": {
     "elapsed": 310,
     "status": "ok",
     "timestamp": 1730996522373,
     "user": {
      "displayName": "deepdive datascience",
      "userId": "06241824193725215643"
     },
     "user_tz": 420
    },
    "id": "eNfaYo5G2Cf7",
    "outputId": "b31e90f2-89bd-4a47-ccc4-946e24684e13"
   },
   "outputs": [],
   "source": [
    "# Singularize\n",
    "my_sent.words[-1].singularize()\n"
   ]
  },
  {
   "cell_type": "code",
   "execution_count": null,
   "metadata": {
    "colab": {
     "base_uri": "https://localhost:8080/",
     "height": 35
    },
    "executionInfo": {
     "elapsed": 310,
     "status": "ok",
     "timestamp": 1730996536031,
     "user": {
      "displayName": "deepdive datascience",
      "userId": "06241824193725215643"
     },
     "user_tz": 420
    },
    "id": "7JQ_v5CDa8SC",
    "outputId": "ed017d9a-71e2-4134-e986-013a8a7697a4"
   },
   "outputs": [],
   "source": [
    "my_sent.words[1].singularize()\n"
   ]
  },
  {
   "cell_type": "code",
   "execution_count": null,
   "metadata": {
    "colab": {
     "base_uri": "https://localhost:8080/",
     "height": 35
    },
    "executionInfo": {
     "elapsed": 296,
     "status": "ok",
     "timestamp": 1730996548568,
     "user": {
      "displayName": "deepdive datascience",
      "userId": "06241824193725215643"
     },
     "user_tz": 420
    },
    "id": "nIquQKOR1NwQ",
    "outputId": "914353dc-f964-4c31-928a-eccc597669c6"
   },
   "outputs": [],
   "source": [
    "# Pluralize\n",
    "my_sent.words[-2].pluralize()\n"
   ]
  },
  {
   "cell_type": "code",
   "execution_count": null,
   "metadata": {
    "colab": {
     "base_uri": "https://localhost:8080/"
    },
    "executionInfo": {
     "elapsed": 298,
     "status": "ok",
     "timestamp": 1730996553771,
     "user": {
      "displayName": "deepdive datascience",
      "userId": "06241824193725215643"
     },
     "user_tz": 420
    },
    "id": "XJHmr09kIjuW",
    "outputId": "25821fc4-d6d2-47dd-f267-9b625cefbdb8"
   },
   "outputs": [],
   "source": [
    "foo = my_sent.words[-2]\n",
    "foo == foo.singularize()"
   ]
  },
  {
   "cell_type": "code",
   "execution_count": null,
   "metadata": {
    "id": "bxmHeaz6cDQs"
   },
   "outputs": [],
   "source": [
    "TextBlob(\"corpus\").words.singularize()"
   ]
  },
  {
   "cell_type": "markdown",
   "metadata": {
    "id": "BBDNN-o-30yP"
   },
   "source": [
    "## Stemming & Lemmatization"
   ]
  },
  {
   "cell_type": "markdown",
   "metadata": {
    "id": "nrm--COx32N8"
   },
   "source": [
    "Stemming is the process of deleting prefixes and suffixes from a word, leaving on the word “stem”. Lemmatization is similar to stemming, but lemmatization is able to capture the underlying meaning of the word."
   ]
  },
  {
   "cell_type": "code",
   "execution_count": null,
   "metadata": {
    "id": "vgS2myqaQHVm"
   },
   "outputs": [],
   "source": [
    "my_sent\n"
   ]
  },
  {
   "cell_type": "code",
   "execution_count": null,
   "metadata": {
    "id": "m0OuFEb50nJV"
   },
   "outputs": [],
   "source": [
    "# Find the index of 'swimming'\n",
    "my_sent.words.index('swimming')\n"
   ]
  },
  {
   "cell_type": "code",
   "execution_count": null,
   "metadata": {
    "id": "KNCVOwBS1AVL"
   },
   "outputs": [],
   "source": [
    "# Stemming\n",
    "print(my_sent.words[3].stem())\n",
    "print(my_sent.words[1].stem())\n"
   ]
  },
  {
   "cell_type": "code",
   "execution_count": null,
   "metadata": {
    "id": "__wDsIBr1CV0"
   },
   "outputs": [],
   "source": [
    "# Lemmatization\n",
    "print(my_sent.words[3].lemmatize())\n",
    "print(my_sent.words[1].lemmatize())\n"
   ]
  },
  {
   "cell_type": "code",
   "execution_count": null,
   "metadata": {
    "id": "bdkxe60scEuz"
   },
   "outputs": [],
   "source": [
    "care = TextBlob(\"caring\")\n",
    "\n",
    "(\n",
    "  care.words.stem(),\n",
    "  care.words.lemmatize()\n",
    ")\n"
   ]
  },
  {
   "cell_type": "markdown",
   "metadata": {
    "id": "f297wU5F4S1d"
   },
   "source": [
    "## WordNet"
   ]
  },
  {
   "cell_type": "code",
   "execution_count": null,
   "metadata": {
    "id": "TH4QCqh54Uxw"
   },
   "outputs": [],
   "source": [
    "{ my_sent.words[-2] : my_sent.words[-2].definitions }\n"
   ]
  },
  {
   "cell_type": "markdown",
   "metadata": {
    "id": "58YAtxqr4hY6"
   },
   "source": [
    "## Spelling ( correcting )"
   ]
  },
  {
   "cell_type": "code",
   "execution_count": null,
   "metadata": {
    "id": "P5v-pZbz4lzV"
   },
   "outputs": [],
   "source": [
    "my_bad_spelling = TextBlob('Helllo, today is my birfday.')\n",
    "my_bad_spelling.correct()\n"
   ]
  },
  {
   "cell_type": "markdown",
   "metadata": {
    "id": "WszmJKlES9nx"
   },
   "source": [
    "## Counting Words"
   ]
  },
  {
   "cell_type": "code",
   "execution_count": null,
   "metadata": {
    "id": "NALKLPcqdzGg"
   },
   "outputs": [],
   "source": [
    "my_cheer = TextBlob('Data science is the best, data science is the coolest.')\n",
    "my_cheer.words.count('data')\n"
   ]
  },
  {
   "cell_type": "code",
   "execution_count": null,
   "metadata": {
    "id": "08hWM118KUq4"
   },
   "outputs": [],
   "source": [
    "my_cheer.word_counts\n"
   ]
  },
  {
   "cell_type": "markdown",
   "metadata": {
    "id": "y5393kUmQMuf"
   },
   "source": [
    "### Your Turn\n",
    "1. Create a TextBlob called `message` and set it equal to `Good morning, todayy is going to be a fantastic day!`.\n",
    "2. Correct the spelling in your TextBlob and set it equal to a new variable called `message_sp`.\n",
    "3. Find the index of the word `fantastic`.\n",
    "4. Look up the definition of the word `fantastic`.\n",
    "5. Stem and lemmatize the word `fantastic`."
   ]
  },
  {
   "cell_type": "code",
   "execution_count": null,
   "metadata": {
    "id": "ST4w62N1Q1n1"
   },
   "outputs": [],
   "source": [
    "# Solution 1\n"
   ]
  },
  {
   "cell_type": "code",
   "execution_count": null,
   "metadata": {
    "id": "JK1DbMVvRUl7"
   },
   "outputs": [],
   "source": [
    "# Solution 2\n"
   ]
  },
  {
   "cell_type": "code",
   "execution_count": null,
   "metadata": {
    "id": "StsVKIcsRVT2"
   },
   "outputs": [],
   "source": [
    "# Solution 3\n"
   ]
  },
  {
   "cell_type": "code",
   "execution_count": null,
   "metadata": {
    "id": "ATarrwuDRWEY"
   },
   "outputs": [],
   "source": [
    "# Solution 4\n"
   ]
  },
  {
   "cell_type": "code",
   "execution_count": null,
   "metadata": {
    "id": "p0Fr0EBQRW3J"
   },
   "outputs": [],
   "source": [
    "# Solution 5\n"
   ]
  },
  {
   "cell_type": "code",
   "execution_count": null,
   "metadata": {
    "id": "3-OW3gJceMeh"
   },
   "outputs": [],
   "source": []
  },
  {
   "cell_type": "markdown",
   "metadata": {
    "id": "o54S5dj25PkJ"
   },
   "source": [
    "## TextBlobs as Strings\n",
    "TextBlobs act as strings, meaning you can use all of the normal string methods and you can index them as you would a string."
   ]
  },
  {
   "cell_type": "code",
   "execution_count": null,
   "metadata": {
    "id": "WVb-PeQURdfD"
   },
   "outputs": [],
   "source": [
    "my_cheer\n"
   ]
  },
  {
   "cell_type": "code",
   "execution_count": null,
   "metadata": {
    "id": "h3B6q_ZD5YXI"
   },
   "outputs": [],
   "source": [
    "my_cheer[0:6]\n"
   ]
  },
  {
   "cell_type": "code",
   "execution_count": null,
   "metadata": {
    "id": "Z9Rt22yI5akT"
   },
   "outputs": [],
   "source": [
    "my_cheer.upper()\n"
   ]
  },
  {
   "cell_type": "code",
   "execution_count": null,
   "metadata": {
    "id": "B-IuCdaXeiPb"
   },
   "outputs": [],
   "source": [
    "my_cheer.lower()\n"
   ]
  },
  {
   "cell_type": "markdown",
   "metadata": {
    "id": "-CPzjIEuOqIY"
   },
   "source": [
    "## **n**-grams\n",
    "Overlapping lists of words."
   ]
  },
  {
   "cell_type": "code",
   "execution_count": null,
   "metadata": {
    "id": "7l1m5XmvO0RX"
   },
   "outputs": [],
   "source": [
    "my_cheer\n"
   ]
  },
  {
   "cell_type": "code",
   "execution_count": null,
   "metadata": {
    "id": "L6VnouwDO3yE"
   },
   "outputs": [],
   "source": [
    "my_cheer.ngrams(n=3)\n"
   ]
  },
  {
   "cell_type": "code",
   "execution_count": null,
   "metadata": {
    "id": "m23kn3NcPXBg"
   },
   "outputs": [],
   "source": [
    "[ \" \".join(i) for i in my_cheer.ngrams(n=3) ]\n"
   ]
  },
  {
   "cell_type": "code",
   "execution_count": null,
   "metadata": {
    "id": "HuFGF_8xUL73"
   },
   "outputs": [],
   "source": [
    "my_cheer.split(\",\")\n"
   ]
  },
  {
   "cell_type": "code",
   "execution_count": null,
   "metadata": {
    "id": "f9AsivZVf3s5"
   },
   "outputs": [],
   "source": [
    "my_cheer.words\n"
   ]
  },
  {
   "cell_type": "markdown",
   "metadata": {
    "id": "NpJjOVFb7DCL"
   },
   "source": [
    "## Translation\n"
   ]
  },
  {
   "cell_type": "code",
   "execution_count": null,
   "metadata": {
    "id": "gG3IrQLH7Hgn"
   },
   "outputs": [],
   "source": [
    "%%capture\n",
    "!pip install googletrans transformers sacremoses\n"
   ]
  },
  {
   "cell_type": "markdown",
   "metadata": {
    "id": "hDNAKQUD8Url"
   },
   "source": [
    "### Google translate"
   ]
  },
  {
   "cell_type": "code",
   "execution_count": null,
   "metadata": {
    "id": "VwrvY0MKgYJW"
   },
   "outputs": [],
   "source": [
    "from googletrans import Translator\n"
   ]
  },
  {
   "cell_type": "code",
   "execution_count": null,
   "metadata": {
    "id": "fE5D41iQ7k78"
   },
   "outputs": [],
   "source": [
    "translator = Translator()\n",
    "result = translator.translate(\n",
    "    'Hello, how are you?',\n",
    "    src='en',\n",
    "    dest='es',\n",
    ")\n",
    "print(result.text)\n"
   ]
  },
  {
   "cell_type": "code",
   "execution_count": null,
   "metadata": {
    "id": "1ebbCELxBRjw"
   },
   "outputs": [],
   "source": [
    "result = translator.translate(\n",
    "    'Hello, how are you?',\n",
    "    src='en',\n",
    "    dest='fr',\n",
    ")\n",
    "print(result.text)\n"
   ]
  },
  {
   "cell_type": "code",
   "execution_count": null,
   "metadata": {
    "id": "4Vjn3QqP_z6a"
   },
   "outputs": [],
   "source": [
    "result = translator.translate(\n",
    "    'Hello, how are you?',\n",
    "    src='en',\n",
    "    dest='ar',\n",
    ")\n",
    "print(result.text)\n"
   ]
  },
  {
   "cell_type": "code",
   "execution_count": null,
   "metadata": {
    "id": "2emVnxm5BZNt"
   },
   "outputs": [],
   "source": [
    "result = translator.translate(\n",
    "    'Hello, how are you?',\n",
    "    src='en',\n",
    "    dest='de',\n",
    ")\n",
    "print(result.text)\n"
   ]
  },
  {
   "cell_type": "markdown",
   "metadata": {
    "id": "4mRxAfi6EdtG"
   },
   "source": [
    "All in one ..."
   ]
  },
  {
   "cell_type": "code",
   "execution_count": null,
   "metadata": {
    "id": "PMihyja_EK9k"
   },
   "outputs": [],
   "source": [
    "langs = 'es fr ar de'.split()\n",
    "\n",
    "for lang in langs:\n",
    "  result = translator.translate(\n",
    "      'Hello, how are you?',\n",
    "      src='en',\n",
    "      dest=lang,\n",
    "  )\n",
    "  print(result.text)\n"
   ]
  },
  {
   "cell_type": "markdown",
   "metadata": {
    "id": "GDeXwJay8YiC"
   },
   "source": [
    "### Hugging Face Transformers (via pre-trained models)\n"
   ]
  },
  {
   "cell_type": "code",
   "execution_count": null,
   "metadata": {
    "id": "v4jS8Fnr8h7M"
   },
   "outputs": [],
   "source": [
    "from transformers import MarianMTModel, MarianTokenizer\n"
   ]
  },
  {
   "cell_type": "code",
   "execution_count": null,
   "metadata": {
    "id": "jNFgUBpx8kss"
   },
   "outputs": [],
   "source": [
    "# Load pre-trained MarianMT model\n",
    "model_name = 'Helsinki-NLP/opus-mt-en-es'\n",
    "model = MarianMTModel.from_pretrained(model_name)\n",
    "tokenizer = MarianTokenizer.from_pretrained(model_name, clean_up_tokenization_spaces=True )\n",
    "\n",
    "text = \"Hello, how are you?\"\n",
    "translated = model.generate(**tokenizer(text, return_tensors=\"pt\", padding=True))\n",
    "result = tokenizer.decode(translated[0], skip_special_tokens=True)\n",
    "\n",
    "print(result)\n"
   ]
  },
  {
   "cell_type": "code",
   "execution_count": null,
   "metadata": {
    "id": "XJeBgG6MCREp"
   },
   "outputs": [],
   "source": [
    "# Load pre-trained MarianMT model\n",
    "model_name = 'Helsinki-NLP/opus-mt-en-fr'\n",
    "model = MarianMTModel.from_pretrained(model_name)\n",
    "tokenizer = MarianTokenizer.from_pretrained(model_name, clean_up_tokenization_spaces=True)\n",
    "\n",
    "text = \"Hello, how are you?\"\n",
    "translated = model.generate(**tokenizer(text, return_tensors=\"pt\", padding=True))\n",
    "result = tokenizer.decode(translated[0], skip_special_tokens=True)\n",
    "\n",
    "print(result)\n"
   ]
  },
  {
   "cell_type": "code",
   "execution_count": null,
   "metadata": {
    "id": "tbk6ef7ZBlIq"
   },
   "outputs": [],
   "source": [
    "# Load pre-trained MarianMT model\n",
    "model_name = 'Helsinki-NLP/opus-mt-en-ar'\n",
    "model = MarianMTModel.from_pretrained(model_name)\n",
    "tokenizer = MarianTokenizer.from_pretrained(model_name, clean_up_tokenization_spaces=True)\n",
    "\n",
    "text = \"Hello, how are you?\"\n",
    "translated = model.generate(**tokenizer(text, return_tensors=\"pt\", padding=True))\n",
    "result = tokenizer.decode(translated[0], skip_special_tokens=True)\n",
    "\n",
    "print(result)\n"
   ]
  },
  {
   "cell_type": "code",
   "execution_count": null,
   "metadata": {
    "id": "hVTq1X55CeHS"
   },
   "outputs": [],
   "source": [
    "# Load pre-trained MarianMT model\n",
    "model_name = 'Helsinki-NLP/opus-mt-en-de'\n",
    "model = MarianMTModel.from_pretrained(model_name)\n",
    "tokenizer = MarianTokenizer.from_pretrained(model_name, clean_up_tokenization_spaces=True)\n",
    "\n",
    "text = \"Hello, how are you?\"\n",
    "translated = model.generate(**tokenizer(text, return_tensors=\"pt\", padding=True))\n",
    "result = tokenizer.decode(translated[0], skip_special_tokens=True)\n",
    "\n",
    "print(result)\n"
   ]
  },
  {
   "cell_type": "code",
   "execution_count": null,
   "metadata": {
    "id": "fNUKnaRm9f4a"
   },
   "outputs": [],
   "source": []
  }
 ],
 "metadata": {
  "colab": {
   "provenance": []
  },
  "kernelspec": {
   "display_name": "Python 3",
   "language": "python",
   "name": "python3"
  },
  "language_info": {
   "codemirror_mode": {
    "name": "ipython",
    "version": 3
   },
   "file_extension": ".py",
   "mimetype": "text/x-python",
   "name": "python",
   "nbconvert_exporter": "python",
   "pygments_lexer": "ipython3",
   "version": "3.11.2"
  }
 },
 "nbformat": 4,
 "nbformat_minor": 0
}
