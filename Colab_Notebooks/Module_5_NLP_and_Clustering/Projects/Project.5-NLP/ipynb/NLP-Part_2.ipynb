{
 "cells": [
  {
   "cell_type": "markdown",
   "metadata": {},
   "source": [
    "## Part 2"
   ]
  },
  {
   "cell_type": "markdown",
   "metadata": {},
   "source": [
    "- For the same person from step 1), use the Wikipedia API to access the whole content of that person's Wikipedia page.\n",
    "- The goal of part 2) is to produce the capability to:\n",
    "  1. For that Wikipedia page determine the sentiment of the entire page\n",
    "  1. Print out the Wikipedia article\n",
    "  1. Collect the Wikipedia pages from the 10 nearest neighbors in Step 1)\n",
    "  1. Determine the nearness ranking of these 10 to your main subject based on their entire Wikipedia page\n",
    "  1. Compare the nearest ranking from Step 1) with the Wikipedia page nearness ranking"
   ]
  },
  {
   "cell_type": "code",
   "execution_count": 49,
   "metadata": {},
   "outputs": [],
   "source": [
    "%%capture  \n",
    "%pip install wikipedia  # Install the wikipedia package\n",
    "%sudo apt install beautifulsoup4\n",
    "\n",
    "import wikipedia  # Import the wikipedia library\n",
    "import pandas as pd  # Import pandas for data manipulation\n",
    "import numpy as np  # Import numpy for numerical operations\n",
    "import matplotlib.pyplot as plt  # Import matplotlib for plotting data\n",
    "import seaborn as sns  # Import seaborn for advanced visualizations\n",
    "from sklearn.feature_extraction.text import CountVectorizer, TfidfVectorizer  # Import vectorizers for converting text data into numerical form\n",
    "from sklearn.metrics.pairwise import cosine_similarity  # Import cosine_similarity for calculating similarity between vectors\n",
    "from sklearn.decomposition import TruncatedSVD  # Import TruncatedSVD for dimensionality reduction\n",
    "from sklearn.neighbors import NearestNeighbors  # Import NearestNeighbors for finding nearest points\n",
    "from sklearn.decomposition import TruncatedSVD  # Re-importing TruncatedSVD (unnecessary duplication)\n",
    "import BeautifulSoup  # Import BeautifulSoup for HTML parsing\n",
    "\n",
    "import nltk  # Import NLTK library for natural language processing\n",
    "nltk.download('punkt')  # Download the punkt tokenizer\n",
    "nltk.download('averaged_perceptron_tagger')  # Download POS tagger\n",
    "nltk.download('wordnet')  # Download WordNet for lexical database\n",
    "nltk.download('stopwords')  # Download stopwords library\n",
    "\n",
    "from textblob import TextBlob, Word, Blobber  # Import TextBlob and its components for text processing and sentiment analysis"
   ]
  },
  {
   "cell_type": "code",
   "execution_count": 50,
   "metadata": {},
   "outputs": [],
   "source": [
    "def get_wikipedia_content(person_name):\n",
    "    # Attempt to retrieve the Wikipedia page for the given person name\n",
    "    try:\n",
    "        page = wikipedia.page(person_name)\n",
    "        # If successful, return the content of the page\n",
    "        return page.content\n",
    "    except wikipedia.exceptions.PageError:\n",
    "        # If a PageError occurs (e.g., page not found), return None\n",
    "        return None\n",
    "\n"
   ]
  },
  {
   "cell_type": "code",
   "execution_count": 51,
   "metadata": {},
   "outputs": [],
   "source": [
    "def clean_text(text):\n",
    "    # Convert text to lowercase\n",
    "    text = text.lower()\n",
    "    # Split text into individual words\n",
    "    words = text.split()\n",
    "    # Singularize each word\n",
    "    singularized_words = [Word(word).singularize() for word in words]\n",
    "    # Join singularized words back into a single string\n",
    "    return ' '.join(singularized_words)"
   ]
  },
  {
   "cell_type": "code",
   "execution_count": 52,
   "metadata": {},
   "outputs": [],
   "source": [
    "def analyze_wikipedia_content(person_name, nearest_neighbors):\n",
    "    # Retrieve the main content from Wikipedia for the given person_name\n",
    "    main_content = get_wikipedia_content(person_name)\n",
    "    \n",
    "\n",
    "    # Check if the content was successfully retrieved\n",
    "    if main_content is None:\n",
    "        print(f\"No Wikipedia page found for {person_name}\")\n",
    "        return None, None, None, None\n",
    "    \n",
    "\n",
    "    # Clean the main Wikipedia content\n",
    "    main_content = clean_text(main_content)\n",
    "    \n",
    "\n",
    "    neighbor_contents = []\n",
    "    # Iterate over each neighbor to get and clean their Wikipedia content\n",
    "    for neighbor in nearest_neighbors:\n",
    "        content = get_wikipedia_content(neighbor)\n",
    "        if content is not None:\n",
    "            neighbor_contents.append(clean_text(content))\n",
    "    \n",
    "\n",
    "    # Ensure there is enough neighbor data to perform analysis\n",
    "    if len(neighbor_contents) < 2:\n",
    "        print(\"Not enough data to perform analysis. Skipping ranking.\")\n",
    "        return None, None, None, None\n",
    "    \n",
    "\n",
    "    # Create a bag-of-words vectorizer and transform the content\n",
    "    bow_vectorizer = CountVectorizer(stop_words='english')\n",
    "    bow_matrix = bow_vectorizer.fit_transform([main_content] + neighbor_contents)\n",
    "\n",
    "    # Create a TF-IDF vectorizer and transform the content\n",
    "    tfidf_vectorizer = TfidfVectorizer(stop_words='english')\n",
    "    tfidf_matrix = tfidf_vectorizer.fit_transform([main_content] + neighbor_contents)\n",
    "    \n",
    "\n",
    "    # Calculate cosine similarity using the bag-of-words model\n",
    "    bow_similarity = cosine_similarity(bow_matrix[0].reshape(1, -1), bow_matrix[1:])\n",
    "    # Calculate cosine similarity using the TF-IDF model\n",
    "    tfidf_similarity = cosine_similarity(tfidf_matrix[0].reshape(1, -1), tfidf_matrix[1:])\n",
    "    \n",
    "\n",
    "    # Rank neighbors based on bag-of-words similarity scores\n",
    "    bow_ranking = np.argsort(bow_similarity[0])[::-1]\n",
    "    # Rank neighbors based on TF-IDF similarity scores\n",
    "    tfidf_ranking = np.argsort(tfidf_similarity[0])[::-1]\n",
    "    \n",
    "\n",
    "    # Create lists of neighbor names ranked by similarity\n",
    "    bow_wikipedia_ranking = [nearest_neighbors[i] for i in bow_ranking]\n",
    "    tfidf_wikipedia_ranking = [nearest_neighbors[i] for i in tfidf_ranking]\n",
    "    \n",
    "\n",
    "    # Return the main content, ranked lists, and the TF-IDF matrix\n",
    "    return main_content, bow_wikipedia_ranking, tfidf_wikipedia_ranking, tfidf_matrix\n"
   ]
  },
  {
   "cell_type": "code",
   "execution_count": 53,
   "metadata": {},
   "outputs": [
    {
     "name": "stdout",
     "output_type": "stream",
     "text": [
      "\n",
      "BoW Ranking:\n",
      "1. the game rapper\n",
      "2. roy hay musician\n",
      "3. grant campbell musician\n",
      "4. stacie orrico\n",
      "5. princess singer\n",
      "6. keyshia cole\n",
      "7. rob zombie\n",
      "8. nina vidal\n",
      "9. grant campbell musician\n",
      "\n",
      "TF-IDF Ranking:\n",
      "1. the game rapper\n",
      "2. stacie orrico\n",
      "3. grant campbell musician\n",
      "4. roy hay musician\n",
      "5. keyshia cole\n",
      "6. princess singer\n",
      "7. nina vidal\n",
      "8. rob zombie\n",
      "9. grant campbell musician\n"
     ]
    }
   ],
   "source": [
    "# Define the target person's name\n",
    "person_name = \"Porta Rapper\"\n",
    "# List of nearest neighbor names for comparison\n",
    "nearest_neighbors = ['the game rapper', 'stacie orrico', 'keyshia cole', 'princess singer', 'rob zombie', 'roy hay musician', 'grant campbell musician', 'grant campbell musician', 'nina vidal', 'kate walsh singer']\n",
    "\n",
    "# Analyze Wikipedia content for target person and nearest neighbors\n",
    "main_content, bow_wikipedia_ranking, tfidf_wikipedia_ranking, tfidf_matrix = analyze_wikipedia_content(person_name, nearest_neighbors)\n",
    "\n",
    "# Check if main content is found\n",
    "if main_content is not None:\n",
    "    # Display rankings based on Bag of Words (BoW) method\n",
    "    print(f\"\\nBoW Ranking:\")\n",
    "    for i, neighbor in enumerate(bow_wikipedia_ranking):\n",
    "        print(f\"{i+1}. {neighbor}\")\n",
    "\n",
    "    # Display rankings based on TF-IDF method\n",
    "    print(\"\\nTF-IDF Ranking:\")\n",
    "    for i, neighbor in enumerate(tfidf_wikipedia_ranking):\n",
    "        print(f\"{i+1}. {neighbor}\")\n",
    "\n",
    "    # Visualization\n",
    "    # Perform dimensionality reduction for visualization\n",
    "    svd = TruncatedSVD(n_components=2, random_state=42)\n",
    "    X_svd = svd.fit_transform(tfidf_matrix)"
   ]
  },
  {
   "cell_type": "code",
   "execution_count": null,
   "metadata": {},
   "outputs": [
    {
     "data": {
      "image/png": "[encoded data removed]",
      "text/plain": [
       "<Figure size 1000x800 with 1 Axes>"
      ]
     },
     "metadata": {},
     "output_type": "display_data"
    },
    {
     "name": "stdout",
     "output_type": "stream",
     "text": [
      "\n",
      "Sentiment of Porta Rapper's Wikipedia page:\n",
      "Polarity: 0.11818181818181818\n",
      "Subjectivity: 0.29090909090909095\n",
      "\n",
      "Wikipedia article for Porta Rapper:\n",
      "christian jiménez bundo (born 2 july 1988 in barcelona), known professionally a porta, is a spanish rapper. == early life and education == he wa born in sarrià, barcelona. == career == hi lyric have sometime been controversial, and have been criticised by the instituto nacional de la mujere (national association of women). at a concert he put on in 2008 at fórum de la fnac in a coruña, there wa fighting in the audience between hi supporter and those who disliked him. portum won a neox fan award ...\n",
      "\n",
      "Comparison of rankings:\n",
      "the game rapper: Original rank 1, Wikipedia rank 1\n",
      "stacie orrico: Original rank 2, Wikipedia rank 2\n",
      "keyshia cole: Original rank 3, Wikipedia rank 5\n",
      "princess singer: Original rank 4, Wikipedia rank 6\n",
      "rob zombie: Original rank 5, Wikipedia rank 8\n",
      "roy hay musician: Original rank 6, Wikipedia rank 4\n",
      "grant campbell musician: Original rank 7, Wikipedia rank 3\n",
      "grant campbell musician: Original rank 8, Wikipedia rank 3\n",
      "nina vidal: Original rank 9, Wikipedia rank 7\n",
      "kate walsh singer: Original rank 10, Not found in Wikipedia ranking\n",
      "No Wikipedia page found for Porta Rapper. Unable to perform analysis.\n"
     ]
    }
   ],
   "source": [
    "plt.figure(figsize=(10, 8))  # Create a new figure with specific dimensions\n",
    "plt.scatter(X_svd[1:, 0], X_svd[1:, 1], alpha=0.5)  # Plot scatter of all points except the first with transparency\n",
    "plt.scatter(X_svd[0, 0], X_svd[0, 1], color='red', s=100, label=person_name)  # Highlight the first point in red with a label\n",
    "plt.title(f\"TF-IDF Visualization of {person_name} and Nearest Neighbors\")  # Set the title of the plot\n",
    "plt.xlabel(\"SVD Dimension 1\")  # Label for x-axis\n",
    "plt.ylabel(\"SVD Dimension 2\")  # Label for y-axis\n",
    "plt.legend()  # Show legend on plot\n",
    "plt.show()  # Display the plot\n",
    "\n",
    "    # Calculate sentiment of the entire page\n",
    "main_sentiment = TextBlob(main_content).sentiment  # Analyze the sentiment of the main content using TextBlob\n",
    "print(f\"\\nSentiment of {person_name}'s Wikipedia page:\")  # Print heading for sentiment analysis\n",
    "print(f\"Polarity: {main_sentiment.polarity}\")  # Print the polarity of the sentiment\n",
    "print(f\"Subjectivity: {main_sentiment.subjectivity}\")  # Print the subjectivity of the sentiment\n",
    "\n",
    "    # Print out the Wikipedia article\n",
    "print(f\"\\nWikipedia article for {person_name}:\")  # Print heading for Wikipedia article content\n",
    "print(main_content[:500] + \"...\")  # Print the first 500 characters of the article followed by ellipsis\n",
    "\n",
    "    # Compare rankings\n",
    "original_ranking = nearest_neighbors  # Assign nearest_neighbors to original_ranking for comparison\n",
    "print(\"\\nComparison of rankings:\")  # Print heading for rankings comparison\n",
    "for i in range(len(original_ranking)):  # Iterate over each item in the original ranking\n",
    "        if original_ranking[i] in tfidf_wikipedia_ranking:  # Check if item exists in TF-IDF ranking\n",
    "            print(f\"{original_ranking[i]}: Original rank {i+1}, Wikipedia rank {tfidf_wikipedia_ranking.index(original_ranking[i])+1}\")  # Print ranks\n",
    "        else:  # If item not in TF-IDF ranking\n",
    "            print(f\"{original_ranking[i]}: Original rank {i+1}, Not found in Wikipedia ranking\")  # Indicate not found\n",
    "else:  # If no original ranking\n",
    "    print(f\"No Wikipedia page found for {person_name}. Unable to perform analysis.\")  # Print failure message if Wikipedia page not found"
   ]
  }
 ],
 "metadata": {
  "kernelspec": {
   "display_name": "Python 3",
   "language": "python",
   "name": "python3"
  },
  "language_info": {
   "codemirror_mode": {
    "name": "ipython",
    "version": 3
   },
   "file_extension": ".py",
   "mimetype": "text/x-python",
   "name": "python",
   "nbconvert_exporter": "python",
   "pygments_lexer": "ipython3",
   "version": "3.12.7"
  }
 },
 "nbformat": 4,
 "nbformat_minor": 2
}
