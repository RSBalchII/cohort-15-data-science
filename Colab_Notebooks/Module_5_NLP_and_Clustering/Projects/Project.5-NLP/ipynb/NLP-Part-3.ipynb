{
 "cells": [
  {
   "cell_type": "markdown",
   "metadata": {},
   "source": [
    "### Part 3)"
   ]
  },
  {
   "cell_type": "markdown",
   "metadata": {},
   "source": [
    "Make an interactive notebook.\n",
    "\n",
    "In addition to presenting the project slides, at the end of the presentation each student will demonstrate their code using a famous person suggested by the other students that exists in the DBpedia set.\n"
   ]
  },
  {
   "cell_type": "code",
   "execution_count": 2,
   "metadata": {},
   "outputs": [
    {
     "name": "stdout",
     "output_type": "stream",
     "text": [
      "Requirement already satisfied: ipywidgets in /usr/local/lib/python3.12/site-packages (8.1.5)\n",
      "Requirement already satisfied: comm>=0.1.3 in /usr/local/lib/python3.12/site-packages (from ipywidgets) (0.2.2)\n",
      "Requirement already satisfied: ipython>=6.1.0 in /usr/local/lib/python3.12/site-packages (from ipywidgets) (8.29.0)\n",
      "Requirement already satisfied: traitlets>=4.3.1 in /usr/local/lib/python3.12/site-packages (from ipywidgets) (5.14.3)\n",
      "Requirement already satisfied: widgetsnbextension~=4.0.12 in /usr/local/lib/python3.12/site-packages (from ipywidgets) (4.0.13)\n",
      "Requirement already satisfied: jupyterlab-widgets~=3.0.12 in /usr/local/lib/python3.12/site-packages (from ipywidgets) (3.0.13)\n",
      "Requirement already satisfied: decorator in /usr/local/lib/python3.12/site-packages (from ipython>=6.1.0->ipywidgets) (5.1.1)\n",
      "Requirement already satisfied: jedi>=0.16 in /usr/local/lib/python3.12/site-packages (from ipython>=6.1.0->ipywidgets) (0.19.2)\n",
      "Requirement already satisfied: matplotlib-inline in /usr/local/lib/python3.12/site-packages (from ipython>=6.1.0->ipywidgets) (0.1.7)\n",
      "Requirement already satisfied: prompt-toolkit<3.1.0,>=3.0.41 in /usr/local/lib/python3.12/site-packages (from ipython>=6.1.0->ipywidgets) (3.0.48)\n",
      "Requirement already satisfied: pygments>=2.4.0 in /usr/local/lib/python3.12/site-packages (from ipython>=6.1.0->ipywidgets) (2.18.0)\n",
      "Requirement already satisfied: stack-data in /usr/local/lib/python3.12/site-packages (from ipython>=6.1.0->ipywidgets) (0.6.3)\n",
      "Requirement already satisfied: pexpect>4.3 in /usr/local/lib/python3.12/site-packages (from ipython>=6.1.0->ipywidgets) (4.9.0)\n",
      "Requirement already satisfied: parso<0.9.0,>=0.8.4 in /usr/local/lib/python3.12/site-packages (from jedi>=0.16->ipython>=6.1.0->ipywidgets) (0.8.4)\n",
      "Requirement already satisfied: ptyprocess>=0.5 in /usr/local/lib/python3.12/site-packages (from pexpect>4.3->ipython>=6.1.0->ipywidgets) (0.7.0)\n",
      "Requirement already satisfied: wcwidth in /usr/local/lib/python3.12/site-packages (from prompt-toolkit<3.1.0,>=3.0.41->ipython>=6.1.0->ipywidgets) (0.2.13)\n",
      "Requirement already satisfied: executing>=1.2.0 in /usr/local/lib/python3.12/site-packages (from stack-data->ipython>=6.1.0->ipywidgets) (2.1.0)\n",
      "Requirement already satisfied: asttokens>=2.1.0 in /usr/local/lib/python3.12/site-packages (from stack-data->ipython>=6.1.0->ipywidgets) (2.4.1)\n",
      "Requirement already satisfied: pure-eval in /usr/local/lib/python3.12/site-packages (from stack-data->ipython>=6.1.0->ipywidgets) (0.2.3)\n",
      "Requirement already satisfied: six>=1.12.0 in /usr/local/lib/python3.12/site-packages (from asttokens>=2.1.0->stack-data->ipython>=6.1.0->ipywidgets) (1.16.0)\n",
      "\u001b[33mWARNING: Running pip as the 'root' user can result in broken permissions and conflicting behaviour with the system package manager, possibly rendering your system unusable.It is recommended to use a virtual environment instead: https://pip.pypa.io/warnings/venv. Use the --root-user-action option if you know what you are doing and want to suppress this warning.\u001b[0m\u001b[33m\n",
      "\u001b[0m"
     ]
    },
    {
     "name": "stderr",
     "output_type": "stream",
     "text": [
      "[nltk_data] Downloading package punkt to /root/nltk_data...\n",
      "[nltk_data]   Package punkt is already up-to-date!\n",
      "[nltk_data] Downloading package averaged_perceptron_tagger to\n",
      "[nltk_data]     /root/nltk_data...\n",
      "[nltk_data]   Package averaged_perceptron_tagger is already up-to-\n",
      "[nltk_data]       date!\n",
      "[nltk_data] Downloading package wordnet to /root/nltk_data...\n",
      "[nltk_data]   Package wordnet is already up-to-date!\n",
      "[nltk_data] Downloading package stopwords to /root/nltk_data...\n",
      "[nltk_data]   Package stopwords is already up-to-date!\n"
     ]
    },
    {
     "data": {
      "application/vnd.jupyter.widget-view+json": {
       "model_id": "5c1bf1bb95fa4c56bb55ffe7965fa4d5",
       "version_major": 2,
       "version_minor": 0
      },
      "text/plain": [
       "Text(value='Albert Einstein', description='Person:', placeholder='Enter person name')"
      ]
     },
     "metadata": {},
     "output_type": "display_data"
    },
    {
     "data": {
      "application/vnd.jupyter.widget-view+json": {
       "model_id": "291b11b1c2c242dcbdeeb65e51b4f3de",
       "version_major": 2,
       "version_minor": 0
      },
      "text/plain": [
       "Textarea(value='Marie Curie\\nIsaac Newton\\nGalileo Galilei\\nStephen Hawking\\nRichard Feynman\\nNikola Tesla\\nCh…"
      ]
     },
     "metadata": {},
     "output_type": "display_data"
    },
    {
     "data": {
      "application/vnd.jupyter.widget-view+json": {
       "model_id": "a5f6cab42cd34145bc647947ff2e3e6a",
       "version_major": 2,
       "version_minor": 0
      },
      "text/plain": [
       "Button(description='Analyze', style=ButtonStyle())"
      ]
     },
     "metadata": {},
     "output_type": "display_data"
    },
    {
     "data": {
      "application/vnd.jupyter.widget-view+json": {
       "model_id": "4a9d141612aa4c57a08e19c3d0ea8fc7",
       "version_major": 2,
       "version_minor": 0
      },
      "text/plain": [
       "Textarea(value='', description='Results:', disabled=True, placeholder='Results will appear here')"
      ]
     },
     "metadata": {},
     "output_type": "display_data"
    }
   ],
   "source": [
    "!pip install ipywidgets\n",
    "import ipywidgets as widgets\n",
    "from IPython.display import display\n",
    "import wikipedia\n",
    "import pandas as pd \n",
    "import numpy as np \n",
    "import matplotlib.pyplot as plt \n",
    "import seaborn as sns \n",
    "from sklearn.feature_extraction.text import CountVectorizer, TfidfVectorizer\n",
    "from sklearn.metrics.pairwise import cosine_similarity\n",
    "from sklearn.decomposition import TruncatedSVD\n",
    "from sklearn.neighbors import NearestNeighbors \n",
    "from sklearn.decomposition import TruncatedSVD \n",
    "import nltk \n",
    "nltk.download('punkt') \n",
    "nltk.download('averaged_perceptron_tagger') \n",
    "nltk.download('wordnet') \n",
    "nltk.download('stopwords')\n",
    "from textblob import TextBlob, Word\n",
    "\n",
    "def get_wikipedia_content(person_name):\n",
    "    try:\n",
    "        page = wikipedia.page(person_name)\n",
    "        return page.content\n",
    "    except wikipedia.exceptions.PageError:\n",
    "        return None\n",
    "\n",
    "def clean_text(text):\n",
    "    text = text.lower()\n",
    "    words = text.split()\n",
    "    singularized_words = [Word(word).singularize() for word in words]\n",
    "    return ' '.join(singularized_words)\n",
    "\n",
    "def analyze_wikipedia_content(person_name, nearest_neighbors):\n",
    "    main_content = get_wikipedia_content(person_name)\n",
    "    \n",
    "    if main_content is None:\n",
    "        print(f\"No Wikipedia page found for {person_name}\")\n",
    "        return None, None, None, None\n",
    "    \n",
    "    main_content = clean_text(main_content)\n",
    "    \n",
    "    neighbor_contents = []\n",
    "    for neighbor in nearest_neighbors:\n",
    "        content = get_wikipedia_content(neighbor)\n",
    "        if content is not None:\n",
    "            neighbor_contents.append(clean_text(content))\n",
    "    \n",
    "    if len(neighbor_contents) < 2:\n",
    "        print(\"Not enough data to perform analysis. Skipping ranking.\")\n",
    "        return None, None, None, None\n",
    "    \n",
    "    bow_vectorizer = CountVectorizer(stop_words='english')\n",
    "    bow_matrix = bow_vectorizer.fit_transform([main_content] + neighbor_contents)\n",
    "\n",
    "    tfidf_vectorizer = TfidfVectorizer(stop_words='english')\n",
    "    tfidf_matrix = tfidf_vectorizer.fit_transform([main_content] + neighbor_contents)\n",
    "    \n",
    "    bow_similarity = cosine_similarity(bow_matrix[0].reshape(1, -1), bow_matrix[1:])\n",
    "    tfidf_similarity = cosine_similarity(tfidf_matrix[0].reshape(1, -1), tfidf_matrix[1:])\n",
    "    \n",
    "    bow_ranking = np.argsort(bow_similarity[0])[::-1]\n",
    "    tfidf_ranking = np.argsort(tfidf_similarity[0])[::-1]\n",
    "    \n",
    "    bow_wikipedia_ranking = [nearest_neighbors[i] for i in bow_ranking]\n",
    "    tfidf_wikipedia_ranking = [nearest_neighbors[i] for i in tfidf_ranking]\n",
    "    \n",
    "    return main_content, bow_wikipedia_ranking, tfidf_wikipedia_ranking, tfidf_matrix\n",
    "\n",
    "person_name_widget = widgets.Text(value=\"Albert Einstein\", placeholder=\"Enter person name\", description=\"Person:\", disabled=False)\n",
    "nearest_neighbors_widget = widgets.Textarea(value=\"Marie Curie\\nIsaac Newton\\nGalileo Galilei\\nStephen Hawking\\nRichard Feynman\\nNikola Tesla\\nCharles Darwin\\nAristotle\\nArchimedes\\nLeonardo da Vinci\", placeholder=\"Enter nearest neighbors (one per line)\", description=\"Neighbors:\", disabled=False)\n",
    "\n",
    "def process_input(b):\n",
    "    person_name = person_name_widget.value\n",
    "    nearest_neighbors = nearest_neighbors_widget.value.split('\\n')\n",
    "    \n",
    "    main_content, bow_wikipedia_ranking, tfidf_wikipedia_ranking, tfidf_matrix = analyze_wikipedia_content(person_name, nearest_neighbors)\n",
    "    \n",
    "    if main_content is not None:\n",
    "        output = f\"Sentiment of {person_name}'s Wikipedia page:\\n\"\n",
    "        output += f\"Polarity: {TextBlob(main_content).sentiment.polarity}\\n\"\n",
    "        output += f\"Subjectivity: {TextBlob(main_content).sentiment.subjectivity}\\n\\n\"\n",
    "        \n",
    "        output += \"BoW Ranking:\\n\"\n",
    "        for i, neighbor in enumerate(bow_wikipedia_ranking):\n",
    "            output += f\"{i+1}. {neighbor}\\n\"\n",
    "        \n",
    "        output += \"\\nTF-IDF Ranking:\\n\"\n",
    "        for i, neighbor in enumerate(tfidf_wikipedia_ranking):\n",
    "            output += f\"{i+1}. {neighbor}\\n\"\n",
    "        \n",
    "        output += \"\\nComparison of rankings:\\n\"\n",
    "        for i in range(len(nearest_neighbors)):\n",
    "            if nearest_neighbors[i] in tfidf_wikipedia_ranking:\n",
    "                output += f\"{nearest_neighbors[i]}: Original rank {i+1}, Wikipedia rank {tfidf_wikipedia_ranking.index(nearest_neighbors[i])+1}\\n\"\n",
    "            else:\n",
    "                output += f\"{nearest_neighbors[i]}: Original rank {i+1}, Not found in Wikipedia ranking\\n\"\n",
    "        \n",
    "        output_widget.value = output\n",
    "    else:\n",
    "        output_widget.value = f\"No Wikipedia page found for {person_name}. Unable to perform analysis.\"\n",
    "\n",
    "analyze_button = widgets.Button(description=\"Analyze\")\n",
    "analyze_button.on_click(process_input)\n",
    "\n",
    "output_widget = widgets.Textarea(value=\"\", placeholder=\"Results will appear here\", description=\"Results:\", disabled=True)\n",
    "\n",
    "display(person_name_widget)\n",
    "display(nearest_neighbors_widget)\n",
    "display(analyze_button)\n",
    "display(output_widget)\n"
   ]
  }
 ],
 "metadata": {
  "kernelspec": {
   "display_name": "Python 3",
   "language": "python",
   "name": "python3"
  },
  "language_info": {
   "codemirror_mode": {
    "name": "ipython",
    "version": 3
   },
   "file_extension": ".py",
   "mimetype": "text/x-python",
   "name": "python",
   "nbconvert_exporter": "python",
   "pygments_lexer": "ipython3",
   "version": "3.12.7"
  }
 },
 "nbformat": 4,
 "nbformat_minor": 2
}
