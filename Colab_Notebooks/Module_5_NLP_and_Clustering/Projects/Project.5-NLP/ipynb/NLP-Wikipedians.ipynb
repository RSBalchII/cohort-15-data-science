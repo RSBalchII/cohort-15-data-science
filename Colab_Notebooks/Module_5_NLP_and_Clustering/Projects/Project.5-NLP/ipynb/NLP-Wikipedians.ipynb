{
  "cells": [
    {
      "cell_type": "markdown",
      "metadata": {
        "id": "WgqylIfmwSHb"
      },
      "source": [
        "# Natural Language Processing - Wikipedians Search\n",
        "\n",
        "The three parts of this project are:\n",
        "- Part 1: Use a traditional dataset in a CSV file\n",
        "- Part 2: Use the Wikipedia API to directly access content on Wikipedia\n",
        "- Part 3: Make your notebook interactive"
      ]
    },
    {
      "cell_type": "markdown",
      "metadata": {
        "id": "R5qoYGRuwSHe"
      },
      "source": [
        "# Part 1: Natural Language Processing with TextBlob and Text Representation"
      ]
    },
    {
      "cell_type": "markdown",
      "metadata": {
        "id": "CN1SkJbZwSHe"
      },
      "source": [
        "## Setup and Imports"
      ]
    },
    {
      "cell_type": "code",
      "execution_count": 53,
      "metadata": {
        "id": "v2_9uoRWwSHf"
      },
      "outputs": [],
      "source": [
        "%%capture\n",
        "%pip install -U textblob wikipedia beautifulsoup4\n",
        "!python -m textblob.download_corpora\n",
        "\n",
        "import time\n",
        "import pandas as pd\n",
        "import numpy as np\n",
        "import matplotlib.pyplot as plt\n",
        "import seaborn as sns\n",
        "from sklearn.feature_extraction.text import TfidfVectorizer, CountVectorizer\n",
        "from sklearn.neighbors import NearestNeighbors\n",
        "from sklearn.decomposition import TruncatedSVD\n",
        "from sklearn.metrics.pairwise import cosine_similarity\n",
        "import nltk\n",
        "import wikipedia\n",
        "from bs4 import BeautifulSoup\n",
        "from textblob import TextBlob, Word, Blobber\n",
        "from ipywidgets import widgets\n",
        "\n",
        "nltk.download('punkt')\n",
        "nltk.download('averaged_perceptron_tagger')\n",
        "nltk.download('wordnet')\n",
        "nltk.download('stopwords')"
      ]
    },
    {
      "cell_type": "markdown",
      "metadata": {
        "id": "p-PX4GUywSHg"
      },
      "source": [
        "## Load the CSV file"
      ]
    },
    {
      "cell_type": "code",
      "execution_count": 54,
      "metadata": {
        "id": "1BZn1yh3wSHg",
        "outputId": "921ab752-d0c7-4521-dff9-3d7e08c9e8eb",
        "colab": {
          "base_uri": "https://localhost:8080/"
        }
      },
      "outputs": [
        {
          "output_type": "stream",
          "name": "stdout",
          "text": [
            "                                                 URI                 name  \\\n",
            "0        <http://dbpedia.org/resource/Digby_Morrell>        Digby Morrell   \n",
            "1       <http://dbpedia.org/resource/Alfred_J._Lewy>       Alfred J. Lewy   \n",
            "2        <http://dbpedia.org/resource/Harpdog_Brown>        Harpdog Brown   \n",
            "3  <http://dbpedia.org/resource/Franz_Rottensteiner>  Franz Rottensteiner   \n",
            "4               <http://dbpedia.org/resource/G-Enka>               G-Enka   \n",
            "\n",
            "                                                text  \n",
            "0  digby morrell born 10 october 1979 is a former...  \n",
            "1  alfred j lewy aka sandy lewy graduated from un...  \n",
            "2  harpdog brown is a singer and harmonica player...  \n",
            "3  franz rottensteiner born in waidmannsfeld lowe...  \n",
            "4  henry krvits born 30 december 1974 in tallinn ...  \n",
            "(42786, 3)\n"
          ]
        }
      ],
      "source": [
        "url = \"https://ddc-datascience.s3.amazonaws.com/Projects/Project.5-NLP/Data/NLP.csv\"\n",
        "df = pd.read_csv(url)\n",
        "\n",
        "# Display the first few rows of the DataFrame\n",
        "print(df.head())\n",
        "print(df.shape)\n"
      ]
    },
    {
      "cell_type": "markdown",
      "metadata": {
        "id": "BtHe5g9gwSHh"
      },
      "source": [
        "## Clean and preprocess the data"
      ]
    },
    {
      "cell_type": "code",
      "execution_count": 69,
      "metadata": {
        "id": "DprnBlT6wSHi"
      },
      "outputs": [],
      "source": [
        "  df['name'] = df['name'].str.lower()\n",
        "  df['name'] = df['name'].str.replace(r'[^\\w\\s]', '', regex=True)\n",
        "  df['text'] = df['text'].str.lower()\n",
        "  df['text'] = df['text'].str.replace(r'[^\\w\\s]', '', regex=True)"
      ]
    },
    {
      "cell_type": "markdown",
      "metadata": {
        "id": "RfjGYsFhwSHj"
      },
      "source": [
        "## Create a TF-IDF vectorizer and transform the data"
      ]
    },
    {
      "cell_type": "code",
      "execution_count": 56,
      "metadata": {
        "id": "llS9bHVuwSHj"
      },
      "outputs": [],
      "source": [
        "vectorizer = TfidfVectorizer(stop_words='english')\n",
        "X = vectorizer.fit_transform(df['text'])"
      ]
    },
    {
      "cell_type": "markdown",
      "metadata": {
        "id": "MrYnWpi6wSHj"
      },
      "source": [
        "## Implement the K-Nearest Neighbors algorithm"
      ]
    },
    {
      "cell_type": "code",
      "execution_count": 57,
      "metadata": {
        "id": "Exhat-0GwSHk",
        "outputId": "ab5b7655-1871-4977-917b-fa19e90996f5",
        "colab": {
          "base_uri": "https://localhost:8080/",
          "height": 80
        }
      },
      "outputs": [
        {
          "output_type": "execute_result",
          "data": {
            "text/plain": [
              "NearestNeighbors(metric='cosine', n_neighbors=11)"
            ],
            "text/html": [
              "<style>#sk-container-id-3 {\n",
              "  /* Definition of color scheme common for light and dark mode */\n",
              "  --sklearn-color-text: black;\n",
              "  --sklearn-color-line: gray;\n",
              "  /* Definition of color scheme for unfitted estimators */\n",
              "  --sklearn-color-unfitted-level-0: #fff5e6;\n",
              "  --sklearn-color-unfitted-level-1: #f6e4d2;\n",
              "  --sklearn-color-unfitted-level-2: #ffe0b3;\n",
              "  --sklearn-color-unfitted-level-3: chocolate;\n",
              "  /* Definition of color scheme for fitted estimators */\n",
              "  --sklearn-color-fitted-level-0: #f0f8ff;\n",
              "  --sklearn-color-fitted-level-1: #d4ebff;\n",
              "  --sklearn-color-fitted-level-2: #b3dbfd;\n",
              "  --sklearn-color-fitted-level-3: cornflowerblue;\n",
              "\n",
              "  /* Specific color for light theme */\n",
              "  --sklearn-color-text-on-default-background: var(--sg-text-color, var(--theme-code-foreground, var(--jp-content-font-color1, black)));\n",
              "  --sklearn-color-background: var(--sg-background-color, var(--theme-background, var(--jp-layout-color0, white)));\n",
              "  --sklearn-color-border-box: var(--sg-text-color, var(--theme-code-foreground, var(--jp-content-font-color1, black)));\n",
              "  --sklearn-color-icon: #696969;\n",
              "\n",
              "  @media (prefers-color-scheme: dark) {\n",
              "    /* Redefinition of color scheme for dark theme */\n",
              "    --sklearn-color-text-on-default-background: var(--sg-text-color, var(--theme-code-foreground, var(--jp-content-font-color1, white)));\n",
              "    --sklearn-color-background: var(--sg-background-color, var(--theme-background, var(--jp-layout-color0, #111)));\n",
              "    --sklearn-color-border-box: var(--sg-text-color, var(--theme-code-foreground, var(--jp-content-font-color1, white)));\n",
              "    --sklearn-color-icon: #878787;\n",
              "  }\n",
              "}\n",
              "\n",
              "#sk-container-id-3 {\n",
              "  color: var(--sklearn-color-text);\n",
              "}\n",
              "\n",
              "#sk-container-id-3 pre {\n",
              "  padding: 0;\n",
              "}\n",
              "\n",
              "#sk-container-id-3 input.sk-hidden--visually {\n",
              "  border: 0;\n",
              "  clip: rect(1px 1px 1px 1px);\n",
              "  clip: rect(1px, 1px, 1px, 1px);\n",
              "  height: 1px;\n",
              "  margin: -1px;\n",
              "  overflow: hidden;\n",
              "  padding: 0;\n",
              "  position: absolute;\n",
              "  width: 1px;\n",
              "}\n",
              "\n",
              "#sk-container-id-3 div.sk-dashed-wrapped {\n",
              "  border: 1px dashed var(--sklearn-color-line);\n",
              "  margin: 0 0.4em 0.5em 0.4em;\n",
              "  box-sizing: border-box;\n",
              "  padding-bottom: 0.4em;\n",
              "  background-color: var(--sklearn-color-background);\n",
              "}\n",
              "\n",
              "#sk-container-id-3 div.sk-container {\n",
              "  /* jupyter's `normalize.less` sets `[hidden] { display: none; }`\n",
              "     but bootstrap.min.css set `[hidden] { display: none !important; }`\n",
              "     so we also need the `!important` here to be able to override the\n",
              "     default hidden behavior on the sphinx rendered scikit-learn.org.\n",
              "     See: https://github.com/scikit-learn/scikit-learn/issues/21755 */\n",
              "  display: inline-block !important;\n",
              "  position: relative;\n",
              "}\n",
              "\n",
              "#sk-container-id-3 div.sk-text-repr-fallback {\n",
              "  display: none;\n",
              "}\n",
              "\n",
              "div.sk-parallel-item,\n",
              "div.sk-serial,\n",
              "div.sk-item {\n",
              "  /* draw centered vertical line to link estimators */\n",
              "  background-image: linear-gradient(var(--sklearn-color-text-on-default-background), var(--sklearn-color-text-on-default-background));\n",
              "  background-size: 2px 100%;\n",
              "  background-repeat: no-repeat;\n",
              "  background-position: center center;\n",
              "}\n",
              "\n",
              "/* Parallel-specific style estimator block */\n",
              "\n",
              "#sk-container-id-3 div.sk-parallel-item::after {\n",
              "  content: \"\";\n",
              "  width: 100%;\n",
              "  border-bottom: 2px solid var(--sklearn-color-text-on-default-background);\n",
              "  flex-grow: 1;\n",
              "}\n",
              "\n",
              "#sk-container-id-3 div.sk-parallel {\n",
              "  display: flex;\n",
              "  align-items: stretch;\n",
              "  justify-content: center;\n",
              "  background-color: var(--sklearn-color-background);\n",
              "  position: relative;\n",
              "}\n",
              "\n",
              "#sk-container-id-3 div.sk-parallel-item {\n",
              "  display: flex;\n",
              "  flex-direction: column;\n",
              "}\n",
              "\n",
              "#sk-container-id-3 div.sk-parallel-item:first-child::after {\n",
              "  align-self: flex-end;\n",
              "  width: 50%;\n",
              "}\n",
              "\n",
              "#sk-container-id-3 div.sk-parallel-item:last-child::after {\n",
              "  align-self: flex-start;\n",
              "  width: 50%;\n",
              "}\n",
              "\n",
              "#sk-container-id-3 div.sk-parallel-item:only-child::after {\n",
              "  width: 0;\n",
              "}\n",
              "\n",
              "/* Serial-specific style estimator block */\n",
              "\n",
              "#sk-container-id-3 div.sk-serial {\n",
              "  display: flex;\n",
              "  flex-direction: column;\n",
              "  align-items: center;\n",
              "  background-color: var(--sklearn-color-background);\n",
              "  padding-right: 1em;\n",
              "  padding-left: 1em;\n",
              "}\n",
              "\n",
              "\n",
              "/* Toggleable style: style used for estimator/Pipeline/ColumnTransformer box that is\n",
              "clickable and can be expanded/collapsed.\n",
              "- Pipeline and ColumnTransformer use this feature and define the default style\n",
              "- Estimators will overwrite some part of the style using the `sk-estimator` class\n",
              "*/\n",
              "\n",
              "/* Pipeline and ColumnTransformer style (default) */\n",
              "\n",
              "#sk-container-id-3 div.sk-toggleable {\n",
              "  /* Default theme specific background. It is overwritten whether we have a\n",
              "  specific estimator or a Pipeline/ColumnTransformer */\n",
              "  background-color: var(--sklearn-color-background);\n",
              "}\n",
              "\n",
              "/* Toggleable label */\n",
              "#sk-container-id-3 label.sk-toggleable__label {\n",
              "  cursor: pointer;\n",
              "  display: block;\n",
              "  width: 100%;\n",
              "  margin-bottom: 0;\n",
              "  padding: 0.5em;\n",
              "  box-sizing: border-box;\n",
              "  text-align: center;\n",
              "}\n",
              "\n",
              "#sk-container-id-3 label.sk-toggleable__label-arrow:before {\n",
              "  /* Arrow on the left of the label */\n",
              "  content: \"▸\";\n",
              "  float: left;\n",
              "  margin-right: 0.25em;\n",
              "  color: var(--sklearn-color-icon);\n",
              "}\n",
              "\n",
              "#sk-container-id-3 label.sk-toggleable__label-arrow:hover:before {\n",
              "  color: var(--sklearn-color-text);\n",
              "}\n",
              "\n",
              "/* Toggleable content - dropdown */\n",
              "\n",
              "#sk-container-id-3 div.sk-toggleable__content {\n",
              "  max-height: 0;\n",
              "  max-width: 0;\n",
              "  overflow: hidden;\n",
              "  text-align: left;\n",
              "  /* unfitted */\n",
              "  background-color: var(--sklearn-color-unfitted-level-0);\n",
              "}\n",
              "\n",
              "#sk-container-id-3 div.sk-toggleable__content.fitted {\n",
              "  /* fitted */\n",
              "  background-color: var(--sklearn-color-fitted-level-0);\n",
              "}\n",
              "\n",
              "#sk-container-id-3 div.sk-toggleable__content pre {\n",
              "  margin: 0.2em;\n",
              "  border-radius: 0.25em;\n",
              "  color: var(--sklearn-color-text);\n",
              "  /* unfitted */\n",
              "  background-color: var(--sklearn-color-unfitted-level-0);\n",
              "}\n",
              "\n",
              "#sk-container-id-3 div.sk-toggleable__content.fitted pre {\n",
              "  /* unfitted */\n",
              "  background-color: var(--sklearn-color-fitted-level-0);\n",
              "}\n",
              "\n",
              "#sk-container-id-3 input.sk-toggleable__control:checked~div.sk-toggleable__content {\n",
              "  /* Expand drop-down */\n",
              "  max-height: 200px;\n",
              "  max-width: 100%;\n",
              "  overflow: auto;\n",
              "}\n",
              "\n",
              "#sk-container-id-3 input.sk-toggleable__control:checked~label.sk-toggleable__label-arrow:before {\n",
              "  content: \"▾\";\n",
              "}\n",
              "\n",
              "/* Pipeline/ColumnTransformer-specific style */\n",
              "\n",
              "#sk-container-id-3 div.sk-label input.sk-toggleable__control:checked~label.sk-toggleable__label {\n",
              "  color: var(--sklearn-color-text);\n",
              "  background-color: var(--sklearn-color-unfitted-level-2);\n",
              "}\n",
              "\n",
              "#sk-container-id-3 div.sk-label.fitted input.sk-toggleable__control:checked~label.sk-toggleable__label {\n",
              "  background-color: var(--sklearn-color-fitted-level-2);\n",
              "}\n",
              "\n",
              "/* Estimator-specific style */\n",
              "\n",
              "/* Colorize estimator box */\n",
              "#sk-container-id-3 div.sk-estimator input.sk-toggleable__control:checked~label.sk-toggleable__label {\n",
              "  /* unfitted */\n",
              "  background-color: var(--sklearn-color-unfitted-level-2);\n",
              "}\n",
              "\n",
              "#sk-container-id-3 div.sk-estimator.fitted input.sk-toggleable__control:checked~label.sk-toggleable__label {\n",
              "  /* fitted */\n",
              "  background-color: var(--sklearn-color-fitted-level-2);\n",
              "}\n",
              "\n",
              "#sk-container-id-3 div.sk-label label.sk-toggleable__label,\n",
              "#sk-container-id-3 div.sk-label label {\n",
              "  /* The background is the default theme color */\n",
              "  color: var(--sklearn-color-text-on-default-background);\n",
              "}\n",
              "\n",
              "/* On hover, darken the color of the background */\n",
              "#sk-container-id-3 div.sk-label:hover label.sk-toggleable__label {\n",
              "  color: var(--sklearn-color-text);\n",
              "  background-color: var(--sklearn-color-unfitted-level-2);\n",
              "}\n",
              "\n",
              "/* Label box, darken color on hover, fitted */\n",
              "#sk-container-id-3 div.sk-label.fitted:hover label.sk-toggleable__label.fitted {\n",
              "  color: var(--sklearn-color-text);\n",
              "  background-color: var(--sklearn-color-fitted-level-2);\n",
              "}\n",
              "\n",
              "/* Estimator label */\n",
              "\n",
              "#sk-container-id-3 div.sk-label label {\n",
              "  font-family: monospace;\n",
              "  font-weight: bold;\n",
              "  display: inline-block;\n",
              "  line-height: 1.2em;\n",
              "}\n",
              "\n",
              "#sk-container-id-3 div.sk-label-container {\n",
              "  text-align: center;\n",
              "}\n",
              "\n",
              "/* Estimator-specific */\n",
              "#sk-container-id-3 div.sk-estimator {\n",
              "  font-family: monospace;\n",
              "  border: 1px dotted var(--sklearn-color-border-box);\n",
              "  border-radius: 0.25em;\n",
              "  box-sizing: border-box;\n",
              "  margin-bottom: 0.5em;\n",
              "  /* unfitted */\n",
              "  background-color: var(--sklearn-color-unfitted-level-0);\n",
              "}\n",
              "\n",
              "#sk-container-id-3 div.sk-estimator.fitted {\n",
              "  /* fitted */\n",
              "  background-color: var(--sklearn-color-fitted-level-0);\n",
              "}\n",
              "\n",
              "/* on hover */\n",
              "#sk-container-id-3 div.sk-estimator:hover {\n",
              "  /* unfitted */\n",
              "  background-color: var(--sklearn-color-unfitted-level-2);\n",
              "}\n",
              "\n",
              "#sk-container-id-3 div.sk-estimator.fitted:hover {\n",
              "  /* fitted */\n",
              "  background-color: var(--sklearn-color-fitted-level-2);\n",
              "}\n",
              "\n",
              "/* Specification for estimator info (e.g. \"i\" and \"?\") */\n",
              "\n",
              "/* Common style for \"i\" and \"?\" */\n",
              "\n",
              ".sk-estimator-doc-link,\n",
              "a:link.sk-estimator-doc-link,\n",
              "a:visited.sk-estimator-doc-link {\n",
              "  float: right;\n",
              "  font-size: smaller;\n",
              "  line-height: 1em;\n",
              "  font-family: monospace;\n",
              "  background-color: var(--sklearn-color-background);\n",
              "  border-radius: 1em;\n",
              "  height: 1em;\n",
              "  width: 1em;\n",
              "  text-decoration: none !important;\n",
              "  margin-left: 1ex;\n",
              "  /* unfitted */\n",
              "  border: var(--sklearn-color-unfitted-level-1) 1pt solid;\n",
              "  color: var(--sklearn-color-unfitted-level-1);\n",
              "}\n",
              "\n",
              ".sk-estimator-doc-link.fitted,\n",
              "a:link.sk-estimator-doc-link.fitted,\n",
              "a:visited.sk-estimator-doc-link.fitted {\n",
              "  /* fitted */\n",
              "  border: var(--sklearn-color-fitted-level-1) 1pt solid;\n",
              "  color: var(--sklearn-color-fitted-level-1);\n",
              "}\n",
              "\n",
              "/* On hover */\n",
              "div.sk-estimator:hover .sk-estimator-doc-link:hover,\n",
              ".sk-estimator-doc-link:hover,\n",
              "div.sk-label-container:hover .sk-estimator-doc-link:hover,\n",
              ".sk-estimator-doc-link:hover {\n",
              "  /* unfitted */\n",
              "  background-color: var(--sklearn-color-unfitted-level-3);\n",
              "  color: var(--sklearn-color-background);\n",
              "  text-decoration: none;\n",
              "}\n",
              "\n",
              "div.sk-estimator.fitted:hover .sk-estimator-doc-link.fitted:hover,\n",
              ".sk-estimator-doc-link.fitted:hover,\n",
              "div.sk-label-container:hover .sk-estimator-doc-link.fitted:hover,\n",
              ".sk-estimator-doc-link.fitted:hover {\n",
              "  /* fitted */\n",
              "  background-color: var(--sklearn-color-fitted-level-3);\n",
              "  color: var(--sklearn-color-background);\n",
              "  text-decoration: none;\n",
              "}\n",
              "\n",
              "/* Span, style for the box shown on hovering the info icon */\n",
              ".sk-estimator-doc-link span {\n",
              "  display: none;\n",
              "  z-index: 9999;\n",
              "  position: relative;\n",
              "  font-weight: normal;\n",
              "  right: .2ex;\n",
              "  padding: .5ex;\n",
              "  margin: .5ex;\n",
              "  width: min-content;\n",
              "  min-width: 20ex;\n",
              "  max-width: 50ex;\n",
              "  color: var(--sklearn-color-text);\n",
              "  box-shadow: 2pt 2pt 4pt #999;\n",
              "  /* unfitted */\n",
              "  background: var(--sklearn-color-unfitted-level-0);\n",
              "  border: .5pt solid var(--sklearn-color-unfitted-level-3);\n",
              "}\n",
              "\n",
              ".sk-estimator-doc-link.fitted span {\n",
              "  /* fitted */\n",
              "  background: var(--sklearn-color-fitted-level-0);\n",
              "  border: var(--sklearn-color-fitted-level-3);\n",
              "}\n",
              "\n",
              ".sk-estimator-doc-link:hover span {\n",
              "  display: block;\n",
              "}\n",
              "\n",
              "/* \"?\"-specific style due to the `<a>` HTML tag */\n",
              "\n",
              "#sk-container-id-3 a.estimator_doc_link {\n",
              "  float: right;\n",
              "  font-size: 1rem;\n",
              "  line-height: 1em;\n",
              "  font-family: monospace;\n",
              "  background-color: var(--sklearn-color-background);\n",
              "  border-radius: 1rem;\n",
              "  height: 1rem;\n",
              "  width: 1rem;\n",
              "  text-decoration: none;\n",
              "  /* unfitted */\n",
              "  color: var(--sklearn-color-unfitted-level-1);\n",
              "  border: var(--sklearn-color-unfitted-level-1) 1pt solid;\n",
              "}\n",
              "\n",
              "#sk-container-id-3 a.estimator_doc_link.fitted {\n",
              "  /* fitted */\n",
              "  border: var(--sklearn-color-fitted-level-1) 1pt solid;\n",
              "  color: var(--sklearn-color-fitted-level-1);\n",
              "}\n",
              "\n",
              "/* On hover */\n",
              "#sk-container-id-3 a.estimator_doc_link:hover {\n",
              "  /* unfitted */\n",
              "  background-color: var(--sklearn-color-unfitted-level-3);\n",
              "  color: var(--sklearn-color-background);\n",
              "  text-decoration: none;\n",
              "}\n",
              "\n",
              "#sk-container-id-3 a.estimator_doc_link.fitted:hover {\n",
              "  /* fitted */\n",
              "  background-color: var(--sklearn-color-fitted-level-3);\n",
              "}\n",
              "</style><div id=\"sk-container-id-3\" class=\"sk-top-container\"><div class=\"sk-text-repr-fallback\"><pre>NearestNeighbors(metric=&#x27;cosine&#x27;, n_neighbors=11)</pre><b>In a Jupyter environment, please rerun this cell to show the HTML representation or trust the notebook. <br />On GitHub, the HTML representation is unable to render, please try loading this page with nbviewer.org.</b></div><div class=\"sk-container\" hidden><div class=\"sk-item\"><div class=\"sk-estimator fitted sk-toggleable\"><input class=\"sk-toggleable__control sk-hidden--visually\" id=\"sk-estimator-id-3\" type=\"checkbox\" checked><label for=\"sk-estimator-id-3\" class=\"sk-toggleable__label fitted sk-toggleable__label-arrow fitted\">&nbsp;&nbsp;NearestNeighbors<a class=\"sk-estimator-doc-link fitted\" rel=\"noreferrer\" target=\"_blank\" href=\"https://scikit-learn.org/1.5/modules/generated/sklearn.neighbors.NearestNeighbors.html\">?<span>Documentation for NearestNeighbors</span></a><span class=\"sk-estimator-doc-link fitted\">i<span>Fitted</span></span></label><div class=\"sk-toggleable__content fitted\"><pre>NearestNeighbors(metric=&#x27;cosine&#x27;, n_neighbors=11)</pre></div> </div></div></div></div>"
            ]
          },
          "metadata": {},
          "execution_count": 57
        }
      ],
      "source": [
        "nn = NearestNeighbors(n_neighbors=11, metric='cosine')\n",
        "nn.fit(X)"
      ]
    },
    {
      "cell_type": "markdown",
      "metadata": {
        "id": "ljVny_3nwSHk"
      },
      "source": [
        "## Create a function to find nearest neighbors and sentiment"
      ]
    },
    {
      "cell_type": "code",
      "execution_count": 58,
      "metadata": {
        "id": "XXyyD594wSHl"
      },
      "outputs": [],
      "source": [
        "def find_nearest_neighbors_and_sentiment(person_name):\n",
        "    # Find the index of the person\n",
        "    person_index = df[df['name'] == person_name].index[0]\n",
        "\n",
        "    # Get the nearest neighbors\n",
        "    distances, indices = nn.kneighbors(X[person_index].reshape(1, -1))\n",
        "\n",
        "    # Get the names of the nearest neighbors (excluding the first person)\n",
        "    nearest_neighbors = df.iloc[indices[0][1:]]['name'].tolist()\n",
        "\n",
        "    # Calculate sentiment for the person\n",
        "    person_text = df.loc[person_index, 'text']\n",
        "    sentiment = TextBlob(person_text).sentiment\n",
        "\n",
        "    return nearest_neighbors, sentiment"
      ]
    },
    {
      "cell_type": "markdown",
      "metadata": {
        "id": "rfVjUk9HwSHl"
      },
      "source": [
        "## Get nearest nearest neighbors and sentiment"
      ]
    },
    {
      "cell_type": "code",
      "execution_count": 59,
      "metadata": {
        "id": "swLPDp8RwSHl",
        "outputId": "1c9de05e-1d5b-4257-8c87-ee34e25af628",
        "colab": {
          "base_uri": "https://localhost:8080/"
        }
      },
      "outputs": [
        {
          "output_type": "stream",
          "name": "stdout",
          "text": [
            "Nearest neighbors to Donne Trotter:\n",
            "- Thomas L. Kilbride\n",
            "- Marvin E. Aspen\n",
            "- Kimberly A. Lightford\n",
            "- John W. Darrah\n",
            "- Hiram Monserrate\n",
            "- James G. Carr\n",
            "- Jim Waring\n",
            "- Samuel H. Young\n",
            "- Todd Sieben\n",
            "- Thomas W. Ewing\n",
            "\n",
            "Sentiment of Donne Trotter's text:\n",
            "Polarity: 0.007688688123470734\n",
            "Subjectivity: 0.31977225672877846\n"
          ]
        }
      ],
      "source": [
        "x = 5000\n",
        "\n",
        "person_name = df['name'].iloc[x]  # choose a person\n",
        "nearest_neighbors, sentiment = find_nearest_neighbors_and_sentiment(person_name)\n",
        "\n",
        "print(f\"Nearest neighbors to {person_name}:\")\n",
        "for neighbor in nearest_neighbors:\n",
        "    print(f\"- {neighbor}\")\n",
        "\n",
        "print(f\"\\nSentiment of {person_name}'s text:\")\n",
        "print(f\"Polarity: {sentiment.polarity}\")\n",
        "print(f\"Subjectivity: {sentiment.subjectivity}\")"
      ]
    },
    {
      "cell_type": "markdown",
      "metadata": {
        "id": "IywDzeD0wSHl"
      },
      "source": [
        "## Perform dimensionality reduction using TruncatedSVD"
      ]
    },
    {
      "cell_type": "code",
      "execution_count": 60,
      "metadata": {
        "id": "SjMzn9YzwSHm"
      },
      "outputs": [],
      "source": [
        "svd = TruncatedSVD(n_components=2, random_state=42)\n",
        "X_svd = svd.fit_transform(X)"
      ]
    },
    {
      "cell_type": "markdown",
      "metadata": {
        "id": "nuog7MwvwSHm"
      },
      "source": [
        "# Part 2: Wikipedia API Integration"
      ]
    },
    {
      "cell_type": "markdown",
      "metadata": {
        "id": "gQ_LoIwYwSHm"
      },
      "source": [
        "## Function to retrieve Wikipedia content"
      ]
    },
    {
      "cell_type": "code",
      "execution_count": 62,
      "metadata": {
        "id": "WK8vCMeywSHn"
      },
      "outputs": [],
      "source": [
        "def clean_text(text):\n",
        "    text = text.lower()\n",
        "    words = text.split()\n",
        "    singularized_words = [Word(word).singularize() for word in words]\n",
        "    return ' '.join(singularized_words)"
      ]
    },
    {
      "cell_type": "markdown",
      "metadata": {
        "id": "3pPAGkH6wSHn"
      },
      "source": [
        "## Function to analyze Wikipedia content"
      ]
    },
    {
      "cell_type": "code",
      "execution_count": 63,
      "metadata": {
        "id": "fOlctzqowSHn"
      },
      "outputs": [],
      "source": [
        "def get_wikipedia_content(person_name):\n",
        "    max_attempts = 5\n",
        "    for attempt in range(max_attempts):\n",
        "        try:\n",
        "            page = wikipedia.page(person_name)\n",
        "            return page.content\n",
        "        except wikipedia.exceptions.DisambiguationError as e:\n",
        "            options = e.options\n",
        "            if not options:\n",
        "                print(f\"No suitable options found for {person_name}\")\n",
        "                return None\n",
        "\n",
        "            # Try each option in order\n",
        "            for option in options:\n",
        "                try:\n",
        "                    page = wikipedia.page(option)\n",
        "                    return page.content\n",
        "                except (wikipedia.exceptions.PageError, wikipedia.exceptions.DisambiguationError):\n",
        "                    continue\n",
        "\n",
        "            print(f\"All disambiguation options exhausted for {person_name}\")\n",
        "            return None\n",
        "\n",
        "        except wikipedia.exceptions.PageError:\n",
        "            print(f\"No Wikipedia page found for {person_name}\")\n",
        "            return None\n",
        "\n",
        "        except Exception as e:\n",
        "            print(f\"An error occurred while fetching Wikipedia page for {person_name}: {str(e)}\")\n",
        "            time.sleep(1)  # Add a delay to avoid hitting API rate limits\n",
        "\n",
        "    print(f\"Max attempts reached for {person_name}\")\n",
        "    return None"
      ]
    },
    {
      "cell_type": "markdown",
      "metadata": {
        "id": "RQfENbbmwSHo"
      },
      "source": [
        "## use the function to analyze Wikipedia content for a specific person and nearest neighbors"
      ]
    },
    {
      "cell_type": "code",
      "execution_count": 64,
      "metadata": {
        "id": "0qp3Td3KwSHo",
        "outputId": "7554c0dd-5fe0-49e0-c44b-8b6be9c3843b",
        "colab": {
          "base_uri": "https://localhost:8080/"
        }
      },
      "outputs": [
        {
          "output_type": "stream",
          "name": "stdout",
          "text": [
            "TF-IDF Matrix shape: (11, 1917)\n",
            "TF-IDF Similarity shape: (1, 10)\n",
            "TF-IDF Similarity values: [[0.1132367  0.12034489 0.16161459 0.13463405 0.10020284 0.1059604\n",
            "  0.13811382 0.09668855 0.1328839  0.13215724]]\n",
            "\n",
            "BoW Ranking:\n",
            "1. Kimberly A. Lightford\n",
            "2. Todd Sieben\n",
            "3. John W. Darrah\n",
            "4. Thomas W. Ewing\n",
            "5. Thomas L. Kilbride\n",
            "6. Jim Waring\n",
            "7. James G. Carr\n",
            "8. Samuel H. Young\n",
            "9. Marvin E. Aspen\n",
            "10. Hiram Monserrate\n",
            "\n",
            "TF-IDF Ranking:\n",
            "1. Kimberly A. Lightford\n",
            "2. Jim Waring\n",
            "3. John W. Darrah\n",
            "4. Todd Sieben\n",
            "5. Thomas W. Ewing\n",
            "6. Marvin E. Aspen\n",
            "7. Thomas L. Kilbride\n",
            "8. James G. Carr\n",
            "9. Hiram Monserrate\n",
            "10. Samuel H. Young\n"
          ]
        }
      ],
      "source": [
        "main_content, bow_wikipedia_ranking, tfidf_wikipedia_ranking, tfidf_matrix = analyze_wikipedia_content(person_name, nearest_neighbors)\n",
        "\n",
        "if main_content is not None:\n",
        "    print(f\"\\nBoW Ranking:\")\n",
        "    for i, neighbor in enumerate(bow_wikipedia_ranking):\n",
        "        print(f\"{i+1}. {neighbor}\")\n",
        "\n",
        "    print(\"\\nTF-IDF Ranking:\")\n",
        "    for i, neighbor in enumerate(tfidf_wikipedia_ranking):\n",
        "        print(f\"{i+1}. {neighbor}\")\n",
        "else:\n",
        "    # print(\"No suitable Wikipedia page found for the main person.\")"
      ]
    },
    {
      "cell_type": "markdown",
      "metadata": {
        "id": "qHJFdmcEwSHo"
      },
      "source": [
        "# Part 3: Visualization"
      ]
    },
    {
      "cell_type": "code",
      "execution_count": 70,
      "metadata": {
        "id": "uEXHyeEKwSHq",
        "outputId": "f417aee5-c203-4efa-b7a3-4fb854c845b2",
        "colab": {
          "base_uri": "https://localhost:8080/",
          "height": 718
        }
      },
      "outputs": [
        {
          "output_type": "display_data",
          "data": {
            "text/plain": [
              "<Figure size 1000x800 with 1 Axes>"
            ],
            "image/png": "[encoded data removed]"
          },
          "metadata": {}
        }
      ],
      "source": [
        "svd = TruncatedSVD(n_components=2, random_state=42)\n",
        "X_svd = svd.fit_transform(tfidf_matrix)\n",
        "\n",
        "plt.figure(figsize=(10, 8))\n",
        "plt.scatter(X_svd[1:, 0], X_svd[1:, 1], alpha=0.5)\n",
        "plt.scatter(X_svd[0, 0], X_svd[0, 1], color='red', s=100, label=person_name)\n",
        "plt.title(f\"TF-IDF Visualization of {person_name} and Nearest Neighbors\")\n",
        "plt.xlabel(\"SVD Dimension 1\")\n",
        "plt.ylabel(\"SVD Dimension 2\")\n",
        "plt.legend()\n",
        "plt.show()"
      ]
    },
    {
      "cell_type": "markdown",
      "metadata": {
        "id": "eTUWzeMxwSHo"
      },
      "source": [
        "## Interactive Text Analysis"
      ]
    },
    {
      "cell_type": "code",
      "execution_count": 66,
      "metadata": {
        "id": "HZMPamFYwSHo"
      },
      "outputs": [],
      "source": [
        "# Create a text box for input\n",
        "text_box = widgets.Text(value='', placeholder='Enter a name or index', description='Person Name/Index:', disabled=False)\n",
        "\n",
        "# Create a button to trigger the analysis\n",
        "button = widgets.Button(description='Run Analysis')\n",
        "\n",
        "# Create a display area for the output\n",
        "output = widgets.Output()\n"
      ]
    },
    {
      "cell_type": "markdown",
      "metadata": {
        "id": "qB6r78AkwSHo"
      },
      "source": [
        "## Calculate and display Analysis of person_name, nearest_neighbors, and sentiment comparison"
      ]
    },
    {
      "cell_type": "code",
      "execution_count": 67,
      "metadata": {
        "id": "hAa0I_4cwSHp",
        "colab": {
          "base_uri": "https://localhost:8080/",
          "height": 1000,
          "referenced_widgets": [
            "2df3dbf89d3f498ca1d7052e0fd4d52e",
            "a1dbd7edb49543668ba2f1c2f82d951c",
            "a9426d43674c46f1813be0856849be57",
            "352a48dae78f4e43b770af50063c17b1",
            "f6f07ae6213141d28fbb3be369dd6f5b",
            "f50b4438f2f94482a129ce15da421fb4",
            "6393b66f30a442cfbb1f791a7513f97e",
            "6ec20fe54a36412fb989f8f8f9054944"
          ]
        },
        "outputId": "3ce53a1a-1309-4866-9c4f-ec8832712008"
      },
      "outputs": [
        {
          "output_type": "display_data",
          "data": {
            "text/plain": [
              "Text(value='', description='Person Name/Index:', placeholder='Enter a name or index')"
            ],
            "application/vnd.jupyter.widget-view+json": {
              "version_major": 2,
              "version_minor": 0,
              "model_id": "2df3dbf89d3f498ca1d7052e0fd4d52e"
            }
          },
          "metadata": {}
        },
        {
          "output_type": "display_data",
          "data": {
            "text/plain": [
              "Button(description='Run Analysis', style=ButtonStyle())"
            ],
            "application/vnd.jupyter.widget-view+json": {
              "version_major": 2,
              "version_minor": 0,
              "model_id": "352a48dae78f4e43b770af50063c17b1"
            }
          },
          "metadata": {}
        },
        {
          "output_type": "display_data",
          "data": {
            "text/plain": [
              "Output()"
            ],
            "application/vnd.jupyter.widget-view+json": {
              "version_major": 2,
              "version_minor": 0,
              "model_id": "6393b66f30a442cfbb1f791a7513f97e"
            }
          },
          "metadata": {}
        }
      ],
      "source": [
        "def run_analysis(b):\n",
        "    with output:\n",
        "        output.clear_output()\n",
        "        input_value = text_box.value\n",
        "\n",
        "        # Check if input is empty\n",
        "        if not input_value.strip():\n",
        "            print(\"Please enter a name or index.\")\n",
        "            return\n",
        "\n",
        "        # Check if input is a number\n",
        "        if input_value.isdigit():\n",
        "            x = int(input_value)\n",
        "            person_name = df['name'].iloc[x]  # choose a person\n",
        "        else:\n",
        "            # Search for the name in the DataFrame\n",
        "            person_name = input_value.lower()\n",
        "            matching_index = df[df['name'] == person_name].index\n",
        "\n",
        "            if len(matching_index) > 0:\n",
        "                x = matching_index[0]\n",
        "            else:\n",
        "                print(f\"No match found for {input_value}\")\n",
        "                return\n",
        "\n",
        "        nearest_neighbors, sentiment = find_nearest_neighbors_and_sentiment(person_name)\n",
        "\n",
        "        print(f\"Nearest neighbors to {person_name}:\")\n",
        "        for neighbor in nearest_neighbors:\n",
        "            print(f\"- {neighbor}\")\n",
        "\n",
        "        print(f\"\\nSentiment of {person_name}'s text:\")\n",
        "        print(f\"Polarity: {sentiment.polarity}\")\n",
        "        print(f\"Subjectivity: {sentiment.subjectivity}\")\n",
        "\n",
        "        # Run the rest of analysis here\n",
        "        main_content, bow_wikipedia_ranking, tfidf_wikipedia_ranking, tfidf_matrix = analyze_wikipedia_content(person_name, nearest_neighbors)\n",
        "\n",
        "        if main_content is not None:\n",
        "            print(f\"\\nBoW Ranking:\")\n",
        "            for i, neighbor in enumerate(bow_wikipedia_ranking):\n",
        "                print(f\"{i+1}. {neighbor}\")\n",
        "\n",
        "            print(\"\\nTF-IDF Ranking:\")\n",
        "            for i, neighbor in enumerate(tfidf_wikipedia_ranking):\n",
        "                print(f\"{i+1}. {neighbor}\")\n",
        "\n",
        "            # Calculate and print main sentiment\n",
        "            main_sentiment = TextBlob(main_content).sentiment\n",
        "            print(f\"\\nSentiment of {person_name}'s Wikipedia page:\")\n",
        "            print(f\"Polarity: {main_sentiment.polarity}\")\n",
        "            print(f\"Subjectivity: {main_sentiment.subjectivity}\")\n",
        "\n",
        "            # Print out the Wikipedia article\n",
        "            print(f\"\\nWikipedia article for {person_name}:\")\n",
        "            print(main_content[::])\n",
        "\n",
        "            # Compare rankings only if the index is 5000\n",
        "            if x == 5000:\n",
        "                original_ranking = nearest_neighbors\n",
        "                print(\"\\nComparison of rankings:\")\n",
        "                for i, original_neighbor in enumerate(original_ranking):\n",
        "                    if original_neighbor in bow_wikipedia_ranking:\n",
        "                        bow_rank = bow_wikipedia_ranking.index(original_neighbor) + 1\n",
        "                        print(f\"{original_neighbor}: Original rank {i+1}, BoW rank {bow_rank}\")\n",
        "                    else:\n",
        "                        print(f\"{original_neighbor}: Original rank {i+1}, Not found in BoW ranking\")\n",
        "\n",
        "                    if original_neighbor in tfidf_wikipedia_ranking:\n",
        "                        tfidf_rank = tfidf_wikipedia_ranking.index(original_neighbor) + 1\n",
        "                        print(f\"{original_neighbor}: Original rank {i+1}, TF-IDF rank {tfidf_rank}\")\n",
        "                    else:\n",
        "                        print(f\"{original_neighbor}: Original rank {i+1}, Not found in TF-IDF ranking\")\n",
        "        else:\n",
        "            print(\"No suitable Wikipedia page found for the main person.\")\n",
        "\n",
        "# Keep the rest of your code the same\n",
        "button = widgets.Button(description='Run Analysis')\n",
        "button.on_click(run_analysis)\n",
        "\n",
        "display(text_box)\n",
        "display(button)\n",
        "display(output)\n"
      ]
    }
  ],
  "metadata": {
    "kernelspec": {
      "display_name": "Python 3",
      "language": "python",
      "name": "python3"
    },
    "language_info": {
      "codemirror_mode": {
        "name": "ipython",
        "version": 3
      },
      "file_extension": ".py",
      "mimetype": "text/x-python",
      "name": "python",
      "nbconvert_exporter": "python",
      "pygments_lexer": "ipython3",
      "version": "3.12.7"
    },
    "colab": {
      "provenance": [],
      "toc_visible": true
    },
    "widgets": {
      "application/vnd.jupyter.widget-state+json": {
        "2df3dbf89d3f498ca1d7052e0fd4d52e": {
          "model_module": "@jupyter-widgets/controls",
          "model_name": "TextModel",
          "model_module_version": "1.5.0",
          "state": {
            "_dom_classes": [],
            "_model_module": "@jupyter-widgets/controls",
            "_model_module_version": "1.5.0",
            "_model_name": "TextModel",
            "_view_count": null,
            "_view_module": "@jupyter-widgets/controls",
            "_view_module_version": "1.5.0",
            "_view_name": "TextView",
            "continuous_update": true,
            "description": "Person Name/Index:",
            "description_tooltip": null,
            "disabled": false,
            "layout": "IPY_MODEL_a1dbd7edb49543668ba2f1c2f82d951c",
            "placeholder": "Enter a name or index",
            "style": "IPY_MODEL_a9426d43674c46f1813be0856849be57",
            "value": "john dods"
          }
        },
        "a1dbd7edb49543668ba2f1c2f82d951c": {
          "model_module": "@jupyter-widgets/base",
          "model_name": "LayoutModel",
          "model_module_version": "1.2.0",
          "state": {
            "_model_module": "@jupyter-widgets/base",
            "_model_module_version": "1.2.0",
            "_model_name": "LayoutModel",
            "_view_count": null,
            "_view_module": "@jupyter-widgets/base",
            "_view_module_version": "1.2.0",
            "_view_name": "LayoutView",
            "align_content": null,
            "align_items": null,
            "align_self": null,
            "border": null,
            "bottom": null,
            "display": null,
            "flex": null,
            "flex_flow": null,
            "grid_area": null,
            "grid_auto_columns": null,
            "grid_auto_flow": null,
            "grid_auto_rows": null,
            "grid_column": null,
            "grid_gap": null,
            "grid_row": null,
            "grid_template_areas": null,
            "grid_template_columns": null,
            "grid_template_rows": null,
            "height": null,
            "justify_content": null,
            "justify_items": null,
            "left": null,
            "margin": null,
            "max_height": null,
            "max_width": null,
            "min_height": null,
            "min_width": null,
            "object_fit": null,
            "object_position": null,
            "order": null,
            "overflow": null,
            "overflow_x": null,
            "overflow_y": null,
            "padding": null,
            "right": null,
            "top": null,
            "visibility": null,
            "width": null
          }
        },
        "a9426d43674c46f1813be0856849be57": {
          "model_module": "@jupyter-widgets/controls",
          "model_name": "DescriptionStyleModel",
          "model_module_version": "1.5.0",
          "state": {
            "_model_module": "@jupyter-widgets/controls",
            "_model_module_version": "1.5.0",
            "_model_name": "DescriptionStyleModel",
            "_view_count": null,
            "_view_module": "@jupyter-widgets/base",
            "_view_module_version": "1.2.0",
            "_view_name": "StyleView",
            "description_width": ""
          }
        },
        "352a48dae78f4e43b770af50063c17b1": {
          "model_module": "@jupyter-widgets/controls",
          "model_name": "ButtonModel",
          "model_module_version": "1.5.0",
          "state": {
            "_dom_classes": [],
            "_model_module": "@jupyter-widgets/controls",
            "_model_module_version": "1.5.0",
            "_model_name": "ButtonModel",
            "_view_count": null,
            "_view_module": "@jupyter-widgets/controls",
            "_view_module_version": "1.5.0",
            "_view_name": "ButtonView",
            "button_style": "",
            "description": "Run Analysis",
            "disabled": false,
            "icon": "",
            "layout": "IPY_MODEL_f6f07ae6213141d28fbb3be369dd6f5b",
            "style": "IPY_MODEL_f50b4438f2f94482a129ce15da421fb4",
            "tooltip": ""
          }
        },
        "f6f07ae6213141d28fbb3be369dd6f5b": {
          "model_module": "@jupyter-widgets/base",
          "model_name": "LayoutModel",
          "model_module_version": "1.2.0",
          "state": {
            "_model_module": "@jupyter-widgets/base",
            "_model_module_version": "1.2.0",
            "_model_name": "LayoutModel",
            "_view_count": null,
            "_view_module": "@jupyter-widgets/base",
            "_view_module_version": "1.2.0",
            "_view_name": "LayoutView",
            "align_content": null,
            "align_items": null,
            "align_self": null,
            "border": null,
            "bottom": null,
            "display": null,
            "flex": null,
            "flex_flow": null,
            "grid_area": null,
            "grid_auto_columns": null,
            "grid_auto_flow": null,
            "grid_auto_rows": null,
            "grid_column": null,
            "grid_gap": null,
            "grid_row": null,
            "grid_template_areas": null,
            "grid_template_columns": null,
            "grid_template_rows": null,
            "height": null,
            "justify_content": null,
            "justify_items": null,
            "left": null,
            "margin": null,
            "max_height": null,
            "max_width": null,
            "min_height": null,
            "min_width": null,
            "object_fit": null,
            "object_position": null,
            "order": null,
            "overflow": null,
            "overflow_x": null,
            "overflow_y": null,
            "padding": null,
            "right": null,
            "top": null,
            "visibility": null,
            "width": null
          }
        },
        "f50b4438f2f94482a129ce15da421fb4": {
          "model_module": "@jupyter-widgets/controls",
          "model_name": "ButtonStyleModel",
          "model_module_version": "1.5.0",
          "state": {
            "_model_module": "@jupyter-widgets/controls",
            "_model_module_version": "1.5.0",
            "_model_name": "ButtonStyleModel",
            "_view_count": null,
            "_view_module": "@jupyter-widgets/base",
            "_view_module_version": "1.2.0",
            "_view_name": "StyleView",
            "button_color": null,
            "font_weight": ""
          }
        },
        "6393b66f30a442cfbb1f791a7513f97e": {
          "model_module": "@jupyter-widgets/output",
          "model_name": "OutputModel",
          "model_module_version": "1.0.0",
          "state": {
            "_dom_classes": [],
            "_model_module": "@jupyter-widgets/output",
            "_model_module_version": "1.0.0",
            "_model_name": "OutputModel",
            "_view_count": null,
            "_view_module": "@jupyter-widgets/output",
            "_view_module_version": "1.0.0",
            "_view_name": "OutputView",
            "layout": "IPY_MODEL_6ec20fe54a36412fb989f8f8f9054944",
            "msg_id": "",
            "outputs": [
              {
                "output_type": "stream",
                "name": "stdout",
                "text": [
                  "Nearest neighbors to john dods:\n",
                  "- crist ballas\n",
                  "- nick dudman\n",
                  "- mark rappaport creature effects artist\n",
                  "- doug drexler\n",
                  "- peter king makeup artist\n",
                  "- yasmin lee\n",
                  "- charles porlier\n",
                  "- joe blasco\n",
                  "- peter dods\n",
                  "- john carl buechler\n",
                  "\n",
                  "Sentiment of john dods's text:\n",
                  "Polarity: 0.07727272727272728\n",
                  "Subjectivity: 0.2846590909090909\n"
                ]
              },
              {
                "output_type": "stream",
                "name": "stdout",
                "text": [
                  "No Wikipedia page found for crist ballas\n",
                  "Skipping crist ballas due to missing content\n"
                ]
              },
              {
                "output_type": "stream",
                "name": "stdout",
                "text": [
                  "No Wikipedia page found for joe blasco\n",
                  "Skipping joe blasco due to missing content\n"
                ]
              },
              {
                "output_type": "stream",
                "name": "stdout",
                "text": [
                  "TF-IDF Matrix shape: (9, 1086)\n",
                  "TF-IDF Similarity shape: (1, 8)\n",
                  "TF-IDF Similarity values: [[0.13965844 0.12004245 0.07030086 0.07973356 0.06637253 0.05986301\n",
                  "  0.17932528 0.07271765]]\n",
                  "\n",
                  "BoW Ranking:\n",
                  "1. crist ballas\n",
                  "2. charles porlier\n",
                  "3. nick dudman\n",
                  "4. doug drexler\n",
                  "5. joe blasco\n",
                  "6. yasmin lee\n",
                  "7. mark rappaport creature effects artist\n",
                  "8. peter king makeup artist\n",
                  "\n",
                  "TF-IDF Ranking:\n",
                  "1. charles porlier\n",
                  "2. crist ballas\n",
                  "3. nick dudman\n",
                  "4. doug drexler\n",
                  "5. joe blasco\n",
                  "6. mark rappaport creature effects artist\n",
                  "7. peter king makeup artist\n",
                  "8. yasmin lee\n",
                  "\n",
                  "Sentiment of john dods's Wikipedia page:\n",
                  "Polarity: 0.07272727272727274\n",
                  "Subjectivity: 0.2649732620320856\n",
                  "\n",
                  "Wikipedia article for john dods:\n",
                  "john bruce dod (born december 10, 1948, in plainfield, new jersey) is a united state filmmaker, make-up artist and specialist in prosthetic make-up effect for movie and the stage. he may be best known for designing and creating the facial appliance for the stage production of disney’ beauty and the beast. dods’ early work a an amateur filmmaker involved the construction of miniature model and set for elaborate stop-motion animation projects. hi creation of latex-covered animation model led him toward the craft of sculpting, mechanic and mold-making, which in turn led toward a budding career a a mask- and monster-maker (a displayed in the independent 1980 horror film nightbeast, return of the aliens: the deadly spawn, spookies, and my demon lover). following hi study under academy award-winning make-up artist dick smith, dod wa employed a make-up artist, mold-maker and mechanical effect designer in mainstream feature films, including poltergeist iii, ghostbuster ii, death become her, longtime companion, a kis before dying, the santum clause, alien: resurrection and the x-files. dod also wa effect supervisor on 18 episode of the syndicated television series monsters, and worked a a set construction supervisor on the back to the future theme park ride at universal studio florida. dod created the prosthetic make-up for the creature, played by shuler hensley, in mel brook musical stage adaptation of young frankenstein, which debuted on broadway in november 2007. == reference == == external link == official website john dod at imdb 2004 interview with john dod at upcominghorrormovies.com\n"
                ]
              }
            ]
          }
        },
        "6ec20fe54a36412fb989f8f8f9054944": {
          "model_module": "@jupyter-widgets/base",
          "model_name": "LayoutModel",
          "model_module_version": "1.2.0",
          "state": {
            "_model_module": "@jupyter-widgets/base",
            "_model_module_version": "1.2.0",
            "_model_name": "LayoutModel",
            "_view_count": null,
            "_view_module": "@jupyter-widgets/base",
            "_view_module_version": "1.2.0",
            "_view_name": "LayoutView",
            "align_content": null,
            "align_items": null,
            "align_self": null,
            "border": null,
            "bottom": null,
            "display": null,
            "flex": null,
            "flex_flow": null,
            "grid_area": null,
            "grid_auto_columns": null,
            "grid_auto_flow": null,
            "grid_auto_rows": null,
            "grid_column": null,
            "grid_gap": null,
            "grid_row": null,
            "grid_template_areas": null,
            "grid_template_columns": null,
            "grid_template_rows": null,
            "height": null,
            "justify_content": null,
            "justify_items": null,
            "left": null,
            "margin": null,
            "max_height": null,
            "max_width": null,
            "min_height": null,
            "min_width": null,
            "object_fit": null,
            "object_position": null,
            "order": null,
            "overflow": null,
            "overflow_x": null,
            "overflow_y": null,
            "padding": null,
            "right": null,
            "top": null,
            "visibility": null,
            "width": null
          }
        }
      }
    }
  },
  "nbformat": 4,
  "nbformat_minor": 0
}