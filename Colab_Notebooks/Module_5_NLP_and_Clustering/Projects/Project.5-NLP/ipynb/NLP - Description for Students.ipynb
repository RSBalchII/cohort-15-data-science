{
 "cells": [
  {
   "cell_type": "markdown",
   "metadata": {
    "id": "CxYSWPCsM0YU"
   },
   "source": [
    "# Natural Language Processing\n",
    "\n"
   ]
  },
  {
   "cell_type": "markdown",
   "metadata": {
    "id": "FGQCPUEuNezI"
   },
   "source": [
    "This project will give you practical experience using Natural Language Processing techniques. This project is in three parts:\n",
    "- in part 1) you will use a traditional dataset in a CSV file\n",
    "- in part 2) you will use the Wikipedia API to directly access content\n",
    "on Wikipedia.\n",
    "- in part 3) you will make your notebook interactive\n"
   ]
  },
  {
   "cell_type": "markdown",
   "metadata": {
    "id": "IP5iaS9lNamW"
   },
   "source": [
    "### Part 1)\n",
    "\n"
   ]
  },
  {
   "cell_type": "markdown",
   "metadata": {
    "id": "twaXGmp6OAPK"
   },
   "source": [
    "- The CSV file is available at https://ddc-datascience.s3.amazonaws.com/Projects/Project.5-NLP/Data/NLP.csv\n",
    "- The file contains a list of famous people and a brief overview.\n",
    "- The goal of part 1) is provide the capability to\n",
    "  - Take one person from the list as input and output the 10 other people who's overview are \"closest\" to the person in a Natural Language Processing sense\n",
    "  - Also output the sentiment of the overview of the person\n",
    "\n"
   ]
  },
  {
   "cell_type": "markdown",
   "metadata": {
    "id": "SyoC6PWeN9un"
   },
   "source": [
    "### Part 2)\n",
    "\n"
   ]
  },
  {
   "cell_type": "markdown",
   "metadata": {
    "id": "AJxfrb48N-v9"
   },
   "source": [
    "- For the same person from step 1), use the Wikipedia API to access the whole content of that person's Wikipedia page.\n",
    "- The goal of part 2) is to produce the capability to:\n",
    "  1. For that Wikipedia page determine the sentiment of the entire page\n",
    "  1. Print out the Wikipedia article\n",
    "  1. Collect the Wikipedia pages from the 10 nearest neighbors in Step 1)\n",
    "  1. Determine the nearness ranking of these 10 to your main subject based on their entire Wikipedia page\n",
    "  1. Compare the nearest ranking from Step 1) with the Wikipedia page nearness ranking\n",
    "\n"
   ]
  },
  {
   "cell_type": "markdown",
   "metadata": {
    "id": "xEIw9hfFObw7"
   },
   "source": [
    "### Part 3)\n"
   ]
  },
  {
   "cell_type": "markdown",
   "metadata": {
    "id": "SVW0y4Axty7A"
   },
   "source": [
    "Make an interactive notebook.\n",
    "\n",
    "In addition to presenting the project slides, at the end of the presentation each student will demonstrate their code using a famous person suggested by the other students that exists in the DBpedia set.\n"
   ]
  },
  {
   "cell_type": "code",
   "execution_count": null,
   "metadata": {
    "colab": {
     "base_uri": "https://localhost:8080/"
    },
    "executionInfo": {
     "elapsed": 3281,
     "status": "ok",
     "timestamp": 1720465688097,
     "user": {
      "displayName": "deepdive datascience",
      "userId": "06241824193725215643"
     },
     "user_tz": 360
    },
    "id": "t6dopgR3vfDU",
    "outputId": "5b0ce104-5ad4-41eb-bce6-053d0e8040ed"
   },
   "outputs": [
    {
     "name": "stdout",
     "output_type": "stream",
     "text": [
      "42786\n"
     ]
    }
   ],
   "source": [
    "!curl -s https://ddc-datascience.s3.amazonaws.com/Projects/Project.5-NLP/Data/NLP.csv | wc -l"
   ]
  },
  {
   "cell_type": "code",
   "execution_count": null,
   "metadata": {
    "id": "yHBJAbrGviBT"
   },
   "outputs": [],
   "source": []
  }
 ],
 "metadata": {
  "colab": {
   "provenance": []
  },
  "kernelspec": {
   "display_name": "Python 3",
   "language": "python",
   "name": "python3"
  },
  "language_info": {
   "codemirror_mode": {
    "name": "ipython",
    "version": 3
   },
   "file_extension": ".py",
   "mimetype": "text/x-python",
   "name": "python",
   "nbconvert_exporter": "python",
   "pygments_lexer": "ipython3",
   "version": "3.12.7"
  }
 },
 "nbformat": 4,
 "nbformat_minor": 0
}
