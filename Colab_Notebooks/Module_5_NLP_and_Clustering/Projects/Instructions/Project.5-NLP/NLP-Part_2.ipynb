{
 "cells": [
  {
   "cell_type": "markdown",
   "metadata": {},
   "source": [
    "## Part 2)"
   ]
  },
  {
   "cell_type": "markdown",
   "metadata": {},
   "source": [
    "- For the same person from step 1), use the Wikipedia API to access the whole content of that person's Wikipedia page.\n",
    "- The goal of part 2) is to produce the capability to:\n",
    "  1. For that Wikipedia page determine the sentiment of the entire page\n",
    "  1. Print out the Wikipedia article\n",
    "  1. Collect the Wikipedia pages from the 10 nearest neighbors in Step 1)\n",
    "  1. Determine the nearness ranking of these 10 to your main subject based on their entire Wikipedia page\n",
    "  1. Compare the nearest ranking from Step 1) with the Wikipedia page nearness ranking"
   ]
  },
  {
   "cell_type": "code",
   "execution_count": 19,
   "metadata": {},
   "outputs": [
    {
     "name": "stdout",
     "output_type": "stream",
     "text": [
      "Requirement already satisfied: wikipedia in /usr/local/lib/python3.12/site-packages (1.4.0)\n",
      "Requirement already satisfied: beautifulsoup4 in /usr/local/lib/python3.12/site-packages (from wikipedia) (4.12.3)\n",
      "Requirement already satisfied: requests<3.0.0,>=2.0.0 in /usr/local/lib/python3.12/site-packages (from wikipedia) (2.32.3)\n",
      "Requirement already satisfied: charset-normalizer<4,>=2 in /usr/local/lib/python3.12/site-packages (from requests<3.0.0,>=2.0.0->wikipedia) (3.4.0)\n",
      "Requirement already satisfied: idna<4,>=2.5 in /usr/local/lib/python3.12/site-packages (from requests<3.0.0,>=2.0.0->wikipedia) (3.10)\n",
      "Requirement already satisfied: urllib3<3,>=1.21.1 in /usr/local/lib/python3.12/site-packages (from requests<3.0.0,>=2.0.0->wikipedia) (2.2.3)\n",
      "Requirement already satisfied: certifi>=2017.4.17 in /usr/local/lib/python3.12/site-packages (from requests<3.0.0,>=2.0.0->wikipedia) (2024.8.30)\n",
      "Requirement already satisfied: soupsieve>1.2 in /usr/local/lib/python3.12/site-packages (from beautifulsoup4->wikipedia) (2.6)\n",
      "\u001b[33mWARNING: Running pip as the 'root' user can result in broken permissions and conflicting behaviour with the system package manager, possibly rendering your system unusable.It is recommended to use a virtual environment instead: https://pip.pypa.io/warnings/venv. Use the --root-user-action option if you know what you are doing and want to suppress this warning.\u001b[0m\u001b[33m\n",
      "\u001b[0m"
     ]
    }
   ],
   "source": [
    "import pandas as pd\n",
    "import numpy as np\n",
    "from sklearn.feature_extraction.text import TfidfVectorizer\n",
    "from sklearn.neighbors import NearestNeighbors\n",
    "from textblob import TextBlob\n",
    "\n",
    "# Install and import wikipedia library\n",
    "!pip install wikipedia"
   ]
  },
  {
   "cell_type": "code",
   "execution_count": 32,
   "metadata": {},
   "outputs": [],
   "source": [
    "def get_wikipedia_content(person_name):\n",
    "    try:\n",
    "        page = wikipedia.page(person_name)\n",
    "        return page.content\n",
    "    except wikipedia.exceptions.PageError:nearest_neighbors = [\"Marie Curie\", \"Isaac Newton\", \"Galileo Galilei\", \"Stephen Hawking\", \"Richard Feynman\", \"Nikola Tesla\", \"Charles Darwin\", \"Aristotle\", \"Archimedes\", \"Leonardo da Vinci\"]\n",
    "    return None"
   ]
  },
  {
   "cell_type": "code",
   "execution_count": 28,
   "metadata": {},
   "outputs": [],
   "source": [
    "def analyze_wikipedia_content(person_name, nearest_neighbors):\n",
    "    # Fetch Wikipedia content for the main person\n",
    "    main_content = get_wikipedia_content(person_name)\n",
    "    \n",
    "    if main_content is None:\n",
    "        print(f\"No Wikipedia page found for {person_name}\")\n",
    "        return None, None\n",
    "    \n",
    "    # Calculate sentiment of the entire page\n",
    "    main_sentiment = TextBlob(main_content).sentiment\n",
    "    \n",
    "    # Print out the Wikipedia article\n",
    "    print(f\"Wikipedia article for {person_name}:\")\n",
    "    print(main_content[:500] + \"...\")\n",
    "    \n",
    "    # Collect Wikipedia pages from the nearest neighbors\n",
    "    neighbor_contents = []\n",
    "    for neighbor in nearest_neighbors:\n",
    "        content = get_wikipedia_content(neighbor)\n",
    "        if content is not None:\n",
    "            neighbor_contents.append(content)\n",
    "    \n",
    "    if len(neighbor_contents) < 2:\n",
    "        print(\"Not enough data to perform KNN. Skipping ranking.\")\n",
    "        return main_sentiment, nearest_neighbors\n",
    "    \n",
    "    # Determine nearness ranking based on entire Wikipedia pages\n",
    "    vectorizer = TfidfVectorizer(stop_words='english')\n",
    "    X = vectorizer.fit_transform([main_content] + neighbor_contents)\n",
    "    nn = NearestNeighbors(n_neighbors=min(len(neighbor_contents), 5), metric='cosine')\n",
    "    nn.fit(X)\n",
    "    \n",
    "    distances, indices = nn.kneighbors(X[0].reshape(1, -1))\n",
    "    wikipedia_ranking = [nearest_neighbors[i-1] for i in indices[0][1:]]\n",
    "    \n",
    "    return main_sentiment, wikipedia_ranking\n"
   ]
  },
  {
   "cell_type": "code",
   "execution_count": null,
   "metadata": {},
   "outputs": [
    {
     "name": "stdout",
     "output_type": "stream",
     "text": [
      "Wikipedia article for Albert Einstein:\n",
      "Albert Einstein (14 March 1879 – 18 April 1955) was a German-born theoretical physicist who is widely held as one of the most influential scientists. Best known for developing the theory of relativity, Einstein also made important contributions to quantum mechanics. His mass–energy equivalence formula E = mc2, which arises from special relativity, has been called \"the world's most famous equation\". He received the 1921 Nobel Prize in Physics \"for his services to theoretical physics, and especial...\n",
      "\n",
      "Sentiment of Albert Einstein's Wikipedia page:\n",
      "Polarity: 0.11999025762235141\n",
      "Subjectivity: 0.41687531999420424\n",
      "\n",
      "Wikipedia ranking of nearest neighbors:\n",
      "1. Marie Curie\n",
      "2. Richard Feynman\n",
      "3. Stephen Hawking\n",
      "4. Galileo Galilei\n",
      "\n",
      "Comparison of rankings:\n",
      "Marie Curie: Original rank 1, Wikipedia rank 1\n",
      "Isaac Newton: Original rank 2, Not found in Wikipedia ranking\n",
      "Galileo Galilei: Original rank 3, Wikipedia rank 4\n",
      "Stephen Hawking: Original rank 4, Wikipedia rank 3\n",
      "Richard Feynman: Original rank 5, Wikipedia rank 2\n",
      "Nikola Tesla: Original rank 6, Not found in Wikipedia ranking\n",
      "Charles Darwin: Original rank 7, Not found in Wikipedia ranking\n",
      "Aristotle: Original rank 8, Not found in Wikipedia ranking\n",
      "Archimedes: Original rank 9, Not found in Wikipedia ranking\n",
      "Leonardo da Vinci: Original rank 10, Not found in Wikipedia ranking\n"
     ]
    }
   ],
   "source": [
    "# Test the function\n",
    "person_name = \"Albert Einstein\"  # Use a well-known person as an example\n",
    "nearest_neighbors = [\"Marie Curie\", \"Isaac Newton\", \"Galileo Galilei\", \"Stephen Hawking\", \"Richard Feynman\", \"Nikola Tesla\", \"Charles Darwin\", \"Aristotle\", \"Archimedes\", \"Leonardo da Vinci\"]\n",
    "\n",
    "main_sentiment, wikipedia_ranking = analyze_wikipedia_content(person_name, nearest_neighbors)\n",
    "\n",
    "if main_sentiment is not None:\n",
    "    print(f\"\\nSentiment of {person_name}'s Wikipedia page:\")\n",
    "    print(f\"Polarity: {main_sentiment.polarity}\")\n",
    "    print(f\"Subjectivity: {main_sentiment.subjectivity}\")\n",
    "\n",
    "    print(f\"\\nWikipedia ranking of nearest neighbors:\")\n",
    "    for i, neighbor in enumerate(wikipedia_ranking):\n",
    "        print(f\"{i+1}. {neighbor}\")\n",
    "\n",
    "    # Compare rankings\n",
    "    original_ranking = nearest_neighbors\n",
    "    print(\"\\nComparison of rankings:\")\n",
    "    for i in range(len(original_ranking)):\n",
    "        if original_ranking[i] in wikipedia_ranking:\n",
    "            print(f\"{original_ranking[i]}: Original rank {i+1}, Wikipedia rank {wikipedia_ranking.index(original_ranking[i])+1}\")\n",
    "        else:\n",
    "            print(f\"{original_ranking[i]}: Original rank {i+1}, Not found in Wikipedia ranking\")\n",
    "else:\n",
    "    print(f\"No Wikipedia page found for {person_name}. Unable to perform analysis.\")"
   ]
  }
 ],
 "metadata": {
  "kernelspec": {
   "display_name": "Python 3",
   "language": "python",
   "name": "python3"
  },
  "language_info": {
   "codemirror_mode": {
    "name": "ipython",
    "version": 3
   },
   "file_extension": ".py",
   "mimetype": "text/x-python",
   "name": "python",
   "nbconvert_exporter": "python",
   "pygments_lexer": "ipython3",
   "version": "3.12.7"
  }
 },
 "nbformat": 4,
 "nbformat_minor": 2
}
