{
 "cells": [
  {
   "cell_type": "markdown",
   "metadata": {},
   "source": [
    "### Part 3)"
   ]
  },
  {
   "cell_type": "markdown",
   "metadata": {},
   "source": [
    "Make an interactive notebook.\n",
    "\n",
    "In addition to presenting the project slides, at the end of the presentation each student will demonstrate their code using a famous person suggested by the other students that exists in the DBpedia set.\n"
   ]
  },
  {
   "cell_type": "code",
   "execution_count": 1,
   "metadata": {},
   "outputs": [
    {
     "name": "stdout",
     "output_type": "stream",
     "text": [
      "Requirement already satisfied: ipywidgets in /usr/local/lib/python3.12/site-packages (8.1.5)\n",
      "Requirement already satisfied: comm>=0.1.3 in /usr/local/lib/python3.12/site-packages (from ipywidgets) (0.2.2)\n",
      "Requirement already satisfied: ipython>=6.1.0 in /usr/local/lib/python3.12/site-packages (from ipywidgets) (8.29.0)\n",
      "Requirement already satisfied: traitlets>=4.3.1 in /usr/local/lib/python3.12/site-packages (from ipywidgets) (5.14.3)\n",
      "Requirement already satisfied: widgetsnbextension~=4.0.12 in /usr/local/lib/python3.12/site-packages (from ipywidgets) (4.0.13)\n",
      "Requirement already satisfied: jupyterlab-widgets~=3.0.12 in /usr/local/lib/python3.12/site-packages (from ipywidgets) (3.0.13)\n",
      "Requirement already satisfied: decorator in /usr/local/lib/python3.12/site-packages (from ipython>=6.1.0->ipywidgets) (5.1.1)\n",
      "Requirement already satisfied: jedi>=0.16 in /usr/local/lib/python3.12/site-packages (from ipython>=6.1.0->ipywidgets) (0.19.1)\n",
      "Requirement already satisfied: matplotlib-inline in /usr/local/lib/python3.12/site-packages (from ipython>=6.1.0->ipywidgets) (0.1.7)\n",
      "Requirement already satisfied: prompt-toolkit<3.1.0,>=3.0.41 in /usr/local/lib/python3.12/site-packages (from ipython>=6.1.0->ipywidgets) (3.0.48)\n",
      "Requirement already satisfied: pygments>=2.4.0 in /usr/local/lib/python3.12/site-packages (from ipython>=6.1.0->ipywidgets) (2.18.0)\n",
      "Requirement already satisfied: stack-data in /usr/local/lib/python3.12/site-packages (from ipython>=6.1.0->ipywidgets) (0.6.3)\n",
      "Requirement already satisfied: pexpect>4.3 in /usr/local/lib/python3.12/site-packages (from ipython>=6.1.0->ipywidgets) (4.9.0)\n",
      "Requirement already satisfied: parso<0.9.0,>=0.8.3 in /usr/local/lib/python3.12/site-packages (from jedi>=0.16->ipython>=6.1.0->ipywidgets) (0.8.4)\n",
      "Requirement already satisfied: ptyprocess>=0.5 in /usr/local/lib/python3.12/site-packages (from pexpect>4.3->ipython>=6.1.0->ipywidgets) (0.7.0)\n",
      "Requirement already satisfied: wcwidth in /usr/local/lib/python3.12/site-packages (from prompt-toolkit<3.1.0,>=3.0.41->ipython>=6.1.0->ipywidgets) (0.2.13)\n",
      "Requirement already satisfied: executing>=1.2.0 in /usr/local/lib/python3.12/site-packages (from stack-data->ipython>=6.1.0->ipywidgets) (2.1.0)\n",
      "Requirement already satisfied: asttokens>=2.1.0 in /usr/local/lib/python3.12/site-packages (from stack-data->ipython>=6.1.0->ipywidgets) (2.4.1)\n",
      "Requirement already satisfied: pure-eval in /usr/local/lib/python3.12/site-packages (from stack-data->ipython>=6.1.0->ipywidgets) (0.2.3)\n",
      "Requirement already satisfied: six>=1.12.0 in /usr/local/lib/python3.12/site-packages (from asttokens>=2.1.0->stack-data->ipython>=6.1.0->ipywidgets) (1.16.0)\n",
      "\u001b[33mWARNING: Running pip as the 'root' user can result in broken permissions and conflicting behaviour with the system package manager, possibly rendering your system unusable.It is recommended to use a virtual environment instead: https://pip.pypa.io/warnings/venv. Use the --root-user-action option if you know what you are doing and want to suppress this warning.\u001b[0m\u001b[33m\n",
      "\u001b[0m"
     ]
    }
   ],
   "source": [
    "!pip install ipywidgets"
   ]
  },
  {
   "cell_type": "code",
   "execution_count": null,
   "metadata": {},
   "outputs": [],
   "source": [
    "import ipywidgets as widgets\n",
    "from IPython.display import display"
   ]
  },
  {
   "cell_type": "code",
   "execution_count": 3,
   "metadata": {},
   "outputs": [],
   "source": [
    "person_name_widget = widgets.Text(value=\"Albert Einstein\", placeholder=\"Enter person name\", description=\"Person:\", disabled=False)\n",
    "nearest_neighbors_widget = widgets.Textarea(value=\"Marie Curie\\nIsaac Newton\\nGalileo Galilei\\nStephen Hawking\\nRichard Feynman\\nNikola Tesla\\nCharles Darwin\\nAristotle\\nArchimedes\\nLeonardo da Vinci\", placeholder=\"Enter nearest neighbors (one per line)\", description=\"Neighbors:\", disabled=False)\n"
   ]
  },
  {
   "cell_type": "code",
   "execution_count": null,
   "metadata": {},
   "outputs": [],
   "source": []
  },
  {
   "cell_type": "code",
   "execution_count": 6,
   "metadata": {},
   "outputs": [
    {
     "ename": "NameError",
     "evalue": "name 'analyze_wikipedia_content' is not defined",
     "output_type": "error",
     "traceback": [
      "\u001b[0;31m---------------------------------------------------------------------------\u001b[0m",
      "\u001b[0;31mNameError\u001b[0m                                 Traceback (most recent call last)",
      "Cell \u001b[0;32mIn[6], line 5\u001b[0m, in \u001b[0;36mprocess_input\u001b[0;34m(b)\u001b[0m\n\u001b[1;32m      2\u001b[0m person_name \u001b[38;5;241m=\u001b[39m person_name_widget\u001b[38;5;241m.\u001b[39mvalue\n\u001b[1;32m      3\u001b[0m nearest_neighbors \u001b[38;5;241m=\u001b[39m nearest_neighbors_widget\u001b[38;5;241m.\u001b[39mvalue\u001b[38;5;241m.\u001b[39msplit(\u001b[38;5;124m'\u001b[39m\u001b[38;5;130;01m\\n\u001b[39;00m\u001b[38;5;124m'\u001b[39m)\n\u001b[0;32m----> 5\u001b[0m main_sentiment, wikipedia_ranking \u001b[38;5;241m=\u001b[39m \u001b[43manalyze_wikipedia_content\u001b[49m(person_name, nearest_neighbors)\n\u001b[1;32m      7\u001b[0m \u001b[38;5;28;01mif\u001b[39;00m main_sentiment \u001b[38;5;129;01mis\u001b[39;00m \u001b[38;5;129;01mnot\u001b[39;00m \u001b[38;5;28;01mNone\u001b[39;00m:\n\u001b[1;32m      8\u001b[0m     output \u001b[38;5;241m=\u001b[39m \u001b[38;5;124mf\u001b[39m\u001b[38;5;124m\"\u001b[39m\u001b[38;5;124mSentiment of \u001b[39m\u001b[38;5;132;01m{\u001b[39;00mperson_name\u001b[38;5;132;01m}\u001b[39;00m\u001b[38;5;124m'\u001b[39m\u001b[38;5;124ms Wikipedia page:\u001b[39m\u001b[38;5;130;01m\\n\u001b[39;00m\u001b[38;5;124m\"\u001b[39m\n",
      "\u001b[0;31mNameError\u001b[0m: name 'analyze_wikipedia_content' is not defined"
     ]
    },
    {
     "ename": "NameError",
     "evalue": "name 'analyze_wikipedia_content' is not defined",
     "output_type": "error",
     "traceback": [
      "\u001b[0;31m---------------------------------------------------------------------------\u001b[0m",
      "\u001b[0;31mNameError\u001b[0m                                 Traceback (most recent call last)",
      "Cell \u001b[0;32mIn[6], line 5\u001b[0m, in \u001b[0;36mprocess_input\u001b[0;34m(b)\u001b[0m\n\u001b[1;32m      2\u001b[0m person_name \u001b[38;5;241m=\u001b[39m person_name_widget\u001b[38;5;241m.\u001b[39mvalue\n\u001b[1;32m      3\u001b[0m nearest_neighbors \u001b[38;5;241m=\u001b[39m nearest_neighbors_widget\u001b[38;5;241m.\u001b[39mvalue\u001b[38;5;241m.\u001b[39msplit(\u001b[38;5;124m'\u001b[39m\u001b[38;5;130;01m\\n\u001b[39;00m\u001b[38;5;124m'\u001b[39m)\n\u001b[0;32m----> 5\u001b[0m main_sentiment, wikipedia_ranking \u001b[38;5;241m=\u001b[39m \u001b[43manalyze_wikipedia_content\u001b[49m(person_name, nearest_neighbors)\n\u001b[1;32m      7\u001b[0m \u001b[38;5;28;01mif\u001b[39;00m main_sentiment \u001b[38;5;129;01mis\u001b[39;00m \u001b[38;5;129;01mnot\u001b[39;00m \u001b[38;5;28;01mNone\u001b[39;00m:\n\u001b[1;32m      8\u001b[0m     output \u001b[38;5;241m=\u001b[39m \u001b[38;5;124mf\u001b[39m\u001b[38;5;124m\"\u001b[39m\u001b[38;5;124mSentiment of \u001b[39m\u001b[38;5;132;01m{\u001b[39;00mperson_name\u001b[38;5;132;01m}\u001b[39;00m\u001b[38;5;124m'\u001b[39m\u001b[38;5;124ms Wikipedia page:\u001b[39m\u001b[38;5;130;01m\\n\u001b[39;00m\u001b[38;5;124m\"\u001b[39m\n",
      "\u001b[0;31mNameError\u001b[0m: name 'analyze_wikipedia_content' is not defined"
     ]
    },
    {
     "ename": "NameError",
     "evalue": "name 'analyze_wikipedia_content' is not defined",
     "output_type": "error",
     "traceback": [
      "\u001b[0;31m---------------------------------------------------------------------------\u001b[0m",
      "\u001b[0;31mNameError\u001b[0m                                 Traceback (most recent call last)",
      "Cell \u001b[0;32mIn[6], line 5\u001b[0m, in \u001b[0;36mprocess_input\u001b[0;34m(b)\u001b[0m\n\u001b[1;32m      2\u001b[0m person_name \u001b[38;5;241m=\u001b[39m person_name_widget\u001b[38;5;241m.\u001b[39mvalue\n\u001b[1;32m      3\u001b[0m nearest_neighbors \u001b[38;5;241m=\u001b[39m nearest_neighbors_widget\u001b[38;5;241m.\u001b[39mvalue\u001b[38;5;241m.\u001b[39msplit(\u001b[38;5;124m'\u001b[39m\u001b[38;5;130;01m\\n\u001b[39;00m\u001b[38;5;124m'\u001b[39m)\n\u001b[0;32m----> 5\u001b[0m main_sentiment, wikipedia_ranking \u001b[38;5;241m=\u001b[39m \u001b[43manalyze_wikipedia_content\u001b[49m(person_name, nearest_neighbors)\n\u001b[1;32m      7\u001b[0m \u001b[38;5;28;01mif\u001b[39;00m main_sentiment \u001b[38;5;129;01mis\u001b[39;00m \u001b[38;5;129;01mnot\u001b[39;00m \u001b[38;5;28;01mNone\u001b[39;00m:\n\u001b[1;32m      8\u001b[0m     output \u001b[38;5;241m=\u001b[39m \u001b[38;5;124mf\u001b[39m\u001b[38;5;124m\"\u001b[39m\u001b[38;5;124mSentiment of \u001b[39m\u001b[38;5;132;01m{\u001b[39;00mperson_name\u001b[38;5;132;01m}\u001b[39;00m\u001b[38;5;124m'\u001b[39m\u001b[38;5;124ms Wikipedia page:\u001b[39m\u001b[38;5;130;01m\\n\u001b[39;00m\u001b[38;5;124m\"\u001b[39m\n",
      "\u001b[0;31mNameError\u001b[0m: name 'analyze_wikipedia_content' is not defined"
     ]
    },
    {
     "ename": "NameError",
     "evalue": "name 'analyze_wikipedia_content' is not defined",
     "output_type": "error",
     "traceback": [
      "\u001b[0;31m---------------------------------------------------------------------------\u001b[0m",
      "\u001b[0;31mNameError\u001b[0m                                 Traceback (most recent call last)",
      "Cell \u001b[0;32mIn[6], line 5\u001b[0m, in \u001b[0;36mprocess_input\u001b[0;34m(b)\u001b[0m\n\u001b[1;32m      2\u001b[0m person_name \u001b[38;5;241m=\u001b[39m person_name_widget\u001b[38;5;241m.\u001b[39mvalue\n\u001b[1;32m      3\u001b[0m nearest_neighbors \u001b[38;5;241m=\u001b[39m nearest_neighbors_widget\u001b[38;5;241m.\u001b[39mvalue\u001b[38;5;241m.\u001b[39msplit(\u001b[38;5;124m'\u001b[39m\u001b[38;5;130;01m\\n\u001b[39;00m\u001b[38;5;124m'\u001b[39m)\n\u001b[0;32m----> 5\u001b[0m main_sentiment, wikipedia_ranking \u001b[38;5;241m=\u001b[39m \u001b[43manalyze_wikipedia_content\u001b[49m(person_name, nearest_neighbors)\n\u001b[1;32m      7\u001b[0m \u001b[38;5;28;01mif\u001b[39;00m main_sentiment \u001b[38;5;129;01mis\u001b[39;00m \u001b[38;5;129;01mnot\u001b[39;00m \u001b[38;5;28;01mNone\u001b[39;00m:\n\u001b[1;32m      8\u001b[0m     output \u001b[38;5;241m=\u001b[39m \u001b[38;5;124mf\u001b[39m\u001b[38;5;124m\"\u001b[39m\u001b[38;5;124mSentiment of \u001b[39m\u001b[38;5;132;01m{\u001b[39;00mperson_name\u001b[38;5;132;01m}\u001b[39;00m\u001b[38;5;124m'\u001b[39m\u001b[38;5;124ms Wikipedia page:\u001b[39m\u001b[38;5;130;01m\\n\u001b[39;00m\u001b[38;5;124m\"\u001b[39m\n",
      "\u001b[0;31mNameError\u001b[0m: name 'analyze_wikipedia_content' is not defined"
     ]
    }
   ],
   "source": [
    "def process_input(b):\n",
    "    person_name = person_name_widget.value\n",
    "    nearest_neighbors = nearest_neighbors_widget.value.split('\\n')\n",
    "    \n",
    "    main_sentiment, wikipedia_ranking = analyze_wikipedia_content(person_name, nearest_neighbors)\n",
    "    \n",
    "    if main_sentiment is not None:\n",
    "        output = f\"Sentiment of {person_name}'s Wikipedia page:\\n\"\n",
    "        output += f\"Polarity: {main_sentiment.polarity}\\n\"\n",
    "        output += f\"Subjectivity: {main_sentiment.subjectivity}\\n\\n\"\n",
    "        \n",
    "        output += \"Wikipedia ranking of nearest neighbors:\\n\"\n",
    "        for i, neighbor in enumerate(wikipedia_ranking):\n",
    "            output += f\"{i+1}. {neighbor}\\n\"\n",
    "        \n",
    "        output += \"\\nComparison of rankings:\\n\"\n",
    "        for i in range(len(nearest_neighbors)):\n",
    "            if nearest_neighbors[i] in wikipedia_ranking:\n",
    "                output += f\"{nearest_neighbors[i]}: Original rank {i+1}, Wikipedia rank {wikipedia_ranking.index(nearest_neighbors[i])+1}\\n\"\n",
    "            else:\n",
    "                output += f\"{nearest_neighbors[i]}: Original rank {i+1}, Not found in Wikipedia ranking\\n\"\n",
    "        \n",
    "        output_widget.value = output\n",
    "    else:\n",
    "        output_widget.value = f\"No Wikipedia page found for {person_name}. Unable to perform analysis.\"\n",
    "\n",
    "# Create a button to trigger the analysis\n",
    "analyze_button = widgets.Button(description=\"Analyze\")\n",
    "analyze_button.on_click(process_input)\n",
    "\n",
    "# Create an output widget to display the results\n",
    "output_widget = widgets.Textarea(value=\"\", placeholder=\"Results will appear here\", description=\"Results:\", disabled=True)\n"
   ]
  },
  {
   "cell_type": "code",
   "execution_count": 7,
   "metadata": {},
   "outputs": [
    {
     "data": {
      "application/vnd.jupyter.widget-view+json": {
       "model_id": "04bec48e5fa1486c8fb4de0bef96b35c",
       "version_major": 2,
       "version_minor": 0
      },
      "text/plain": [
       "Text(value='Albert Einstein', description='Person:', placeholder='Enter person name')"
      ]
     },
     "metadata": {},
     "output_type": "display_data"
    },
    {
     "data": {
      "application/vnd.jupyter.widget-view+json": {
       "model_id": "d8376ef5d80e49e7bd2883a377a4bcc3",
       "version_major": 2,
       "version_minor": 0
      },
      "text/plain": [
       "Textarea(value='Marie Curie\\nIsaac Newton\\nGalileo Galilei\\nStephen Hawking\\nRichard Feynman\\nNikola Tesla\\nCh…"
      ]
     },
     "metadata": {},
     "output_type": "display_data"
    },
    {
     "data": {
      "application/vnd.jupyter.widget-view+json": {
       "model_id": "507478aa3dc84b709bd8a75d1bbe9189",
       "version_major": 2,
       "version_minor": 0
      },
      "text/plain": [
       "Button(description='Analyze', style=ButtonStyle())"
      ]
     },
     "metadata": {},
     "output_type": "display_data"
    },
    {
     "data": {
      "application/vnd.jupyter.widget-view+json": {
       "model_id": "9f8d6b40097249caaefc8734d019901a",
       "version_major": 2,
       "version_minor": 0
      },
      "text/plain": [
       "Textarea(value='', description='Results:', disabled=True, placeholder='Results will appear here')"
      ]
     },
     "metadata": {},
     "output_type": "display_data"
    }
   ],
   "source": [
    "# This will display the interactive widgets\n",
    "display(person_name_widget)\n",
    "display(nearest_neighbors_widget)\n",
    "display(analyze_button)\n",
    "display(output_widget)\n"
   ]
  }
 ],
 "metadata": {
  "kernelspec": {
   "display_name": "Python 3",
   "language": "python",
   "name": "python3"
  },
  "language_info": {
   "codemirror_mode": {
    "name": "ipython",
    "version": 3
   },
   "file_extension": ".py",
   "mimetype": "text/x-python",
   "name": "python",
   "nbconvert_exporter": "python",
   "pygments_lexer": "ipython3",
   "version": "3.12.7"
  }
 },
 "nbformat": 4,
 "nbformat_minor": 2
}
