{
  "nbformat": 4,
  "nbformat_minor": 0,
  "metadata": {
    "colab": {
      "provenance": []
    },
    "kernelspec": {
      "name": "python3",
      "display_name": "Python 3"
    },
    "language_info": {
      "name": "python"
    }
  },
  "cells": [
    {
      "cell_type": "markdown",
      "source": [
        "# Project SQL - Chinook\n"
      ],
      "metadata": {
        "id": "cJG_e1vK2NMI"
      }
    },
    {
      "cell_type": "markdown",
      "source": [
        "## Chinook data set\n",
        "\n",
        "See the lecture on SQLite3 using the Chinook data set to set up the software, database, and tables, as well as for the links to ancillary information about the data set.\n"
      ],
      "metadata": {
        "id": "s6jMcIbW3P5o"
      }
    },
    {
      "cell_type": "markdown",
      "source": [
        "# Imports and Setup"
      ],
      "metadata": {
        "id": "iiMhmG-057aO"
      }
    },
    {
      "cell_type": "code",
      "source": [
        "# Install the sqlite package for Ubuntu\n",
        "# Download the Chinook sqlite database\n",
        "%%capture\n",
        "%%bash\n",
        "apt-get update\n",
        "apt-get install -y sqlite3\n"
      ],
      "metadata": {
        "id": "UhFW0uTR6Jfv"
      },
      "execution_count": 1,
      "outputs": []
    },
    {
      "cell_type": "code",
      "source": [
        "%%bash\n",
        "[ -f chinook.zip ] ||\n",
        "  curl -s -O https://www.sqlitetutorial.net/wp-content/uploads/2018/03/chinook.zip\n",
        "unzip -l chinook.zip\n"
      ],
      "metadata": {
        "colab": {
          "base_uri": "https://localhost:8080/"
        },
        "id": "0JUeV9P651lq",
        "outputId": "1f532dfd-fa64-491e-f670-d88e03c75a53"
      },
      "execution_count": 2,
      "outputs": [
        {
          "output_type": "stream",
          "name": "stdout",
          "text": [
            "Archive:  chinook.zip\n",
            "  Length      Date    Time    Name\n",
            "---------  ---------- -----   ----\n",
            "   884736  2015-11-29 10:53   chinook.db\n",
            "---------                     -------\n",
            "   884736                     1 file\n"
          ]
        }
      ]
    },
    {
      "cell_type": "code",
      "source": [
        "!unzip -u chinook.zip"
      ],
      "metadata": {
        "colab": {
          "base_uri": "https://localhost:8080/"
        },
        "id": "9MffQDpY55hh",
        "outputId": "ce06549c-9def-4436-c40d-c885a030cbae"
      },
      "execution_count": 3,
      "outputs": [
        {
          "output_type": "stream",
          "name": "stdout",
          "text": [
            "Archive:  chinook.zip\n",
            "  inflating: chinook.db              \n"
          ]
        }
      ]
    },
    {
      "cell_type": "code",
      "source": [
        "!ls -la"
      ],
      "metadata": {
        "colab": {
          "base_uri": "https://localhost:8080/"
        },
        "id": "9OiWaCvE6E_Q",
        "outputId": "0c9b5ad5-ac89-497c-dbd2-3dda590f221d"
      },
      "execution_count": 4,
      "outputs": [
        {
          "output_type": "stream",
          "name": "stdout",
          "text": [
            "total 1180\n",
            "drwxr-xr-x 1 root root   4096 Oct 27 21:35 .\n",
            "drwxr-xr-x 1 root root   4096 Oct 27 21:33 ..\n",
            "-rw-r--r-- 1 root root 884736 Nov 29  2015 chinook.db\n",
            "-rw-r--r-- 1 root root 305596 Oct 27 21:35 chinook.zip\n",
            "drwxr-xr-x 4 root root   4096 Oct 24 13:20 .config\n",
            "drwxr-xr-x 1 root root   4096 Oct 24 13:20 sample_data\n"
          ]
        }
      ]
    },
    {
      "cell_type": "markdown",
      "source": [
        "## Come up with questions about your data\n",
        "Have a look at the Entity-Relation ( ER ) diagram to help come up with questions.\n",
        "\n",
        "* What sort of information is in this dataset?\n",
        "* How many records are there?\n",
        "* How many different countries (states, counties, cities, etc) have records in this data set?\n",
        "\n",
        "\n",
        "If you are stuck, here are some ideas for questions:\n",
        "- https://github.com/LucasMcL/15-sql_queries_02-chinook/blob/master/README.md\n",
        "- [Using the R language]( https://rpubs.com/enext777/636199 )\n",
        "- [Search Google]( https://www.google.com/search?q=chinook+database+questions )\n",
        "\n"
      ],
      "metadata": {
        "id": "OA9Mp38s52x2"
      }
    },
    {
      "cell_type": "markdown",
      "source": [
        "## Use SQL queries to pull specific information\n",
        "\n",
        "Do NOT pull all the data and then filter using DataFrame methods etc. Make sure and use AT LEAST 13 of the 15 SQL options listed below. (You may have to get creative and come up with more questions to ask/answer.)\n"
      ],
      "metadata": {
        "id": "TqvaIfog546s"
      }
    },
    {
      "cell_type": "markdown",
      "source": [
        "### Basic Queries\n"
      ],
      "metadata": {
        "id": "borajWvCtRtl"
      }
    },
    {
      "cell_type": "code",
      "source": [
        "# Get a list of the tables in the database\n",
        "%%script sqlite3 --column --header chinook.db\n",
        ".tables\n"
      ],
      "metadata": {
        "colab": {
          "base_uri": "https://localhost:8080/"
        },
        "id": "nC1XQkLB6MWN",
        "outputId": "4a1c5bf1-32be-4157-9ddf-67c5148bfeca"
      },
      "execution_count": 6,
      "outputs": [
        {
          "output_type": "stream",
          "name": "stdout",
          "text": [
            "albums          employees       invoices        playlists     \n",
            "artists         genres          media_types     tracks        \n",
            "customers       invoice_items   playlist_track\n"
          ]
        }
      ]
    },
    {
      "cell_type": "code",
      "source": [
        "# Show the schema for the entire database\n",
        "# %%script sqlite3 --column --header chinook.db\n",
        "# .schema"
      ],
      "metadata": {
        "id": "vcjAwDg46f4v"
      },
      "execution_count": 25,
      "outputs": []
    },
    {
      "cell_type": "markdown",
      "source": [
        "#### SELECT (with * and with column names)\n"
      ],
      "metadata": {
        "id": "gIEIK51EthwM"
      }
    },
    {
      "cell_type": "code",
      "source": [
        "# Select the first 10 entries from the employees table\n",
        "%%script sqlite3 --column --header chinook.db\n",
        "select *\n",
        "from albums\n",
        "limit 10\n"
      ],
      "metadata": {
        "id": "YmICVUnVuBSQ",
        "colab": {
          "base_uri": "https://localhost:8080/"
        },
        "outputId": "aae138b6-40e6-40d5-8216-5f1199c7ec3d"
      },
      "execution_count": 26,
      "outputs": [
        {
          "output_type": "stream",
          "name": "stdout",
          "text": [
            "AlbumId  Title                                  ArtistId\n",
            "-------  -------------------------------------  --------\n",
            "1        For Those About To Rock We Salute You  1       \n",
            "2        Balls to the Wall                      2       \n",
            "3        Restless and Wild                      2       \n",
            "4        Let There Be Rock                      1       \n",
            "5        Big Ones                               3       \n",
            "6        Jagged Little Pill                     4       \n",
            "7        Facelift                               5       \n",
            "8        Warner 25 Anos                         6       \n",
            "9        Plays Metallica By Four Cellos         7       \n",
            "10       Audioslave                             8       \n"
          ]
        }
      ]
    },
    {
      "cell_type": "code",
      "source": [
        "%%script sqlite3 --column --header chinook.db\n",
        "SELECT *\n",
        "FROM tracks\n",
        "LIMIT 10;\n"
      ],
      "metadata": {
        "id": "8slKgFpsuBCh",
        "colab": {
          "base_uri": "https://localhost:8080/"
        },
        "outputId": "f5eae8f2-8e97-465f-ea41-068ba876aeee"
      },
      "execution_count": 27,
      "outputs": [
        {
          "output_type": "stream",
          "name": "stdout",
          "text": [
            "TrackId  Name                                     AlbumId  MediaTypeId  GenreId  Composer                                                                Milliseconds  Bytes     UnitPrice\n",
            "-------  ---------------------------------------  -------  -----------  -------  ----------------------------------------------------------------------  ------------  --------  ---------\n",
            "1        For Those About To Rock (We Salute You)  1        1            1        Angus Young, Malcolm Young, Brian Johnson                               343719        11170334  0.99     \n",
            "2        Balls to the Wall                        2        2            1                                                                                342562        5510424   0.99     \n",
            "3        Fast As a Shark                          3        2            1        F. Baltes, S. Kaufman, U. Dirkscneider & W. Hoffman                     230619        3990994   0.99     \n",
            "4        Restless and Wild                        3        2            1        F. Baltes, R.A. Smith-Diesel, S. Kaufman, U. Dirkscneider & W. Hoffman  252051        4331779   0.99     \n",
            "5        Princess of the Dawn                     3        2            1        Deaffy & R.A. Smith-Diesel                                              375418        6290521   0.99     \n",
            "6        Put The Finger On You                    1        1            1        Angus Young, Malcolm Young, Brian Johnson                               205662        6713451   0.99     \n",
            "7        Let's Get It Up                          1        1            1        Angus Young, Malcolm Young, Brian Johnson                               233926        7636561   0.99     \n",
            "8        Inject The Venom                         1        1            1        Angus Young, Malcolm Young, Brian Johnson                               210834        6852860   0.99     \n",
            "9        Snowballed                               1        1            1        Angus Young, Malcolm Young, Brian Johnson                               203102        6599424   0.99     \n",
            "10       Evil Walks                               1        1            1        Angus Young, Malcolm Young, Brian Johnson                               263497        8611245   0.99     \n"
          ]
        }
      ]
    },
    {
      "cell_type": "markdown",
      "source": [
        "#### WHERE\n"
      ],
      "metadata": {
        "id": "dRvXfTGEtkdQ"
      }
    },
    {
      "cell_type": "code",
      "source": [],
      "metadata": {
        "id": "0oNobfUnt_4Z"
      },
      "execution_count": null,
      "outputs": []
    },
    {
      "cell_type": "markdown",
      "source": [
        "#### AND\n"
      ],
      "metadata": {
        "id": "u5y_3d4GtlqN"
      }
    },
    {
      "cell_type": "code",
      "source": [],
      "metadata": {
        "id": "H1tgAAFtt_Yy"
      },
      "execution_count": null,
      "outputs": []
    },
    {
      "cell_type": "markdown",
      "source": [
        "#### OR\n"
      ],
      "metadata": {
        "id": "fddyzEAetnzB"
      }
    },
    {
      "cell_type": "code",
      "source": [],
      "metadata": {
        "id": "HAg8LDQ3t-yr"
      },
      "execution_count": null,
      "outputs": []
    },
    {
      "cell_type": "markdown",
      "source": [
        "#### LIKE (with % or _ wildcard)\n"
      ],
      "metadata": {
        "id": "-csoeatGtpRq"
      }
    },
    {
      "cell_type": "code",
      "source": [],
      "metadata": {
        "id": "UB3EyaRRt9ki"
      },
      "execution_count": null,
      "outputs": []
    },
    {
      "cell_type": "markdown",
      "source": [
        "#### BETWEEN\n"
      ],
      "metadata": {
        "id": "BV8kQ-9FtqGY"
      }
    },
    {
      "cell_type": "code",
      "source": [],
      "metadata": {
        "id": "AAMkUyW6t9IR"
      },
      "execution_count": null,
      "outputs": []
    },
    {
      "cell_type": "markdown",
      "source": [
        "#### LIMIT\n",
        "\n"
      ],
      "metadata": {
        "id": "3BqrCUPBtqpX"
      }
    },
    {
      "cell_type": "code",
      "source": [],
      "metadata": {
        "id": "CixJguOYuw49"
      },
      "execution_count": null,
      "outputs": []
    },
    {
      "cell_type": "markdown",
      "source": [
        "### Sorting and Grouping\n"
      ],
      "metadata": {
        "id": "a4DtPW7ytrU7"
      }
    },
    {
      "cell_type": "markdown",
      "source": [
        "#### ORDER BY\n"
      ],
      "metadata": {
        "id": "SneUyw4Xtr-U"
      }
    },
    {
      "cell_type": "code",
      "source": [],
      "metadata": {
        "id": "29jQ-pBFt7uf"
      },
      "execution_count": null,
      "outputs": []
    },
    {
      "cell_type": "markdown",
      "source": [
        "#### DISTINCT\n"
      ],
      "metadata": {
        "id": "Y22yRW5Wtsl1"
      }
    },
    {
      "cell_type": "code",
      "source": [],
      "metadata": {
        "id": "RGkf7Qh1t7Cm"
      },
      "execution_count": null,
      "outputs": []
    },
    {
      "cell_type": "markdown",
      "source": [
        "#### GROUP BY\n",
        "\n"
      ],
      "metadata": {
        "id": "Q0mwAOgettPz"
      }
    },
    {
      "cell_type": "code",
      "source": [],
      "metadata": {
        "id": "8cv2_l-Lt6Wv"
      },
      "execution_count": null,
      "outputs": []
    },
    {
      "cell_type": "markdown",
      "source": [
        "### Aggregates\n"
      ],
      "metadata": {
        "id": "dJUO6Dh3tt5c"
      }
    },
    {
      "cell_type": "markdown",
      "source": [
        "#### MAX\n"
      ],
      "metadata": {
        "id": "spacz18MtvBo"
      }
    },
    {
      "cell_type": "code",
      "source": [],
      "metadata": {
        "id": "e8Ke_lJKt2VQ"
      },
      "execution_count": null,
      "outputs": []
    },
    {
      "cell_type": "markdown",
      "source": [
        "#### MIN\n"
      ],
      "metadata": {
        "id": "V0z33BTztvoP"
      }
    },
    {
      "cell_type": "code",
      "source": [],
      "metadata": {
        "id": "ishdZ9K3t1fh"
      },
      "execution_count": null,
      "outputs": []
    },
    {
      "cell_type": "markdown",
      "source": [
        "#### SUM\n"
      ],
      "metadata": {
        "id": "nLYsB9M8twMf"
      }
    },
    {
      "cell_type": "code",
      "source": [],
      "metadata": {
        "id": "aoVDwom0t0zN"
      },
      "execution_count": null,
      "outputs": []
    },
    {
      "cell_type": "markdown",
      "source": [
        "#### AVG\n"
      ],
      "metadata": {
        "id": "0yI5K0Z5twwB"
      }
    },
    {
      "cell_type": "code",
      "source": [],
      "metadata": {
        "id": "HkNbzJ4mtzgD"
      },
      "execution_count": null,
      "outputs": []
    },
    {
      "cell_type": "markdown",
      "source": [
        "#### COUNT\n",
        "\n"
      ],
      "metadata": {
        "id": "JEkDbYyutxX5"
      }
    },
    {
      "cell_type": "code",
      "source": [],
      "metadata": {
        "id": "NMrvo0jE6LL9"
      },
      "execution_count": null,
      "outputs": []
    },
    {
      "cell_type": "markdown",
      "source": [
        "## Make some plots\n",
        "\n",
        "Make some cool plots to go with your data. Write SQL queries to get ONLY the information you need for each plot. (Don't pull ALL the data and then just plot a few columns.)\n",
        "\n"
      ],
      "metadata": {
        "id": "ntL8dHJT57K8"
      }
    },
    {
      "cell_type": "code",
      "source": [],
      "metadata": {
        "id": "SZXIuqBX6L50"
      },
      "execution_count": null,
      "outputs": []
    },
    {
      "cell_type": "markdown",
      "source": [
        "## EXTRA CREDIT:\n",
        "* Use a CTE\n",
        "* Use a query that joins two or more tables.\n",
        "* Make a model to see if you can predict something\n",
        "* Come up with something else cool to do with your data\n"
      ],
      "metadata": {
        "id": "H6QrBn3n58mU"
      }
    },
    {
      "cell_type": "code",
      "source": [],
      "metadata": {
        "id": "rEZQv6vn59IP"
      },
      "execution_count": null,
      "outputs": []
    }
  ]
}