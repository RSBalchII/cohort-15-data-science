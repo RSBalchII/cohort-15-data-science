{
  "cells": [
    {
      "cell_type": "markdown",
      "metadata": {
        "id": "6KOiLj1SWVDq"
      },
      "source": [
        "Complete as many of the following problems as possible. **BONUS**: Make the functions interactive.\n",
        "\n",
        "1. **Password Generator** - Create a function that takes the length of the password and generates a random password of the same length with atleast one character, one number and one symbol. Example: ```password(5) -> 'arg5!'```\n",
        "\n",
        "2. **Email Slicer** - Create a function that takes as input an email address and returns a string that contains two items - the person's username and the domain name. Example: ```email_slicer('nevin@cnm.edu') -> ('nevin', 'cnm.edu')```\n",
        "3. **Acronym Creator** - Create a function that takes as input a string and returns an acronym that contains the first letter of each word in that string. Example: ```acronym_creator(\"My name is Nevin\") -> \"MNIN\"```\n",
        "\n",
        "4. **Dice Roller** - Create a function that takes as input a positive integer `n`. This function should simulate the rolling of a `n`-sided die 1000 times. It should create a seaborn countplot of the distribution of die rolls.\n",
        "\n",
        "5. **Max of Three** - Create a function that takes as input three floats and returns the largest of the three. Do this without using the Python max() function! Example: ```max_of_three(5,10,3) -> 10```\n",
        "\n",
        "6. **Age Calculator** - Create a function that takes as input someone's age in years and prints their age in days, hours and minutes. Example: ```age_calculator(33) -> \"You are 12045 days old. You are 289080 hours old. You are 12592800 minutes old.\"```"
      ]
    },
    {
      "cell_type": "markdown",
      "metadata": {
        "id": "UKpVpsDgOXwK"
      },
      "source": [
        "1. **Password Generator** - Create a function that takes the length of the password and generates a random password of the same length with atleast one character, one number and one symbol. Example: ```password(5) -> 'arg5!'```"
      ]
    },
    {
      "cell_type": "code",
      "execution_count": null,
      "metadata": {
        "id": "6QUI0X_zpKWz",
        "outputId": "8d143008-1793-4514-e9a1-8c5dfef00a75"
      },
      "outputs": [
        {
          "name": "stdout",
          "output_type": "stream",
          "text": [
            "ks?)]g(a-/ru<}+&)_(<uu|^8,9)h3}+aq`=.:8%~\\=m}.1=\n"
          ]
        }
      ],
      "source": [
        "import random\n",
        "import string\n",
        "\n",
        "def password(length):\n",
        "    if length < 3:\n",
        "        raise ValueError(\"Password length must be at least 3\")\n",
        "\n",
        "    # Define character sets\n",
        "    lowercase = string.ascii_lowercase\n",
        "    hexdigits = string.hexdigits\n",
        "    digits = string.digits\n",
        "    symbols = string.punctuation\n",
        "\n",
        "    # Ensure we have at least one character from each required set\n",
        "    password = [\n",
        "        random.choice(lowercase),\n",
        "        random.choice(hexdigits),\n",
        "        random.choice(digits),\n",
        "        random.choice(symbols)\n",
        "    ]\n",
        "\n",
        "    # Fill the rest of the password with random characters from all sets\n",
        "    all_characters = lowercase + digits + symbols\n",
        "    for _ in range(length - 3):\n",
        "        password.append(random.choice(all_characters))\n",
        "\n",
        "    # Shuffle the list to avoid the first three characters always being in the same character type order\n",
        "    random.shuffle(password)\n",
        "\n",
        "    # Join the characters into a single string\n",
        "    return ''.join(password)\n",
        "\n",
        "# Example usage\n",
        "print(password(50))"
      ]
    },
    {
      "cell_type": "markdown",
      "metadata": {
        "id": "9LhHA93mOXwL"
      },
      "source": [
        "2. **Email Slicer** - Create a function that takes as input an email address and returns a string that contains two items - the person's username and the domain name. Example: ```email_slicer('nevin@cnm.edu') -> ('nevin', 'cnm.edu')```"
      ]
    },
    {
      "cell_type": "code",
      "execution_count": null,
      "metadata": {
        "id": "ukZCK9CROXwM",
        "outputId": "9f3513d4-eb18-4055-fa87-a4807108d54a"
      },
      "outputs": [
        {
          "name": "stdout",
          "output_type": "stream",
          "text": [
            "Email Slicer Result: ('nevin', 'cnm.edu')\n",
            "Acronym Creator Result: MNIN\n"
          ]
        }
      ],
      "source": [
        "def email_slicer(email):\n",
        "    try:\n",
        "        username, domain = email.split('@')\n",
        "        return username, domain\n",
        "    except ValueError:\n",
        "        return None, None\n",
        "\n",
        "# Test the functions\n",
        "email = 'nevin@cnm.edu'\n",
        "\n",
        "email_result = email_slicer(email)\n",
        "\n",
        "print(f\"Email Slicer Result: {email_result}\")\n"
      ]
    },
    {
      "cell_type": "markdown",
      "metadata": {
        "id": "oNp51c9MOXwM"
      },
      "source": [
        "3. **Acronym Creator** - Create a function that takes as input a string and returns an acronym that contains the first letter of each word in that string. Example: ```acronym_creator(\"My name is Nevin\") -> \"MNIN\"```"
      ]
    },
    {
      "cell_type": "code",
      "execution_count": null,
      "metadata": {
        "id": "uIvJ58TJOXwM",
        "outputId": "63a105d7-8b5a-4db1-e8fc-09ed03e7e94d"
      },
      "outputs": [
        {
          "name": "stdout",
          "output_type": "stream",
          "text": [
            "Acronym of word: BHWM\n"
          ]
        }
      ],
      "source": [
        "def acronym_creator(text):\n",
        "    words = text.split()\n",
        "    acronym = ''.join(word[0].upper() for word in words)\n",
        "    return acronym\n",
        "\n",
        "text = \"Big hot watermelon man\"\n",
        "\n",
        "acronym_result = acronym_creator(text)\n",
        "\n",
        "print(f'Acronym of word: {acronym_result}')"
      ]
    },
    {
      "cell_type": "code",
      "execution_count": null,
      "metadata": {
        "id": "dcmOfZ57OXwN"
      },
      "outputs": [],
      "source": []
    }
  ],
  "metadata": {
    "colab": {
      "provenance": []
    },
    "kernelspec": {
      "display_name": "jpnbvenv",
      "language": "python",
      "name": "jpnbvenv"
    },
    "language_info": {
      "codemirror_mode": {
        "name": "ipython",
        "version": 3
      },
      "file_extension": ".py",
      "mimetype": "text/x-python",
      "name": "python",
      "nbconvert_exporter": "python",
      "pygments_lexer": "ipython3",
      "version": "3.12.7"
    }
  },
  "nbformat": 4,
  "nbformat_minor": 0
}