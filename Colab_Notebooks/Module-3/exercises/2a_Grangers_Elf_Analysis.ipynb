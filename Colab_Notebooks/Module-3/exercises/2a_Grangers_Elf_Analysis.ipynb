{
  "cells": [
    {
      "cell_type": "markdown",
      "metadata": {
        "id": "XIHhqbt8sX2G"
      },
      "source": [
        "# Python Exercises - Granger's Elf Analysis"
      ]
    },
    {
      "cell_type": "markdown",
      "metadata": {
        "id": "94aMoM9MsbnI"
      },
      "source": [
        "Dr. Granger is interested in studying the relationship between the length of house-elves’ ears and aspects of their DNA. This research is part of a larger project attempting to understand why house-elves possess such powerful magic. She has obtained DNA samples and ear measurements from a small group of house-elves to conduct a preliminary analysis (prior to submitting a grant application to the Ministry of Magic) and she would like you to conduct the analysis for her. She has placed the file on the web for you to download, located [here](https://nyu-cds.github.io/courses/data/houseelf_earlength_dna_data.csv).\n",
        "\n",
        "You might be able to do this analysis by hand in Excel, but counting all of those bases would be a lot of work, and besides, Dr. Granger seems to always get funded, which means that you’ll be doing this again soon with a much larger dataset. So, you decide to write a script so that it will be easy to do the analysis again.\n",
        "\n",
        "Write a Python script that:\n",
        "\n",
        "1. Imports the data into a data frame\n",
        "2. Loops over the rows in the data frame\n",
        "3. For each row in the dataset, checks to see if the ear length is large (>10 cm) or small (<=10 cm) and determines the GC-content of the DNA sequence (i.e., the percentage of bases that are either G or C)\n",
        "4. Stores this information in a **new data frame** where the first column has the ID for the individual, the second column contains the string ‘large’ or the string ‘small’ depending on the size of the individuals ears, and the third column contains the GC content of the DNA sequence.\n",
        "5. Prints the average GC-content for both large-eared elves and small-eared elves to the screen.\n",
        "6. Exports the table of individual level GC values to a CSV (comma delimited text) file titled grangers_analysis.csv.\n",
        "\n",
        "**BONUS**: Write functions that perform each of the steps above\n",
        "\n",
        "[Source for problem](https://nyu-cds.github.io/courses/exercises/Basic-python-2/)"
      ]
    },
    {
      "cell_type": "code",
      "source": [
        "import pandas as pd\n",
        "import matplotlib.pyplot as plt"
      ],
      "metadata": {
        "id": "mno-gfQzXpdQ"
      },
      "execution_count": 186,
      "outputs": []
    },
    {
      "cell_type": "code",
      "source": [
        "import pandas as pd\n",
        "\n",
        "url = 'https://nyu-cds.github.io/courses/data/houseelf_earlength_dna_data.csv'\n",
        "df = pd.read_csv(url)\n",
        "\n",
        "# Convert ID column to string type\n",
        "df['earlength'] = df['earlength'].astype('string')\n",
        "# Convert dnaseq column to string type immediately\n",
        "df['dnaseq'] = df['dnaseq'].astype('string')\n",
        "# Convert ID column to string type\n",
        "df['id'] = df['id'].astype('string')\n",
        "\n",
        "\n",
        "# Rename the columns\n",
        "df = df.rename(columns={\n",
        "    'id': 'ID',\n",
        "    'earlength': 'ear_length',\n",
        "    'dnaseq': 'dna_sequence'\n",
        "})\n",
        "\n",
        "\n",
        "# Create results as a copy of df\n",
        "results = df.copy()\n",
        "\n",
        "# Display results\n",
        "print(results)\n",
        "print(results.dtypes)\n"
      ],
      "metadata": {
        "colab": {
          "base_uri": "https://localhost:8080/"
        },
        "id": "ebE2MxXosIn1",
        "outputId": "7aa37841-5d81-40b4-ccb9-ec40bae2b2c8"
      },
      "execution_count": 201,
      "outputs": [
        {
          "output_type": "stream",
          "name": "stdout",
          "text": [
            "    ID ear_length                                       dna_sequence\n",
            "0  17A        5.1  CCGCATCTTGACTTAACTGACATATTACCATAGATGACTAGCCATG...\n",
            "1  24P        7.5  GCTATGACTTGCTTAGCTACGTATGAAGGAAGAAACTTTTGTGTAT...\n",
            "2  09Q       12.2  CCGCCGATTGATACAGGGGACGGTGACGTCGTCATAGATTCGGCAC...\n",
            "3  65Y        9.9  GCAGGAGAAGTTCTTAACCTTCTCGTAGGACGTCAACCTATTCTTT...\n",
            "4  19N       10.0  TCTTCATCCTTATCAAAGTTTGGAGTCAATGATCAGGATTATTGCC...\n",
            "5  92K       14.6  ACCGATGGACAATGATTCGGGTAGCACCAGGAGTCCGTAGCGCGTG...\n",
            "6  33W        8.2  CAGCTTGACTCGGTCTGTTAGGCCACGATTACGTGAGTTAGGGCTC...\n",
            "7  98C       17.8  CTGCATGCTAGGTTGACACGCCTGCACTGCTCGAAGAAAATATGCG...\n",
            "8  75G        9.4  CTTATTTAGATAACATGATTAGCCGAAGTTGTACGGGATATCCACC...\n",
            "9  88Q       11.3  GATTGCTCGCACATGAGCAAAACGGTAGAGCGTCACTTTCAGCCCT...\n",
            "ID              string[python]\n",
            "ear_length      string[python]\n",
            "dna_sequence    string[python]\n",
            "dtype: object\n"
          ]
        }
      ]
    },
    {
      "cell_type": "markdown",
      "metadata": {
        "id": "UisZhXnBKp60"
      },
      "source": [
        "# Solution - variant 1"
      ]
    },
    {
      "cell_type": "code",
      "execution_count": 202,
      "metadata": {
        "id": "MHVn0wghGPMy",
        "colab": {
          "base_uri": "https://localhost:8080/"
        },
        "outputId": "60fcf870-86ac-4fb2-bf96-df6d178fb894"
      },
      "outputs": [
        {
          "output_type": "stream",
          "name": "stdout",
          "text": [
            "    ID ear_length                                       dna_sequence\n",
            "0  17A        5.1  CCGCATCTTGACTTAACTGACATATTACCATAGATGACTAGCCATG...\n",
            "1  24P        7.5  GCTATGACTTGCTTAGCTACGTATGAAGGAAGAAACTTTTGTGTAT...\n",
            "2  09Q       12.2  CCGCCGATTGATACAGGGGACGGTGACGTCGTCATAGATTCGGCAC...\n",
            "3  65Y        9.9  GCAGGAGAAGTTCTTAACCTTCTCGTAGGACGTCAACCTATTCTTT...\n",
            "4  19N       10.0  TCTTCATCCTTATCAAAGTTTGGAGTCAATGATCAGGATTATTGCC...\n",
            "5  92K       14.6  ACCGATGGACAATGATTCGGGTAGCACCAGGAGTCCGTAGCGCGTG...\n",
            "6  33W        8.2  CAGCTTGACTCGGTCTGTTAGGCCACGATTACGTGAGTTAGGGCTC...\n",
            "7  98C       17.8  CTGCATGCTAGGTTGACACGCCTGCACTGCTCGAAGAAAATATGCG...\n",
            "8  75G        9.4  CTTATTTAGATAACATGATTAGCCGAAGTTGTACGGGATATCCACC...\n",
            "9  88Q       11.3  GATTGCTCGCACATGAGCAAAACGGTAGAGCGTCACTTTCAGCCCT...\n"
          ]
        }
      ],
      "source": [
        "# Create results as a copy of df\n",
        "results = df.copy()\n",
        "\n",
        "# Display results\n",
        "print(results)\n"
      ]
    },
    {
      "cell_type": "code",
      "source": [
        "results.dtypes\n"
      ],
      "metadata": {
        "colab": {
          "base_uri": "https://localhost:8080/",
          "height": 178
        },
        "id": "1Tv8zAlRzdo5",
        "outputId": "edddb3f4-970b-4978-8dce-4f66682c9c13"
      },
      "execution_count": 203,
      "outputs": [
        {
          "output_type": "execute_result",
          "data": {
            "text/plain": [
              "ID              string[python]\n",
              "ear_length      string[python]\n",
              "dna_sequence    string[python]\n",
              "dtype: object"
            ],
            "text/html": [
              "<div>\n",
              "<style scoped>\n",
              "    .dataframe tbody tr th:only-of-type {\n",
              "        vertical-align: middle;\n",
              "    }\n",
              "\n",
              "    .dataframe tbody tr th {\n",
              "        vertical-align: top;\n",
              "    }\n",
              "\n",
              "    .dataframe thead th {\n",
              "        text-align: right;\n",
              "    }\n",
              "</style>\n",
              "<table border=\"1\" class=\"dataframe\">\n",
              "  <thead>\n",
              "    <tr style=\"text-align: right;\">\n",
              "      <th></th>\n",
              "      <th>0</th>\n",
              "    </tr>\n",
              "  </thead>\n",
              "  <tbody>\n",
              "    <tr>\n",
              "      <th>ID</th>\n",
              "      <td>string[python]</td>\n",
              "    </tr>\n",
              "    <tr>\n",
              "      <th>ear_length</th>\n",
              "      <td>string[python]</td>\n",
              "    </tr>\n",
              "    <tr>\n",
              "      <th>dna_sequence</th>\n",
              "      <td>string[python]</td>\n",
              "    </tr>\n",
              "  </tbody>\n",
              "</table>\n",
              "</div><br><label><b>dtype:</b> object</label>"
            ]
          },
          "metadata": {},
          "execution_count": 203
        }
      ]
    },
    {
      "cell_type": "code",
      "source": [],
      "metadata": {
        "id": "uuNWJ20Ywq1F"
      },
      "execution_count": 206,
      "outputs": []
    },
    {
      "cell_type": "code",
      "source": [],
      "metadata": {
        "id": "S3IhjHZrvd7i"
      },
      "execution_count": 190,
      "outputs": []
    },
    {
      "cell_type": "code",
      "source": [
        "print(analyze_elves_basic)"
      ],
      "metadata": {
        "colab": {
          "base_uri": "https://localhost:8080/"
        },
        "id": "_fN6JIRfsriH",
        "outputId": "42c704e1-4ab0-44ad-ffb7-d62366b26be4"
      },
      "execution_count": 191,
      "outputs": [
        {
          "output_type": "stream",
          "name": "stdout",
          "text": [
            "<function analyze_elves_basic at 0x7d93037ea950>\n"
          ]
        }
      ]
    },
    {
      "cell_type": "markdown",
      "metadata": {
        "id": "gi1bi0WJKmE9"
      },
      "source": [
        "# Solution - variant 2"
      ]
    },
    {
      "cell_type": "code",
      "source": [],
      "metadata": {
        "id": "fKb6YBhStCzh"
      },
      "execution_count": 191,
      "outputs": []
    },
    {
      "cell_type": "markdown",
      "metadata": {
        "id": "TxeThnuxUs2R"
      },
      "source": [
        "# Solution - variant 3\n"
      ]
    },
    {
      "cell_type": "code",
      "source": [],
      "metadata": {
        "id": "twG68xw3tDa0"
      },
      "execution_count": 191,
      "outputs": []
    }
  ],
  "metadata": {
    "colab": {
      "provenance": []
    },
    "kernelspec": {
      "display_name": "Python 3",
      "name": "python3"
    },
    "language_info": {
      "name": "python"
    }
  },
  "nbformat": 4,
  "nbformat_minor": 0
}