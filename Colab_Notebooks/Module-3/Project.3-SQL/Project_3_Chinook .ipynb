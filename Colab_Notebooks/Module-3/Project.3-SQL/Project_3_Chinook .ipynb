{
  "cells": [
    {
      "cell_type": "markdown",
      "metadata": {
        "id": "cJG_e1vK2NMI"
      },
      "source": [
        "# Querying the Chinook Database"
      ]
    },
    {
      "cell_type": "markdown",
      "metadata": {
        "id": "iiMhmG-057aO"
      },
      "source": [
        "## Imports and Setup"
      ]
    },
    {
      "cell_type": "code",
      "execution_count": 191,
      "metadata": {
        "id": "Jbblk2-hJcjH"
      },
      "outputs": [],
      "source": [
        "%%capture\n",
        "# pandas module\n",
        "import pandas as pd\n",
        "import pandas_gbq\n",
        "import matplotlib.pyplot as plt\n",
        "\n",
        "# import sqlite3\n",
        "import sqlite3\n",
        "\n",
        "# colab modules\n",
        "from google.colab import auth\n",
        "from google.colab import syntax\n",
        "from google.colab import userdata"
      ]
    },
    {
      "cell_type": "code",
      "execution_count": 192,
      "metadata": {
        "id": "UhFW0uTR6Jfv"
      },
      "outputs": [],
      "source": [
        "# Install the sqlite package for Ubuntu\n",
        "# Download the Chinook sqlite database\n",
        "%%capture\n",
        "%%bash\n",
        "apt-get update\n",
        "apt-get install -y sqlite3\n"
      ]
    },
    {
      "cell_type": "code",
      "execution_count": 193,
      "metadata": {
        "colab": {
          "base_uri": "https://localhost:8080/"
        },
        "id": "0JUeV9P651lq",
        "outputId": "e4781f80-0410-498f-82e6-b8e124a93024"
      },
      "outputs": [
        {
          "output_type": "stream",
          "name": "stdout",
          "text": [
            "Archive:  chinook.zip\n",
            "  Length      Date    Time    Name\n",
            "---------  ---------- -----   ----\n",
            "   884736  2015-11-29 10:53   chinook.db\n",
            "---------                     -------\n",
            "   884736                     1 file\n"
          ]
        }
      ],
      "source": [
        "%%bash\n",
        "[ -f chinook.zip ] ||\n",
        "  curl -s -O https://www.sqlitetutorial.net/wp-content/uploads/2018/03/chinook.zip\n",
        "unzip -l chinook.zip\n"
      ]
    },
    {
      "cell_type": "code",
      "execution_count": 194,
      "metadata": {
        "colab": {
          "base_uri": "https://localhost:8080/"
        },
        "id": "9MffQDpY55hh",
        "outputId": "e5dd09ec-a354-44de-b5af-73a35011bb32"
      },
      "outputs": [
        {
          "output_type": "stream",
          "name": "stdout",
          "text": [
            "Archive:  chinook.zip\n"
          ]
        }
      ],
      "source": [
        "!unzip -u chinook.zip"
      ]
    },
    {
      "cell_type": "code",
      "execution_count": 195,
      "metadata": {
        "colab": {
          "base_uri": "https://localhost:8080/"
        },
        "id": "9OiWaCvE6E_Q",
        "outputId": "3e2078dc-2b33-4273-ca8c-a78891893f33"
      },
      "outputs": [
        {
          "output_type": "stream",
          "name": "stdout",
          "text": [
            "total 1180\n",
            "drwxr-xr-x 1 root root   4096 Oct 29 05:14 .\n",
            "drwxr-xr-x 1 root root   4096 Oct 29 05:12 ..\n",
            "-rw-r--r-- 1 root root 884736 Nov 29  2015 chinook.db\n",
            "-rw-r--r-- 1 root root 305596 Oct 29 05:14 chinook.zip\n",
            "drwxr-xr-x 4 root root   4096 Oct 25 13:20 .config\n",
            "drwxr-xr-x 1 root root   4096 Oct 25 13:20 sample_data\n"
          ]
        }
      ],
      "source": [
        "!ls -la"
      ]
    },
    {
      "cell_type": "markdown",
      "metadata": {
        "id": "OA9Mp38s52x2"
      },
      "source": [
        "# Questions and Answers for my dataset\n",
        "1. Details of the first 20 artists:\n",
        "   The query returns the ArtistId and Name for the first 20 artists in the database. The output shows a variety of artists across different genres, including AC/DC, Accept, Aerosmith, Alanis Morissette, and many others.\n",
        "\n",
        "2. Available music genres:\n",
        "   The query returns 25 different genres, including Rock, Jazz, Metal, Alternative & Punk, Rock And Roll, Blues, Latin, Reggae, Pop, Soundtrack, and others.\n",
        "\n",
        "3. Tracks composed by Wolfgang Amadeus Mozart:\n",
        "   The query returns 5 tracks composed by Mozart, including \"Eine Kleine Nachtmusik\" Serenade In G, K. 525: I. Allegro, Concerto for Clarinet in A Major, K. 622: II. Adagio, and others.\n",
        "\n",
        "4. Mozart tracks in the Classical genre:\n",
        "   The query returns one track: \"Die Zauberflöte, K.620: \"Der Hölle Rache Kocht in Meinem Herze\"\".\n",
        "\n",
        "5. Details of albums \"Big Ones\" and \"Jagged Little Pill\":\n",
        "   The query returns the AlbumId, Title, and ArtistId for these two albums. \"Big Ones\" has AlbumId 5 and ArtistId 3, while \"Jagged Little Pill\" has AlbumId 6 and ArtistId 4.\n",
        "\n",
        "6. Artists with names starting with \"Bar\":\n",
        "   The query returns two artists: Barão Vermelho and Barry Wordsworth & BBC Concert Orchestra.\n",
        "\n",
        "7. Tracks with durations between 100 and 200 seconds:\n",
        "   The query returns 20 tracks that meet this criteria, including \"C.O.D.\" by AC/DC, \"Perfect\" by Alanis Morissette, and others.\n",
        "\n",
        "8. Tracks whose names start with \"To\":\n",
        "   The query returns 5 tracks, including \"Tomorrow's Dream\", \"Too Many Ways (Alternate)\", and others.\n",
        "\n",
        "9. Artists starting with \"R\", sorted alphabetically:\n",
        "   The query returns 9 artists, including R.E.M., Raimundos, Raul Seixas, Red Hot Chili Peppers, and others.\n",
        "\n",
        "10. Unique names of all playlists:\n",
        "    The query returns 18 unique playlist names, including Music, Movies, TV Shows, 90's Music, and others.\n",
        "\n",
        "11. Customers associated with each invoice:\n",
        "    The query returns the InvoiceId and CustomerNames for each invoice, showing which customers are associated with each invoice.\n",
        "\n",
        "12. Longest track in the database:\n",
        "    The longest track is \"Occupation / Precipice\" with a duration of 5286953 milliseconds (about 88.11 minutes).\n",
        "\n",
        "13. Shortest track in the database:\n",
        "    The shortest track is \"É Uma Partida De Futebol\" with a duration of 1071 milliseconds (about 1.07 seconds).\n",
        "\n",
        "14. Total length of all tracks combined:\n",
        "    The total length of all tracks is 1378778040 milliseconds, which is equivalent to about 383 hours of playtime.\n",
        "\n",
        "15. Average length of a track:\n",
        "    The average length of a track is 393599.212103911 milliseconds, which is about 6.56 minutes.\n",
        "\n",
        "16. Job titles of employees:\n",
        "    The query returns 7 unique job titles: General Manager, Sales Manager, Sales Support Agent, IT Manager, and IT Staff.\n",
        "\n",
        "17. Number of employees working as Sales Support Agents:\n",
        "    There are 3 employees working as Sales Support Agents.\n",
        "\n",
        "18. Number of tracks in each playlist:\n",
        "    The query returns the number of tracks for each playlist, ranging from 1 to 3290 tracks per playlist.\n",
        "\n",
        "19. Top 10 albums with titles, total lengths, and number of tracks:\n",
        "    The query returns details for the top 10 albums, including \"For Those About To Rock We Salute You\", \"Balls to the Wall\", \"Restless and Wild\", and others.\n",
        "\n",
        "20. Relationship between album length and number of tracks:\n",
        "    The query provides data for plotting the relationship between album length and number of tracks, which can be visualized in a scatter plot."
      ]
    },
    {
      "cell_type": "markdown",
      "metadata": {
        "id": "borajWvCtRtl"
      },
      "source": [
        "## Basic Queries\n"
      ]
    },
    {
      "cell_type": "code",
      "execution_count": 196,
      "metadata": {
        "colab": {
          "base_uri": "https://localhost:8080/"
        },
        "id": "66-gXfPuscTp",
        "outputId": "ccefb2d2-a067-47b2-a98b-d6e85324a2dd"
      },
      "outputs": [
        {
          "output_type": "stream",
          "name": "stdout",
          "text": [
            "albums          employees       invoices        playlists     \n",
            "artists         genres          media_types     tracks        \n",
            "customers       invoice_items   playlist_track\n"
          ]
        }
      ],
      "source": [
        "# Get a list of the tables in the database\n",
        "%%script sqlite3 --column --header chinook.db\n",
        ".tables\n"
      ]
    },
    {
      "cell_type": "code",
      "execution_count": 197,
      "metadata": {
        "colab": {
          "base_uri": "https://localhost:8080/"
        },
        "id": "nC1XQkLB6MWN",
        "outputId": "8325f5d5-5406-4855-c351-f002d1ddfea2"
      },
      "outputs": [
        {
          "output_type": "stream",
          "name": "stdout",
          "text": [
            "CREATE TABLE IF NOT EXISTS \"albums\"\r\n",
            "(\r\n",
            "    [AlbumId] INTEGER PRIMARY KEY AUTOINCREMENT NOT NULL,\r\n",
            "    [Title] NVARCHAR(160)  NOT NULL,\r\n",
            "    [ArtistId] INTEGER  NOT NULL,\r\n",
            "    FOREIGN KEY ([ArtistId]) REFERENCES \"artists\" ([ArtistId]) \r\n",
            "\t\tON DELETE NO ACTION ON UPDATE NO ACTION\r\n",
            ");\n",
            "CREATE INDEX [IFK_AlbumArtistId] ON \"albums\" ([ArtistId]);\n"
          ]
        }
      ],
      "source": [
        "%%script sqlite3 --column --header chinook.db\n",
        ".schema albums"
      ]
    },
    {
      "cell_type": "code",
      "source": [
        "%%script sqlite3 --column --header chinook.db\n",
        ".schema artists"
      ],
      "metadata": {
        "colab": {
          "base_uri": "https://localhost:8080/"
        },
        "id": "2SZe3ULzzKys",
        "outputId": "b5820456-2d8a-4054-865a-6bc40810b71e"
      },
      "execution_count": 198,
      "outputs": [
        {
          "output_type": "stream",
          "name": "stdout",
          "text": [
            "CREATE TABLE IF NOT EXISTS \"artists\"\r\n",
            "(\r\n",
            "    [ArtistId] INTEGER PRIMARY KEY AUTOINCREMENT NOT NULL,\r\n",
            "    [Name] NVARCHAR(120)\r\n",
            ");\n"
          ]
        }
      ]
    },
    {
      "cell_type": "markdown",
      "metadata": {
        "id": "gIEIK51EthwM"
      },
      "source": [
        "### SELECT (with * and with column names)\n",
        "What are the details of the first 20 artists in the database"
      ]
    },
    {
      "cell_type": "code",
      "execution_count": 222,
      "metadata": {
        "colab": {
          "base_uri": "https://localhost:8080/"
        },
        "id": "YmICVUnVuBSQ",
        "outputId": "11221677-a637-48c1-b0cb-c2ca8c00b596"
      },
      "outputs": [
        {
          "output_type": "stream",
          "name": "stdout",
          "text": [
            "ArtistId  Name                       \n",
            "--------  ---------------------------\n",
            "1         AC/DC                      \n",
            "2         Accept                     \n",
            "3         Aerosmith                  \n",
            "4         Alanis Morissette          \n",
            "5         Alice In Chains            \n",
            "6         Antônio Carlos Jobim       \n",
            "7         Apocalyptica               \n",
            "8         Audioslave                 \n",
            "9         BackBeat                   \n",
            "10        Billy Cobham               \n",
            "11        Black Label Society        \n",
            "12        Black Sabbath              \n",
            "13        Body Count                 \n",
            "14        Bruce Dickinson            \n",
            "15        Buddy Guy                  \n",
            "16        Caetano Veloso             \n",
            "17        Chico Buarque              \n",
            "18        Chico Science & Nação Zumbi\n",
            "19        Cidade Negra               \n",
            "20        Cláudio Zoli               \n"
          ]
        }
      ],
      "source": [
        "%%script sqlite3 --column --header chinook.db\n",
        "SELECT *\n",
        "FROM artists\n",
        " LIMIT 20"
      ]
    },
    {
      "cell_type": "code",
      "execution_count": 200,
      "metadata": {
        "colab": {
          "base_uri": "https://localhost:8080/"
        },
        "id": "8slKgFpsuBCh",
        "outputId": "e5513697-1d10-4074-dbf9-ef9f6e68428c"
      },
      "outputs": [
        {
          "output_type": "stream",
          "name": "stdout",
          "text": [
            "GenreId  Name              \n",
            "-------  ------------------\n",
            "1        Rock              \n",
            "2        Jazz              \n",
            "3        Metal             \n",
            "4        Alternative & Punk\n",
            "5        Rock And Roll     \n",
            "6        Blues             \n",
            "7        Latin             \n",
            "8        Reggae            \n",
            "9        Pop               \n",
            "10       Soundtrack        \n",
            "11       Bossa Nova        \n",
            "12       Easy Listening    \n",
            "13       Heavy Metal       \n",
            "14       R&B/Soul          \n",
            "15       Electronica/Dance \n",
            "16       World             \n",
            "17       Hip Hop/Rap       \n",
            "18       Science Fiction   \n",
            "19       TV Shows          \n",
            "20       Sci Fi & Fantasy  \n",
            "21       Drama             \n",
            "22       Comedy            \n",
            "23       Alternative       \n",
            "24       Classical         \n",
            "25       Opera             \n"
          ]
        }
      ],
      "source": [
        "%%script sqlite3 --column --header chinook.db\n",
        "SELECT *\n",
        "FROM genres\n",
        "\n"
      ]
    },
    {
      "cell_type": "markdown",
      "metadata": {
        "id": "dRvXfTGEtkdQ"
      },
      "source": [
        "### 1. WHERE"
      ]
    },
    {
      "cell_type": "code",
      "execution_count": 201,
      "metadata": {
        "colab": {
          "base_uri": "https://localhost:8080/"
        },
        "id": "0oNobfUnt_4Z",
        "outputId": "8b0df222-3177-44c9-c31a-2aee30925f88"
      },
      "outputs": [
        {
          "output_type": "stream",
          "name": "stdout",
          "text": [
            "TrackId  Name                                                                                      AlbumId  MediaTypeId  GenreId  Composer                 Milliseconds  Bytes    UnitPrice\n",
            "-------  ----------------------------------------------------------------------------------------  -------  -----------  -------  -----------------------  ------------  -------  ---------\n",
            "3412     \"Eine Kleine Nachtmusik\" Serenade In G, K. 525: I. Allegro                                281      2            24       Wolfgang Amadeus Mozart  348971        5760129  0.99     \n",
            "3413     Concerto for Clarinet in A Major, K. 622: II. Adagio                                      282      2            24       Wolfgang Amadeus Mozart  394482        6474980  0.99     \n",
            "3451     Die Zauberflöte, K.620: \"Der Hölle Rache Kocht in Meinem Herze\"                           317      2            25       Wolfgang Amadeus Mozart  174813        2861468  0.99     \n",
            "3454     Symphony No. 41 in C Major, K. 551, \"Jupiter\": IV. Molto allegro                          320      2            24       Wolfgang Amadeus Mozart  362933        6173269  0.99     \n",
            "3502     Quintet for Horn, Violin, 2 Violas, and Cello in E Flat Major, K. 407/386c: III. Allegro  346      2            24       Wolfgang Amadeus Mozart  221331        3665114  0.99     \n"
          ]
        }
      ],
      "source": [
        "%%script sqlite3 --column --header chinook.db\n",
        "SELECT *\n",
        "FROM tracks\n",
        "WHERE composer = 'Wolfgang Amadeus Mozart'"
      ]
    },
    {
      "cell_type": "markdown",
      "metadata": {
        "id": "u5y_3d4GtlqN"
      },
      "source": [
        "### 2. AND"
      ]
    },
    {
      "cell_type": "code",
      "execution_count": 202,
      "metadata": {
        "colab": {
          "base_uri": "https://localhost:8080/"
        },
        "id": "H1tgAAFtt_Yy",
        "outputId": "5c8ecad4-1bc3-49af-cd05-08fb08efe30a"
      },
      "outputs": [
        {
          "output_type": "stream",
          "name": "stdout",
          "text": [
            "TrackId  Name                                                             AlbumId  MediaTypeId  GenreId  Composer                 Milliseconds  Bytes    UnitPrice\n",
            "-------  ---------------------------------------------------------------  -------  -----------  -------  -----------------------  ------------  -------  ---------\n",
            "3451     Die Zauberflöte, K.620: \"Der Hölle Rache Kocht in Meinem Herze\"  317      2            25       Wolfgang Amadeus Mozart  174813        2861468  0.99     \n"
          ]
        }
      ],
      "source": [
        "%%script sqlite3 --column --header chinook.db\n",
        "SELECT *\n",
        "FROM tracks\n",
        "WHERE composer = 'Wolfgang Amadeus Mozart'\n",
        "AND\n",
        "GenreId = 25\n"
      ]
    },
    {
      "cell_type": "markdown",
      "metadata": {
        "id": "fddyzEAetnzB"
      },
      "source": [
        "### 3. OR\n"
      ]
    },
    {
      "cell_type": "code",
      "execution_count": 203,
      "metadata": {
        "colab": {
          "base_uri": "https://localhost:8080/"
        },
        "id": "HAg8LDQ3t-yr",
        "outputId": "fcee6353-cacd-4fe5-9239-e75f3801a868"
      },
      "outputs": [
        {
          "output_type": "stream",
          "name": "stdout",
          "text": [
            "AlbumId  Title               ArtistId\n",
            "-------  ------------------  --------\n",
            "5        Big Ones            3       \n",
            "6        Jagged Little Pill  4       \n"
          ]
        }
      ],
      "source": [
        "%%script sqlite3 --column --header chinook.db\n",
        "SELECT *\n",
        "FROM albums\n",
        "WHERE Title = 'Big Ones'\n",
        "OR\n",
        "Title = 'Jagged Little Pill'"
      ]
    },
    {
      "cell_type": "markdown",
      "metadata": {
        "id": "-csoeatGtpRq"
      },
      "source": [
        "### 4. LIKE (with % or _ wildcard)\n"
      ]
    },
    {
      "cell_type": "code",
      "execution_count": 204,
      "metadata": {
        "colab": {
          "base_uri": "https://localhost:8080/"
        },
        "id": "UB3EyaRRt9ki",
        "outputId": "aa1e45ee-8921-4afa-caeb-f2957258e125"
      },
      "outputs": [
        {
          "output_type": "stream",
          "name": "stdout",
          "text": [
            "ArtistId  Name                                    \n",
            "--------  ----------------------------------------\n",
            "48        Barão Vermelho                          \n",
            "224       Barry Wordsworth & BBC Concert Orchestra\n"
          ]
        }
      ],
      "source": [
        "%%script sqlite3 --column --header chinook.db\n",
        "SELECT *\n",
        "FROM artists\n",
        "WHERE Name LIKE 'Bar%';"
      ]
    },
    {
      "cell_type": "markdown",
      "metadata": {
        "id": "BV8kQ-9FtqGY"
      },
      "source": [
        "### 5. BETWEEN\n"
      ]
    },
    {
      "cell_type": "code",
      "execution_count": 205,
      "metadata": {
        "colab": {
          "base_uri": "https://localhost:8080/"
        },
        "id": "AAMkUyW6t9IR",
        "outputId": "634d790b-b7ab-4705-9fdd-1055349ec49e"
      },
      "outputs": [
        {
          "output_type": "stream",
          "name": "stdout",
          "text": [
            "TrackId  Name                                          AlbumId  MediaTypeId  GenreId  Composer                                                                     Milliseconds  Bytes    UnitPrice\n",
            "-------  --------------------------------------------  -------  -----------  -------  ---------------------------------------------------------------------------  ------------  -------  ---------\n",
            "11       C.O.D.                                        1        1            1        Angus Young, Malcolm Young, Brian Johnson                                    199836        6566314  0.99     \n",
            "40       Perfect                                       6        1            1        Alanis Morissette & Glenn Ballard                                            188133        6145404  0.99     \n",
            "42       Right Through You                             6        1            1        Alanis Morissette & Glenn Ballard                                            176117        5793082  0.99     \n",
            "51       We Die Young                                  7        1            1        Jerry Cantrell                                                               152084        4925362  0.99     \n",
            "59       Put You Down                                  7        1            1        Jerry Cantrell                                                               196231        6420530  0.99     \n",
            "63       Desafinado                                    8        1            2                                                                                     185338        5990473  0.99     \n",
            "65       Samba De Uma Nota Só (One Note Samba)         8        1            2                                                                                     137273        4535401  0.99     \n",
            "66       Por Causa De Você                             8        1            2                                                                                     169900        5536496  0.99     \n",
            "68       Fotografia                                    8        1            2                                                                                     129227        4198774  0.99     \n",
            "70       Se Todos Fossem Iguais A Você (Instrumental)  8        1            2                                                                                     134948        4393377  0.99     \n",
            "72       Angela                                        8        1            2                                                                                     169508        5574957  0.99     \n",
            "74       Outra Vez                                     8        1            2                                                                                     126511        4110053  0.99     \n",
            "111      Money                                         12       1            5        Berry Gordy, Jr./Janie Bradford                                              147591        2365897  0.99     \n",
            "112      Long Tall Sally                               12       1            5        Enotris Johnson/Little Richard/Robert \"Bumps\" Blackwell                      106396        1707084  0.99     \n",
            "113      Bad Boy                                       12       1            5        Larry Williams                                                               116088        1862126  0.99     \n",
            "114      Twist And Shout                               12       1            5        Bert Russell/Phil Medley                                                     161123        2582553  0.99     \n",
            "115      Please Mr. Postman                            12       1            5        Brian Holland/Freddie Gorman/Georgia Dobbins/Robert Bateman/William Garrett  137639        2206986  0.99     \n",
            "116      C'Mon Everybody                               12       1            5        Eddie Cochran/Jerry Capehart                                                 140199        2247846  0.99     \n",
            "117      Rock 'N' Roll Music                           12       1            5        Chuck Berry                                                                  141923        2276788  0.99     \n",
            "118      Slow Down                                     12       1            5        Larry Williams                                                               163265        2616981  0.99     \n"
          ]
        }
      ],
      "source": [
        "%%script sqlite3 --column --header chinook.db\n",
        "SELECT *\n",
        "FROM tracks\n",
        "WHERE Milliseconds BETWEEN 100000 AND 200000\n",
        "LIMIT 20"
      ]
    },
    {
      "cell_type": "markdown",
      "metadata": {
        "id": "3BqrCUPBtqpX"
      },
      "source": [
        "### LIMIT\n",
        "\n"
      ]
    },
    {
      "cell_type": "code",
      "execution_count": 206,
      "metadata": {
        "colab": {
          "base_uri": "https://localhost:8080/"
        },
        "id": "CixJguOYuw49",
        "outputId": "7f3d54b4-83c2-4da5-cc98-651f38c9d441"
      },
      "outputs": [
        {
          "output_type": "stream",
          "name": "stdout",
          "text": [
            "TrackId  Name                       AlbumId  MediaTypeId  GenreId  Composer                                             Milliseconds  Bytes     UnitPrice\n",
            "-------  -------------------------  -------  -----------  -------  ---------------------------------------------------  ------------  --------  ---------\n",
            "157      Tomorrow's Dream           17       1            3        Tony Iommi, Bill Ward, Geezer Butler, Ozzy Osbourne  192496        6252071   0.99     \n",
            "203      Too Many Ways (Alternate)  20       1            6        Willie Dixon                                         135053        4459946   0.99     \n",
            "498      Too Many Tears             40       1            1        Adrian Vanderberg/David Coverdale                    359497        11810238  0.99     \n",
            "531      Top Top                    42       1            4        Os Mutantes - Arnolpho Lima Filho                    146938        4875374   0.99     \n",
            "699      Tombstone Shadow           55       1            1        J.C. Fogerty                                         218880        7209080   0.99     \n"
          ]
        }
      ],
      "source": [
        "%%script sqlite3 --column --header chinook.db\n",
        "SELECT *\n",
        "FROM tracks\n",
        "WHERE Name LIKE 'To%'\n",
        "LIMIT 5"
      ]
    },
    {
      "cell_type": "markdown",
      "metadata": {
        "id": "a4DtPW7ytrU7"
      },
      "source": [
        "## Sorting and Grouping\n"
      ]
    },
    {
      "cell_type": "markdown",
      "metadata": {
        "id": "SneUyw4Xtr-U"
      },
      "source": [
        "### ORDER BY\n"
      ]
    },
    {
      "cell_type": "code",
      "execution_count": 207,
      "metadata": {
        "colab": {
          "base_uri": "https://localhost:8080/"
        },
        "id": "29jQ-pBFt7uf",
        "outputId": "d1607acd-0590-4367-eaf1-10881a08e735"
      },
      "outputs": [
        {
          "output_type": "stream",
          "name": "stdout",
          "text": [
            "ArtistId  Name                                                    \n",
            "--------  --------------------------------------------------------\n",
            "124       R.E.M.                                                  \n",
            "123       R.E.M. Feat. KRS-One                                    \n",
            "122       R.E.M. Feat. Kate Pearson                               \n",
            "125       Raimundos                                               \n",
            "126       Raul Seixas                                             \n",
            "127       Red Hot Chili Peppers                                   \n",
            "178       Regina Spektor                                          \n",
            "207       Richard Marlow & The Choir of Trinity College, Cambridge\n",
            "184       Rodox                                                   \n",
            "261       Roger Norrington, London Classical Players              \n",
            "217       Royal Philharmonic Orchestra & Sir Thomas Beecham       \n",
            "128       Rush                                                    \n"
          ]
        }
      ],
      "source": [
        "%%script sqlite3 --column --header chinook.db\n",
        "SELECT *\n",
        "FROM artists\n",
        "WHERE Name LIKE 'R%'\n",
        "ORDER BY Name"
      ]
    },
    {
      "cell_type": "markdown",
      "metadata": {
        "id": "Y22yRW5Wtsl1"
      },
      "source": [
        "### DISTINCT\n"
      ]
    },
    {
      "cell_type": "code",
      "execution_count": 208,
      "metadata": {
        "colab": {
          "base_uri": "https://localhost:8080/"
        },
        "id": "RGkf7Qh1t7Cm",
        "outputId": "14ed4708-ab6a-4e53-913b-506e7a7b6638"
      },
      "outputs": [
        {
          "output_type": "stream",
          "name": "stdout",
          "text": [
            "Name                      \n",
            "--------------------------\n",
            "Music                     \n",
            "Movies                    \n",
            "TV Shows                  \n",
            "Audiobooks                \n",
            "90’s Music                \n",
            "Music Videos              \n",
            "Brazilian Music           \n",
            "Classical                 \n",
            "Classical 101 - Deep Cuts \n",
            "Classical 101 - Next Steps\n",
            "Classical 101 - The Basics\n",
            "Grunge                    \n",
            "Heavy Metal Classic       \n",
            "On-The-Go 1               \n"
          ]
        }
      ],
      "source": [
        "%%script sqlite3 --column --header chinook.db\n",
        "SELECT DISTINCT Name\n",
        "FROM playlists;"
      ]
    },
    {
      "cell_type": "markdown",
      "metadata": {
        "id": "Q0mwAOgettPz"
      },
      "source": [
        "### GROUP BY\n",
        "\n"
      ]
    },
    {
      "cell_type": "code",
      "execution_count": 209,
      "metadata": {
        "colab": {
          "base_uri": "https://localhost:8080/"
        },
        "id": "8cv2_l-Lt6Wv",
        "outputId": "e48ecd53-07f5-434f-99b4-fb88d786680f"
      },
      "outputs": [
        {
          "output_type": "stream",
          "name": "stdout",
          "text": [
            "InvoiceId  CustomerNames  \n",
            "---------  ---------------\n",
            "50         Aaron Mitchell \n",
            "61         Aaron Mitchell \n",
            "116        Aaron Mitchell \n",
            "245        Aaron Mitchell \n",
            "268        Aaron Mitchell \n",
            "290        Aaron Mitchell \n",
            "342        Aaron Mitchell \n",
            "57         Alexandre Rocha\n",
            "68         Alexandre Rocha\n",
            "123        Alexandre Rocha\n",
            "252        Alexandre Rocha\n",
            "275        Alexandre Rocha\n",
            "297        Alexandre Rocha\n",
            "349        Alexandre Rocha\n",
            "78         Astrid Gruber  \n",
            "89         Astrid Gruber  \n",
            "144        Astrid Gruber  \n",
            "273        Astrid Gruber  \n",
            "296        Astrid Gruber  \n",
            "318        Astrid Gruber  \n",
            "370        Astrid Gruber  \n",
            "2          Bjørn Hansen   \n",
            "24         Bjørn Hansen   \n",
            "76         Bjørn Hansen   \n",
            "197        Bjørn Hansen   \n",
            "208        Bjørn Hansen   \n",
            "263        Bjørn Hansen   \n",
            "392        Bjørn Hansen   \n",
            "105        Camille Bernard\n",
            "128        Camille Bernard\n",
            "150        Camille Bernard\n",
            "202        Camille Bernard\n",
            "323        Camille Bernard\n",
            "334        Camille Bernard\n",
            "389        Camille Bernard\n",
            "3          Daan Peeters   \n",
            "55         Daan Peeters   \n",
            "176        Daan Peeters   \n",
            "187        Daan Peeters   \n",
            "242        Daan Peeters   \n",
            "371        Daan Peeters   \n",
            "394        Daan Peeters   \n",
            "113        Dan Miller     \n",
            "124        Dan Miller     \n",
            "179        Dan Miller     \n",
            "308        Dan Miller     \n",
            "331        Dan Miller     \n",
            "353        Dan Miller     \n",
            "405        Dan Miller     \n",
            "119        Diego Gutiérrez\n"
          ]
        }
      ],
      "source": [
        "# What is the Customers full name for each invoice?\n",
        "%%script sqlite3 --column --header chinook.db\n",
        "SELECT\n",
        "    InvoiceId,\n",
        "    GROUP_CONCAT(FirstName || ' ' || LastName) AS CustomerNames\n",
        "FROM\n",
        "    Customers\n",
        "JOIN\n",
        "    Invoices ON Customers.CustomerId = Invoices.CustomerId\n",
        "GROUP BY\n",
        "    InvoiceId\n",
        "ORDER BY CustomerNames\n",
        "LIMIT 50"
      ]
    },
    {
      "cell_type": "markdown",
      "metadata": {
        "id": "dJUO6Dh3tt5c"
      },
      "source": [
        "## Aggregates\n"
      ]
    },
    {
      "cell_type": "markdown",
      "metadata": {
        "id": "spacz18MtvBo"
      },
      "source": [
        "### MAX\n"
      ]
    },
    {
      "cell_type": "code",
      "execution_count": 210,
      "metadata": {
        "colab": {
          "base_uri": "https://localhost:8080/"
        },
        "id": "e8Ke_lJKt2VQ",
        "outputId": "0db09ead-1a21-4d68-f907-d4aac2a36c8e"
      },
      "outputs": [
        {
          "output_type": "stream",
          "name": "stdout",
          "text": [
            "Name                    MAX(Milliseconds)\n",
            "----------------------  -----------------\n",
            "Occupation / Precipice  5286953          \n"
          ]
        }
      ],
      "source": [
        "# What is the longest track?\n",
        "%%script sqlite3 --column --header chinook.db\n",
        "SELECT name, MAX(Milliseconds) FROM tracks;"
      ]
    },
    {
      "cell_type": "markdown",
      "metadata": {
        "id": "V0z33BTztvoP"
      },
      "source": [
        "### MIN\n"
      ]
    },
    {
      "cell_type": "code",
      "execution_count": 211,
      "metadata": {
        "colab": {
          "base_uri": "https://localhost:8080/"
        },
        "id": "ishdZ9K3t1fh",
        "outputId": "bf668ccd-a620-4d5e-af86-8c95fabbb853"
      },
      "outputs": [
        {
          "output_type": "stream",
          "name": "stdout",
          "text": [
            "Name                      MIN(Milliseconds)\n",
            "------------------------  -----------------\n",
            "É Uma Partida De Futebol  1071             \n"
          ]
        }
      ],
      "source": [
        "# What is the shortest track?\n",
        "%%script sqlite3 --column --header chinook.db\n",
        "SELECT name, MIN(Milliseconds) FROM tracks;"
      ]
    },
    {
      "cell_type": "markdown",
      "metadata": {
        "id": "nLYsB9M8twMf"
      },
      "source": [
        "### SUM\n"
      ]
    },
    {
      "cell_type": "code",
      "execution_count": 212,
      "metadata": {
        "colab": {
          "base_uri": "https://localhost:8080/"
        },
        "id": "aoVDwom0t0zN",
        "outputId": "7c64bfa9-5e95-43e4-a96a-ca5617167895"
      },
      "outputs": [
        {
          "output_type": "stream",
          "name": "stdout",
          "text": [
            "SUM(Milliseconds)\n",
            "-----------------\n",
            "1378778040       \n"
          ]
        }
      ],
      "source": [
        "# What is the length of all tracks together ?\n",
        "%%script sqlite3 --column --header chinook.db\n",
        "SELECT SUM(Milliseconds) FROM tracks;"
      ]
    },
    {
      "cell_type": "code",
      "execution_count": 213,
      "metadata": {
        "colab": {
          "base_uri": "https://localhost:8080/"
        },
        "id": "vC5qsMFRE6Fe",
        "outputId": "35ffbe38-9f69-4fb4-98be-d6dca052b09f"
      },
      "outputs": [
        {
          "output_type": "stream",
          "name": "stdout",
          "text": [
            "1378778 seconds\n",
            "22980 minutes\n",
            "383 hours of playtime\n"
          ]
        }
      ],
      "source": [
        "milliseconds = 1378778040\n",
        "seconds = milliseconds / 1000\n",
        "minutes = seconds / 60\n",
        "hours = minutes / 60\n",
        "print(f'{seconds:.0f} seconds')\n",
        "print(f'{minutes:.0f} minutes')\n",
        "print(f'{hours:.0f} hours of playtime')"
      ]
    },
    {
      "cell_type": "markdown",
      "metadata": {
        "id": "0yI5K0Z5twwB"
      },
      "source": [
        "### AVG\n"
      ]
    },
    {
      "cell_type": "code",
      "execution_count": 214,
      "metadata": {
        "colab": {
          "base_uri": "https://localhost:8080/"
        },
        "id": "HkNbzJ4mtzgD",
        "outputId": "cb09d094-70a0-44ce-9d7f-75ee041a8f30"
      },
      "outputs": [
        {
          "output_type": "stream",
          "name": "stdout",
          "text": [
            "AVG(Milliseconds)\n",
            "-----------------\n",
            "393599.212103911 \n"
          ]
        }
      ],
      "source": [
        "# What is the average length of a track?\n",
        "%%script sqlite3 --column --header chinook.db\n",
        "SELECT AVG(Milliseconds) FROM tracks;"
      ]
    },
    {
      "cell_type": "code",
      "execution_count": 215,
      "metadata": {
        "colab": {
          "base_uri": "https://localhost:8080/"
        },
        "id": "q490Ta8CGkVk",
        "outputId": "09416ea9-2b83-4d8e-9828-1bf16a5bfef5"
      },
      "outputs": [
        {
          "output_type": "stream",
          "name": "stdout",
          "text": [
            "394 seconds\n",
            "6.56 minutes\n"
          ]
        }
      ],
      "source": [
        "milliseconds = 393599.212103911\n",
        "seconds = milliseconds / 1000\n",
        "minutes = seconds / 60\n",
        "hours = minutes / 60\n",
        "print(f'{seconds:.0f} seconds')\n",
        "print(f'{minutes:.2f} minutes')"
      ]
    },
    {
      "cell_type": "markdown",
      "metadata": {
        "id": "JEkDbYyutxX5"
      },
      "source": [
        "### COUNT\n",
        "\n"
      ]
    },
    {
      "cell_type": "code",
      "execution_count": 216,
      "metadata": {
        "colab": {
          "base_uri": "https://localhost:8080/"
        },
        "id": "NMrvo0jE6LL9",
        "outputId": "efa335b5-d57b-4aca-e017-e1415e4298dc"
      },
      "outputs": [
        {
          "output_type": "stream",
          "name": "stdout",
          "text": [
            "Title              \n",
            "-------------------\n",
            "General Manager    \n",
            "Sales Manager      \n",
            "Sales Support Agent\n",
            "Sales Support Agent\n",
            "Sales Support Agent\n",
            "IT Manager         \n",
            "IT Staff           \n",
            "IT Staff           \n"
          ]
        }
      ],
      "source": [
        "%%script sqlite3 --column --header chinook.db\n",
        "SELECT title FROM employees;"
      ]
    },
    {
      "cell_type": "code",
      "execution_count": 217,
      "metadata": {
        "colab": {
          "base_uri": "https://localhost:8080/"
        },
        "id": "qcTCbCgSHNax",
        "outputId": "bcecc110-aa1e-45d9-aca2-eae5cb13cbcd"
      },
      "outputs": [
        {
          "output_type": "stream",
          "name": "stdout",
          "text": [
            "COUNT(*)\n",
            "--------\n",
            "3       \n"
          ]
        }
      ],
      "source": [
        "# How many employees are sales agents?\n",
        "%%script sqlite3 --column --header chinook.db\n",
        "SELECT COUNT(*)\n",
        "FROM employees\n",
        "WHERE Title = 'Sales Support Agent';"
      ]
    },
    {
      "cell_type": "markdown",
      "metadata": {
        "id": "ntL8dHJT57K8"
      },
      "source": [
        "## Plotting Number of Tracks per Playlist"
      ]
    },
    {
      "cell_type": "code",
      "execution_count": 218,
      "metadata": {
        "colab": {
          "base_uri": "https://localhost:8080/"
        },
        "id": "SZXIuqBX6L50",
        "outputId": "76acdb67-9190-4a16-da1f-384cd11fdf2b"
      },
      "outputs": [
        {
          "output_type": "stream",
          "name": "stdout",
          "text": [
            "PlaylistName                NumberOfTracks\n",
            "--------------------------  --------------\n",
            "Music                       3290          \n",
            "TV Shows                    213           \n",
            "90’s Music                  1477          \n",
            "Music                       3290          \n",
            "Music Videos                1             \n",
            "TV Shows                    213           \n",
            "Brazilian Music             39            \n",
            "Classical                   75            \n",
            "Classical 101 - Deep Cuts   25            \n",
            "Classical 101 - Next Steps  25            \n",
            "Classical 101 - The Basics  25            \n",
            "Grunge                      15            \n",
            "Heavy Metal Classic         26            \n",
            "On-The-Go 1                 1             \n"
          ]
        }
      ],
      "source": [
        "%%script sqlite3 --column --header chinook.db\n",
        "SELECT\n",
        "    p.Name AS PlaylistName,\n",
        "    COUNT(pt.TrackId) AS NumberOfTracks\n",
        "FROM\n",
        "    playlists AS p\n",
        "JOIN\n",
        "    playlist_track AS pt ON p.PlaylistId = pt.PlaylistId\n",
        "GROUP BY\n",
        "    p.PlaylistId;"
      ]
    },
    {
      "cell_type": "code",
      "execution_count": 219,
      "metadata": {
        "colab": {
          "base_uri": "https://localhost:8080/",
          "height": 607
        },
        "id": "n57WMkSOIxcR",
        "outputId": "d4c691cb-0dda-462d-d1d4-f4433d2a3423"
      },
      "outputs": [
        {
          "output_type": "display_data",
          "data": {
            "text/plain": [
              "<Figure size 1000x600 with 1 Axes>"
            ],
            "image/png": "[encoded data removed]"
          },
          "metadata": {}
        }
      ],
      "source": [
        "# Connect to the database\n",
        "conn = sqlite3.connect('chinook.db')\n",
        "\n",
        "# SQL query to get data for the plot\n",
        "sql = \"\"\"\n",
        "SELECT\n",
        "    p.Name AS PlaylistName,\n",
        "    COUNT(pt.TrackId) AS NumberOfTracks\n",
        "FROM\n",
        "    playlists AS p\n",
        "JOIN\n",
        "    playlist_track AS pt ON p.PlaylistId = pt.PlaylistId\n",
        "GROUP BY\n",
        "    p.PlaylistId;\n",
        "\"\"\"\n",
        "\n",
        "# Read the data directly into a pandas DataFrame\n",
        "df = pd.read_sql_query(sql, conn)\n",
        "\n",
        "# Close the connection\n",
        "conn.close()\n",
        "\n",
        "# Create the plot\n",
        "plt.figure(figsize=(10, 6))\n",
        "plt.bar(df['PlaylistName'], df['NumberOfTracks'])\n",
        "plt.xlabel(\"Playlist Name\")\n",
        "plt.ylabel(\"Number of Tracks\")\n",
        "plt.title(\"Number of Tracks per Playlist\")\n",
        "plt.xticks(rotation=45, ha=\"right\")\n",
        "plt.tight_layout()\n",
        "plt.show()\n"
      ]
    },
    {
      "cell_type": "markdown",
      "metadata": {
        "id": "gxb2vTSuRWbW"
      },
      "source": [
        "## Plotting Album Length and Number of Tracks per Album"
      ]
    },
    {
      "cell_type": "code",
      "execution_count": 220,
      "metadata": {
        "colab": {
          "base_uri": "https://localhost:8080/"
        },
        "id": "abNarRvZLWTY",
        "outputId": "084e3e73-0b49-47be-cf20-26916afc52da"
      },
      "outputs": [
        {
          "output_type": "stream",
          "name": "stdout",
          "text": [
            "AlbumTitle                             AlbumLength  NumberOfTracks\n",
            "-------------------------------------  -----------  --------------\n",
            "For Those About To Rock We Salute You  2400415      10            \n",
            "Balls to the Wall                      342562       1             \n",
            "Restless and Wild                      858088       3             \n",
            "Let There Be Rock                      2453259      8             \n",
            "Big Ones                               4411709      15            \n",
            "Jagged Little Pill                     3450925      13            \n",
            "Facelift                               3249365      12            \n",
            "Warner 25 Anos                         2906926      14            \n",
            "Plays Metallica By Four Cellos         2671407      8             \n",
            "Audioslave                             3927713      14            \n"
          ]
        }
      ],
      "source": [
        "%%script sqlite3 --column --header chinook.db\n",
        "SELECT\n",
        "    al.Title AS AlbumTitle,  -- Select the album title\n",
        "    SUM(t.Milliseconds) AS AlbumLength,  -- Calculate total album length in milliseconds\n",
        "    COUNT(t.TrackId) AS NumberOfTracks\n",
        "FROM\n",
        "    tracks AS t\n",
        "JOIN\n",
        "    albums AS al ON t.AlbumId = al.AlbumId\n",
        "GROUP BY\n",
        "    al.AlbumId, al.Title\n",
        "LIMIT 10;"
      ]
    },
    {
      "cell_type": "code",
      "execution_count": 221,
      "metadata": {
        "colab": {
          "base_uri": "https://localhost:8080/",
          "height": 607
        },
        "id": "vmf474drKhXc",
        "outputId": "afb809ef-654e-4e7a-ad38-a0d14a8b1914"
      },
      "outputs": [
        {
          "output_type": "display_data",
          "data": {
            "text/plain": [
              "<Figure size 1000x600 with 1 Axes>"
            ],
            "image/png": "[encoded data removed]"
          },
          "metadata": {}
        }
      ],
      "source": [
        "# Connect to the database\n",
        "conn = sqlite3.connect('chinook.db')\n",
        "\n",
        "# SQL query to get the length of tracks in milliseconds and the number of tracks in each album\n",
        "sql = \"\"\"\n",
        "SELECT\n",
        "    al.Title AS AlbumTitle,\n",
        "    SUM(t.Milliseconds) AS AlbumLength,\n",
        "    COUNT(t.TrackId) AS NumberOfTracks\n",
        "FROM\n",
        "    tracks AS t\n",
        "JOIN\n",
        "    albums AS al ON t.AlbumId = al.AlbumId\n",
        "GROUP BY\n",
        "    al.AlbumId, al.Title\n",
        "\"\"\"\n",
        "\n",
        "# Read the data directly into a pandas DataFrame\n",
        "df = pd.read_sql_query(sql, conn)\n",
        "\n",
        "# Close the connection\n",
        "conn.close()\n",
        "\n",
        "# Convert milliseconds to minutes\n",
        "df['AlbumLengthMinutes'] = df['AlbumLength'] / 60000\n",
        "\n",
        "# Create the plot\n",
        "plt.figure(figsize=(10, 6))\n",
        "plt.scatter(df['AlbumLengthMinutes'], df['NumberOfTracks'])\n",
        "plt.xlabel(\"Album Length (minutes)\")\n",
        "plt.ylabel(\"Number of Tracks in Album\")\n",
        "plt.title(\"Album Length vs. Number of Tracks per Album\")\n",
        "plt.tight_layout()\n",
        "plt.show()"
      ]
    }
  ],
  "metadata": {
    "colab": {
      "collapsed_sections": [
        "dRvXfTGEtkdQ",
        "u5y_3d4GtlqN",
        "fddyzEAetnzB",
        "-csoeatGtpRq"
      ],
      "provenance": []
    },
    "kernelspec": {
      "display_name": "jpnbvenv",
      "language": "python",
      "name": "jpnbvenv"
    },
    "language_info": {
      "codemirror_mode": {
        "name": "ipython",
        "version": 3
      },
      "file_extension": ".py",
      "mimetype": "text/x-python",
      "name": "python",
      "nbconvert_exporter": "python",
      "pygments_lexer": "ipython3",
      "version": "3.12.7"
    }
  },
  "nbformat": 4,
  "nbformat_minor": 0
}