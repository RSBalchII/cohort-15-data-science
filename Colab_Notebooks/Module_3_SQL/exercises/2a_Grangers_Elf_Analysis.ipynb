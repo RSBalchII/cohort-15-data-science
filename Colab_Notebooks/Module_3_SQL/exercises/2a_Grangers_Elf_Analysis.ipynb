{
 "cells": [
  {
   "cell_type": "markdown",
   "metadata": {
    "id": "XIHhqbt8sX2G"
   },
   "source": [
    "# Python Exercises - Granger's Elf Analysis"
   ]
  },
  {
   "cell_type": "markdown",
   "metadata": {
    "id": "94aMoM9MsbnI"
   },
   "source": [
    "Dr. Granger is interested in studying the relationship between the length of house-elves’ ears and aspects of their DNA. This research is part of a larger project attempting to understand why house-elves possess such powerful magic. She has obtained DNA samples and ear measurements from a small group of house-elves to conduct a preliminary analysis (prior to submitting a grant application to the Ministry of Magic) and she would like you to conduct the analysis for her. She has placed the file on the web for you to download, located [here](https://nyu-cds.github.io/courses/data/houseelf_earlength_dna_data.csv).\n",
    "\n",
    "You might be able to do this analysis by hand in Excel, but counting all of those bases would be a lot of work, and besides, Dr. Granger seems to always get funded, which means that you’ll be doing this again soon with a much larger dataset. So, you decide to write a script so that it will be easy to do the analysis again.\n",
    "\n",
    "Write a Python script that:\n",
    "\n",
    "1. Imports the data into a data frame\n",
    "2. Loops over the rows in the data frame\n",
    "3. For each row in the dataset, checks to see if the ear length is large (>10 cm) or small (<=10 cm) and determines the GC-content of the DNA sequence (i.e., the percentage of bases that are either G or C)\n",
    "4. Stores this information in a **new data frame** where the first column has the ID for the individual, the second column contains the string ‘large’ or the string ‘small’ depending on the size of the individuals ears, and the third column contains the GC content of the DNA sequence.\n",
    "5. Prints the average GC-content for both large-eared elves and small-eared elves to the screen.\n",
    "6. Exports the table of individual level GC values to a CSV (comma delimited text) file titled grangers_analysis.csv.\n",
    "\n",
    "**BONUS**: Write functions that perform each of the steps above\n",
    "\n",
    "[Source for problem](https://nyu-cds.github.io/courses/exercises/Basic-python-2/)"
   ]
  },
  {
   "cell_type": "code",
   "execution_count": 14,
   "metadata": {
    "id": "mno-gfQzXpdQ"
   },
   "outputs": [],
   "source": [
    "import pandas as pd\n",
    "import matplotlib.pyplot as plt"
   ]
  },
  {
   "cell_type": "code",
   "execution_count": 15,
   "metadata": {
    "colab": {
     "base_uri": "https://localhost:8080/"
    },
    "id": "ebE2MxXosIn1",
    "outputId": "7aa37841-5d81-40b4-ccb9-ec40bae2b2c8"
   },
   "outputs": [
    {
     "name": "stdout",
     "output_type": "stream",
     "text": [
      "    ID  ear_length                                       dna_sequence\n",
      "0  17A         5.1  CCGCATCTTGACTTAACTGACATATTACCATAGATGACTAGCCATG...\n",
      "1  24P         7.5  GCTATGACTTGCTTAGCTACGTATGAAGGAAGAAACTTTTGTGTAT...\n",
      "2  09Q        12.2  CCGCCGATTGATACAGGGGACGGTGACGTCGTCATAGATTCGGCAC...\n",
      "3  65Y         9.9  GCAGGAGAAGTTCTTAACCTTCTCGTAGGACGTCAACCTATTCTTT...\n",
      "4  19N        10.0  TCTTCATCCTTATCAAAGTTTGGAGTCAATGATCAGGATTATTGCC...\n",
      "5  92K        14.6  ACCGATGGACAATGATTCGGGTAGCACCAGGAGTCCGTAGCGCGTG...\n",
      "6  33W         8.2  CAGCTTGACTCGGTCTGTTAGGCCACGATTACGTGAGTTAGGGCTC...\n",
      "7  98C        17.8  CTGCATGCTAGGTTGACACGCCTGCACTGCTCGAAGAAAATATGCG...\n",
      "8  75G         9.4  CTTATTTAGATAACATGATTAGCCGAAGTTGTACGGGATATCCACC...\n",
      "9  88Q        11.3  GATTGCTCGCACATGAGCAAAACGGTAGAGCGTCACTTTCAGCCCT...\n",
      "ID              string[python]\n",
      "ear_length             float64\n",
      "dna_sequence    string[python]\n",
      "dtype: object\n"
     ]
    }
   ],
   "source": [
    "url = 'https://nyu-cds.github.io/courses/data/houseelf_earlength_dna_data.csv'\n",
    "df = pd.read_csv(url)\n",
    "\n",
    "# Convert dnaseq column to string type immediately\n",
    "df['dnaseq'] = df['dnaseq'].astype('string')\n",
    "# Convert ID column to string type\n",
    "df['id'] = df['id'].astype('string')\n",
    "\n",
    "\n",
    "# Rename the columns\n",
    "df = df.rename(columns={\n",
    "    'id': 'ID',\n",
    "    'earlength': 'ear_length',\n",
    "    'dnaseq': 'dna_sequence'\n",
    "})\n",
    "\n",
    "\n",
    "# Create results as a copy of df\n",
    "results = df.copy()\n",
    "\n",
    "# Display results\n",
    "print(results)\n",
    "print(results.dtypes)\n"
   ]
  },
  {
   "cell_type": "markdown",
   "metadata": {
    "id": "UisZhXnBKp60"
   },
   "source": [
    "# Solution Variant 1"
   ]
  },
  {
   "cell_type": "code",
   "execution_count": 16,
   "metadata": {
    "colab": {
     "base_uri": "https://localhost:8080/"
    },
    "id": "MHVn0wghGPMy",
    "outputId": "60fcf870-86ac-4fb2-bf96-df6d178fb894"
   },
   "outputs": [
    {
     "name": "stdout",
     "output_type": "stream",
     "text": [
      "    ID  ear_length                                       dna_sequence\n",
      "0  17A         5.1  CCGCATCTTGACTTAACTGACATATTACCATAGATGACTAGCCATG...\n",
      "1  24P         7.5  GCTATGACTTGCTTAGCTACGTATGAAGGAAGAAACTTTTGTGTAT...\n",
      "2  09Q        12.2  CCGCCGATTGATACAGGGGACGGTGACGTCGTCATAGATTCGGCAC...\n",
      "3  65Y         9.9  GCAGGAGAAGTTCTTAACCTTCTCGTAGGACGTCAACCTATTCTTT...\n",
      "4  19N        10.0  TCTTCATCCTTATCAAAGTTTGGAGTCAATGATCAGGATTATTGCC...\n",
      "5  92K        14.6  ACCGATGGACAATGATTCGGGTAGCACCAGGAGTCCGTAGCGCGTG...\n",
      "6  33W         8.2  CAGCTTGACTCGGTCTGTTAGGCCACGATTACGTGAGTTAGGGCTC...\n",
      "7  98C        17.8  CTGCATGCTAGGTTGACACGCCTGCACTGCTCGAAGAAAATATGCG...\n",
      "8  75G         9.4  CTTATTTAGATAACATGATTAGCCGAAGTTGTACGGGATATCCACC...\n",
      "9  88Q        11.3  GATTGCTCGCACATGAGCAAAACGGTAGAGCGTCACTTTCAGCCCT...\n"
     ]
    }
   ],
   "source": [
    "# Create results as a copy of df\n",
    "results = df.copy()\n",
    "\n",
    "# Display results\n",
    "print(results)\n"
   ]
  },
  {
   "cell_type": "code",
   "execution_count": 17,
   "metadata": {},
   "outputs": [],
   "source": [
    "dna_seq = df['dna_sequence'][0]"
   ]
  },
  {
   "cell_type": "code",
   "execution_count": 18,
   "metadata": {},
   "outputs": [],
   "source": [
    "def calculate_gc_content(seq):\n",
    "    return (seq.count('G') + seq.count('C')) / len(seq)"
   ]
  },
  {
   "cell_type": "code",
   "execution_count": 19,
   "metadata": {},
   "outputs": [],
   "source": [
    "def process_row(row):\n",
    "    \"\"\"Process a single row of the DataFrame.\"\"\"\n",
    "    ear_length = row['ear_length']\n",
    "    ear_size = determine_ear_size(ear_length)\n",
    "    seq_length = calculate_seq_length(dna_seq)\n",
    "    nucleotide_counts = count_nucleotides(dna_seq)\n",
    "    gc_content = calculate_gc_content(dna_seq)\n",
    "    \n",
    "    return {\n",
    "        'ID': row['ID'],\n",
    "        'ear_length': ear_length,\n",
    "        'ear_size': ear_size,\n",
    "        'seq_length': seq_length,\n",
    "        'gc_content': gc_content,\n",
    "        **nucleotide_counts\n",
    "    }"
   ]
  },
  {
   "cell_type": "code",
   "execution_count": 20,
   "metadata": {},
   "outputs": [],
   "source": [
    "def determine_ear_size(ear_length):\n",
    "    \"\"\"Determine the ear size category.\"\"\"\n",
    "    return 'large' if ear_length >= 10 else 'small'\n"
   ]
  },
  {
   "cell_type": "code",
   "execution_count": 21,
   "metadata": {},
   "outputs": [],
   "source": [
    "def calculate_seq_length(dna_seq):\n",
    "    \"\"\"Calculate the length of the DNA sequence.\"\"\"\n",
    "    return len(dna_seq)"
   ]
  },
  {
   "cell_type": "code",
   "execution_count": 22,
   "metadata": {},
   "outputs": [],
   "source": [
    "def count_nucleotides(dna_seq):\n",
    "    \"\"\"Count occurrences of specific nucleotides.\"\"\"\n",
    "    return {\n",
    "        'A_count': dna_seq.count('A'),\n",
    "        'C_count': dna_seq.count('C'),\n",
    "        'G_count': dna_seq.count('G'),\n",
    "        'T_count': dna_seq.count('T')\n",
    "    }"
   ]
  },
  {
   "cell_type": "code",
   "execution_count": 23,
   "metadata": {},
   "outputs": [],
   "source": [
    "def calculate_gc_content(dna_seq):\n",
    "    \"\"\"Calculate the GC content of the DNA sequence.\"\"\"\n",
    "    gc_count = dna_seq.count('G') + dna_seq.count('C')\n",
    "    total_length = len(dna_seq)\n",
    "    return gc_count / total_length if total_length > 0 else 0"
   ]
  },
  {
   "cell_type": "code",
   "execution_count": 24,
   "metadata": {
    "id": "fKb6YBhStCzh"
   },
   "outputs": [],
   "source": [
    "def process_dataframe(df):\n",
    "    \"\"\"Process the entire DataFrame and return a new DataFrame with results.\"\"\"\n",
    "    results_list = []\n",
    "    \n",
    "    for _, row in df.iterrows():\n",
    "        processed_row = process_row(row)\n",
    "        results_list.append(processed_row)\n",
    "    \n",
    "    return pd.DataFrame(results_list)"
   ]
  },
  {
   "cell_type": "code",
   "execution_count": 25,
   "metadata": {
    "id": "twG68xw3tDa0"
   },
   "outputs": [],
   "source": [
    "output_results = process_dataframe(results)"
   ]
  },
  {
   "cell_type": "code",
   "execution_count": 26,
   "metadata": {},
   "outputs": [
    {
     "name": "stdout",
     "output_type": "stream",
     "text": [
      "    ID  ear_length ear_size  seq_length  gc_content  A_count  C_count  \\\n",
      "0  17A         5.1    small         100        0.41       30       21   \n",
      "1  24P         7.5    small         100        0.41       30       21   \n",
      "2  09Q        12.2    large         100        0.41       30       21   \n",
      "3  65Y         9.9    small         100        0.41       30       21   \n",
      "4  19N        10.0    large         100        0.41       30       21   \n",
      "5  92K        14.6    large         100        0.41       30       21   \n",
      "6  33W         8.2    small         100        0.41       30       21   \n",
      "7  98C        17.8    large         100        0.41       30       21   \n",
      "8  75G         9.4    small         100        0.41       30       21   \n",
      "9  88Q        11.3    large         100        0.41       30       21   \n",
      "\n",
      "   G_count  T_count  \n",
      "0       20       29  \n",
      "1       20       29  \n",
      "2       20       29  \n",
      "3       20       29  \n",
      "4       20       29  \n",
      "5       20       29  \n",
      "6       20       29  \n",
      "7       20       29  \n",
      "8       20       29  \n",
      "9       20       29  \n"
     ]
    }
   ],
   "source": [
    "print(output_results)a"
   ]
  },
  {
   "cell_type": "code",
   "execution_count": 44,
   "metadata": {},
   "outputs": [
    {
     "data": {
      "text/plain": [
       "ear_length    10.60\n",
       "gc_content     0.41\n",
       "dtype: float64"
      ]
     },
     "execution_count": 44,
     "metadata": {},
     "output_type": "execute_result"
    }
   ],
   "source": [
    "output_results[['ear_length','gc_content']].mean()"
   ]
  },
  {
   "cell_type": "code",
   "execution_count": 62,
   "metadata": {},
   "outputs": [
    {
     "data": {
      "text/html": [
       "<div>\n",
       "<style scoped>\n",
       "    .dataframe tbody tr th:only-of-type {\n",
       "        vertical-align: middle;\n",
       "    }\n",
       "\n",
       "    .dataframe tbody tr th {\n",
       "        vertical-align: top;\n",
       "    }\n",
       "\n",
       "    .dataframe thead th {\n",
       "        text-align: right;\n",
       "    }\n",
       "</style>\n",
       "<table border=\"1\" class=\"dataframe\">\n",
       "  <thead>\n",
       "    <tr style=\"text-align: right;\">\n",
       "      <th></th>\n",
       "      <th>gc_content</th>\n",
       "    </tr>\n",
       "  </thead>\n",
       "  <tbody>\n",
       "    <tr>\n",
       "      <th>0</th>\n",
       "      <td>0.41</td>\n",
       "    </tr>\n",
       "    <tr>\n",
       "      <th>1</th>\n",
       "      <td>0.41</td>\n",
       "    </tr>\n",
       "    <tr>\n",
       "      <th>2</th>\n",
       "      <td>0.41</td>\n",
       "    </tr>\n",
       "    <tr>\n",
       "      <th>3</th>\n",
       "      <td>0.41</td>\n",
       "    </tr>\n",
       "    <tr>\n",
       "      <th>4</th>\n",
       "      <td>0.41</td>\n",
       "    </tr>\n",
       "    <tr>\n",
       "      <th>5</th>\n",
       "      <td>0.41</td>\n",
       "    </tr>\n",
       "    <tr>\n",
       "      <th>6</th>\n",
       "      <td>0.41</td>\n",
       "    </tr>\n",
       "    <tr>\n",
       "      <th>7</th>\n",
       "      <td>0.41</td>\n",
       "    </tr>\n",
       "    <tr>\n",
       "      <th>8</th>\n",
       "      <td>0.41</td>\n",
       "    </tr>\n",
       "    <tr>\n",
       "      <th>9</th>\n",
       "      <td>0.41</td>\n",
       "    </tr>\n",
       "  </tbody>\n",
       "</table>\n",
       "</div>"
      ],
      "text/plain": [
       "   gc_content\n",
       "0        0.41\n",
       "1        0.41\n",
       "2        0.41\n",
       "3        0.41\n",
       "4        0.41\n",
       "5        0.41\n",
       "6        0.41\n",
       "7        0.41\n",
       "8        0.41\n",
       "9        0.41"
      ]
     },
     "execution_count": 62,
     "metadata": {},
     "output_type": "execute_result"
    }
   ],
   "source": [
    "output_results['gc_content'].to_csv('grangers_analysis.csv', index=False)\n",
    "\n",
    "pd.read_csv('grangers_analysis.csv')"
   ]
  }
 ],
 "metadata": {
  "colab": {
   "provenance": []
  },
  "kernelspec": {
   "display_name": "jpnbvenv",
   "language": "python",
   "name": "jpnbvenv"
  },
  "language_info": {
   "codemirror_mode": {
    "name": "ipython",
    "version": 3
   },
   "file_extension": ".py",
   "mimetype": "text/x-python",
   "name": "python",
   "nbconvert_exporter": "python",
   "pygments_lexer": "ipython3",
   "version": "3.12.7"
  }
 },
 "nbformat": 4,
 "nbformat_minor": 0
}
