{
 "cells": [
  {
   "cell_type": "markdown",
   "metadata": {
    "id": "Y0gj27yFkxcU"
   },
   "source": [
    "\n",
    "#Climbing The Steps of The Empire State Building Steps: The Game\n",
    "The objective is to create a Dice game logic, which will decide the odds of reaching Step number 60 of the Empire State Building in 100 rolls of the die. We would then simulate this sequence multiple times to calculate the probability of reaching step 60 in 100 tries using the Dice game logic.\n"
   ]
  },
  {
   "cell_type": "markdown",
   "metadata": {
    "id": "rIAQoik6k7EW"
   },
   "source": [
    "#Rules\n",
    "For each random walk sequence we throw a Die.\n",
    "1. Step 0 at ground level, is the starting point.\n",
    "2. If the roll of the Die returns 1 or 2, climb down one step.\n",
    "3. If the roll of the Die returns 3, 4 or 5, go up one step.\n",
    "4. If the roll of the Die returns 6, throw the Die again and advance the number of steps equal to that throw.\n",
    "5. There is a little chance of being clumsy and falling down the Stairs in which case we start again from 0.\n",
    "6. The value of Steps cannot be negative, the lowest value would always be 0 (which is the starting point)."
   ]
  },
  {
   "cell_type": "markdown",
   "metadata": {
    "id": "LcEXEE_PmsUr"
   },
   "source": [
    "#Some pointers that might help with the code:\n",
    "\n",
    "1. The function random.seed() may be used to make your results reproducible.\n",
    "2. To represent clumsiness of falling down, generate a random number between 0 and 1. If that number is less than .001, set the steps value to Zero as is the rule.\n",
    "3. You'll want to run the Dice game many times to calculate the probability of reaching step 60 in 100 rolls.\n",
    "\n",
    "\n"
   ]
  },
  {
   "cell_type": "markdown",
   "metadata": {
    "id": "aN2fhW-pk-fV"
   },
   "source": [
    "# Your Tasks\n",
    "1. Write code for the above Dice game.\n",
    "2. Estimate the probability of reaching step 60 in 100 rolls.\n",
    "3. Create a plot of your random walk results."
   ]
  },
  {
   "cell_type": "markdown",
   "metadata": {
    "id": "EAZSqOf2noOe"
   },
   "source": [
    "# Solution\n"
   ]
  },
  {
   "cell_type": "code",
   "execution_count": 1,
   "metadata": {
    "colab": {
     "base_uri": "https://localhost:8080/",
     "height": 602
    },
    "id": "-ZyeFqCFJLCO",
    "outputId": "067d4c37-82bb-4567-8fd2-a022fa2b4916"
   },
   "outputs": [],
   "source": [
    "import random\n",
    "import numpy as np\n",
    "import matplotlib.pyplot as plt"
   ]
  },
  {
   "cell_type": "code",
   "execution_count": 2,
   "metadata": {},
   "outputs": [
    {
     "name": "stdout",
     "output_type": "stream",
     "text": [
      "\n",
      "Probability of reaching step 60: 90.00%\n"
     ]
    },
    {
     "data": {
      "text/plain": [
       "np.float64(59.05)"
      ]
     },
     "execution_count": 2,
     "metadata": {},
     "output_type": "execute_result"
    }
   ],
   "source": [
    "num_simulations = 100\n",
    "successes = 0\n",
    "all_steps = []\n",
    "\n",
    "\n",
    "# Run the simulation for the specified number of times\n",
    "for _ in range(num_simulations):\n",
    "    steps = 0  # Initialize steps to 0 for each simulation\n",
    "\n",
    "    # Perform 100 dice rolls for each simulation\n",
    "    for _ in range(100):\n",
    "        # Check for clumsiness (1 in 1000 chance)\n",
    "        if random.random() < 0.001:\n",
    "            steps = 0  # Reset to ground level if clumsy\n",
    "            continue  # Skip to next roll\n",
    "        \n",
    "        # Roll a six-sided die\n",
    "        roll = random.randint(1, 6)\n",
    "        \n",
    "        # Apply game rules based on the roll\n",
    "        if roll in [1, 2]:\n",
    "            steps = max(0, steps - 1)  # Move down one step, but not below 0\n",
    "        elif roll in [3, 4, 5]:\n",
    "            steps += 1  # Move up one step\n",
    "        else:  # roll == 6\n",
    "            bonus_roll = random.randint(1, 6)\n",
    "            steps += bonus_roll  # Move up by the bonus roll amount\n",
    "        \n",
    "        # Check if we've reached or passed step 60\n",
    "        if steps >= 60:\n",
    "            successes += 1  # Count as a success\n",
    "            break  # End this simulation early\n",
    "    \n",
    "    # Store the final step reached in this simulation\n",
    "    all_steps.append(steps)\n",
    "    \n",
    "    probability = successes / num_simulations\n",
    "print(f\"\\nProbability of reaching step 60: {probability:.2%}\")\n",
    "\n",
    "steps_array = np.array(all_steps)\n",
    "steps_array.mean()"
   ]
  },
  {
   "cell_type": "code",
   "execution_count": null,
   "metadata": {},
   "outputs": [
    {
     "data": {
      "image/png": "[encoded data removed]",
      "text/plain": [
       "<Figure size 1000x600 with 1 Axes>"
      ]
     },
     "metadata": {},
     "output_type": "display_data"
    }
   ],
   "source": [
    "plt.figure(figsize=(10, 6))\n",
    "plt.hist(all_steps, bins=30, edgecolor='black')\n",
    "plt.title('Distribution of Steps Reached')\n",
    "plt.xlabel('Final Step Number')\n",
    "plt.ylabel('Frequency' )\n",
    "plt.axvline(x=70, color='r', linestyle='--', label='Goal (Step 60)')\n",
    "plt.legend()\n",
    "plt.show()\n"
   ]
  }
 ],
 "metadata": {
  "colab": {
   "provenance": []
  },
  "kernelspec": {
   "display_name": "Python 3",
   "name": "python3"
  },
  "language_info": {
   "codemirror_mode": {
    "name": "ipython",
    "version": 3
   },
   "file_extension": ".py",
   "mimetype": "text/x-python",
   "name": "python",
   "nbconvert_exporter": "python",
   "pygments_lexer": "ipython3",
   "version": "3.12.7"
  }
 },
 "nbformat": 4,
 "nbformat_minor": 0
}
