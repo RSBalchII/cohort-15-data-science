{
  "cells": [
    {
      "cell_type": "markdown",
      "metadata": {
        "id": "937JmwFgAGKv"
      },
      "source": [
        "# Using a DB in sqlite3\n"
      ]
    },
    {
      "cell_type": "markdown",
      "metadata": {
        "id": "hWoL9F4P9rkL"
      },
      "source": [
        "## SQL in sqlite3"
      ]
    },
    {
      "cell_type": "code",
      "execution_count": 1,
      "metadata": {
        "id": "65anBhbi11CF"
      },
      "outputs": [],
      "source": [
        "%%capture\n",
        "!apt-get update\n",
        "!apt-get install -y sqlite3\n"
      ]
    },
    {
      "cell_type": "code",
      "execution_count": 2,
      "metadata": {
        "colab": {
          "base_uri": "https://localhost:8080/"
        },
        "id": "dFxdXsKp2E2Y",
        "outputId": "b12e8cda-af4e-4483-dd9d-defeb607c5f6"
      },
      "outputs": [
        {
          "name": "stdout",
          "output_type": "stream",
          "text": [
            "Usage: sqlite3 [OPTIONS] [FILENAME [SQL]]\n",
            "FILENAME is the name of an SQLite database. A new database is created\n",
            "if the file does not previously exist. Defaults to :memory:.\n",
            "OPTIONS include:\n",
            "   --                   treat no subsequent arguments as options\n",
            "   -A ARGS...           run \".archive ARGS\" and exit\n",
            "   -append              append the database to the end of the file\n",
            "   -ascii               set output mode to 'ascii'\n",
            "   -bail                stop after hitting an error\n",
            "   -batch               force batch I/O\n",
            "   -box                 set output mode to 'box'\n",
            "   -column              set output mode to 'column'\n",
            "   -cmd COMMAND         run \"COMMAND\" before reading stdin\n",
            "   -csv                 set output mode to 'csv'\n",
            "   -deserialize         open the database using sqlite3_deserialize()\n",
            "   -echo                print inputs before execution\n",
            "   -init FILENAME       read/process named file\n",
            "   -[no]header          turn headers on or off\n",
            "   -help                show this message\n",
            "   -html                set output mode to HTML\n",
            "   -interactive         force interactive I/O\n",
            "   -json                set output mode to 'json'\n",
            "   -line                set output mode to 'line'\n",
            "   -list                set output mode to 'list'\n",
            "   -lookaside SIZE N    use N entries of SZ bytes for lookaside memory\n",
            "   -markdown            set output mode to 'markdown'\n",
            "   -maxsize N           maximum size for a --deserialize database\n",
            "   -memtrace            trace all memory allocations and deallocations\n",
            "   -mmap N              default mmap size set to N\n",
            "   -newline SEP         set output row separator. Default: '\\n'\n",
            "   -nofollow            refuse to open symbolic links to database files\n",
            "   -nonce STRING        set the safe-mode escape nonce\n",
            "   -no-rowid-in-view    Disable rowid-in-view using sqlite3_config()\n",
            "   -nullvalue TEXT      set text string for NULL values. Default ''\n",
            "   -pagecache SIZE N    use N slots of SZ bytes each for page cache memory\n",
            "   -pcachetrace         trace all page cache operations\n",
            "   -quote               set output mode to 'quote'\n",
            "   -readonly            open the database read-only\n",
            "   -safe                enable safe-mode\n",
            "   -separator SEP       set output column separator. Default: '|'\n",
            "   -stats               print memory stats before each finalize\n",
            "   -table               set output mode to 'table'\n",
            "   -tabs                set output mode to 'tabs'\n",
            "   -unsafe-testing      allow unsafe commands and modes for testing\n",
            "   -version             show SQLite version\n",
            "   -vfs NAME            use NAME as the default VFS\n",
            "   -vfstrace            enable tracing of all VFS calls\n",
            "   -zip                 open the file as a ZIP Archive\n"
          ]
        }
      ],
      "source": [
        "!sqlite3 --help\n"
      ]
    },
    {
      "cell_type": "code",
      "execution_count": 3,
      "metadata": {
        "colab": {
          "base_uri": "https://localhost:8080/"
        },
        "id": "Td5EBZ445_k1",
        "outputId": "4a7483cb-2afe-4cd4-c45a-cac71ad3709e"
      },
      "outputs": [
        {
          "name": "stdout",
          "output_type": "stream",
          "text": [
            "3.47.0 2024-10-21 16:30:22 03a9703e27c44437c39363d0baf82db4ebc94538a0f28411c85dda156f82636e (64-bit)\n"
          ]
        }
      ],
      "source": [
        "!sqlite3 --version"
      ]
    },
    {
      "cell_type": "markdown",
      "metadata": {
        "id": "TsPmnPGpcgWD"
      },
      "source": [
        "## Sample database"
      ]
    },
    {
      "cell_type": "markdown",
      "metadata": {
        "id": "4BMzqqUncjUr"
      },
      "source": [
        "The [Chinook sample](https://www.sqlitetutorial.net/sqlite-sample-database/)\n",
        "\n",
        "- Zip file of [sqlite DB](https://www.sqlitetutorial.net/wp-content/uploads/2018/03/chinook.zip)\n",
        "\n",
        "- [ER diagram](https://www.sqlitetutorial.net/wp-content/uploads/2018/03/sqlite-sample-database-diagram-color.pdf)\n",
        "\n",
        "- [ER symbols/meanings](https://d2slcw3kip6qmk.cloudfront.net/marketing/pages/chart/erd-symbols/ERD-Notation.PNG)\n",
        "\n",
        "- [Draw IO](https://app.diagrams.net/) for creating ER diagrams, flowcharts, etc."
      ]
    },
    {
      "cell_type": "code",
      "execution_count": 4,
      "metadata": {
        "colab": {
          "base_uri": "https://localhost:8080/"
        },
        "id": "-cTtyfkTb00L",
        "outputId": "c71b2d27-1920-4c34-8014-1256f82fabc5"
      },
      "outputs": [
        {
          "name": "stdout",
          "output_type": "stream",
          "text": [
            "/bin/bash: -c: line 2: syntax error: unexpected end of file\n",
            "Archive:  chinook.zip\n",
            "  Length      Date    Time    Name\n",
            "---------  ---------- -----   ----\n",
            "   884736  2015-11-29 10:53   chinook.db\n",
            "---------                     -------\n",
            "   884736                     1 file\n"
          ]
        }
      ],
      "source": [
        "\n",
        "![ -f chinook.zip ] ||\n",
        "!  curl -s -O https://www.sqlitetutorial.net/wp-content/uploads/2018/03/chinook.zip\n",
        "!unzip -l chinook.zip\n"
      ]
    },
    {
      "cell_type": "code",
      "execution_count": 5,
      "metadata": {
        "colab": {
          "base_uri": "https://localhost:8080/"
        },
        "id": "_tB-o0FHctyU",
        "outputId": "f2636d09-32ba-4338-8d36-e3ced3f59510"
      },
      "outputs": [
        {
          "name": "stdout",
          "output_type": "stream",
          "text": [
            "Archive:  chinook.zip\n"
          ]
        }
      ],
      "source": [
        "!unzip -u chinook.zip\n"
      ]
    },
    {
      "cell_type": "code",
      "execution_count": 6,
      "metadata": {
        "colab": {
          "base_uri": "https://localhost:8080/"
        },
        "id": "uV_dkqmL8_5U",
        "outputId": "f16a4d22-9ff7-4a83-9b9b-2485ab0a18e4"
      },
      "outputs": [
        {
          "name": "stdout",
          "output_type": "stream",
          "text": [
            "total 2512\n",
            "drwxrwxr-x 2 rsbii rsbii   4096 Oct 27 09:58 .\n",
            "drwxrwxr-x 6 rsbii rsbii   4096 Oct 24 17:20 ..\n",
            "-rw-rw-r-- 1 rsbii rsbii   1311 Oct 24 17:20 3a-GCP.gcloud.combined.txt\n",
            "-rw-rw-r-- 1 rsbii rsbii 113731 Oct 24 17:20 3a-GCP.gcloud.ipynb\n",
            "-rw-rw-r-- 1 rsbii rsbii  15550 Oct 24 17:20 3a-sqlite3-Selects.combined.txt\n",
            "-rw-rw-r-- 1 rsbii rsbii  70222 Oct 24 17:20 3a-sqlite3-Selects.ipynb\n",
            "-rw-rw-r-- 1 rsbii rsbii   5190 Oct 24 17:20 3b-BigQuery.metadata.combined.txt\n",
            "-rw-rw-r-- 1 rsbii rsbii  73432 Oct 24 17:20 3b-BigQuery.metadata.ipynb\n",
            "-rw-rw-r-- 1 rsbii rsbii  13319 Oct 24 17:20 3b-BigQuery-Selects.combined.txt\n",
            "-rw-rw-r-- 1 rsbii rsbii 293892 Oct 24 17:20 3b-BigQuery-Selects.ipynb\n",
            "-rw-rw-r-- 1 rsbii rsbii   5319 Oct 24 17:20 3c-BigQuery.Getting.Started.combined.txt\n",
            "-rw-rw-r-- 1 rsbii rsbii 120090 Oct 24 17:20 3c-BigQuery.Getting.Started.RCitek.ipynb\n",
            "-rw-rw-r-- 1 rsbii rsbii   9500 Oct 24 17:20 3c-sqlite3-Joins.combined.txt\n",
            "-rw-rw-r-- 1 rsbii rsbii  48418 Oct 24 17:20 3c-sqlite3-Joins.ipynb\n",
            "-rw-rw-r-- 1 rsbii rsbii   5069 Oct 24 17:20 3d-BigQuery-Joins.combined.txt\n",
            "-rw-rw-r-- 1 rsbii rsbii  80841 Oct 24 17:20 3d-BigQuery-Joins.ipynb\n",
            "-rw-rw-r-- 1 rsbii rsbii  13319 Oct 24 17:20 3d-BigQuery-Selects.combined.txt\n",
            "-rw-rw-r-- 1 rsbii rsbii 293892 Oct 24 17:20 3d-BigQuery-Selects.ipynb\n",
            "-rw-rw-r-- 1 rsbii rsbii   5069 Oct 24 17:20 3e-BigQuery-Joins.combined.txt\n",
            "-rw-rw-r-- 1 rsbii rsbii  80841 Oct 24 17:20 3e-BigQuery-Joins.ipynb\n",
            "-rw-rw-r-- 1 rsbii rsbii   9612 Oct 24 17:20 3e-sqlite3-chinook.db.combined.txt\n",
            "-rw-rw-r-- 1 rsbii rsbii  69961 Oct 24 17:20 3e-sqlite3-chinook.db.ipynb\n",
            "-rw-rw-r-- 1 rsbii rsbii 884736 Nov 29  2015 chinook.db\n",
            "-rw-rw-r-- 1 rsbii rsbii 305596 Oct 27 12:28 chinook.zip\n"
          ]
        }
      ],
      "source": [
        "!ls -la"
      ]
    },
    {
      "cell_type": "code",
      "execution_count": 8,
      "metadata": {
        "colab": {
          "base_uri": "https://localhost:8080/"
        },
        "id": "apjqGXJDc-nk",
        "outputId": "ad124cea-01df-4771-9ddb-c27784126f40"
      },
      "outputs": [
        {
          "name": "stderr",
          "output_type": "stream",
          "text": [
            "UsageError: Line magic function `%%script` not found.\n"
          ]
        }
      ],
      "source": [
        "# Get a list of the tables in the database\n",
        "%%script sqlite3 --column --header chinook.db\n",
        ".tables\n"
      ]
    },
    {
      "cell_type": "code",
      "execution_count": null,
      "metadata": {
        "colab": {
          "base_uri": "https://localhost:8080/"
        },
        "id": "2ASYlWtDc4Im",
        "outputId": "3ba573db-0f16-4b0a-9e89-09d5c861e82a"
      },
      "outputs": [
        {
          "ename": "",
          "evalue": "",
          "output_type": "error",
          "traceback": [
            "\u001b[1;31mnotebook controller is DISPOSED. \n",
            "\u001b[1;31mView Jupyter <a href='command:jupyter.viewOutput'>log</a> for further details."
          ]
        }
      ],
      "source": [
        "# Show the schema for the entire database\n",
        "%%script sqlite3 --column --header chinook.db\n",
        ".schema\n"
      ]
    },
    {
      "cell_type": "code",
      "execution_count": null,
      "metadata": {
        "colab": {
          "base_uri": "https://localhost:8080/"
        },
        "id": "7YbqJ-RdgcnL",
        "outputId": "d84023df-7c39-4ad0-cf78-d0541430ef9a"
      },
      "outputs": [
        {
          "ename": "",
          "evalue": "",
          "output_type": "error",
          "traceback": [
            "\u001b[1;31mnotebook controller is DISPOSED. \n",
            "\u001b[1;31mView Jupyter <a href='command:jupyter.viewOutput'>log</a> for further details."
          ]
        }
      ],
      "source": [
        "# Select the first 10 entries from the employees table\n",
        "%%script sqlite3 --column --header chinook.db\n",
        "select *\n",
        "from employees\n",
        "limit 10\n"
      ]
    },
    {
      "cell_type": "code",
      "execution_count": null,
      "metadata": {
        "colab": {
          "base_uri": "https://localhost:8080/"
        },
        "id": "7ZpK5AHpOm_W",
        "outputId": "6dd16b4d-2260-449f-f099-5acdc2d71908"
      },
      "outputs": [
        {
          "ename": "",
          "evalue": "",
          "output_type": "error",
          "traceback": [
            "\u001b[1;31mnotebook controller is DISPOSED. \n",
            "\u001b[1;31mView Jupyter <a href='command:jupyter.viewOutput'>log</a> for further details."
          ]
        }
      ],
      "source": [
        "# Count the number of unique albums\n",
        "%%script sqlite3 --column --header chinook.db\n",
        "select count(distinct AlbumID)\n",
        "from tracks\n"
      ]
    },
    {
      "cell_type": "code",
      "execution_count": null,
      "metadata": {
        "colab": {
          "base_uri": "https://localhost:8080/"
        },
        "id": "NHN3vpVS9yAj",
        "outputId": "0d9e7d82-c324-4366-a56f-3192c50946ff"
      },
      "outputs": [
        {
          "ename": "",
          "evalue": "",
          "output_type": "error",
          "traceback": [
            "\u001b[1;31mnotebook controller is DISPOSED. \n",
            "\u001b[1;31mView Jupyter <a href='command:jupyter.viewOutput'>log</a> for further details."
          ]
        }
      ],
      "source": [
        "# Select the first 10 entries from the albums table\n",
        "%%script sqlite3 --column --header chinook.db\n",
        "select *\n",
        "from albums\n",
        "limit 10\n"
      ]
    },
    {
      "cell_type": "code",
      "execution_count": null,
      "metadata": {
        "colab": {
          "base_uri": "https://localhost:8080/"
        },
        "id": "kMQD_DYO9-2T",
        "outputId": "f6a9cafc-f002-4587-947d-00326f371bd0"
      },
      "outputs": [
        {
          "ename": "",
          "evalue": "",
          "output_type": "error",
          "traceback": [
            "\u001b[1;31mnotebook controller is DISPOSED. \n",
            "\u001b[1;31mView Jupyter <a href='command:jupyter.viewOutput'>log</a> for further details."
          ]
        }
      ],
      "source": [
        "# Select the first 10 entries from the artists table\n",
        "%%script sqlite3 --column --header chinook.db\n",
        "select *\n",
        "from artists\n",
        "limit 10\n"
      ]
    },
    {
      "cell_type": "code",
      "execution_count": null,
      "metadata": {
        "colab": {
          "base_uri": "https://localhost:8080/"
        },
        "id": "kgOA-g57-MnC",
        "outputId": "6ddcf5e7-b849-4dfc-ea98-0cb226fddb36"
      },
      "outputs": [
        {
          "ename": "",
          "evalue": "",
          "output_type": "error",
          "traceback": [
            "\u001b[1;31mnotebook controller is DISPOSED. \n",
            "\u001b[1;31mView Jupyter <a href='command:jupyter.viewOutput'>log</a> for further details."
          ]
        }
      ],
      "source": [
        "# Select the first 10 entries from joining the artists and albums tables\n",
        "%%script sqlite3 --column --header chinook.db\n",
        "select *\n",
        "from artists\n",
        "join albums\n",
        "on artists.ArtistID = albums.ArtistID\n",
        "limit 10\n"
      ]
    },
    {
      "cell_type": "code",
      "execution_count": null,
      "metadata": {
        "colab": {
          "base_uri": "https://localhost:8080/"
        },
        "id": "l1H3nkPE-0ft",
        "outputId": "bb235e19-7328-4b0b-8396-1c10ae130a26"
      },
      "outputs": [
        {
          "ename": "",
          "evalue": "",
          "output_type": "error",
          "traceback": [
            "\u001b[1;31mnotebook controller is DISPOSED. \n",
            "\u001b[1;31mView Jupyter <a href='command:jupyter.viewOutput'>log</a> for further details."
          ]
        }
      ],
      "source": [
        "# Select albums by AC/DC\n",
        "%%script sqlite3 --column --header chinook.db\n",
        "select *\n",
        "from artists\n",
        "join albums\n",
        "on artists.ArtistID = albums.ArtistID\n",
        "where Name = 'AC/DC'\n",
        "limit 10\n"
      ]
    },
    {
      "cell_type": "code",
      "execution_count": null,
      "metadata": {
        "colab": {
          "base_uri": "https://localhost:8080/"
        },
        "id": "nl0Z3WqaAzgd",
        "outputId": "4b5370b3-fe23-4e62-d6ea-6d904d384bee"
      },
      "outputs": [
        {
          "ename": "",
          "evalue": "",
          "output_type": "error",
          "traceback": [
            "\u001b[1;31mnotebook controller is DISPOSED. \n",
            "\u001b[1;31mView Jupyter <a href='command:jupyter.viewOutput'>log</a> for further details."
          ]
        }
      ],
      "source": [
        "# Select some fields from the employees table\n",
        "%%script sqlite3 --column --header chinook.db\n",
        "select EmployeeId, LastName, FirstName, Title, ReportsTo\n",
        "from employees\n"
      ]
    },
    {
      "cell_type": "code",
      "execution_count": null,
      "metadata": {
        "colab": {
          "base_uri": "https://localhost:8080/"
        },
        "id": "fF0_WlvDBMvJ",
        "outputId": "f50e9c6e-2355-471c-9a12-f369e367031a"
      },
      "outputs": [
        {
          "ename": "",
          "evalue": "",
          "output_type": "error",
          "traceback": [
            "\u001b[1;31mnotebook controller is DISPOSED. \n",
            "\u001b[1;31mView Jupyter <a href='command:jupyter.viewOutput'>log</a> for further details."
          ]
        }
      ],
      "source": [
        "# Select employees and their bosses\n",
        "%%script sqlite3 --column --header chinook.db\n",
        "select emp1.EmployeeId, emp1.LastName, emp1.FirstName, emp1.Title, emp1.ReportsTo, emp2.ReportsTo, emp2.EmployeeId, emp2.LastName, emp2.FirstName\n",
        "from employees as emp1\n",
        "join employees as emp2\n",
        "on emp1.ReportsTo = emp2.EmployeeID\n"
      ]
    },
    {
      "cell_type": "code",
      "execution_count": null,
      "metadata": {
        "colab": {
          "base_uri": "https://localhost:8080/"
        },
        "id": "jrXhGDjICgPU",
        "outputId": "57251ee9-e46d-4e21-cf11-d0193d598172"
      },
      "outputs": [
        {
          "ename": "",
          "evalue": "",
          "output_type": "error",
          "traceback": [
            "\u001b[1;31mnotebook controller is DISPOSED. \n",
            "\u001b[1;31mView Jupyter <a href='command:jupyter.viewOutput'>log</a> for further details."
          ]
        }
      ],
      "source": [
        "# The first three entries from a self cross join of employees\n",
        "%%script sqlite3 --column --header chinook.db\n",
        "select *\n",
        "from employees as emp1\n",
        "join employees as emp2\n",
        "limit 3"
      ]
    },
    {
      "cell_type": "code",
      "execution_count": null,
      "metadata": {
        "colab": {
          "base_uri": "https://localhost:8080/"
        },
        "id": "fW7hRQqwDXsg",
        "outputId": "401f3507-fd2f-4412-c8c3-3d111b2cf943"
      },
      "outputs": [
        {
          "ename": "",
          "evalue": "",
          "output_type": "error",
          "traceback": [
            "\u001b[1;31mnotebook controller is DISPOSED. \n",
            "\u001b[1;31mView Jupyter <a href='command:jupyter.viewOutput'>log</a> for further details."
          ]
        }
      ],
      "source": [
        "# Select a few columns from a self cross joins of employees\n",
        "%%script sqlite3 --column --header chinook.db\n",
        "select emp1.EmployeeID, emp1.FirstName, emp1.ReportsTo, emp2.EmployeeID, emp2.FirstName\n",
        "from employees as emp1\n",
        "join employees as emp2\n"
      ]
    },
    {
      "cell_type": "code",
      "execution_count": null,
      "metadata": {
        "colab": {
          "base_uri": "https://localhost:8080/"
        },
        "id": "DFcC0qD5D4fE",
        "outputId": "4cb5b6d0-e0e6-481d-a648-87392f06c09d"
      },
      "outputs": [
        {
          "ename": "",
          "evalue": "",
          "output_type": "error",
          "traceback": [
            "\u001b[1;31mnotebook controller is DISPOSED. \n",
            "\u001b[1;31mView Jupyter <a href='command:jupyter.viewOutput'>log</a> for further details."
          ]
        }
      ],
      "source": [
        "# Select the first 10 entries from a self cross joins of employees\n",
        "%%script sqlite3 --column --header chinook.db\n",
        "select emp1.EmployeeID, emp1.FirstName, emp1.ReportsTo, emp2.EmployeeID, emp2.FirstName\n",
        "from employees as emp1\n",
        "join employees as emp2\n",
        "limit 10"
      ]
    },
    {
      "cell_type": "code",
      "execution_count": null,
      "metadata": {
        "colab": {
          "base_uri": "https://localhost:8080/"
        },
        "id": "1TzoCHluFe6h",
        "outputId": "ee018462-3619-4389-c59c-c1d7e061092d"
      },
      "outputs": [
        {
          "ename": "",
          "evalue": "",
          "output_type": "error",
          "traceback": [
            "\u001b[1;31mnotebook controller is DISPOSED. \n",
            "\u001b[1;31mView Jupyter <a href='command:jupyter.viewOutput'>log</a> for further details."
          ]
        }
      ],
      "source": [
        "# Select employees and their supervisors\n",
        "%%script sqlite3 --column --header chinook.db\n",
        "select emp1.EmployeeID, emp1.FirstName, emp1.ReportsTo, emp2.EmployeeID, emp2.FirstName\n",
        "from employees as emp1\n",
        "join employees as emp2\n",
        "where emp1.ReportsTo = emp2.EmployeeID\n",
        "order by emp1.EmployeeID    "
      ]
    },
    {
      "cell_type": "markdown",
      "metadata": {
        "id": "6bXTNk0ITz9I"
      },
      "source": [
        "### Building a complex join using a CTE\n"
      ]
    },
    {
      "cell_type": "code",
      "execution_count": null,
      "metadata": {
        "colab": {
          "base_uri": "https://localhost:8080/"
        },
        "id": "xIxOiEpBT6IV",
        "outputId": "14bda270-253c-41eb-df21-7d3628c71868"
      },
      "outputs": [
        {
          "ename": "",
          "evalue": "",
          "output_type": "error",
          "traceback": [
            "\u001b[1;31mnotebook controller is DISPOSED. \n",
            "\u001b[1;31mView Jupyter <a href='command:jupyter.viewOutput'>log</a> for further details."
          ]
        }
      ],
      "source": [
        "# Select customers, their rep, and the rep's supervisor\n",
        "## uses CTEs\n",
        "%%script sqlite3 --column --header chinook.db\n",
        "\n",
        "with\n",
        "emp as (\n",
        "  select EmployeeID, FirstName, Lastname, ReportsTo\n",
        "  from employees\n",
        ")\n",
        "\n",
        "select *\n",
        "from emp\n",
        "limit 10\n",
        "\n"
      ]
    },
    {
      "cell_type": "code",
      "execution_count": null,
      "metadata": {
        "colab": {
          "base_uri": "https://localhost:8080/"
        },
        "id": "-vUruJdeUQP4",
        "outputId": "c047bfca-27b9-44fa-dc14-a68db793b988"
      },
      "outputs": [
        {
          "ename": "",
          "evalue": "",
          "output_type": "error",
          "traceback": [
            "\u001b[1;31mnotebook controller is DISPOSED. \n",
            "\u001b[1;31mView Jupyter <a href='command:jupyter.viewOutput'>log</a> for further details."
          ]
        }
      ],
      "source": [
        "# Select customers, their rep, and the rep's supervisor\n",
        "## uses CTEs\n",
        "%%script sqlite3 --column --header chinook.db\n",
        "\n",
        "with\n",
        "emp as (\n",
        "  select EmployeeID, FirstName, Lastname, ReportsTo\n",
        "  from employees\n",
        "),\n",
        "reps as (\n",
        "  select *\n",
        "  from emp\n",
        ")\n",
        "\n",
        "select *\n",
        "from reps\n"
      ]
    },
    {
      "cell_type": "code",
      "execution_count": null,
      "metadata": {
        "colab": {
          "base_uri": "https://localhost:8080/"
        },
        "id": "TgQERrO-Uk_N",
        "outputId": "305bfa90-1561-4f71-86cf-754f4ff0737c"
      },
      "outputs": [
        {
          "ename": "",
          "evalue": "",
          "output_type": "error",
          "traceback": [
            "\u001b[1;31mnotebook controller is DISPOSED. \n",
            "\u001b[1;31mView Jupyter <a href='command:jupyter.viewOutput'>log</a> for further details."
          ]
        }
      ],
      "source": [
        "# Select customers, their rep, and the rep's supervisor\n",
        "## uses CTEs\n",
        "%%script sqlite3 --column --header chinook.db\n",
        "\n",
        "with\n",
        "emp as (\n",
        "  select EmployeeID, FirstName, Lastname, ReportsTo\n",
        "  from employees\n",
        "),\n",
        "reps as (\n",
        "  select EmployeeID, FirstName, Lastname, ReportsTo\n",
        "  from emp\n",
        "),\n",
        "supervisors as (\n",
        "  select EmployeeID, FirstName, Lastname\n",
        "  from emp\n",
        ")\n",
        "\n",
        "select *\n",
        "from supervisors\n",
        "\n"
      ]
    },
    {
      "cell_type": "code",
      "execution_count": null,
      "metadata": {
        "colab": {
          "base_uri": "https://localhost:8080/"
        },
        "id": "NfQH-YKLUu5J",
        "outputId": "4d8dcdd2-41a3-4ae7-a823-ba282095e310"
      },
      "outputs": [
        {
          "ename": "",
          "evalue": "",
          "output_type": "error",
          "traceback": [
            "\u001b[1;31mnotebook controller is DISPOSED. \n",
            "\u001b[1;31mView Jupyter <a href='command:jupyter.viewOutput'>log</a> for further details."
          ]
        }
      ],
      "source": [
        "# Select customers, their rep, and the rep's supervisor\n",
        "## uses CTEs\n",
        "%%script sqlite3 --column --header chinook.db\n",
        "\n",
        "with\n",
        "emp as (\n",
        "  select EmployeeID, FirstName, Lastname, ReportsTo\n",
        "  from employees\n",
        "),\n",
        "reps as (\n",
        "  select EmployeeID, FirstName, Lastname, ReportsTo\n",
        "  from emp\n",
        "),\n",
        "supervisors as (\n",
        "  select EmployeeID, FirstName, Lastname\n",
        "  from emp\n",
        "),\n",
        "workers as (\n",
        "  select r.EmployeeID as \"EmpID\", r.Firstname as \"Rep\", r.ReportsTo as \"ReportID\", s.EmployeeID as \"SuperID\", s.FirstName as \"Supervisor\"\n",
        "  from reps as r\n",
        "  join supervisors as s\n",
        "  where r.ReportsTo = s.EmployeeID\n",
        ")\n",
        "\n",
        "select *\n",
        "from workers\n",
        "\n",
        "\n"
      ]
    },
    {
      "cell_type": "code",
      "execution_count": null,
      "metadata": {
        "colab": {
          "base_uri": "https://localhost:8080/"
        },
        "id": "N1Rs3KKvU9Aw",
        "outputId": "ac864874-16c4-4fd3-fefe-d11cac1fbb10"
      },
      "outputs": [
        {
          "ename": "",
          "evalue": "",
          "output_type": "error",
          "traceback": [
            "\u001b[1;31mnotebook controller is DISPOSED. \n",
            "\u001b[1;31mView Jupyter <a href='command:jupyter.viewOutput'>log</a> for further details."
          ]
        }
      ],
      "source": [
        "# Select customers, their rep, and the rep's supervisor\n",
        "## uses CTEs\n",
        "%%script sqlite3 --column --header chinook.db\n",
        "\n",
        "with\n",
        "emp as (\n",
        "  select EmployeeID, FirstName, Lastname, ReportsTo\n",
        "  from employees\n",
        "),\n",
        "reps as (\n",
        "  select EmployeeID, FirstName, Lastname, ReportsTo\n",
        "  from emp\n",
        "),\n",
        "supervisors as (\n",
        "  select EmployeeID, FirstName, Lastname\n",
        "  from emp\n",
        "),\n",
        "workers as (\n",
        "  select r.EmployeeID as \"EmpID\", r.Firstname as \"Rep\", r.ReportsTo as \"ReportID\", s.EmployeeID as \"SuperID\", s.FirstName as \"Supervisor\"\n",
        "  from reps as r\n",
        "  join supervisors as s\n",
        "  where r.ReportsTo = s.EmployeeID\n",
        "),\n",
        "cust as (\n",
        "  select CustomerID, FirstName as \"Customer\", SupportRepID\n",
        "  from customers\n",
        ")\n",
        "\n",
        "select *\n",
        "from cust\n",
        "limit 10"
      ]
    },
    {
      "cell_type": "code",
      "execution_count": null,
      "metadata": {
        "colab": {
          "base_uri": "https://localhost:8080/"
        },
        "id": "soAu4HzS92l6",
        "outputId": "443e937a-708a-442f-c160-cebe877c046c"
      },
      "outputs": [
        {
          "ename": "",
          "evalue": "",
          "output_type": "error",
          "traceback": [
            "\u001b[1;31mnotebook controller is DISPOSED. \n",
            "\u001b[1;31mView Jupyter <a href='command:jupyter.viewOutput'>log</a> for further details."
          ]
        }
      ],
      "source": [
        "# Select customers, their rep, and the rep's supervisor\n",
        "## uses CTEs\n",
        "%%script sqlite3 --column --header chinook.db\n",
        "\n",
        "with\n",
        "emp as (\n",
        "  select EmployeeID, FirstName, Lastname, ReportsTo, Title\n",
        "  from employees\n",
        "),\n",
        "reps as (\n",
        "  select EmployeeID, FirstName, Lastname, ReportsTo\n",
        "  from emp\n",
        "  where Title = \"Sales Support Agent\"\n",
        "),\n",
        "supervisors as (\n",
        "  select EmployeeID, FirstName, Lastname\n",
        "  from emp\n",
        "  where Title != \"Sales Support Agent\"\n",
        "\n",
        "),\n",
        "workers as (\n",
        "  select r.EmployeeID as \"EmpID\", r.Firstname as \"Rep\", r.ReportsTo as \"ReportID\", s.EmployeeID as \"SuperID\", s.FirstName as \"Supervisor\"\n",
        "  from reps as r\n",
        "  join supervisors as s\n",
        "  where r.ReportsTo = s.EmployeeID\n",
        "),\n",
        "cust as (\n",
        "  select CustomerID, FirstName as \"Customer\", SupportRepID\n",
        "  from customers\n",
        "),\n",
        "cust_rep_super as (\n",
        "  select Customer, Rep, Supervisor\n",
        "  from cust\n",
        "  join workers\n",
        "  where SupportRepID = EmpID\n",
        ")\n",
        "\n",
        "SELECT *\n",
        "FROM cust_rep_super\n",
        "limit 10\n"
      ]
    },
    {
      "cell_type": "markdown",
      "metadata": {
        "id": "RoItcHtIG9bq"
      },
      "source": [
        "## You Turn"
      ]
    },
    {
      "cell_type": "markdown",
      "metadata": {
        "id": "tl-IIcoiHBrM"
      },
      "source": [
        "- How many unique albums are in the Tracks table?\n",
        "- How many tracks are on the album with AlbumID 1?\n",
        "- Do the totals in the Invoices table add up to the lineitems in the Invoice_Items table?\n"
      ]
    },
    {
      "cell_type": "code",
      "execution_count": null,
      "metadata": {
        "colab": {
          "base_uri": "https://localhost:8080/"
        },
        "id": "QJ0uiI-152Wq",
        "outputId": "c9623e10-7e48-4607-aaad-ea59ee2790e7"
      },
      "outputs": [
        {
          "ename": "",
          "evalue": "",
          "output_type": "error",
          "traceback": [
            "\u001b[1;31mnotebook controller is DISPOSED. \n",
            "\u001b[1;31mView Jupyter <a href='command:jupyter.viewOutput'>log</a> for further details."
          ]
        }
      ],
      "source": [
        "# How many unique records are in the Tracks table?\n",
        "%%script sqlite3 --column --header chinook.db\n",
        "select count(distinct AlbumID) as unique_albums\n",
        "from `tracks`\n",
        ";\n"
      ]
    },
    {
      "cell_type": "code",
      "execution_count": null,
      "metadata": {
        "colab": {
          "base_uri": "https://localhost:8080/"
        },
        "id": "6qPD19tCPTnG",
        "outputId": "6b3a9e55-a8de-4a8e-dbf5-f98f4d3f171b"
      },
      "outputs": [
        {
          "ename": "",
          "evalue": "",
          "output_type": "error",
          "traceback": [
            "\u001b[1;31mnotebook controller is DISPOSED. \n",
            "\u001b[1;31mView Jupyter <a href='command:jupyter.viewOutput'>log</a> for further details."
          ]
        }
      ],
      "source": [
        "# How many unique records are in the Tracks table?\n",
        "%%script sqlite3 --column --header chinook.db\n",
        "select count(AlbumID)\n",
        "from tracks\n",
        ";"
      ]
    },
    {
      "cell_type": "code",
      "execution_count": null,
      "metadata": {
        "colab": {
          "base_uri": "https://localhost:8080/"
        },
        "id": "WGAmGvF0_yrA",
        "outputId": "314ff91b-e04f-4836-e6af-bc0c53042ed2"
      },
      "outputs": [
        {
          "ename": "",
          "evalue": "",
          "output_type": "error",
          "traceback": [
            "\u001b[1;31mnotebook controller is DISPOSED. \n",
            "\u001b[1;31mView Jupyter <a href='command:jupyter.viewOutput'>log</a> for further details."
          ]
        }
      ],
      "source": [
        "# How many tracks are on the album with AlbumID 1?\n",
        "%%script sqlite3 --column --header chinook.db\n",
        "select count(1) as track_count\n",
        "from tracks\n",
        "where albumid = 1\n",
        ";"
      ]
    },
    {
      "cell_type": "code",
      "execution_count": null,
      "metadata": {
        "colab": {
          "base_uri": "https://localhost:8080/"
        },
        "id": "mBgqXk8_HeQo",
        "outputId": "386a616d-a40a-428d-e8c3-5176967412b6"
      },
      "outputs": [
        {
          "ename": "",
          "evalue": "",
          "output_type": "error",
          "traceback": [
            "\u001b[1;31mnotebook controller is DISPOSED. \n",
            "\u001b[1;31mView Jupyter <a href='command:jupyter.viewOutput'>log</a> for further details."
          ]
        }
      ],
      "source": [
        "# Do the totals in the Invoices table add up to the lineitems in the Invoice_Items table?\n",
        "%%script sqlite3 --column --header chinook.db\n",
        "select InvoiceID, Total\n",
        "from invoices\n",
        "limit 10\n"
      ]
    },
    {
      "cell_type": "code",
      "execution_count": null,
      "metadata": {
        "colab": {
          "base_uri": "https://localhost:8080/"
        },
        "id": "N4P_ujwIGQLB",
        "outputId": "86e60f9d-3d84-4eb6-b020-8980ec30f7ee"
      },
      "outputs": [
        {
          "ename": "",
          "evalue": "",
          "output_type": "error",
          "traceback": [
            "\u001b[1;31mnotebook controller is DISPOSED. \n",
            "\u001b[1;31mView Jupyter <a href='command:jupyter.viewOutput'>log</a> for further details."
          ]
        }
      ],
      "source": [
        "# Do the totals in the Invoices table add up to the lineitems in the Invoice_Items table?\n",
        "%%script sqlite3 --column --header chinook.db\n",
        "select invoiceID, sum((unitprice * quantity)) as line_total\n",
        "from invoice_items\n",
        "group by invoiceid\n",
        "limit 10\n"
      ]
    },
    {
      "cell_type": "code",
      "execution_count": null,
      "metadata": {
        "colab": {
          "base_uri": "https://localhost:8080/"
        },
        "id": "Zq2BcB-F52Wr",
        "outputId": "69c20193-5c2f-46a4-84b1-5fb3c3cd6b37"
      },
      "outputs": [
        {
          "ename": "",
          "evalue": "",
          "output_type": "error",
          "traceback": [
            "\u001b[1;31mnotebook controller is DISPOSED. \n",
            "\u001b[1;31mView Jupyter <a href='command:jupyter.viewOutput'>log</a> for further details."
          ]
        }
      ],
      "source": [
        "%%script sqlite3 --column --header chinook.db\n",
        "with\n",
        "invoices_ as (\n",
        "  select InvoiceID, Total as Total\n",
        "  from invoices\n",
        "),\n",
        "line_items as (\n",
        "  select invoiceID, sum((unitprice * quantity)) as line_total\n",
        "  from invoice_items\n",
        "  group by invoiceid\n",
        "),\n",
        "side_by_side as (\n",
        "  select *\n",
        "  from invoices_ as i\n",
        "  join line_items as li\n",
        "  on i.invoiceid = li.invoiceid\n",
        ")\n",
        "select * from side_by_side\n",
        "where total != line_total\n",
        "limit 10\n",
        "\n",
        "\n"
      ]
    },
    {
      "cell_type": "code",
      "execution_count": null,
      "metadata": {
        "colab": {
          "base_uri": "https://localhost:8080/"
        },
        "id": "nRnUfCqZDIWM",
        "outputId": "de1a9a0d-9fec-4ee8-9201-a02fd0d3c57e"
      },
      "outputs": [
        {
          "ename": "",
          "evalue": "",
          "output_type": "error",
          "traceback": [
            "\u001b[1;31mnotebook controller is DISPOSED. \n",
            "\u001b[1;31mView Jupyter <a href='command:jupyter.viewOutput'>log</a> for further details."
          ]
        }
      ],
      "source": [
        "%%script sqlite3 --column --header chinook.db\n",
        "with track_info as (\n",
        "    select\n",
        "        name as trackname,\n",
        "        composer,\n",
        "        genreid\n",
        "    from\n",
        "        tracks\n",
        ")\n",
        "select\n",
        "    ti.composer,\n",
        "    g.name as genre,\n",
        "    count(*) as trackcount\n",
        "from\n",
        "    track_info ti\n",
        "join\n",
        "    genres g on ti.genreid = g.genreid\n",
        "where\n",
        "    ti.composer is not null\n",
        "group by\n",
        "    ti.composer, g.name\n",
        "order by\n",
        "    trackcount desc\n",
        "limit 50;"
      ]
    },
    {
      "cell_type": "code",
      "execution_count": null,
      "metadata": {
        "colab": {
          "base_uri": "https://localhost:8080/"
        },
        "id": "mK6nSYjTL3g3",
        "outputId": "e395ac5d-3fe0-47f0-fde2-496ee993c002"
      },
      "outputs": [
        {
          "ename": "",
          "evalue": "",
          "output_type": "error",
          "traceback": [
            "\u001b[1;31mnotebook controller is DISPOSED. \n",
            "\u001b[1;31mView Jupyter <a href='command:jupyter.viewOutput'>log</a> for further details."
          ]
        }
      ],
      "source": [
        "%%script sqlite3 --column --header chinook.db\n",
        "SELECT\n",
        "    CASE\n",
        "        WHEN al.ArtistID IS NULL THEN 'No Artist'\n",
        "        ELSE 'With Artist'\n",
        "    END AS AlbumStatus,\n",
        "    COUNT(*) AS AlbumCount\n",
        "FROM\n",
        "    albums al\n",
        "LEFT JOIN\n",
        "    artists ar ON al.ArtistID = ar.ArtistID\n",
        "GROUP BY\n",
        "    CASE\n",
        "        WHEN al.ArtistID IS NULL THEN 'No Artist'\n",
        "        ELSE 'With Artist'\n",
        "    END;"
      ]
    },
    {
      "cell_type": "code",
      "execution_count": null,
      "metadata": {
        "colab": {
          "base_uri": "https://localhost:8080/"
        },
        "id": "sMP1uIiH51Pm",
        "outputId": "e253e4b0-f928-4d28-cc24-f7f05fafade3"
      },
      "outputs": [
        {
          "ename": "",
          "evalue": "",
          "output_type": "error",
          "traceback": [
            "\u001b[1;31mnotebook controller is DISPOSED. \n",
            "\u001b[1;31mView Jupyter <a href='command:jupyter.viewOutput'>log</a> for further details."
          ]
        }
      ],
      "source": [
        "%%script sqlite3 --column --header chinook.db\n",
        "SELECT\n",
        "    CASE\n",
        "        WHEN al.ArtistID IS NULL THEN 'Without Artist'\n",
        "        ELSE 'With Artist'\n",
        "    END AS AlbumStatus,\n",
        "    COUNT(*) AS AlbumCount\n",
        "FROM\n",
        "    albums al\n",
        "LEFT JOIN\n",
        "    artists ar ON al.ArtistID = ar.ArtistID\n",
        "GROUP BY\n",
        "    CASE\n",
        "        WHEN al.ArtistID IS NULL THEN 'Without Artist'\n",
        "        ELSE 'With Artist'\n",
        "    END\n",
        "\n",
        "UNION ALL\n",
        "\n",
        "SELECT NULL, NULL\n",
        "\n",
        "UNION ALL\n",
        "\n",
        "SELECT 'Albums Without Artists', COUNT(*) AS AlbumCount\n",
        "FROM albums\n",
        "WHERE ArtistID IS NULL;"
      ]
    },
    {
      "cell_type": "code",
      "execution_count": null,
      "metadata": {
        "id": "CkHCv4oB6JUI"
      },
      "outputs": [
        {
          "ename": "",
          "evalue": "",
          "output_type": "error",
          "traceback": [
            "\u001b[1;31mnotebook controller is DISPOSED. \n",
            "\u001b[1;31mView Jupyter <a href='command:jupyter.viewOutput'>log</a> for further details."
          ]
        }
      ],
      "source": [
        "%%script sqlite3 --column --header chinook.db\n"
      ]
    }
  ],
  "metadata": {
    "colab": {
      "provenance": []
    },
    "kernelspec": {
      "display_name": "jpnbvenv",
      "language": "python",
      "name": "jpnbvenv"
    },
    "language_info": {
      "codemirror_mode": {
        "name": "ipython",
        "version": 3
      },
      "file_extension": ".py",
      "mimetype": "text/x-python",
      "name": "python",
      "nbconvert_exporter": "python",
      "pygments_lexer": "ipython3",
      "version": "3.12.7"
    }
  },
  "nbformat": 4,
  "nbformat_minor": 0
}
