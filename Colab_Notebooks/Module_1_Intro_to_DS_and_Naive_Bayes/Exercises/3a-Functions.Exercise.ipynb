{
 "cells": [
  {
   "cell_type": "markdown",
   "metadata": {
    "id": "Ns83jjAgAzPN"
   },
   "source": [
    "**Note:**  These closely match the loop exercises.  You may want to refer to that homework.  \n",
    "\n",
    "- **Make sure and include a docstring and code comments for each exercise.**\n",
    "- **Make sure and follow the naming conventions for functions and arguments.**"
   ]
  },
  {
   "cell_type": "markdown",
   "metadata": {
    "id": "5wdDnH9Oy9Jk"
   },
   "source": [
    "## Reading Assignment\n",
    "Read the Python Documentation on Docstring conventions: https://www.python.org/dev/peps/pep-0257/\n",
    "\n",
    "These conventions might seem a little silly or unexciting.  They are important to keep your code readable for others, to create consistency and to make it so that if you come back to a project months (or years) later it's easy for you to know what is going on.  \n"
   ]
  },
  {
   "cell_type": "markdown",
   "metadata": {
    "id": "PgeLhzgDjZD8"
   },
   "source": [
    "## Problem 1"
   ]
  },
  {
   "cell_type": "markdown",
   "metadata": {
    "id": "knTR-4OsXA2L"
   },
   "source": [
    "**Part A:** Write a function that takes a number as input and counts up to that number in increments of 2.  (Output should be done using print().  The function does not need to return anything.)\n",
    "\n",
    "For example:\n",
    "\n",
    "Input:\n",
    "```\n",
    "60  \n",
    "```\n",
    "\n",
    "Output:\n",
    "```\n",
    "2 4 6 8 10 12 14 16 18 20 22 24 26 28 30 32 34 36 38 40 42 44 46 48 50 52 54 56 58 60\n",
    "```"
   ]
  },
  {
   "cell_type": "code",
   "execution_count": null,
   "metadata": {
    "id": "t2lhqAmurN19"
   },
   "outputs": [],
   "source": [
    "# Solution here\n"
   ]
  },
  {
   "cell_type": "markdown",
   "metadata": {
    "id": "jr0dWMRjxFVO"
   },
   "source": [
    "**Part B:** Call the help function on your new function to see the documentation.  "
   ]
  },
  {
   "cell_type": "code",
   "execution_count": null,
   "metadata": {
    "id": "ULmxkWzhBOIn"
   },
   "outputs": [],
   "source": [
    "# Solution here\n"
   ]
  },
  {
   "cell_type": "markdown",
   "metadata": {
    "id": "fWbOuf3Xj2rA"
   },
   "source": [
    "## Problem 2"
   ]
  },
  {
   "cell_type": "markdown",
   "metadata": {
    "id": "fff1QU6WWaE3"
   },
   "source": [
    "\n",
    "\n",
    "Write a Python function that takes a word and reverses it.  Function should return the result with a `return` statement\n"
   ]
  },
  {
   "cell_type": "markdown",
   "metadata": {
    "id": "D9wECoq_j7mF"
   },
   "source": [
    "Function Input:\n",
    "\n",
    "```python\n",
    "input_word = 'fantastic'\n",
    "```\n",
    "Returns:\n",
    "\n",
    "```python\n",
    "citsatnaf\n",
    "```"
   ]
  },
  {
   "cell_type": "markdown",
   "metadata": {
    "id": "CQss0SCn6N7V"
   },
   "source": [
    "\n",
    "Solution:"
   ]
  },
  {
   "cell_type": "code",
   "execution_count": null,
   "metadata": {
    "id": "sULCgYCmkKWP"
   },
   "outputs": [],
   "source": [
    "# Solution here\n"
   ]
  },
  {
   "cell_type": "markdown",
   "metadata": {
    "id": "KM76l_GDXTMF"
   },
   "source": [
    "## Problem 3\n"
   ]
  },
  {
   "cell_type": "markdown",
   "metadata": {
    "id": "ocSBZmjtWrvU"
   },
   "source": [
    "\n",
    "\n",
    "Write a Python function that takes a list as input and prints each item and its corresponding type from the following list."
   ]
  },
  {
   "cell_type": "markdown",
   "metadata": {
    "id": "fdXQRAuxkm9t"
   },
   "source": [
    "Input:\n",
    "\n",
    "```python\n",
    "datalist = [\n",
    "  1452,\n",
    "  11.23,\n",
    "  1+2j,\n",
    "  True,\n",
    "  'w3resource',\n",
    "  (0, -1),\n",
    "  [5, 12],\n",
    "  {\n",
    "    \"class\":'V',\n",
    "    \"section\":'A'\n",
    "  },\n",
    "]\n",
    "```\n",
    "\n",
    "Preferred Output:\n",
    "```\n",
    "Type of  1452  is  <class 'int'>                                                                              \n",
    "Type of  11.23  is  <class 'float'>                                                                            \n",
    "Type of  (1+2j)  is  <class 'complex'>                                                                         \n",
    "Type of  True  is  <class 'bool'>                                                                             \n",
    "Type of  w3resource  is  <class 'str'>                                                                        \n",
    "Type of  (0, -1)  is  <class 'tuple'>                                                                         \n",
    "Type of  [5, 12]  is  <class 'list'>                                                                          \n",
    "Type of  {'class': 'V', 'section': 'A'}  is  < class 'dict'>\n",
    "```"
   ]
  },
  {
   "cell_type": "markdown",
   "metadata": {
    "id": "ZA79BNGu6SHf"
   },
   "source": [
    "Solution:"
   ]
  },
  {
   "cell_type": "code",
   "execution_count": null,
   "metadata": {
    "id": "DpN7r4gMk7RH"
   },
   "outputs": [],
   "source": [
    "# Solution here\n"
   ]
  },
  {
   "cell_type": "markdown",
   "metadata": {
    "id": "-HMvXJaTh2F6"
   },
   "source": [
    "## Problem 4"
   ]
  },
  {
   "cell_type": "markdown",
   "metadata": {
    "id": "Opa2Q9f0Wqi2"
   },
   "source": [
    "\n",
    "\n",
    "Write a Python function to construct the following pattern.  The input will be a positive integer that determines the line with the maximum number of '@' symbols.  \n",
    "\n",
    "\n",
    "Input:\n",
    "```\n",
    "5\n",
    "```\n",
    "Output:\n",
    "\n",
    "```python\n",
    "@\n",
    "@@\n",
    "@@@\n",
    "@@@@\n",
    "@@@@@\n",
    "@@@@\n",
    "@@@\n",
    "@@\n",
    "@\n",
    "```\n"
   ]
  },
  {
   "cell_type": "markdown",
   "metadata": {
    "id": "cbrfAqRD6Vvh"
   },
   "source": [
    "Solution:"
   ]
  },
  {
   "cell_type": "code",
   "execution_count": null,
   "metadata": {
    "id": "PuWwWxL4rdEq"
   },
   "outputs": [],
   "source": [
    "# Solution here\n"
   ]
  },
  {
   "cell_type": "markdown",
   "metadata": {
    "id": "uwcZe6sI6YTU"
   },
   "source": [
    "# Problem 5"
   ]
  },
  {
   "cell_type": "markdown",
   "metadata": {
    "id": "RdFaGnagWvLo"
   },
   "source": [
    "\n",
    "\n",
    "Write a Python function that takes a positive integer (n) as input and iterates through the integers from 0 to n.\n",
    "\n",
    "Return a list that has\n",
    "-  the number if it is not a multiple of 3 or 5\n",
    "-  'Fizz' if the number is a multiple of 3\n",
    "-  'Buzz' if the number is a multiple of 5\n",
    "-  'FizzBuzz' if the number is a multiple of 3 and 5"
   ]
  },
  {
   "cell_type": "markdown",
   "metadata": {
    "id": "xpMFiWVA7QKU"
   },
   "source": [
    "Sample Input:\n",
    "```\n",
    "7\n",
    "```\n",
    "\n",
    "Sample Return:\n",
    "```\n",
    "['FizzBuzz', 1, 2, 'Fizz', 4, 'Buzz', 'Fizz', 7]\n",
    "```"
   ]
  },
  {
   "cell_type": "code",
   "execution_count": null,
   "metadata": {
    "id": "k95acQTe7f1w"
   },
   "outputs": [],
   "source": [
    "# Solution here\n"
   ]
  },
  {
   "cell_type": "markdown",
   "metadata": {
    "id": "DemC2ObY8Shi"
   },
   "source": [
    "# Problem 6"
   ]
  },
  {
   "cell_type": "markdown",
   "metadata": {
    "id": "IgfPxLf8W2St"
   },
   "source": [
    "\n",
    "\n",
    "Write a Python function to calculate a dog's age in dog's years.  (Input is human age).\n",
    "\n",
    "Note: For the first two years, a dog year is equal to 10.5 human years. After that, each dog year equals 4 human years.\n",
    "\n",
    "Input:\n",
    "\n",
    "```\n",
    "h_age = 5\n",
    "```\n",
    "Returns the string:\n",
    "```\n",
    "The dog's age in dog's years is 33\n",
    "```\n"
   ]
  },
  {
   "cell_type": "code",
   "execution_count": null,
   "metadata": {
    "id": "TvuYiJ9y8yO7"
   },
   "outputs": [],
   "source": [
    "# Solution here\n"
   ]
  }
 ],
 "metadata": {
  "colab": {
   "provenance": []
  },
  "kernelspec": {
   "display_name": "Python 3 (ipykernel)",
   "language": "python",
   "name": "python3"
  },
  "language_info": {
   "codemirror_mode": {
    "name": "ipython",
    "version": 3
   },
   "file_extension": ".py",
   "mimetype": "text/x-python",
   "name": "python",
   "nbconvert_exporter": "python",
   "pygments_lexer": "ipython3",
   "version": "3.10.12"
  }
 },
 "nbformat": 4,
 "nbformat_minor": 4
}
