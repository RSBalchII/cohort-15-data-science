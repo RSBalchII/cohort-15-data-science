{
 "cells": [
  {
   "cell_type": "markdown",
   "metadata": {
    "id": "GuKUguidtAF4"
   },
   "source": [
    "# Python Exercises - Numpy, Pandas & Plotting"
   ]
  },
  {
   "cell_type": "markdown",
   "metadata": {
    "id": "HZ7H9w-LgHqU"
   },
   "source": [
    "## Setup: import libraries"
   ]
  },
  {
   "cell_type": "code",
   "execution_count": null,
   "metadata": {
    "id": "puheNodzgGIb"
   },
   "outputs": [],
   "source": []
  },
  {
   "cell_type": "markdown",
   "metadata": {
    "id": "orfjAopatA-O"
   },
   "source": [
    "## Problem 1\n"
   ]
  },
  {
   "cell_type": "markdown",
   "metadata": {
    "id": "mXfzsUabfeoO"
   },
   "source": [
    "Create a pandas dataframe that contains the following columns:\n",
    "\n",
    "Column Name | Values\n",
    "--- | ---\n",
    "A | 500 random numbers drawn from a normal distribution with mean 15 and standard deviation 5\n",
    "B | 500 equally spaced numbers between 1 and 50 (inclusive)\n",
    "C | 500 random integers drawn between 10 and 30 (inclusive)\n",
    "\n"
   ]
  },
  {
   "cell_type": "code",
   "execution_count": null,
   "metadata": {
    "id": "H6HJhLOFgEjt"
   },
   "outputs": [],
   "source": []
  },
  {
   "cell_type": "markdown",
   "metadata": {
    "id": "tB-QS7JltG5u"
   },
   "source": [
    "## Problem 2\n"
   ]
  },
  {
   "cell_type": "markdown",
   "metadata": {
    "id": "fkbWvnW-fjGD"
   },
   "source": [
    "Calculate the mean of column A."
   ]
  },
  {
   "cell_type": "code",
   "execution_count": null,
   "metadata": {
    "id": "_YJJn5N4gC3F"
   },
   "outputs": [],
   "source": []
  },
  {
   "cell_type": "markdown",
   "metadata": {
    "id": "cUxNhFPItJyH"
   },
   "source": [
    "## Problem 3\n"
   ]
  },
  {
   "cell_type": "markdown",
   "metadata": {
    "id": "3ptpNKtrfltM"
   },
   "source": [
    "Plot a histogram of column A.\n",
    "\n",
    "Plot a vertical line at the mean. Make the figure size (10,5). Make sure to add axis labels and a legend for the mean.\n",
    "\n",
    "\n"
   ]
  },
  {
   "cell_type": "code",
   "execution_count": null,
   "metadata": {
    "id": "dPs4_NCygAm6"
   },
   "outputs": [],
   "source": []
  },
  {
   "cell_type": "markdown",
   "metadata": {
    "id": "8XRkirtVtWSq"
   },
   "source": [
    "## Problem 4\n"
   ]
  },
  {
   "cell_type": "markdown",
   "metadata": {
    "id": "W9knyBVRfn61"
   },
   "source": [
    "Create a line plot of the first 100 values in column C.\n",
    "\n",
    "Make sure to add axis labels."
   ]
  },
  {
   "cell_type": "code",
   "execution_count": null,
   "metadata": {
    "id": "VcT-GelUf_Z7"
   },
   "outputs": [],
   "source": []
  },
  {
   "cell_type": "markdown",
   "metadata": {
    "id": "3gRfm6LpvfQH"
   },
   "source": [
    "## Problem 5\n"
   ]
  },
  {
   "cell_type": "markdown",
   "metadata": {
    "id": "YtgszZwYfpm6"
   },
   "source": [
    "Create a new column, `D`, that contains 3 times the values in column `B` plus some random noise (`np.random.normal(0,10,500`)."
   ]
  },
  {
   "cell_type": "code",
   "execution_count": null,
   "metadata": {
    "id": "akRD4Wazf9ho"
   },
   "outputs": [],
   "source": []
  },
  {
   "cell_type": "markdown",
   "metadata": {
    "id": "UxpQeF2fv2wq"
   },
   "source": [
    "## Problem 6\n"
   ]
  },
  {
   "cell_type": "markdown",
   "metadata": {
    "id": "nXkB3q4Pfr37"
   },
   "source": [
    "Create a scatter plot with column `B` on the x-axis and column `D` on the y-axis.\n",
    "\n",
    "Make sure to add axis labels."
   ]
  },
  {
   "cell_type": "code",
   "execution_count": null,
   "metadata": {
    "id": "gnNwR1ZC9Uty"
   },
   "outputs": [],
   "source": []
  },
  {
   "cell_type": "markdown",
   "metadata": {
    "id": "9HsaIZvywTOT"
   },
   "source": [
    "## **BONUS** (only if you have time)\n"
   ]
  },
  {
   "cell_type": "markdown",
   "metadata": {
    "id": "sYzs6ewLfwHS"
   },
   "source": [
    "\n",
    "Create a new column, `E`, that that contains 3 times the values in column `B` plus some random noise with a smaller standard deviation (`np.random.normal(0,3,500`).\n",
    "\n",
    "Add the points you generated for column `E` to the scatterplot you created in #5. Use a different color and marker for these points and add a legend.\n"
   ]
  },
  {
   "cell_type": "code",
   "execution_count": null,
   "metadata": {
    "id": "OIFiTyOvw09_"
   },
   "outputs": [],
   "source": []
  }
 ],
 "metadata": {
  "colab": {
   "authorship_tag": "ABX9TyOZVZ8L2kYB/jBRfMTN1rNZ",
   "provenance": [],
   "toc_visible": true
  },
  "kernelspec": {
   "display_name": "Python 3 (ipykernel)",
   "language": "python",
   "name": "python3"
  },
  "language_info": {
   "codemirror_mode": {
    "name": "ipython",
    "version": 3
   },
   "file_extension": ".py",
   "mimetype": "text/x-python",
   "name": "python",
   "nbconvert_exporter": "python",
   "pygments_lexer": "ipython3",
   "version": "3.10.12"
  }
 },
 "nbformat": 4,
 "nbformat_minor": 4
}
