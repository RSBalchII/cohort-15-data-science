{
 "cells": [
  {
   "cell_type": "markdown",
   "metadata": {
    "id": "GbNDMgcZnexE"
   },
   "source": [
    "# Python Exercises - Pandas"
   ]
  },
  {
   "cell_type": "markdown",
   "metadata": {
    "id": "-wNctMiedTgK"
   },
   "source": [
    "## Problem 1\n"
   ]
  },
  {
   "cell_type": "markdown",
   "metadata": {
    "id": "KaeIu9Z3cVOX"
   },
   "source": [
    "Imagine three people, e.g. family, friends, cohort.\n",
    "\n",
    "Create a pandas data frame called `cities_df` that contains the following columns:\n",
    "\n",
    "* Cities - At least 5 cities in the US\n",
    "* States - The states that those cities reside in\n",
    "* Region - The region that those cities reside in (NW, SW, Midwest, etc.)\n",
    "* Times_1 - The number of times person 1 has been to each city\n",
    "* Times_2 - The number of times person 2 has been to each city\n",
    "* Times_3 - The number of times person 3 has been to each city\n"
   ]
  },
  {
   "cell_type": "code",
   "execution_count": null,
   "metadata": {
    "id": "utS-fvJQeaS_"
   },
   "outputs": [],
   "source": []
  },
  {
   "cell_type": "markdown",
   "metadata": {
    "id": "tMpG_VCidaxz"
   },
   "source": [
    "## Problem 2\n"
   ]
  },
  {
   "cell_type": "markdown",
   "metadata": {
    "id": "NOcf8966dfk_"
   },
   "source": [
    "Use the `.describe()` and `.info()` methods on your data frame\n"
   ]
  },
  {
   "cell_type": "code",
   "execution_count": null,
   "metadata": {
    "id": "QC8kpVBGeZz0"
   },
   "outputs": [],
   "source": []
  },
  {
   "cell_type": "markdown",
   "metadata": {
    "id": "h8S5BOSNdkg4"
   },
   "source": [
    "## Problem 3\n"
   ]
  },
  {
   "cell_type": "markdown",
   "metadata": {
    "id": "AsMaTCs-dmE8"
   },
   "source": [
    "Use indexing to access the Cities column"
   ]
  },
  {
   "cell_type": "code",
   "execution_count": null,
   "metadata": {
    "id": "wZsefLjeeZQJ"
   },
   "outputs": [],
   "source": []
  },
  {
   "cell_type": "markdown",
   "metadata": {
    "id": "7tYC7oy8dncw"
   },
   "source": [
    "## Problem 4\n"
   ]
  },
  {
   "cell_type": "markdown",
   "metadata": {
    "id": "1wlbQEMqdnkJ"
   },
   "source": [
    "Create a new column called `Total_Times` that contains the total number of times all team members have been to each city."
   ]
  },
  {
   "cell_type": "code",
   "execution_count": null,
   "metadata": {
    "id": "0Y31Pqz7eYsR"
   },
   "outputs": [],
   "source": []
  },
  {
   "cell_type": "markdown",
   "metadata": {
    "id": "NB4hZbjEdtTw"
   },
   "source": [
    "## Problem 5\n"
   ]
  },
  {
   "cell_type": "markdown",
   "metadata": {
    "id": "GeDh1D6vdq3e"
   },
   "source": [
    "Use indexing to access the cities that have been travelled to more than two times."
   ]
  },
  {
   "cell_type": "code",
   "execution_count": null,
   "metadata": {
    "id": "5cYeXMZteYK1"
   },
   "outputs": [],
   "source": []
  },
  {
   "cell_type": "markdown",
   "metadata": {
    "id": "v7xRPTaceS1a"
   },
   "source": [
    "## Problem 6\n"
   ]
  },
  {
   "cell_type": "markdown",
   "metadata": {
    "id": "zWCtS4VjduHG"
   },
   "source": [
    "Make a bar plot with `Cities` on the x axis and `Total_Times` on the y axis."
   ]
  },
  {
   "cell_type": "code",
   "execution_count": null,
   "metadata": {
    "id": "bo0ZkiJ_eXtE"
   },
   "outputs": [],
   "source": []
  },
  {
   "cell_type": "markdown",
   "metadata": {
    "id": "mO263wXgkdZv"
   },
   "source": [
    "## Problem 7\n"
   ]
  },
  {
   "cell_type": "markdown",
   "metadata": {
    "id": "BffJVtQ0dvv6"
   },
   "source": [
    "Drop the 'Total_Times' column from your data frame."
   ]
  },
  {
   "cell_type": "code",
   "execution_count": null,
   "metadata": {
    "id": "C44KDOwKeXLj"
   },
   "outputs": [],
   "source": []
  },
  {
   "cell_type": "markdown",
   "metadata": {
    "id": "UzzZwaalkk4w"
   },
   "source": [
    "## Problem 8\n"
   ]
  },
  {
   "cell_type": "markdown",
   "metadata": {
    "id": "hpUf6tP1dyYx"
   },
   "source": [
    "Restructure your data frame using the pandas `.melt()` method. In the `.melt()` method, specify `id_vars = ['Cities', 'States', 'Region']`. Save the melted data frame as a new variable called `cities_df_melted`. Print out `cities_df_melted`.\n",
    "\n",
    "> Note: make sure to read through the documentation for the `.melt()` method to understand what the method does."
   ]
  },
  {
   "cell_type": "code",
   "execution_count": null,
   "metadata": {
    "id": "4eYP3YrweWhL"
   },
   "outputs": [],
   "source": []
  },
  {
   "cell_type": "markdown",
   "metadata": {
    "id": "PvHpiuG4g6G7"
   },
   "source": [
    "## Problem 9\n"
   ]
  },
  {
   "cell_type": "markdown",
   "metadata": {
    "id": "yBx26xQ2d2N4"
   },
   "source": [
    "Use the seaborn `barplot()` function to create a barplot of `cities_df_melted` with `Cities` on the x axis, `value` on the y axis and the hue parameter set to `variable`."
   ]
  },
  {
   "cell_type": "code",
   "execution_count": null,
   "metadata": {
    "id": "Tz1IvwGpeVwI"
   },
   "outputs": [],
   "source": []
  }
 ],
 "metadata": {
  "colab": {
   "authorship_tag": "ABX9TyMNR7mjBOx7Pzk9XlOhBXka",
   "provenance": [],
   "toc_visible": true
  },
  "kernelspec": {
   "display_name": "Python 3 (ipykernel)",
   "language": "python",
   "name": "python3"
  },
  "language_info": {
   "codemirror_mode": {
    "name": "ipython",
    "version": 3
   },
   "file_extension": ".py",
   "mimetype": "text/x-python",
   "name": "python",
   "nbconvert_exporter": "python",
   "pygments_lexer": "ipython3",
   "version": "3.10.12"
  }
 },
 "nbformat": 4,
 "nbformat_minor": 4
}
