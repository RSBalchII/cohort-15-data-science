{
 "cells": [
  {
   "cell_type": "code",
   "execution_count": 5,
   "metadata": {},
   "outputs": [],
   "source": [
    "import pandas as pd"
   ]
  },
  {
   "cell_type": "code",
   "execution_count": 18,
   "metadata": {},
   "outputs": [
    {
     "name": "stdout",
     "output_type": "stream",
     "text": [
      "    rsbii\n",
      "0       1\n",
      "1       9\n",
      "2       6\n",
      "3       3\n",
      "4      11\n",
      "5       4\n",
      "6       2\n",
      "7       7\n",
      "8       8\n",
      "9      10\n",
      "10      5\n",
      "11      8\n",
      "12     12\n"
     ]
    }
   ],
   "source": [
    "df = pd.DataFrame({'rsbii': [1,9,6,3,11,4,2,7,8,10,5,8,12]})\n",
    "\n",
    "print(df)\n",
    "\n",
    "df['rsbii'] = [1,9,6,3,11,4,2,7,8,10,5,8,12]"
   ]
  },
  {
   "cell_type": "markdown",
   "metadata": {},
   "source": [
    "# List of capstone ideas:\n",
    "\n",
    "| id | your name | project name | has data | has SME\n",
    "| - | - | - | - | - |\n",
    "| 1 | Robert Balch | Seismic Data Co2 Sequestration | Has seismic database from PRRC, Links to EPA databases on Co2 sequestration + | George El-Kaseeh \n",
    "| 2 | Wilking| Security Driven by Data | Multiple datasets | Yes|\n",
    "| 3 | Anna Lovato | Profit Center Performance | In Transit | Yes\n",
    "| 4 | Joe Robak | Bar Rescue | Yes | Yes? |\n",
    "| 5 | James Gumtau | Favorite Character | Collecting | not yet |\n",
    "| 6 | Zachary Fry | UFOs | Yes (CSV) | Me lol\n",
    "| 7 | Sam | outgassing of volcanoes | working on getting data | finding SME |\n",
    "| 8 | Mohamed El hamdani | Starbucks Retail Operations | not ready | yes |\n",
    "| 9 | Mel | Xenophobia | clean xls files with doc file 4on data transformations | Colleague PJW\n",
    "| 10 | Mel | Spider Behavior | xls & Systat that can be csv | Self & Colleagues\n",
    "| 11 | Mel | Feritility, Life Hisotry & Health Cues | xls & Systat | self\n",
    "| 12 | Minerva | So many things | Not available for another 30 to 90 days | Only if the data were to be made available this week\n"
   ]
  }
 ],
 "metadata": {
  "kernelspec": {
   "display_name": "Python 3",
   "language": "python",
   "name": "python3"
  },
  "language_info": {
   "codemirror_mode": {
    "name": "ipython",
    "version": 3
   },
   "file_extension": ".py",
   "mimetype": "text/x-python",
   "name": "python",
   "nbconvert_exporter": "python",
   "pygments_lexer": "ipython3",
   "version": "3.9.20"
  }
 },
 "nbformat": 4,
 "nbformat_minor": 2
}
